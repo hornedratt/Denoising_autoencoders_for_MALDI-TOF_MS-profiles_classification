{
 "cells": [
  {
   "cell_type": "markdown",
   "id": "dd5e6ac8",
   "metadata": {
    "id": "u1kAACKuce1c"
   },
   "source": [
    "# Начальные модули"
   ]
  },
  {
   "cell_type": "code",
   "execution_count": 2,
   "id": "defe895a",
   "metadata": {
    "colab": {
     "base_uri": "https://localhost:8080/"
    },
    "id": "YXlnLiAG_Ssi",
    "outputId": "71a97530-d185-43dd-814d-9b6a6a9284a5"
   },
   "outputs": [],
   "source": [
    "import numpy as np\n",
    "import pandas as pd\n",
    "import random\n",
    "from sklearn.model_selection import train_test_split\n",
    "import torch\n",
    "from torch.autograd import Variable\n",
    "from torchvision import datasets, transforms\n",
    "from torch.utils.data import Dataset\n",
    "from torch.utils.data import DataLoader\n",
    "import torch.nn as nn\n",
    "import torch.nn.functional as F\n",
    "import torch.optim as optim\n",
    "import torch.utils.data as data_utils\n",
    "from tqdm.notebook import tqdm\n",
    "import matplotlib.pyplot as plt\n",
    "%matplotlib inline"
   ]
  },
  {
   "cell_type": "code",
   "execution_count": 47,
   "id": "4ee5f504",
   "metadata": {
    "colab": {
     "base_uri": "https://localhost:8080/"
    },
    "id": "BPYisdMjMBOv",
    "outputId": "c765105c-eaa9-486f-fdbe-409660476e54"
   },
   "outputs": [
    {
     "name": "stdout",
     "output_type": "stream",
     "text": [
      "cuda\n"
     ]
    },
    {
     "data": {
      "text/plain": [
       "<torch._C.Generator at 0x2949cdcec70>"
      ]
     },
     "execution_count": 47,
     "metadata": {},
     "output_type": "execute_result"
    }
   ],
   "source": [
    "#подключение ГПУ\n",
    "device = torch.device('cuda' if torch.cuda.is_available() else 'cpu')\n",
    "print(device)\n",
    "\n",
    "#для репитативности результатов\n",
    "random.seed(1)\n",
    "np.random.seed(1)\n",
    "torch.manual_seed(1)"
   ]
  },
  {
   "cell_type": "code",
   "execution_count": 35,
   "id": "d5d1b017",
   "metadata": {},
   "outputs": [],
   "source": [
    "#отключение предупреждений\n",
    "import warnings \n",
    "def fxn():\n",
    "    warnings.warn(\"deprecated\", DeprecationWarning)\n",
    "\n",
    "with warnings.catch_warnings():\n",
    "    warnings.simplefilter(\"ignore\")\n",
    "    fxn()"
   ]
  },
  {
   "cell_type": "markdown",
   "id": "9d708a03",
   "metadata": {
    "id": "o-_dRmODoPmJ"
   },
   "source": [
    "# Чтение из файла для тренировок "
   ]
  },
  {
   "cell_type": "code",
   "execution_count": 153,
   "id": "c6a59019",
   "metadata": {
    "colab": {
     "base_uri": "https://localhost:8080/",
     "height": 424
    },
    "id": "lDOQ0dqhbALD",
    "outputId": "3e280994-68b5-440d-cd25-16796a4a56df",
    "scrolled": false
   },
   "outputs": [
    {
     "data": {
      "text/html": [
       "<div>\n",
       "<style scoped>\n",
       "    .dataframe tbody tr th:only-of-type {\n",
       "        vertical-align: middle;\n",
       "    }\n",
       "\n",
       "    .dataframe tbody tr th {\n",
       "        vertical-align: top;\n",
       "    }\n",
       "\n",
       "    .dataframe thead th {\n",
       "        text-align: right;\n",
       "    }\n",
       "</style>\n",
       "<table border=\"1\" class=\"dataframe\">\n",
       "  <thead>\n",
       "    <tr style=\"text-align: right;\">\n",
       "      <th></th>\n",
       "      <th>3000.0</th>\n",
       "      <th>3001.0</th>\n",
       "      <th>3002.0</th>\n",
       "      <th>3003.0</th>\n",
       "      <th>3004.0</th>\n",
       "      <th>3005.0</th>\n",
       "      <th>3006.0</th>\n",
       "      <th>3007.0</th>\n",
       "      <th>3008.0</th>\n",
       "      <th>3009.0</th>\n",
       "      <th>...</th>\n",
       "      <th>14993.0</th>\n",
       "      <th>14994.0</th>\n",
       "      <th>14995.0</th>\n",
       "      <th>14996.0</th>\n",
       "      <th>14997.0</th>\n",
       "      <th>14998.0</th>\n",
       "      <th>14999.0</th>\n",
       "      <th>15000.0</th>\n",
       "      <th>15001.0</th>\n",
       "      <th>15002.0</th>\n",
       "    </tr>\n",
       "  </thead>\n",
       "  <tbody>\n",
       "    <tr>\n",
       "      <th>0</th>\n",
       "      <td>0.000000</td>\n",
       "      <td>0.006989</td>\n",
       "      <td>0.009474</td>\n",
       "      <td>0.011865</td>\n",
       "      <td>0.014919</td>\n",
       "      <td>0.013818</td>\n",
       "      <td>0.014891</td>\n",
       "      <td>0.014112</td>\n",
       "      <td>0.011084</td>\n",
       "      <td>0.013803</td>\n",
       "      <td>...</td>\n",
       "      <td>0.002440</td>\n",
       "      <td>0.002064</td>\n",
       "      <td>0.001836</td>\n",
       "      <td>0.001591</td>\n",
       "      <td>0.001053</td>\n",
       "      <td>0.000658</td>\n",
       "      <td>0.000551</td>\n",
       "      <td>0.000000</td>\n",
       "      <td>Bacillus_licheniformis</td>\n",
       "      <td>KUskv2t1(1)</td>\n",
       "    </tr>\n",
       "    <tr>\n",
       "      <th>1</th>\n",
       "      <td>0.007313</td>\n",
       "      <td>0.013938</td>\n",
       "      <td>0.014750</td>\n",
       "      <td>0.006966</td>\n",
       "      <td>0.014828</td>\n",
       "      <td>0.012808</td>\n",
       "      <td>0.017923</td>\n",
       "      <td>0.019887</td>\n",
       "      <td>0.002961</td>\n",
       "      <td>0.004370</td>\n",
       "      <td>...</td>\n",
       "      <td>0.005857</td>\n",
       "      <td>0.006673</td>\n",
       "      <td>0.009541</td>\n",
       "      <td>0.010383</td>\n",
       "      <td>0.004015</td>\n",
       "      <td>0.008366</td>\n",
       "      <td>0.008383</td>\n",
       "      <td>0.006958</td>\n",
       "      <td>Bacillus_licheniformis</td>\n",
       "      <td>KUskv2t1(1)</td>\n",
       "    </tr>\n",
       "    <tr>\n",
       "      <th>2</th>\n",
       "      <td>0.000435</td>\n",
       "      <td>0.015809</td>\n",
       "      <td>0.019351</td>\n",
       "      <td>0.011824</td>\n",
       "      <td>0.023598</td>\n",
       "      <td>0.018181</td>\n",
       "      <td>0.022701</td>\n",
       "      <td>0.011030</td>\n",
       "      <td>0.003904</td>\n",
       "      <td>0.004140</td>\n",
       "      <td>...</td>\n",
       "      <td>0.012167</td>\n",
       "      <td>0.011262</td>\n",
       "      <td>0.006807</td>\n",
       "      <td>0.003807</td>\n",
       "      <td>0.010370</td>\n",
       "      <td>0.001349</td>\n",
       "      <td>0.000063</td>\n",
       "      <td>0.009756</td>\n",
       "      <td>Bacillus_licheniformis</td>\n",
       "      <td>KUskv2t1(1)</td>\n",
       "    </tr>\n",
       "    <tr>\n",
       "      <th>3</th>\n",
       "      <td>0.007757</td>\n",
       "      <td>0.001331</td>\n",
       "      <td>0.000973</td>\n",
       "      <td>0.004458</td>\n",
       "      <td>0.010547</td>\n",
       "      <td>0.021161</td>\n",
       "      <td>0.024628</td>\n",
       "      <td>0.012870</td>\n",
       "      <td>0.002637</td>\n",
       "      <td>0.020423</td>\n",
       "      <td>...</td>\n",
       "      <td>0.012325</td>\n",
       "      <td>0.005027</td>\n",
       "      <td>0.009708</td>\n",
       "      <td>0.001062</td>\n",
       "      <td>0.009265</td>\n",
       "      <td>0.006616</td>\n",
       "      <td>0.009516</td>\n",
       "      <td>0.007590</td>\n",
       "      <td>Bacillus_licheniformis</td>\n",
       "      <td>KUskv2t1(1)</td>\n",
       "    </tr>\n",
       "    <tr>\n",
       "      <th>4</th>\n",
       "      <td>0.009745</td>\n",
       "      <td>0.011968</td>\n",
       "      <td>0.010912</td>\n",
       "      <td>0.021210</td>\n",
       "      <td>0.011922</td>\n",
       "      <td>0.007094</td>\n",
       "      <td>0.005605</td>\n",
       "      <td>0.011333</td>\n",
       "      <td>0.013676</td>\n",
       "      <td>0.013832</td>\n",
       "      <td>...</td>\n",
       "      <td>0.000855</td>\n",
       "      <td>0.011289</td>\n",
       "      <td>0.009245</td>\n",
       "      <td>0.008980</td>\n",
       "      <td>0.009023</td>\n",
       "      <td>0.003088</td>\n",
       "      <td>0.008388</td>\n",
       "      <td>0.008149</td>\n",
       "      <td>Bacillus_licheniformis</td>\n",
       "      <td>KUskv2t1(1)</td>\n",
       "    </tr>\n",
       "    <tr>\n",
       "      <th>...</th>\n",
       "      <td>...</td>\n",
       "      <td>...</td>\n",
       "      <td>...</td>\n",
       "      <td>...</td>\n",
       "      <td>...</td>\n",
       "      <td>...</td>\n",
       "      <td>...</td>\n",
       "      <td>...</td>\n",
       "      <td>...</td>\n",
       "      <td>...</td>\n",
       "      <td>...</td>\n",
       "      <td>...</td>\n",
       "      <td>...</td>\n",
       "      <td>...</td>\n",
       "      <td>...</td>\n",
       "      <td>...</td>\n",
       "      <td>...</td>\n",
       "      <td>...</td>\n",
       "      <td>...</td>\n",
       "      <td>...</td>\n",
       "      <td>...</td>\n",
       "    </tr>\n",
       "    <tr>\n",
       "      <th>3166</th>\n",
       "      <td>0.009394</td>\n",
       "      <td>0.008386</td>\n",
       "      <td>0.009074</td>\n",
       "      <td>0.004583</td>\n",
       "      <td>0.002929</td>\n",
       "      <td>0.006659</td>\n",
       "      <td>0.014556</td>\n",
       "      <td>0.011760</td>\n",
       "      <td>0.017440</td>\n",
       "      <td>0.021321</td>\n",
       "      <td>...</td>\n",
       "      <td>0.010809</td>\n",
       "      <td>0.009078</td>\n",
       "      <td>0.008580</td>\n",
       "      <td>0.011124</td>\n",
       "      <td>0.001862</td>\n",
       "      <td>0.009470</td>\n",
       "      <td>0.008352</td>\n",
       "      <td>0.002091</td>\n",
       "      <td>Bacillus_chungangenis</td>\n",
       "      <td>45(3)il</td>\n",
       "    </tr>\n",
       "    <tr>\n",
       "      <th>3167</th>\n",
       "      <td>0.002889</td>\n",
       "      <td>0.009418</td>\n",
       "      <td>0.008417</td>\n",
       "      <td>0.000243</td>\n",
       "      <td>0.001700</td>\n",
       "      <td>0.016935</td>\n",
       "      <td>0.014160</td>\n",
       "      <td>0.018519</td>\n",
       "      <td>0.003089</td>\n",
       "      <td>0.016207</td>\n",
       "      <td>...</td>\n",
       "      <td>0.004894</td>\n",
       "      <td>0.004727</td>\n",
       "      <td>0.009947</td>\n",
       "      <td>0.003794</td>\n",
       "      <td>0.007648</td>\n",
       "      <td>0.001698</td>\n",
       "      <td>0.006608</td>\n",
       "      <td>0.007744</td>\n",
       "      <td>Bacillus_chungangenis</td>\n",
       "      <td>45(3)il</td>\n",
       "    </tr>\n",
       "    <tr>\n",
       "      <th>3168</th>\n",
       "      <td>0.000237</td>\n",
       "      <td>0.005421</td>\n",
       "      <td>0.013267</td>\n",
       "      <td>0.013822</td>\n",
       "      <td>0.005666</td>\n",
       "      <td>0.009650</td>\n",
       "      <td>0.006884</td>\n",
       "      <td>0.016543</td>\n",
       "      <td>0.002788</td>\n",
       "      <td>0.014981</td>\n",
       "      <td>...</td>\n",
       "      <td>0.003290</td>\n",
       "      <td>0.004330</td>\n",
       "      <td>0.008629</td>\n",
       "      <td>0.000734</td>\n",
       "      <td>0.000328</td>\n",
       "      <td>0.006762</td>\n",
       "      <td>0.001016</td>\n",
       "      <td>0.006497</td>\n",
       "      <td>Bacillus_chungangenis</td>\n",
       "      <td>45(3)il</td>\n",
       "    </tr>\n",
       "    <tr>\n",
       "      <th>3169</th>\n",
       "      <td>0.003498</td>\n",
       "      <td>0.005135</td>\n",
       "      <td>0.005355</td>\n",
       "      <td>0.007462</td>\n",
       "      <td>0.016225</td>\n",
       "      <td>0.017192</td>\n",
       "      <td>0.010678</td>\n",
       "      <td>0.005472</td>\n",
       "      <td>0.003863</td>\n",
       "      <td>0.022940</td>\n",
       "      <td>...</td>\n",
       "      <td>0.008216</td>\n",
       "      <td>0.006939</td>\n",
       "      <td>0.003526</td>\n",
       "      <td>0.010951</td>\n",
       "      <td>0.009421</td>\n",
       "      <td>0.002176</td>\n",
       "      <td>0.006806</td>\n",
       "      <td>0.008494</td>\n",
       "      <td>Bacillus_chungangenis</td>\n",
       "      <td>45(3)il</td>\n",
       "    </tr>\n",
       "    <tr>\n",
       "      <th>3170</th>\n",
       "      <td>0.005123</td>\n",
       "      <td>0.007502</td>\n",
       "      <td>0.014583</td>\n",
       "      <td>0.015872</td>\n",
       "      <td>0.018143</td>\n",
       "      <td>0.009905</td>\n",
       "      <td>0.010948</td>\n",
       "      <td>0.016916</td>\n",
       "      <td>0.017614</td>\n",
       "      <td>0.016680</td>\n",
       "      <td>...</td>\n",
       "      <td>0.005385</td>\n",
       "      <td>0.003788</td>\n",
       "      <td>0.009014</td>\n",
       "      <td>0.008465</td>\n",
       "      <td>0.001230</td>\n",
       "      <td>0.007134</td>\n",
       "      <td>0.000238</td>\n",
       "      <td>0.008338</td>\n",
       "      <td>Bacillus_chungangenis</td>\n",
       "      <td>45(3)il</td>\n",
       "    </tr>\n",
       "  </tbody>\n",
       "</table>\n",
       "<p>3171 rows × 12003 columns</p>\n",
       "</div>"
      ],
      "text/plain": [
       "        3000.0    3001.0    3002.0    3003.0    3004.0    3005.0    3006.0  \\\n",
       "0     0.000000  0.006989  0.009474  0.011865  0.014919  0.013818  0.014891   \n",
       "1     0.007313  0.013938  0.014750  0.006966  0.014828  0.012808  0.017923   \n",
       "2     0.000435  0.015809  0.019351  0.011824  0.023598  0.018181  0.022701   \n",
       "3     0.007757  0.001331  0.000973  0.004458  0.010547  0.021161  0.024628   \n",
       "4     0.009745  0.011968  0.010912  0.021210  0.011922  0.007094  0.005605   \n",
       "...        ...       ...       ...       ...       ...       ...       ...   \n",
       "3166  0.009394  0.008386  0.009074  0.004583  0.002929  0.006659  0.014556   \n",
       "3167  0.002889  0.009418  0.008417  0.000243  0.001700  0.016935  0.014160   \n",
       "3168  0.000237  0.005421  0.013267  0.013822  0.005666  0.009650  0.006884   \n",
       "3169  0.003498  0.005135  0.005355  0.007462  0.016225  0.017192  0.010678   \n",
       "3170  0.005123  0.007502  0.014583  0.015872  0.018143  0.009905  0.010948   \n",
       "\n",
       "        3007.0    3008.0    3009.0  ...   14993.0   14994.0   14995.0  \\\n",
       "0     0.014112  0.011084  0.013803  ...  0.002440  0.002064  0.001836   \n",
       "1     0.019887  0.002961  0.004370  ...  0.005857  0.006673  0.009541   \n",
       "2     0.011030  0.003904  0.004140  ...  0.012167  0.011262  0.006807   \n",
       "3     0.012870  0.002637  0.020423  ...  0.012325  0.005027  0.009708   \n",
       "4     0.011333  0.013676  0.013832  ...  0.000855  0.011289  0.009245   \n",
       "...        ...       ...       ...  ...       ...       ...       ...   \n",
       "3166  0.011760  0.017440  0.021321  ...  0.010809  0.009078  0.008580   \n",
       "3167  0.018519  0.003089  0.016207  ...  0.004894  0.004727  0.009947   \n",
       "3168  0.016543  0.002788  0.014981  ...  0.003290  0.004330  0.008629   \n",
       "3169  0.005472  0.003863  0.022940  ...  0.008216  0.006939  0.003526   \n",
       "3170  0.016916  0.017614  0.016680  ...  0.005385  0.003788  0.009014   \n",
       "\n",
       "       14996.0   14997.0   14998.0   14999.0   15000.0  \\\n",
       "0     0.001591  0.001053  0.000658  0.000551  0.000000   \n",
       "1     0.010383  0.004015  0.008366  0.008383  0.006958   \n",
       "2     0.003807  0.010370  0.001349  0.000063  0.009756   \n",
       "3     0.001062  0.009265  0.006616  0.009516  0.007590   \n",
       "4     0.008980  0.009023  0.003088  0.008388  0.008149   \n",
       "...        ...       ...       ...       ...       ...   \n",
       "3166  0.011124  0.001862  0.009470  0.008352  0.002091   \n",
       "3167  0.003794  0.007648  0.001698  0.006608  0.007744   \n",
       "3168  0.000734  0.000328  0.006762  0.001016  0.006497   \n",
       "3169  0.010951  0.009421  0.002176  0.006806  0.008494   \n",
       "3170  0.008465  0.001230  0.007134  0.000238  0.008338   \n",
       "\n",
       "                     15001.0      15002.0  \n",
       "0     Bacillus_licheniformis  KUskv2t1(1)  \n",
       "1     Bacillus_licheniformis  KUskv2t1(1)  \n",
       "2     Bacillus_licheniformis  KUskv2t1(1)  \n",
       "3     Bacillus_licheniformis  KUskv2t1(1)  \n",
       "4     Bacillus_licheniformis  KUskv2t1(1)  \n",
       "...                      ...          ...  \n",
       "3166   Bacillus_chungangenis      45(3)il  \n",
       "3167   Bacillus_chungangenis      45(3)il  \n",
       "3168   Bacillus_chungangenis      45(3)il  \n",
       "3169   Bacillus_chungangenis      45(3)il  \n",
       "3170   Bacillus_chungangenis      45(3)il  \n",
       "\n",
       "[3171 rows x 12003 columns]"
      ]
     },
     "execution_count": 153,
     "metadata": {},
     "output_type": "execute_result"
    }
   ],
   "source": [
    "MS_profiles_sintes=pd.read_csv(\"MS_profiles\\MS_profiles_sintes_full_noise_1e-2\", sep=';', index_col=0, header=0)\n",
    "MS_profiles_sintes"
   ]
  },
  {
   "cell_type": "markdown",
   "id": "aaba6e58",
   "metadata": {},
   "source": [
    "# Подготовка датасэта"
   ]
  },
  {
   "cell_type": "markdown",
   "id": "70126339",
   "metadata": {},
   "source": [
    "создаем тип для хранения профилей и айдишников"
   ]
  },
  {
   "cell_type": "code",
   "execution_count": 12,
   "id": "68ee49bc",
   "metadata": {},
   "outputs": [],
   "source": [
    "class customdataset (Dataset):\n",
    "    def __init__ (self, profile, group, name):\n",
    "        self.profile = torch.FloatTensor(profile)\n",
    "        self.group = group\n",
    "        self.name = name\n",
    "        \n",
    "    def __len__ (self):\n",
    "        return int(self.profile.size(dim = 0))\n",
    "    \n",
    "    def __getitem__ (self, index):\n",
    "        profile = self.profile[index, :]\n",
    "        name = self.name[index]\n",
    "        group = self.group[index]\n",
    "        return{\n",
    "            'profile': profile,\n",
    "            'group': group,\n",
    "            'ID': name\n",
    "        }\n",
    "    def cat (self, profile, group, name):\n",
    "        self.profile = torch.cat((self.profile, profile), 0)\n",
    "        self.group[len(self.group):] = group\n",
    "        self.name[len(self.name):] = name"
   ]
  },
  {
   "cell_type": "markdown",
   "id": "702992bb",
   "metadata": {
    "id": "_FwouoXMpLoK"
   },
   "source": [
    "# embadding regularzed autoencoder \n",
    "## архитектура, тренировка\n",
    "**архитектура** "
   ]
  },
  {
   "cell_type": "code",
   "execution_count": 42,
   "id": "91c6a21d",
   "metadata": {
    "id": "k-UWSOmPEIEB"
   },
   "outputs": [],
   "source": [
    "class vanilla_autoencoder(nn.Module):\n",
    "    def __init__(self):\n",
    "        super().__init__()\n",
    "        self.encoder = nn.Sequential(\n",
    "            nn.Linear(12001, 6000),\n",
    "            nn.ReLU(),\n",
    "            #nn.Dropout(p=0.25),\n",
    "            nn.Linear(6000, 750),\n",
    "            nn.ReLU()\n",
    "            )\n",
    "        self.fc = nn.Linear(750, 50)\n",
    "        \n",
    "        self.unfc = nn.Linear(50, 750)\n",
    "        \n",
    "        self.decoder = nn.Sequential(\n",
    "        nn.ReLU(), \n",
    "        nn.Linear(750, 6000),\n",
    "        #nn.Dropout(p=0.25),\n",
    "        nn.ReLU(),\n",
    "        nn.Linear(6000, 12001)\n",
    "        )\n",
    "              \n",
    "    def forward(self, x):\n",
    "        x = self.encoder(x)\n",
    "        embadding = self.fc(x)\n",
    "        x = self.unfc(embadding)\n",
    "        reconstruction = self.decoder(x)\n",
    "\n",
    "        return reconstruction, embadding"
   ]
  },
  {
   "cell_type": "markdown",
   "id": "128a2e8c",
   "metadata": {
    "id": "MxX_LTQGsV6U"
   },
   "source": [
    "**лосс функция для embadding regularzed autoencoder**\n",
    "считаем расстояния между всеми векторами батча в исходном пространсве и в скрытом, требуем чтобы они были максимально близкими"
   ]
  },
  {
   "cell_type": "code",
   "execution_count": 73,
   "id": "7982b289",
   "metadata": {
    "id": "Q6l6NcljsUd1"
   },
   "outputs": [],
   "source": [
    "def ERA_loss(rec, real, emb):\n",
    "    len_sum=0\n",
    "    for i in range(real.size(dim=0)):\n",
    "        for j in range(i + 1, real.size(dim=0)):\n",
    "            len_real = euclid(real[i, :(len(real[0]) - 1)]-real[j, :(len(real[0]) - 1)])\n",
    "            len_emb = euclid(emb[i, :(len(real[0]) - 1)]-emb[j, :(len(real[0]) - 1)])\n",
    "            len_sum = len_sum + (len_real - len_emb)**2\n",
    "    len_sum=len_sum+F.mse_loss(rec, real)\n",
    "    return len_sum        "
   ]
  },
  {
   "cell_type": "markdown",
   "id": "bad1722e",
   "metadata": {
    "id": "moxqsX0FtbyI"
   },
   "source": [
    "**инициализация модели**"
   ]
  },
  {
   "cell_type": "code",
   "execution_count": 101,
   "id": "df6c14c7",
   "metadata": {
    "id": "M18Y4jopLTAC"
   },
   "outputs": [],
   "source": [
    "L=ERA_loss\n",
    "autoencoder = vanilla_autoencoder().to(device)\n",
    "optimizer = torch.optim.Adam(autoencoder.parameters(), lr=0.001)"
   ]
  },
  {
   "cell_type": "markdown",
   "id": "6483d398",
   "metadata": {
    "id": "hWIeBekmuDj4"
   },
   "source": [
    "**тренировка**"
   ]
  },
  {
   "cell_type": "code",
   "execution_count": 102,
   "id": "646f3c4c",
   "metadata": {
    "colab": {
     "base_uri": "https://localhost:8080/",
     "height": 17,
     "referenced_widgets": [
      "a4dd3c87a5e9429a8b0a8de8fa4344c5",
      "8a4ee5bf15cf4a0ea0562cd6d40b2c6f",
      "590e20d5dc0b429c906ffe3168173a2b",
      "300cc72602c144239f1880173f090e78",
      "0ee40a49e04b454b8e8e45640f93dfc4",
      "5049e4b7f5f04ddbb79052f9c74c0d52",
      "31207233420e4c21813e77277cfe697b",
      "97be1f598db3432e8fee19267eaa916d",
      "2e5042cd7c974c4e873906d357dac2ae",
      "be98dc9993ad4b8abcc3880186a9d6a5",
      "abaa4cba9ec44bd1ab34ff885d0ea153"
     ]
    },
    "id": "ep293OEFMwPR",
    "outputId": "fe699f6c-4a85-453d-a2d5-97e0d6527f12"
   },
   "outputs": [
    {
     "data": {
      "application/vnd.jupyter.widget-view+json": {
       "model_id": "e4753085f08e489c917066c1978d09a8",
       "version_major": 2,
       "version_minor": 0
      },
      "text/plain": [
       "  0%|          | 0/50 [00:00<?, ?it/s]"
      ]
     },
     "metadata": {},
     "output_type": "display_data"
    }
   ],
   "source": [
    "from torch.cuda.memory import list_gpu_processes\n",
    "n_epochs = 50\n",
    "train_losses = []\n",
    "val_losses = []\n",
    "embaddings = torch.Tensor()\n",
    "truth = torch.Tensor()\n",
    "pred = torch.Tensor()\n",
    "\n",
    "for epoch in tqdm(range(n_epochs)): #tqdm для красивой загрузочки\n",
    "    autoencoder.train()\n",
    "    train_losses_per_epoch = []\n",
    "    for X_batch in train_data:\n",
    "        X_batch['profile'] = X_batch['profile'].to(device)\n",
    "        optimizer.zero_grad()\n",
    "        reconstructed, embadding = autoencoder.forward(X_batch['profile'])\n",
    "        #loss = L(reconstructed, X_batch['profile'])\n",
    "        loss = L(reconstructed, X_batch['profile'], embadding)\n",
    "        loss.backward()\n",
    "        optimizer.step()\n",
    "        train_losses_per_epoch.append(loss.item())\n",
    "\n",
    "    train_losses.append(np.mean(train_losses_per_epoch))\n",
    "\n",
    "    autoencoder.eval()\n",
    "    val_losses_per_epoch = []\n",
    "    with torch.no_grad():\n",
    "        for i, X_batch in enumerate(value_data):\n",
    "            X_batch['profile'] = X_batch['profile'].to(device)\n",
    "            reconstructed, embadding = autoencoder(X_batch['profile'])\n",
    "            loss = L(reconstructed, X_batch['profile'], embadding)\n",
    "            val_losses_per_epoch.append(loss.item())\n",
    "            if epoch == n_epochs - 1:\n",
    "                embadding = embadding.to('cpu')\n",
    "                reconstructed = reconstructed.to('cpu')\n",
    "                X_batch['profile'] = X_batch['profile'].to('cpu')\n",
    "                if i==0:\n",
    "                    embaddings = customdataset(embadding, X_batch['group'].copy(), X_batch['ID'].copy())\n",
    "                    truth = customdataset(X_batch['profile'], X_batch['group'].copy(), X_batch['ID'].copy())\n",
    "                    pred = customdataset(reconstructed, X_batch['group'].copy(), X_batch['ID'].copy())\n",
    "                else:\n",
    "                    embaddings.cat(embadding, X_batch['group'], X_batch['ID'])\n",
    "                    pred.cat(reconstructed, X_batch['group'], X_batch['ID'])\n",
    "                    truth.cat(X_batch['profile'], X_batch['group'], X_batch['ID'])\n",
    "\n",
    "    val_losses.append(np.mean(val_losses_per_epoch))\n"
   ]
  },
  {
   "cell_type": "code",
   "execution_count": 38,
   "id": "46174e0e",
   "metadata": {},
   "outputs": [],
   "source": [
    "torch.save (autoencoder, 'denoising_auotencoder_good.pkl')"
   ]
  },
  {
   "cell_type": "code",
   "execution_count": 103,
   "id": "f1f515db",
   "metadata": {
    "colab": {
     "base_uri": "https://localhost:8080/",
     "height": 279
    },
    "id": "ZhC4WPz5oY-a",
    "outputId": "fc4a12c4-7cef-4cec-94ca-fe8018f3d128"
   },
   "outputs": [
    {
     "data": {
      "image/png": "[encoded data removed]",
      "text/plain": [
       "<Figure size 432x288 with 1 Axes>"
      ]
     },
     "metadata": {
      "needs_background": "light"
     },
     "output_type": "display_data"
    }
   ],
   "source": [
    "plt.plot(train_losses, label=\"train_loss\")\n",
    "plt.plot(val_losses, label=\"val_loss\")\n",
    "plt.legend(loc='best')\n",
    "plt.xlabel(\"epochs\")\n",
    "plt.ylabel(\"loss\")\n",
    "plt.show()"
   ]
  },
  {
   "cell_type": "markdown",
   "id": "b87e1d69",
   "metadata": {
    "heading_collapsed": true
   },
   "source": [
    "## пример чтения сети из файла"
   ]
  },
  {
   "cell_type": "code",
   "execution_count": 118,
   "id": "abc4d351",
   "metadata": {
    "hidden": true
   },
   "outputs": [
    {
     "name": "stdout",
     "output_type": "stream",
     "text": [
      "tensor(4.9312e-05)\n",
      "<__main__.customdataset object at 0x000001E1C7EF6B80>\n"
     ]
    }
   ],
   "source": [
    "#autoencoder_test = vanilla_autoencoder()\n",
    "with torch.no_grad():\n",
    "    autoencoder_test = torch.load('vanilla_auoencoder_00.pkl')\n",
    "    autoencoder_test = autoencoder_test.to('cpu')\n",
    "    for i, X_batch in enumerate(value_data):\n",
    "        X_batch['profile'] = X_batch['profile'].to('cpu')\n",
    "        reconstructed, embadding = autoencoder_test( X_batch['profile'] )\n",
    "        loss = L(reconstructed, X_batch['profile'])\n",
    "        #loss = L(reconstructed, X_batch[:, :(len(X_batch[0])-1)], embadding[:, :(len(embadding[0])-1)])\n",
    "        if i==0:\n",
    "            embaddings = customdataset(embadding, X_batch['ID'].copy())\n",
    "            truth = customdataset(X_batch['profile'], X_batch['ID'].copy())\n",
    "            pred = customdataset(reconstructed, X_batch['ID'].copy())\n",
    "        else:\n",
    "            embaddings.profile = torch.cat((embaddings.profile, embadding), 0)\n",
    "            embaddings.name[len(embaddings.name):] = X_batch['ID']\n",
    "            pred.profile = torch.cat((pred.profile, reconstructed), 0)\n",
    "            pred.name[len(pred.name):] = X_batch['ID']\n",
    "            truth.profile = torch.cat((truth.profile, X_batch['profile']), 0)\n",
    "            truth.name[len(truth.name):] = X_batch['ID']\n",
    "print(loss)\n",
    "print(embaddings)"
   ]
  },
  {
   "cell_type": "markdown",
   "id": "9a2a1369",
   "metadata": {
    "heading_collapsed": true,
    "id": "ce3VX6G_uM5Q"
   },
   "source": [
    "## heat map"
   ]
  },
  {
   "cell_type": "markdown",
   "id": "49eed5c4",
   "metadata": {},
   "source": [
    "# Классификация\n"
   ]
  },
  {
   "cell_type": "code",
   "execution_count": 88,
   "id": "2194d834",
   "metadata": {},
   "outputs": [],
   "source": [
    "x_train, x_test, y_train, y_test = train_test_split (embaddings[:]['profile'], \n",
    "                                                     embaddings[:]['group'], train_size = 0.7)"
   ]
  },
  {
   "cell_type": "code",
   "execution_count": 89,
   "id": "54bb495b",
   "metadata": {},
   "outputs": [
    {
     "data": {
      "text/plain": [
       "RandomForestClassifier()"
      ]
     },
     "execution_count": 89,
     "metadata": {},
     "output_type": "execute_result"
    }
   ],
   "source": [
    "from sklearn.ensemble import RandomForestClassifier\n",
    "classifier = RandomForestClassifier()\n",
    "classifier.fit(x_train, y_train)"
   ]
  },
  {
   "cell_type": "code",
   "execution_count": 90,
   "id": "ce3796c0",
   "metadata": {},
   "outputs": [
    {
     "name": "stdout",
     "output_type": "stream",
     "text": [
      "[[ 0  0  0  0  0  0  0  0  0  0  1  0  0  0  0  0  0  0  0  0]\n",
      " [ 0  2  0  0  0  0  0  0  0  0  5  0  0 24  0  0  0  0  0  0]\n",
      " [ 0  1  0  0  0  0  0  0  0  0  2  0  0  4  0  0  0  0  0  0]\n",
      " [ 0  2  0  0  0  0  0  0  0  0  1  0  0  6  0  0  0  0  0  0]\n",
      " [ 0  0  0  0  0  0  0  0  0  0  1  0  0  0  0  0  0  0  0  0]\n",
      " [ 0  8  0  0  0  0  0  0  0  0  7  1  0 20  0  0  0  0  0  0]\n",
      " [ 0  0  0  0  0  0  0  0  0  0  0  0  0  5  0  0  0  0  0  0]\n",
      " [ 0  0  0  0  0  0  0  0  0  0  0  0  0  4  0  0  0  0  0  0]\n",
      " [ 0  0  0  0  0  0  0  0  0  0  1  0  0  2  0  0  0  0  0  0]\n",
      " [ 0  0  0  0  0  0  0  0  0  0  2  0  0 10  0  0  0  0  0  0]\n",
      " [ 0  7  0  0  0  1  0  0  0  0  6  0  0 26  0  0  0  0  0  0]\n",
      " [ 0  2  0  0  0  0  0  0  0  0  3  0  0 16  0  0  0  0  0  0]\n",
      " [ 0  1  0  0  0  0  0  0  0  0  0  0  0  8  0  0  0  0  0  0]\n",
      " [ 0  8  0  0  0  0  0  0  0  0  9  0  0 40  0  0  0  0  0  0]\n",
      " [ 0  3  0  0  0  0  0  0  0  0  4  0  0 15  0  0  0  0  0  0]\n",
      " [ 0  0  0  0  0  0  0  0  0  0  0  0  0  5  0  0  0  0  0  0]\n",
      " [ 0  3  0  0  0  0  0  0  0  0  2  0  0  6  0  0  0  0  0  0]\n",
      " [ 0  0  0  0  0  0  0  0  0  0  0  0  0  1  0  0  0  0  0  0]\n",
      " [ 0  2  0  0  0  0  0  0  0  0  0  0  0  2  0  0  0  0  0  0]\n",
      " [ 0  0  0  0  0  0  0  0  0  0  1  0  0  6  0  0  0  0  0  0]]\n",
      "                             precision    recall  f1-score   support\n",
      "\n",
      " Anoxybacillus_flavithermus       0.00      0.00      0.00         1\n",
      "       Bacillus_altitudinis       0.05      0.06      0.06        31\n",
      "       Bacillus_aryabhattai       0.00      0.00      0.00         7\n",
      "        Bacillus_atrophaeus       0.00      0.00      0.00         9\n",
      "         Bacillus_berkeleyi       0.00      0.00      0.00         1\n",
      "            Bacillus_cereus       0.00      0.00      0.00        36\n",
      "      Bacillus_chungangenis       0.00      0.00      0.00         5\n",
      "           Bacillus_clausii       0.00      0.00      0.00         4\n",
      "         Bacillus_coagulans       0.00      0.00      0.00         3\n",
      "            Bacillus_flexus       0.00      0.00      0.00        12\n",
      "     Bacillus_licheniformis       0.13      0.15      0.14        40\n",
      "        Bacillus_megaterium       0.00      0.00      0.00        21\n",
      "          Bacillus_mycoides       0.00      0.00      0.00         9\n",
      "           Bacillus_pumilus       0.20      0.70      0.31        57\n",
      "           Bacillus_simplex       0.00      0.00      0.00        22\n",
      "          Bacillus_subtilis       0.00      0.00      0.00         5\n",
      "     Bacillus_thuringiensis       0.00      0.00      0.00        11\n",
      "Bacillus_weihenstephanensis       0.00      0.00      0.00         1\n",
      "                     E-Coli       0.00      0.00      0.00         4\n",
      "   Geobacillus_subterraneus       0.00      0.00      0.00         7\n",
      "\n",
      "                   accuracy                           0.17       286\n",
      "                  macro avg       0.02      0.05      0.03       286\n",
      "               weighted avg       0.06      0.17      0.09       286\n",
      "\n"
     ]
    },
    {
     "name": "stderr",
     "output_type": "stream",
     "text": [
      "C:\\Users\\mishs\\anaconda3\\lib\\site-packages\\sklearn\\metrics\\_classification.py:1318: UndefinedMetricWarning: Precision and F-score are ill-defined and being set to 0.0 in labels with no predicted samples. Use `zero_division` parameter to control this behavior.\n",
      "  _warn_prf(average, modifier, msg_start, len(result))\n",
      "C:\\Users\\mishs\\anaconda3\\lib\\site-packages\\sklearn\\metrics\\_classification.py:1318: UndefinedMetricWarning: Precision and F-score are ill-defined and being set to 0.0 in labels with no predicted samples. Use `zero_division` parameter to control this behavior.\n",
      "  _warn_prf(average, modifier, msg_start, len(result))\n",
      "C:\\Users\\mishs\\anaconda3\\lib\\site-packages\\sklearn\\metrics\\_classification.py:1318: UndefinedMetricWarning: Precision and F-score are ill-defined and being set to 0.0 in labels with no predicted samples. Use `zero_division` parameter to control this behavior.\n",
      "  _warn_prf(average, modifier, msg_start, len(result))\n"
     ]
    }
   ],
   "source": [
    "y_pred = classifier.predict(x_test)\n",
    "from sklearn.metrics import classification_report, confusion_matrix\n",
    "print(confusion_matrix(y_test, y_pred))\n",
    "print(classification_report(y_test, y_pred))"
   ]
  },
  {
   "cell_type": "markdown",
   "id": "dae5b7b4",
   "metadata": {
    "id": "XNfAAyDYaf9a"
   },
   "source": [
    "построение heat map, она показывает расстояние между средними векторами для каждой группы бактерий, на диагонали стоят средне-групповые расстояния "
   ]
  },
  {
   "cell_type": "code",
   "execution_count": 70,
   "id": "b357554d",
   "metadata": {},
   "outputs": [],
   "source": [
    "def euclid (x):\n",
    "    x = x**2\n",
    "    l = np.sum(x)\n",
    "    l = np.sqrt(l)\n",
    "    return l"
   ]
  },
  {
   "cell_type": "code",
   "execution_count": 71,
   "id": "111f6248",
   "metadata": {
    "colab": {
     "base_uri": "https://localhost:8080/"
    },
    "id": "4HK6ra77AqbI",
    "outputId": "08799508-58a1-4f32-9beb-7afa9b30836c"
   },
   "outputs": [
    {
     "name": "stdout",
     "output_type": "stream",
     "text": [
      "3129\n",
      "(74, 74)\n"
     ]
    }
   ],
   "source": [
    "embaddings_heat = pd.DataFrame(embaddings[:]['profile'].numpy(), dtype = float)\n",
    "print(len(embaddings[:]['ID']))\n",
    "embaddings_heat['50'] = embaddings[:]['ID'] \n",
    "embaddings_heat.head()\n",
    "embaddings_heat_mean = embaddings_heat.groupby('50').mean()\n",
    "heat_map = np.zeros((len(embaddings_heat_mean.index), len(embaddings_heat_mean.index)))\n",
    "heat_map = pd.DataFrame(heat_map, index=embaddings_heat_mean.index, \n",
    "                        columns=embaddings_heat_mean.index, dtype = float)\n",
    "for i in embaddings_heat_mean.index:\n",
    "\n",
    "    #для каждой группы ищем средне-групповое расстояние (ищем разность каждого ветора с каждым и делим на количество разностей) \n",
    "    mean = embaddings_heat.loc[embaddings_heat['50'] == i].drop(columns = ['50'], axis=1).to_numpy()\n",
    "    s = np.zeros((len(mean[0])))\n",
    "    count = 0\n",
    "    for j in range (len(mean[:, 0])):\n",
    "        for k in range (j+1, len(mean[:, 0])):\n",
    "            s = s + mean[j] - mean[k]\n",
    "            count = count + 1\n",
    "    s = s/count\n",
    "    e = euclid(s)\n",
    "    heat_map.at[i, i] = e\n",
    "\n",
    "    #ищем расстояние до средних векторов остальных групп mylist.index(element)\n",
    "    for j in embaddings_heat_mean.index.values[np.where(embaddings_heat_mean.index.values == i)[0][0]: ]:\n",
    "        s = embaddings_heat_mean.loc[i].to_numpy() - embaddings_heat_mean.loc[j].to_numpy()       \n",
    "        e = euclid(s)\n",
    "        heat_map.at[i, j] = e\n",
    "print(heat_map.shape)    "
   ]
  },
  {
   "cell_type": "markdown",
   "id": "360868c3",
   "metadata": {
    "id": "hXLOZ3f6hANB"
   },
   "source": [
    "полученная ранее матрица - верхне-треугольная, поэтому транспонируем ее, зануляем диагональ и складываем эти две матрицы"
   ]
  },
  {
   "cell_type": "code",
   "execution_count": 72,
   "id": "1267b4c8",
   "metadata": {
    "id": "zg89pzyk6YI2"
   },
   "outputs": [],
   "source": [
    "heat_map_t = heat_map.values.copy()\n",
    "for i in range (len(heat_map['2U'])):\n",
    "    heat_map_t[i, i] = 0\n",
    "heat_map_t = heat_map_t.transpose()                  \n",
    "heat_map.loc[ : , : ] = heat_map.values + heat_map_t     "
   ]
  },
  {
   "cell_type": "markdown",
   "id": "8ffebad9",
   "metadata": {
    "id": "pgzWtSG5irfY"
   },
   "source": [
    "рисуем heat map"
   ]
  },
  {
   "cell_type": "code",
   "execution_count": 73,
   "id": "aadc586f",
   "metadata": {
    "colab": {
     "base_uri": "https://localhost:8080/",
     "height": 1000
    },
    "id": "I_70NMNX382e",
    "outputId": "2419d12b-59c7-4d4a-b625-c62116098886",
    "scrolled": true
   },
   "outputs": [
    {
     "data": {
      "image/png": "[encoded data removed]",
      "text/plain": [
       "<Figure size 1440x1440 with 2 Axes>"
      ]
     },
     "metadata": {
      "needs_background": "light"
     },
     "output_type": "display_data"
    }
   ],
   "source": [
    "fig = plt.figure(figsize=(20,20))\n",
    "ax = fig.add_axes([0.1, 0.1, 0.8, 0.8])\n",
    "ax.set_xticks(np.arange(heat_map.shape[1]))\n",
    "ax.set_yticks(np.arange(heat_map.shape[0]))\n",
    "ax.set_xticklabels(heat_map)\n",
    "ax.set_yticklabels(heat_map)\n",
    "plt.setp(ax.get_xticklabels(), rotation=90, ha=\"right\", rotation_mode=\"anchor\")\n",
    "im = ax.imshow(heat_map)\n",
    "ax.set_title(\"карта расстояний между группами культур\")\n",
    "cbar = ax.figure.colorbar(im)\n",
    "plt.show()"
   ]
  }
 ],
 "metadata": {
  "kernelspec": {
   "display_name": "Python 3 (ipykernel)",
   "language": "python",
   "name": "python3"
  },
  "language_info": {
   "codemirror_mode": {
    "name": "ipython",
    "version": 3
   },
   "file_extension": ".py",
   "mimetype": "text/x-python",
   "name": "python",
   "nbconvert_exporter": "python",
   "pygments_lexer": "ipython3",
   "version": "3.9.12"
  }
 },
 "nbformat": 4,
 "nbformat_minor": 5
}
