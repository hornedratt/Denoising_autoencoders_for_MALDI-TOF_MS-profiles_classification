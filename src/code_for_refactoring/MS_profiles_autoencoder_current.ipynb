{
 "cells": [
  {
   "cell_type": "markdown",
   "metadata": {
    "id": "u1kAACKuce1c"
   },
   "source": [
    "# Начальные модули"
   ]
  },
  {
   "cell_type": "code",
   "execution_count": 1,
   "metadata": {
    "colab": {
     "base_uri": "https://localhost:8080/"
    },
    "id": "YXlnLiAG_Ssi",
    "outputId": "71a97530-d185-43dd-814d-9b6a6a9284a5"
   },
   "outputs": [],
   "source": [
    "import numpy as np\n",
    "import pandas as pd\n",
    "import random\n",
    "import plotly.express as px\n",
    "from sklearn.model_selection import train_test_split\n",
    "from sklearn.metrics import classification_report, confusion_matrix\n",
    "from sklearn.metrics import accuracy_score\n",
    "from sklearn.ensemble import RandomForestClassifier\n",
    "import torch\n",
    "from torch.autograd import Variable\n",
    "from torchvision import datasets, transforms\n",
    "from torch.utils.data import Dataset\n",
    "from torch.utils.data import DataLoader\n",
    "import torch.nn as nn\n",
    "import torch.nn.functional as F\n",
    "import torch.optim as optim\n",
    "import torch.utils.data as data_utils\n",
    "from torch.cuda.memory import list_gpu_processes\n",
    "from tqdm.notebook import tqdm\n",
    "import matplotlib.pyplot as plt\n",
    "import pickle\n",
    "%matplotlib inline\n",
    "import os\n",
    "import re\n",
    "import pandas as pd"
   ]
  },
  {
   "cell_type": "code",
   "execution_count": 2,
   "metadata": {
    "colab": {
     "base_uri": "https://localhost:8080/"
    },
    "id": "BPYisdMjMBOv",
    "outputId": "c765105c-eaa9-486f-fdbe-409660476e54"
   },
   "outputs": [
    {
     "name": "stdout",
     "output_type": "stream",
     "text": [
      "cuda\n"
     ]
    },
    {
     "data": {
      "text/plain": [
       "<torch._C.Generator at 0x26e3164ff30>"
      ]
     },
     "execution_count": 2,
     "metadata": {},
     "output_type": "execute_result"
    }
   ],
   "source": [
    "#подключение ГПУ\n",
    "device = torch.device('cuda' if torch.cuda.is_available() else 'cpu')\n",
    "print(device)\n",
    "\n",
    "#для репитативности результатов\n",
    "random.seed(1)\n",
    "np.random.seed(1)\n",
    "torch.manual_seed(1)"
   ]
  },
  {
   "cell_type": "code",
   "execution_count": 3,
   "metadata": {},
   "outputs": [],
   "source": [
    "#отключение предупреждений\n",
    "import warnings \n",
    "warnings.filterwarnings('ignore')"
   ]
  },
  {
   "cell_type": "code",
   "execution_count": 4,
   "metadata": {},
   "outputs": [],
   "source": [
    "class customdataset (Dataset):\n",
    "    def __init__ (self, profile, group, name):\n",
    "        self.profile = torch.FloatTensor(profile)\n",
    "        self.group = group\n",
    "        self.name = name\n",
    "        \n",
    "    def __len__ (self):\n",
    "        return int(self.profile.size(dim = 0))\n",
    "    \n",
    "    def __getitem__ (self, index):\n",
    "        profile = self.profile[index, :]\n",
    "        name = self.name[index]\n",
    "        group = self.group[index]\n",
    "        return{'profile': profile,\n",
    "            'group': group,\n",
    "            'ID': name}\n",
    "    def cat (self, profile, group, name):\n",
    "        self.profile = torch.cat((self.profile, profile), 0)\n",
    "        self.group[len(self.group):] = group\n",
    "        self.name[len(self.name):] = name\n",
    "        \n",
    "class vanilla_autoencoder(nn.Module):\n",
    "    def __init__(self):\n",
    "        super().__init__()\n",
    "        self.encoder = nn.Sequential(\n",
    "            nn.Linear(12001, 6000),\n",
    "            nn.ReLU(),\n",
    "            #nn.Dropout(p=0.25),\n",
    "            nn.Linear(6000, 750),\n",
    "            nn.ReLU(),\n",
    "            nn.Linear(750, 50)\n",
    "            )\n",
    "        \n",
    "        self.unfc = nn.Linear(50, 750)\n",
    "        \n",
    "        self.decoder = nn.Sequential(\n",
    "        nn.ReLU(), \n",
    "        nn.Linear(750, 6000),\n",
    "        #nn.Dropout(p=0.25),\n",
    "        nn.ReLU(),\n",
    "        nn.Linear(6000, 12001)\n",
    "        )\n",
    "              \n",
    "    def forward(self, x):\n",
    "        x = self.encoder(x)\n",
    "        embadding = x.copy()\n",
    "        x = self.unfc(embadding)\n",
    "        reconstruction = self.decoder(x)\n",
    "\n",
    "        return reconstruction, embadding  \n",
    "    \n",
    "def ERA_loss(rec, real, emb):\n",
    "    def euclid (x):\n",
    "        x = x**2\n",
    "        l = torch.sum(x)\n",
    "        l = torch.sqrt(l)\n",
    "        return l\n",
    "    len_sum=0\n",
    "    for i in range(real.size(dim=0)):\n",
    "        for j in range(i + 1, real.size(dim=0)):\n",
    "            len_real = euclid(real[i, :(len(real[0]) - 1)]-real[j, :(len(real[0]) - 1)])\n",
    "            len_emb = euclid(emb[i, :(len(real[0]) - 1)]-emb[j, :(len(real[0]) - 1)])\n",
    "            len_sum = len_sum + (len_real - len_emb)**2\n",
    "    len_sum=len_sum+F.mse_loss(rec, real)\n",
    "    return len_sum       \n"
   ]
  },
  {
   "cell_type": "code",
   "execution_count": 5,
   "metadata": {},
   "outputs": [],
   "source": [
    "class Bionet:\n",
    "    def __init__(self):\n",
    "        self._get_data()\n",
    "        self.forests = pd.DataFrame(columns = ['group', 'ID'], index = [0], dtype = object)\n",
    "        dirs = [r'C:\\education\\ML\\MS_profiles\\sets',\\\n",
    "               r'C:\\education\\ML\\networks',\\\n",
    "               r'C:\\education\\ML\\forests\\group',\\\n",
    "               r'C:\\education\\ML\\forests\\ID']\n",
    "\n",
    "        # Get all filenames in each directory\n",
    "        all_files = [os.listdir(dir_) for dir_ in dirs]\n",
    "        names =['set_group_distribution', 'DAE_noise', 'RF_group', 'RF_ID'] \n",
    "        \n",
    "        if (all_files[0] == [])and(all_files[1] == [])and(all_files[2] == [])and(all_files[3] == []):\n",
    "            self.paths = pd.DataFrame(index=names, columns=[-1], dtype=object)\n",
    "            return None\n",
    "\n",
    "        # Regular expression to extract the number from the file name\n",
    "        pattern = re.compile(r'(.+)_(\\d+)%')\n",
    "        \n",
    "        all_filtred_files = []\n",
    "        all_unique_numbers = []\n",
    "        \n",
    "        for i in range(4):\n",
    "            all_filtred_files.append([filename for filename in all_files[i] if pattern.search(filename)])\n",
    "            for filename in set(all_files[i]) - set(all_filtred_files[i]):\n",
    "                print(f\"No match found for: {filename}\")\n",
    "            all_unique_numbers.append(sorted({int(pattern.search(filename).group(2)) for filename in all_filtred_files[i]}))\n",
    "\n",
    "        # Combine the unique numbers and create the columns for the DataFrame\n",
    "        total_all_unique_numbers = sorted(list(set(all_unique_numbers[0]).union(set(all_unique_numbers[1]), set(all_unique_numbers[2]), set(all_unique_numbers[3]))))\n",
    "\n",
    "        # Initialize the DataFrame with NaN values\n",
    "        self.paths = pd.DataFrame(index=names, columns=total_all_unique_numbers, dtype=object)\n",
    "\n",
    "        # Populate the DataFrame with file paths from the first directory\n",
    "        for i in range(4):\n",
    "            for filename in all_filtred_files[i]:\n",
    "                number = int(pattern.search(filename).group(2))\n",
    "                file_path = os.path.join(dirs[i], filename)\n",
    "                self.paths.at[names[i], number] = file_path\n",
    "        return None\n",
    "\n",
    "        \n",
    "    def _get_data(self) -> None:\n",
    "        #считали ключи (название файла - бактерия)\n",
    "        #read keys (file name - bacil)\n",
    "        profiles_ID = pd.read_csv(r'C:\\education\\ML\\MS_profiles\\profiles_group_ID.csv', sep=';', header=None)\n",
    "        t = pd.read_csv(r'C:\\education\\ML\\MS_profiles\\0a2c8dcb-9e19-47a4-9f35-0d7a5728eaa7', sep=';', index_col=0, header=None)\n",
    "        t = t.T\n",
    "        t[15001.0] = 0\n",
    "\n",
    "        # пустой словарь для удобного считывания \n",
    "        self.original_profiles = pd.DataFrame({k: pd.Series(dtype=float) for k in t.columns})\n",
    "\n",
    "        #считываем каждый файл\n",
    "        for i in profiles_ID.index:\n",
    "            path = os.path.join(r'C:\\education\\ML\\MS_profiles', profiles_ID.at[i, 0])\n",
    "            s = pd.read_csv(path, sep=';', index_col=0, header=None)\n",
    "            s = s.T\n",
    "            s[15001.0] = profiles_ID.at[i, 1]\n",
    "            s[15002.0] = profiles_ID.at[i, 2]\n",
    "            self.original_profiles = self.original_profiles.append(s)\n",
    "\n",
    "        #делаем красивые индексы\n",
    "        self.original_profiles.index = profiles_ID.index\n",
    "        \n",
    "        self.original_profiles = customdataset (self.original_profiles.iloc[:, :12001].to_numpy(),\\\n",
    "                                            self.original_profiles.iloc[:, 12001].to_numpy(),\\\n",
    "                                            self.original_profiles.iloc[:, 12002].to_numpy())\n",
    "        return None\n",
    "    \n",
    "    \n",
    "    def inference_noise(self,\n",
    "                        noise: int = 40,\n",
    "                        amount_additional_profiles: int = 200) -> None:\n",
    "        self.paths.at['set_group_distribution', noise] = r'C:\\education\\ML\\MS_profiles\\sets\\set_group_\\\n",
    "                                                              distribution_'+str(noise)+'%.csv'\n",
    "        noise_factor = noise/100\n",
    "        for n, i in tqdm (enumerate(pd.unique(self.original_profiles[15002.0]))):\n",
    "            s = self.original_profiles.loc[self.original_profiles[15002.0] == i].copy()\n",
    "            s.index = {j for j in range (len(s.index))}#красивые индексы   \n",
    "            s = s.sample()\n",
    "            s = s.to_numpy()[0]\n",
    "            main = s.copy()\n",
    "            for m, j in enumerate(range(amount_additional_profiles)):\n",
    "                s = main.copy()\n",
    "                tmp = s[:12001].astype(float)\n",
    "                tmp = tmp + np.random.normal(loc=0.0,\n",
    "                                             scale = noise_factor*tmp,\n",
    "                                             size = (len(self.original_profiles.columns) - 2))#шумим\n",
    "                tmp = abs(tmp)\n",
    "                s[:12001] = tmp\n",
    "                np.place(s[:12001], s[:12001] > 1, 1)\n",
    "                if (m == 0)and(n == 0):\n",
    "                    S = np.array([s])\n",
    "                else:    \n",
    "                    S = np.append(S, np.array([s]), axis = 0)\n",
    "        MS_profiles_inference = pd.DataFrame(S, columns = MS_profiles.columns)\n",
    "        MS_profiles_inference.index = {i for i in range(len(MS_profiles_inference.index))}\n",
    "        path = r'C:\\education\\ML\\MS_profiles\\sets\\set_group_distribution_'+str(noise)+'%.csv'\n",
    "        MS_profiles_inference.to_csv(path, sep=';', header=True, index=True,)\n",
    "        return None\n",
    "    \n",
    "    def load_set(self, noise: int):\n",
    "        if (noise not in self.paths.columns):\n",
    "            print(f\"Error: There are not such set,\\\n",
    "                 please, train and save requied set\\\n",
    "                 with corresponding methods\\\n",
    "                from this class\")\n",
    "            return None\n",
    "        \n",
    "        set_path = self.paths.at['set_group_distribution', noise]\n",
    "        \n",
    "        if pd.isna(set_path):\n",
    "            print(f\"Error: There are not such set,\\\n",
    "                 please, train and save requied set\\\n",
    "                 with corresponding methods\\\n",
    "                from this class\")\n",
    "            return None\n",
    "        raw_set = pd.read_csv(set_path, sep=';', index_col=0, header=0)\n",
    "        raw_set = raw_set.astype({'15002.0': 'str'})\n",
    "        self.set = customdataset(raw_set[:'15001'], raw_set[:, '15001'], raw_set[:, '15002'])\n",
    "        return None\n",
    "    \n",
    "    def bootstrap(self,\n",
    "                  noise: int,\n",
    "                  attribute: str = 'group',\n",
    "                  amoumt: int = 1000)-> None:\n",
    "        \n",
    "        self.load_net(noise = noise)\n",
    "        self.load_set(noise = noise)\n",
    "    \n",
    "        self.get_embaddings()\n",
    "        \n",
    "        for i in tqdm(range(amoumt)):\n",
    "            train_value, test_value = train_test_split(self.embaddings,\n",
    "                                                       train_size=0.7,\n",
    "                                                       shuffle=True)\n",
    "\n",
    "            classifier_group = RandomForestClassifier()\n",
    "            classifier_ID = RandomForestClassifier()\n",
    "            classifier_group.fit(train_value[:]['profile'], train_value[:]['group'])\n",
    "            classifier_ID.fit(train_value[:]['profile'],train_value[:]['ID'])\n",
    "            pred_ID = classifier_ID.predict(test_value[:]['profile'])\n",
    "            pred_group = classifier_group.predict(test_value[:]['profile'])\n",
    "            accuracies_ID.append(accuracy_score(test_value[:]['ID'], pred_ID))\n",
    "            accuracies_group.append(accuracy_score(train_value[:]['group'], pred_group))\n",
    "            \n",
    "        accuracies_ID = pd.Series(accuracies_ID)\n",
    "        accuracies_group = pd.Series(accuracies_group)\n",
    "\n",
    "        accuracies_ID.to_csv(rpath_ID, sep=';', header=True, index=True,)\n",
    "        accuracies_group.to_csv(rpath_group, sep=';', header=True, index=True,)\n",
    "        \n",
    "        df = accuracies_group.to_numpy()\n",
    "        fig = px.histogram(df,  marginal=\"box\",\\\n",
    "                labels={'count':'amount of bootstraps', 'value':'accuracy'}, hover_data=df.transpose())\n",
    "        fig.update_layout(showlegend=False)\n",
    "        fig.show()\n",
    "        \n",
    "        fig.write_image(r'C:\\education\\ML\\reports&results\\bootstrap_'+attribute+'_'+str(noise)+'%.png')\n",
    "        return None\n",
    "\n",
    "def prepare_data (self, noise: int, batch_s: int = 16)-> None:\n",
    "    \n",
    "    #attentions\n",
    "    if (noise not in self.paths.columns):\n",
    "            print(f\"Error: There are not such any object corresponding this level of noise,\\\n",
    "                 please, train and save requied object\\\n",
    "                 with corresponding methods\\\n",
    "                from this class\")\n",
    "            return None\n",
    "        \n",
    "    set_path = self.paths.at['set_group_distribution', noise]\n",
    "    \n",
    "    if pd.isna(forest_path):\n",
    "            print(f\"Error: There are not such set, please, create requied set\\\n",
    "                 with corresponding methods\\\n",
    "                from this class\")\n",
    "            return None\n",
    "    \n",
    "    inference_set = pd.read_csv(set_path, sep=';', index_col=0, header=0)\n",
    "    inference_set = customdataset(inference_set.iloc[:, :12001].to_numpy(),\n",
    "                                            inference_set.iloc[:, 12001].to_numpy(),\n",
    "                                            inference_set.iloc[:, 12002].to_numpy())\n",
    "    \n",
    "    \n",
    "    self.train_data = DataLoader(inference_set, batch_size=batch_s, shuffle=True)#а на train отправляем весь\\\n",
    "    return None\n",
    "\n",
    "def train_one_set(self, n_epochs: int=50,\n",
    "                        lr: float=0.001, \n",
    "                        noise_factor: float=40,\n",
    "                        L=F.mse_loss) -> None:\n",
    "    noise_factor = noise_factor/100\n",
    "    self.autoencoder = vanilla_autoencoder().to(device)\n",
    "    optimizer = torch.optim.Adam(autoencoder.parameters(), lr=lr)\n",
    "    \n",
    "    train_losses = []\n",
    "    val_losses = []\n",
    "    embaddings = torch.Tensor()\n",
    "    truth = torch.Tensor()\n",
    "    pred = torch.Tensor()\n",
    "\n",
    "    for epoch in tqdm(range(n_epochs)): #tqdm для красивой загрузочки\n",
    "        self.autoencoder.train()\n",
    "        train_losses_per_epoch = []\n",
    "        \n",
    "        for X_batch in self.train_data:\n",
    "            noise = X_batch['profile'] + \\\n",
    "            torch.FloatTensor(np.random.normal(loc=0.0, \\\n",
    "                    scale=noise_factor*X_batch['profile'], size= list(X_batch['profile'].size())))#шумим\n",
    "            noise = torch.abs(noise)\n",
    "            y = torch.ones(list(X_batch['profile'].size()))\n",
    "            noise = torch.where(noise < 1, noise, y)\n",
    "            \n",
    "            X_batch['profile'] = X_batch['profile'].to(device)#чистые векторы \n",
    "            noise = noise.to(device)\n",
    "            \n",
    "            optimizer.zero_grad()\n",
    "            reconstructed, embadding = self.autoencoder.forward(noise)#скармливаем шум\n",
    "            loss = L(reconstructed, X_batch['profile'])#сравниваем с читыми\n",
    "            loss.backward()\n",
    "            optimizer.step()\n",
    "            train_losses_per_epoch.append(loss.item())\n",
    "\n",
    "        train_losses.append(np.mean(train_losses_per_epoch))\n",
    "        self.train_losses = train_losses\n",
    "\n",
    "        self.autoencoder.eval()\n",
    "        val_losses_per_epoch = []\n",
    "        with torch.no_grad():\n",
    "            for X_batch in self.train_data:\n",
    "                noise = X_batch['profile'] + \\\n",
    "                         torch.FloatTensor(np.random.normal(loc=0.0, \\\n",
    "                          scale=noise_factor*X_batch['profile'], size= list(X_batch['profile'].size())))#шумим\n",
    "                noise = torch.abs(noise)\n",
    "                y = torch.ones(list(X_batch['profile'].size()))\n",
    "                noise = torch.where(noise < 1, noise, y)\n",
    "                \n",
    "                noise = noise.to(device)\n",
    "                X_batch['profile'] = X_batch['profile'].to(device)\n",
    "                \n",
    "                reconstructed, embadding = self.autoencoder(noise)\n",
    "                loss = L(reconstructed, X_batch['profile'])\n",
    "                val_losses_per_epoch.append(loss.item())\n",
    "                    \n",
    "                embadding = embadding.to('cpu')\n",
    "                reconstructed = reconstructed.to('cpu')\n",
    "                X_batch['profile'] = X_batch['profile'].to('cpu')\n",
    "\n",
    "                self.embaddings = customdataset(embadding, X_batch['group'].copy(), X_batch['ID'].copy())\n",
    "                self.truth = customdataset(X_batch['profile'], X_batch['group'].copy(), X_batch['ID'].copy())\n",
    "                self.pred = customdataset(reconstructed, X_batch['group'].copy(), X_batch['ID'].copy())\n",
    "                \n",
    "\n",
    "        val_losses.append(np.mean(val_losses_per_epoch))\n",
    "        self.val_losses = val_losses\n",
    "        return None\n",
    "        \n",
    "    def losses_plot(self, noise: str) -> None:\n",
    "        plt.plot(self.train_losses, label=\"train_loss\")\n",
    "        plt.plot(self.val_losses, label=\"val_loss\")\n",
    "        plt.legend(loc='best')\n",
    "        plt.xlabel(\"epochs\")\n",
    "        plt.ylabel(\"loss\")\n",
    "        plt.show()\n",
    "        plt.savefig(r'C:\\education\\ML\\reports&results\\loss_per_epoch_'+str(noise)+'%.png')\n",
    "        return None\n",
    "    \n",
    "    def get_embaddings (self):\n",
    "        raw_embaddings = self.autoencoder(self.set)\n",
    "        self.embaddings = customdataset(raw_embaddings, self.set['group'].copy(), self.set['ID'].copy())\n",
    "        return None\n",
    "    \n",
    "    def save_net(self, noise: int) -> None:\n",
    "        self.paths.at['DAE_noise', noise] = r'C:\\education\\ML\\networks\\DAE_noise_'+str(noise)+'%.pkl'\n",
    "        torch.save(self.autoencoder.encoder, r'C:\\education\\ML\\networks\\DAE_noise_'+str(noise)+'%.pkl')\n",
    "        return None\n",
    "    \n",
    "    def load_net(self, noise: int) -> None:\n",
    "        \n",
    "        if (noise not in self.paths.columns):\n",
    "            print(f\"Error: There are not such network,\\\n",
    "                 please, train and save requied network\\\n",
    "                 with corresponding methods\\\n",
    "                from this class\")\n",
    "            return None\n",
    "        \n",
    "        model_path = self.paths.at['DAE_noise', noise]\n",
    "        \n",
    "        if pd.isna(model_path):\n",
    "            print(f\"Error: There are not such network,\\\n",
    "                 please, train and save requied network\\\n",
    "                 with corresponding methods\\\n",
    "                from this class\")\n",
    "            return None\n",
    "        self.autoencocer = torch.load(model_path)\n",
    "        return None\n",
    "    \n",
    "    def heat_map(self, noise: int, attribute: str='group') -> None: \n",
    "        if (attribute != 'group') or (attribute != 'ID'):\n",
    "            print('Error: unexpectable attribute')\n",
    "            return None\n",
    "        \n",
    "        \n",
    "        \n",
    "        def euclid (x):\n",
    "            x = x**2\n",
    "            l = np.sum(x)\n",
    "            l = np.sqrt(l)\n",
    "            return l\n",
    "        embaddings_heat = pd.DataFrame(self.embaddings[:]['profile'].numpy(), dtype = float)\n",
    "        embaddings_heat['50'] = self.embaddings[:][attribute] \n",
    "        embaddings_heat_mean = embaddings_heat.groupby('50').mean()\n",
    "        heat_map = np.zeros((len(embaddings_heat_mean.index), len(embaddings_heat_mean.index)))\n",
    "        heat_map = pd.DataFrame(heat_map, index=embaddings_heat_mean.index, \n",
    "                                columns=embaddings_heat_mean.index, dtype = float)\n",
    "        for i in embaddings_heat_mean.index:\n",
    "\n",
    "            #для каждой группы ищем средне-групповое расстояние (ищем разность каждого ветора с каждым и делим на количество разностей) \n",
    "            mean = embaddings_heat.loc[embaddings_heat['50'] == i].drop(columns = ['50'], axis=1).to_numpy()\n",
    "            s = np.zeros((len(mean[0])))\n",
    "            count = 0\n",
    "            for j in range (len(mean[:, 0])):\n",
    "                for k in range (j+1, len(mean[:, 0])):\n",
    "                    s = s + mean[j] - mean[k]\n",
    "                    count = count + 1\n",
    "            s = s/count\n",
    "            e = euclid(s)\n",
    "            heat_map.at[i, i] = e\n",
    "\n",
    "            #ищем расстояние до средних векторов остальных групп mylist.index(element)\n",
    "            for j in embaddings_heat_mean.index.values[np.where(embaddings_heat_mean.index.values == i)[0][0]: ]:\n",
    "                s = embaddings_heat_mean.loc[i].to_numpy() - embaddings_heat_mean.loc[j].to_numpy()       \n",
    "                e = euclid(s)\n",
    "                heat_map.at[i, j] = e\n",
    "                \n",
    "        heat_map_t = heat_map.values.copy()\n",
    "        for i in range (len(heat_map['Bacillus_licheniformis'])):\n",
    "            heat_map_t[i, i] = 0\n",
    "        heat_map_t = heat_map_t.transpose()                  \n",
    "        heat_map.loc[ : , : ] = heat_map.values + heat_map_t  \n",
    "        \n",
    "        fig = plt.figure(figsize=(20,20))\n",
    "        ax = fig.add_axes([0.1, 0.1, 0.8, 0.8])\n",
    "        ax.set_xticks(np.arange(heat_map.shape[1]))\n",
    "        ax.set_yticks(np.arange(heat_map.shape[0]))\n",
    "        ax.set_xticklabels(heat_map)\n",
    "        ax.set_yticklabels(heat_map)\n",
    "        plt.setp(ax.get_xticklabels(), rotation=90, ha=\"right\", rotation_mode=\"anchor\")\n",
    "        im = ax.imshow(heat_map)\n",
    "        ax.set_title(\"карта расстояний между группами культур\")\n",
    "        cbar = ax.figure.colorbar(im)\n",
    "        plt.show()\n",
    "        plt.savefig('C:\\education\\ML\\reports&results\\heat_map_'+ attribute + '_' + str(noise) +'%.png')\n",
    "        return None\n",
    "    \n",
    "    def train_forest(self, attribute: str='group') -> None:\n",
    "        if (attribute != 'group') or (attribute != 'ID'):\n",
    "            print('Error: unexpectable attribute')\n",
    "            return None\n",
    "        x_train, x_test, y_train, y_test = train_test_split (self.embaddings[:]['profile'], \n",
    "                                             self.embaddings[:][attribute], train_size = 0.7)\n",
    "        classifier = RandomForestClassifier()\n",
    "        classifier.fit(x_train, y_train)\n",
    "        y_pred = classifier.predict(x_test)\n",
    "        if attribute == 'group':\n",
    "            self.classification_matrix_group = confusion_matrix(y_test, y_pred)\n",
    "            self.classification_report_group = classification_report(y_test, y_pred)\n",
    "            \n",
    "            self.forest_group = classifier\n",
    "        else:\n",
    "            self.classification_matrix_ID = confusion_matrix(y_test, y_pred)\n",
    "            self.classification_report_ID = classification_report(y_test, y_pred)\n",
    "            \n",
    "            self.forest_ID = classifier\n",
    "        return None\n",
    "    \n",
    "    def save_forest(self, noise: int, attribute: str = 'group') -> None:\n",
    "        if (attribute != 'group') or (attribute != 'ID'):\n",
    "            print('Error: unexpectable attribute')\n",
    "            return None\n",
    "        \n",
    "        path = r'C:\\education\\ML\\forests\\RF_'+attribute+'_'+str(noise)+'%'\n",
    "        self.paths.at['RF_'+attribute, noise] = path\n",
    "        with open(path, 'wb') as f:\n",
    "            pickle.dump(self.forests.at[0, attribute], f)\n",
    "            \n",
    "        return None\n",
    "    \n",
    "    def load_forest(self, noise: int, attribute: str='group') -> None:\n",
    "        if (attribute != 'group') or (attribute != 'ID'):\n",
    "            print('Error: unexpectable attribute')\n",
    "            return None\n",
    "        \n",
    "        \n",
    "        if (noise not in self.paths.columns):\n",
    "            print(f\"Error: There are not such forest,\\\n",
    "                 please, train and save requied forest\\\n",
    "                 with corresponding methods\\\n",
    "                from this class\")\n",
    "            return None\n",
    "        \n",
    "        forest_path = self.paths.at['RF_'+attribute, noise]\n",
    "        \n",
    "        if pd.isna(forest_path):\n",
    "            print(f\"Error: There are not such forest,\\\n",
    "                 please, train and save requied forest\\\n",
    "                 with corresponding methods\\\n",
    "                from this class\")\n",
    "            return None\n",
    "        \n",
    "        with open(forest_path, 'rb') as f:\n",
    "            self.forests.at[0, attribute] = pickle.load(f)\n",
    "            \n",
    "        return None\n",
    "    \n",
    "    def save_report(self, noise: int, attribute: str = 'group') -> None:\n",
    "        if (attribute != 'group') or (attribute != 'ID'):\n",
    "            print('Error: unexpectable attribute')\n",
    "            return None\n",
    "        if attribute == 'group':\n",
    "            classification_report_group = pd.DataFrame(self.classification_report_group).transpose()\n",
    "            path = 'C:\\education\\ML\\reports&results\\classification_report_group'+str(noise)+'%.csv'\n",
    "            classification_report_group.to_csv(r(path), sep=';', header=True, index=True) \n",
    "        else:\n",
    "            classification_report_ID= pd.DataFrame(self.classification_report_ID).transpose()\n",
    "            path = 'C:\\education\\ML\\reports&results\\classification_report_ID'+str(noise)+'%.csv'\n",
    "            classification_report_ID.to_csv(r(path), sep=';', header=True, index=True) \n",
    "        return None\n",
    "    \n",
    "    # массивы input_noise и train_noise - целочисленные = количеству процентов шума \n",
    "    def confusion_noise(self, input_noise, train_noise):\n",
    "        confusion_noise_group = pd.DataFrame(np.zeros((5, 6)),\\\n",
    "        columns = pd.MultiIndex.from_tuples([('Input Noise', str(col)+\"%\") for col in input_noise]),\\\n",
    "        index = pd.MultiIndex.from_tuples([('Train Noise', str(col)+\"%\") for col in train_noise]))\n",
    "        confusion_noise_ID = confusion_noise_group.copy()\n",
    "        confusion_noise_ID_acc = confusion_noise_group.copy()\n",
    "        confusion_noise_group_acc = confusion_noise_group.copy()\n",
    "        \n",
    "        for i in tqdm(train_noise):        \n",
    "            \n",
    "            self.load_net(noise = i)\n",
    "            self.load_forest(noise = i, attribute = 'group')\n",
    "            self.load_forest(noise = i, attribute = 'ID')\n",
    "            \n",
    "            autoencoder_inference = self.autoencoder\n",
    "            classifier_group = self.forests.at[0, 'group']\n",
    "            classifier_ID = self.forests.at[0, 'ID']\n",
    "            for j in input_noise:             \n",
    "                #энкодер\n",
    "                self.load_set(noise = j)\n",
    "                MS_profiles_inference=self.set\n",
    "                MS_profiles_inference = MS_profiles_inference.astype({'15002.0': 'str'})\n",
    "                MS_profiles_inference = customdataset (MS_profiles_inference.iloc[:, :12001].to_numpy(),\n",
    "                                                 MS_profiles_inference.iloc[:, 12001].to_numpy(),\n",
    "                                                 MS_profiles_inference.iloc[:, 12002].to_numpy())\n",
    "                with torch.no_grad():\n",
    "                    autoencoder_inference = autoencoder_inference.to('cpu')\n",
    "                    embaddings_inference = autoencoder_inference( MS_profiles_inference[:]['profile'] )\n",
    "                    embaddings_inference = customdataset(embaddings_inference, \\\n",
    "                        MS_profiles_inference[:]['group'].copy(), MS_profiles_inference[:]['ID'].copy())   \n",
    "                #дерево для групп\n",
    "                pred_group = classifier_group.predict(embaddings_inference[:]['profile'])\n",
    "                self.classification_report = classification_report(embaddings_inference[:]['group'],\\\n",
    "                                                         pred_group, output_dict=True)\n",
    "                if i == j:\n",
    "                    self.save_report('reports&results\\report_group_'+str(i)+'%.csv')\n",
    "                confusion_noise_group_acc.at[('Train Noise', str(i)+'%'), ('Input Noise', str(j)+'%')] = \\\n",
    "                                                                       self.classification_report['accuracy']\n",
    "                report_group = pd.DataFrame(self.classification_report).transpose() \n",
    "                report_group = report_group.drop(index = ['accuracy', 'macro avg', 'weighted avg'], axis = 0)\n",
    "                confusion_noise_group.at[('Train Noise', str(i)+'%'), ('Input Noise', str(j)+'%')] = \\\n",
    "                                                                       report_group.mean()['f1-score']\n",
    "                #дерево для штаммов\n",
    "                pred_ID = classifier_group.predict(embaddings_inference[:]['profile'])\n",
    "                self.classification_report = classification_report(embaddings_inference[:]['ID'],\\\n",
    "                                                         pred_ID, output_dict=True)\n",
    "                if i == j:\n",
    "                    self.save_report('C:\\education\\ML\\reports&results\\report_ID_'+str(i)+'%.csv')\n",
    "                confusion_noise_ID_acc.at[('Train Noise', str(i)+'%'), ('Input Noise', str(j)+'%')] = \\\n",
    "                                                                       self.classification_report['accuracy']\n",
    "                report_ID = pd.DataFrame(self.classification_report).transpose() \n",
    "                report_ID = report_ID.drop(index = ['accuracy', 'macro avg', 'weighted avg'], axis = 0)\n",
    "                confusion_noise_ID.at[('Train Noise', str(i)+'%'), ('Input Noise', str(j)+'%')] = \\\n",
    "                                                                       report_ID.mean()['f1-score']\n",
    "        confusion_noise_group.to_csv(r'C:\\education\\ML\\reports&results\\confusion_noise_group.csv', sep=';', header=True, index=True,)\n",
    "        confusion_noise_ID.to_csv(r'C:\\education\\ML\\reports&results\\confusion_noise_ID.csv', sep=';', header=True, index=True,)\n",
    "        confusion_noise_group_acc.to_csv(r'C:\\education\\ML\\reports&results\\confusion_noise_acc_group.csv', sep=';', header=True, index=True,)\n",
    "        confusion_noise_ID_acc.to_csv(r'C:\\education\\ML\\reports&results\\confusion_noise_acc_ID.csv', sep=';', header=True, index=True,)\n",
    "        return None  \n",
    "                \n",
    "    def importance_analysis (self, noise: int = 40, attribute: str = 'group') -> None:\n",
    "        \n",
    "        self.load_forest(noise = noise, attribute = attribute)\n",
    "        self.load_net(noise = noise)\n",
    "        \n",
    "        autoencoder_inference = self.autoencoder\n",
    "        classifier = self.forests.at[0, attribute]\n",
    "        \n",
    "        importances = classifier.feature_importances_\n",
    "        forest_importances = pd.Series(importances, index={i for i in range (50)})\n",
    "        \n",
    "        std = np.std([tree.feature_importances_ for tree in classifier.estimators_], axis=0) #deviation - мера распределения\n",
    "        \n",
    "        fig, ax = plt.subplots(figsize=(10,10))\n",
    "        #fig = plt.figure(figsize=(20,20))\n",
    "        forest_importances.plot.bar( ax=ax)\n",
    "        ax.set_title(\"Feature importances using MDI\")\n",
    "        ax.set_ylabel(\"Mean decrease in impurity\")\n",
    "        plt.setp(ax.get_xticklabels(), rotation=90, rotation_mode=\"anchor\")\n",
    "        fig.tight_layout()\n",
    "        plt.savefig('importances_plot_' + str(noise)+'%.png')\n",
    "        \n",
    "        top = forest_importances.nlargest(10)\n",
    "        J = np.zeros(len(top.index)) # массив для хранения индексов макимальных весов \n",
    "        #ищем максимумы между 3 и 4 слоями енкодера\n",
    "        for j, i in enumerate(top.index):\n",
    "            maximum, J[j] = torch.max(autoencoder_inference[0][4].weight[i], dim = 0)\n",
    "        #ищем максимумы между 2 и 3 слоями енкодера\n",
    "        for j in range(len(J)):\n",
    "            maximum, J[j] = torch.max((autoencoder_inference[0][2]).weight[int(J[j])], dim = 0)\n",
    "        #ищем максимумы между 1 и 2 слоями енкодера\n",
    "        mz_features = np.array([], dtype = int)\n",
    "        for j in range(len(J)):\n",
    "            current = (autoencoder_inference[0][0]).weight[int(J[j])]\n",
    "            #beta = random.uniform(1, 2.5)\n",
    "            beta = 5\n",
    "            T = torch.mean(current) + beta*torch.std(current)\n",
    "            for i in range(len((autoencoder_inference[0][0]).weight[0])):\n",
    "                if (autoencoder_inference[0][0]).weight[int(J[j]), i] >= float(T):\n",
    "                    mz_features = np.append(mz_features, i)\n",
    "        np.savetxt('mz_features_'+attribute+'_'+str(noise)+'%_txt', mz_features, fmt='%d')   \n",
    "        return None"
   ]
  },
  {
   "cell_type": "code",
   "execution_count": 9,
   "metadata": {},
   "outputs": [
    {
     "name": "stdout",
     "output_type": "stream",
     "text": [
      "No match found for: test\n"
     ]
    },
    {
     "data": {
      "text/html": [
       "<div>\n",
       "<style scoped>\n",
       "    .dataframe tbody tr th:only-of-type {\n",
       "        vertical-align: middle;\n",
       "    }\n",
       "\n",
       "    .dataframe tbody tr th {\n",
       "        vertical-align: top;\n",
       "    }\n",
       "\n",
       "    .dataframe thead th {\n",
       "        text-align: right;\n",
       "    }\n",
       "</style>\n",
       "<table border=\"1\" class=\"dataframe\">\n",
       "  <thead>\n",
       "    <tr style=\"text-align: right;\">\n",
       "      <th></th>\n",
       "      <th>0</th>\n",
       "      <th>10</th>\n",
       "      <th>15</th>\n",
       "      <th>20</th>\n",
       "      <th>25</th>\n",
       "      <th>30</th>\n",
       "      <th>40</th>\n",
       "      <th>60</th>\n",
       "      <th>80</th>\n",
       "      <th>100</th>\n",
       "      <th>150</th>\n",
       "      <th>200</th>\n",
       "      <th>250</th>\n",
       "      <th>300</th>\n",
       "    </tr>\n",
       "  </thead>\n",
       "  <tbody>\n",
       "    <tr>\n",
       "      <th>set_group_distribution</th>\n",
       "      <td>C:\\education\\ML\\MS_profiles\\sets\\MS_profiles_s...</td>\n",
       "      <td>C:\\education\\ML\\MS_profiles\\sets\\MS_profiles_s...</td>\n",
       "      <td>C:\\education\\ML\\MS_profiles\\sets\\MS_profiles_s...</td>\n",
       "      <td>C:\\education\\ML\\MS_profiles\\sets\\MS_profiles_s...</td>\n",
       "      <td>C:\\education\\ML\\MS_profiles\\sets\\MS_profiles_s...</td>\n",
       "      <td>C:\\education\\ML\\MS_profiles\\sets\\MS_profiles_s...</td>\n",
       "      <td>C:\\education\\ML\\MS_profiles\\sets\\MS_profiles_s...</td>\n",
       "      <td>C:\\education\\ML\\MS_profiles\\sets\\MS_profiles_s...</td>\n",
       "      <td>C:\\education\\ML\\MS_profiles\\sets\\MS_profiles_s...</td>\n",
       "      <td>C:\\education\\ML\\MS_profiles\\sets\\MS_profiles_s...</td>\n",
       "      <td>C:\\education\\ML\\MS_profiles\\sets\\MS_profiles_s...</td>\n",
       "      <td>C:\\education\\ML\\MS_profiles\\sets\\MS_profiles_s...</td>\n",
       "      <td>C:\\education\\ML\\MS_profiles\\sets\\MS_profiles_s...</td>\n",
       "      <td>C:\\education\\ML\\MS_profiles\\sets\\MS_profiles_s...</td>\n",
       "    </tr>\n",
       "    <tr>\n",
       "      <th>DAE_noise</th>\n",
       "      <td>NaN</td>\n",
       "      <td>C:\\education\\ML\\networks\\DAE_norm_noise_10%.pkl</td>\n",
       "      <td>C:\\education\\ML\\networks\\DAE_norm_noise_15%.pkl</td>\n",
       "      <td>C:\\education\\ML\\networks\\DAE_norm_noise_20%.pkl</td>\n",
       "      <td>C:\\education\\ML\\networks\\DAE_norm_noise_25%.pkl</td>\n",
       "      <td>C:\\education\\ML\\networks\\DAE_norm_noise_30%.pkl</td>\n",
       "      <td>C:\\education\\ML\\networks\\DAE_norm_noise_40%_fi...</td>\n",
       "      <td>NaN</td>\n",
       "      <td>NaN</td>\n",
       "      <td>NaN</td>\n",
       "      <td>NaN</td>\n",
       "      <td>NaN</td>\n",
       "      <td>NaN</td>\n",
       "      <td>NaN</td>\n",
       "    </tr>\n",
       "    <tr>\n",
       "      <th>RF_group</th>\n",
       "      <td>NaN</td>\n",
       "      <td>C:\\education\\ML\\forests\\group\\forest_norm_nois...</td>\n",
       "      <td>C:\\education\\ML\\forests\\group\\forest_norm_nois...</td>\n",
       "      <td>C:\\education\\ML\\forests\\group\\forest_norm_nois...</td>\n",
       "      <td>C:\\education\\ML\\forests\\group\\forest_norm_nois...</td>\n",
       "      <td>C:\\education\\ML\\forests\\group\\forest_norm_nois...</td>\n",
       "      <td>C:\\education\\ML\\forests\\group\\forest_norm_nois...</td>\n",
       "      <td>NaN</td>\n",
       "      <td>NaN</td>\n",
       "      <td>NaN</td>\n",
       "      <td>NaN</td>\n",
       "      <td>NaN</td>\n",
       "      <td>NaN</td>\n",
       "      <td>NaN</td>\n",
       "    </tr>\n",
       "    <tr>\n",
       "      <th>RF_ID</th>\n",
       "      <td>NaN</td>\n",
       "      <td>C:\\education\\ML\\forests\\ID\\forest_norm_noise_1...</td>\n",
       "      <td>C:\\education\\ML\\forests\\ID\\forest_norm_noise_1...</td>\n",
       "      <td>C:\\education\\ML\\forests\\ID\\forest_norm_noise_2...</td>\n",
       "      <td>C:\\education\\ML\\forests\\ID\\forest_norm_noise_2...</td>\n",
       "      <td>C:\\education\\ML\\forests\\ID\\forest_norm_noise_3...</td>\n",
       "      <td>C:\\education\\ML\\forests\\ID\\forest_norm_noise_4...</td>\n",
       "      <td>NaN</td>\n",
       "      <td>NaN</td>\n",
       "      <td>NaN</td>\n",
       "      <td>NaN</td>\n",
       "      <td>NaN</td>\n",
       "      <td>NaN</td>\n",
       "      <td>NaN</td>\n",
       "    </tr>\n",
       "  </tbody>\n",
       "</table>\n",
       "</div>"
      ],
      "text/plain": [
       "                                                                      0    \\\n",
       "set_group_distribution  C:\\education\\ML\\MS_profiles\\sets\\MS_profiles_s...   \n",
       "DAE_noise                                                             NaN   \n",
       "RF_group                                                              NaN   \n",
       "RF_ID                                                                 NaN   \n",
       "\n",
       "                                                                      10   \\\n",
       "set_group_distribution  C:\\education\\ML\\MS_profiles\\sets\\MS_profiles_s...   \n",
       "DAE_noise                 C:\\education\\ML\\networks\\DAE_norm_noise_10%.pkl   \n",
       "RF_group                C:\\education\\ML\\forests\\group\\forest_norm_nois...   \n",
       "RF_ID                   C:\\education\\ML\\forests\\ID\\forest_norm_noise_1...   \n",
       "\n",
       "                                                                      15   \\\n",
       "set_group_distribution  C:\\education\\ML\\MS_profiles\\sets\\MS_profiles_s...   \n",
       "DAE_noise                 C:\\education\\ML\\networks\\DAE_norm_noise_15%.pkl   \n",
       "RF_group                C:\\education\\ML\\forests\\group\\forest_norm_nois...   \n",
       "RF_ID                   C:\\education\\ML\\forests\\ID\\forest_norm_noise_1...   \n",
       "\n",
       "                                                                      20   \\\n",
       "set_group_distribution  C:\\education\\ML\\MS_profiles\\sets\\MS_profiles_s...   \n",
       "DAE_noise                 C:\\education\\ML\\networks\\DAE_norm_noise_20%.pkl   \n",
       "RF_group                C:\\education\\ML\\forests\\group\\forest_norm_nois...   \n",
       "RF_ID                   C:\\education\\ML\\forests\\ID\\forest_norm_noise_2...   \n",
       "\n",
       "                                                                      25   \\\n",
       "set_group_distribution  C:\\education\\ML\\MS_profiles\\sets\\MS_profiles_s...   \n",
       "DAE_noise                 C:\\education\\ML\\networks\\DAE_norm_noise_25%.pkl   \n",
       "RF_group                C:\\education\\ML\\forests\\group\\forest_norm_nois...   \n",
       "RF_ID                   C:\\education\\ML\\forests\\ID\\forest_norm_noise_2...   \n",
       "\n",
       "                                                                      30   \\\n",
       "set_group_distribution  C:\\education\\ML\\MS_profiles\\sets\\MS_profiles_s...   \n",
       "DAE_noise                 C:\\education\\ML\\networks\\DAE_norm_noise_30%.pkl   \n",
       "RF_group                C:\\education\\ML\\forests\\group\\forest_norm_nois...   \n",
       "RF_ID                   C:\\education\\ML\\forests\\ID\\forest_norm_noise_3...   \n",
       "\n",
       "                                                                      40   \\\n",
       "set_group_distribution  C:\\education\\ML\\MS_profiles\\sets\\MS_profiles_s...   \n",
       "DAE_noise               C:\\education\\ML\\networks\\DAE_norm_noise_40%_fi...   \n",
       "RF_group                C:\\education\\ML\\forests\\group\\forest_norm_nois...   \n",
       "RF_ID                   C:\\education\\ML\\forests\\ID\\forest_norm_noise_4...   \n",
       "\n",
       "                                                                      60   \\\n",
       "set_group_distribution  C:\\education\\ML\\MS_profiles\\sets\\MS_profiles_s...   \n",
       "DAE_noise                                                             NaN   \n",
       "RF_group                                                              NaN   \n",
       "RF_ID                                                                 NaN   \n",
       "\n",
       "                                                                      80   \\\n",
       "set_group_distribution  C:\\education\\ML\\MS_profiles\\sets\\MS_profiles_s...   \n",
       "DAE_noise                                                             NaN   \n",
       "RF_group                                                              NaN   \n",
       "RF_ID                                                                 NaN   \n",
       "\n",
       "                                                                      100  \\\n",
       "set_group_distribution  C:\\education\\ML\\MS_profiles\\sets\\MS_profiles_s...   \n",
       "DAE_noise                                                             NaN   \n",
       "RF_group                                                              NaN   \n",
       "RF_ID                                                                 NaN   \n",
       "\n",
       "                                                                      150  \\\n",
       "set_group_distribution  C:\\education\\ML\\MS_profiles\\sets\\MS_profiles_s...   \n",
       "DAE_noise                                                             NaN   \n",
       "RF_group                                                              NaN   \n",
       "RF_ID                                                                 NaN   \n",
       "\n",
       "                                                                      200  \\\n",
       "set_group_distribution  C:\\education\\ML\\MS_profiles\\sets\\MS_profiles_s...   \n",
       "DAE_noise                                                             NaN   \n",
       "RF_group                                                              NaN   \n",
       "RF_ID                                                                 NaN   \n",
       "\n",
       "                                                                      250  \\\n",
       "set_group_distribution  C:\\education\\ML\\MS_profiles\\sets\\MS_profiles_s...   \n",
       "DAE_noise                                                             NaN   \n",
       "RF_group                                                              NaN   \n",
       "RF_ID                                                                 NaN   \n",
       "\n",
       "                                                                      300  \n",
       "set_group_distribution  C:\\education\\ML\\MS_profiles\\sets\\MS_profiles_s...  \n",
       "DAE_noise                                                             NaN  \n",
       "RF_group                                                              NaN  \n",
       "RF_ID                                                                 NaN  "
      ]
     },
     "execution_count": 9,
     "metadata": {},
     "output_type": "execute_result"
    }
   ],
   "source": [
    "test = Bionet()\n",
    "test.inference_noise\n",
    "test."
   ]
  },
  {
   "cell_type": "code",
   "execution_count": 6,
   "metadata": {},
   "outputs": [
    {
     "data": {
      "text/html": [
       "<div>\n",
       "<style scoped>\n",
       "    .dataframe tbody tr th:only-of-type {\n",
       "        vertical-align: middle;\n",
       "    }\n",
       "\n",
       "    .dataframe tbody tr th {\n",
       "        vertical-align: top;\n",
       "    }\n",
       "\n",
       "    .dataframe thead tr th {\n",
       "        text-align: left;\n",
       "    }\n",
       "</style>\n",
       "<table border=\"1\" class=\"dataframe\">\n",
       "  <thead>\n",
       "    <tr>\n",
       "      <th></th>\n",
       "      <th></th>\n",
       "      <th colspan=\"6\" halign=\"left\">Input Noise</th>\n",
       "    </tr>\n",
       "    <tr>\n",
       "      <th></th>\n",
       "      <th></th>\n",
       "      <th>0%</th>\n",
       "      <th>10%</th>\n",
       "      <th>15%</th>\n",
       "      <th>20%</th>\n",
       "      <th>25%</th>\n",
       "      <th>30%</th>\n",
       "    </tr>\n",
       "  </thead>\n",
       "  <tbody>\n",
       "    <tr>\n",
       "      <th rowspan=\"5\" valign=\"top\">Train Noise</th>\n",
       "      <th>10%</th>\n",
       "      <td>0.0</td>\n",
       "      <td>0.0</td>\n",
       "      <td>0.0</td>\n",
       "      <td>0.0</td>\n",
       "      <td>0.0</td>\n",
       "      <td>0.0</td>\n",
       "    </tr>\n",
       "    <tr>\n",
       "      <th>15%</th>\n",
       "      <td>0.0</td>\n",
       "      <td>0.0</td>\n",
       "      <td>0.0</td>\n",
       "      <td>0.0</td>\n",
       "      <td>0.0</td>\n",
       "      <td>0.0</td>\n",
       "    </tr>\n",
       "    <tr>\n",
       "      <th>20%</th>\n",
       "      <td>0.0</td>\n",
       "      <td>0.0</td>\n",
       "      <td>0.0</td>\n",
       "      <td>0.0</td>\n",
       "      <td>0.0</td>\n",
       "      <td>0.0</td>\n",
       "    </tr>\n",
       "    <tr>\n",
       "      <th>25%</th>\n",
       "      <td>0.0</td>\n",
       "      <td>0.0</td>\n",
       "      <td>0.0</td>\n",
       "      <td>0.0</td>\n",
       "      <td>0.0</td>\n",
       "      <td>0.0</td>\n",
       "    </tr>\n",
       "    <tr>\n",
       "      <th>30%</th>\n",
       "      <td>0.0</td>\n",
       "      <td>0.0</td>\n",
       "      <td>0.0</td>\n",
       "      <td>0.0</td>\n",
       "      <td>0.0</td>\n",
       "      <td>0.0</td>\n",
       "    </tr>\n",
       "  </tbody>\n",
       "</table>\n",
       "</div>"
      ],
      "text/plain": [
       "                Input Noise                         \n",
       "                         0%  10%  15%  20%  25%  30%\n",
       "Train Noise 10%         0.0  0.0  0.0  0.0  0.0  0.0\n",
       "            15%         0.0  0.0  0.0  0.0  0.0  0.0\n",
       "            20%         0.0  0.0  0.0  0.0  0.0  0.0\n",
       "            25%         0.0  0.0  0.0  0.0  0.0  0.0\n",
       "            30%         0.0  0.0  0.0  0.0  0.0  0.0"
      ]
     },
     "execution_count": 6,
     "metadata": {},
     "output_type": "execute_result"
    }
   ],
   "source": [
    "\n",
    "\n",
    "# Create a sample DataFrame\n",
    "confusion_noise_group = pd.DataFrame(np.zeros((5, 6)),\n",
    "                                     columns = np.hstack((np.array(['input_noise_0%']),\n",
    "                                                          np.array(['input_noise_'+str(j)+'%' for j in range(10, 35, 5)]))),\n",
    "                                     index = ['train_noise_'+str(j)+'%' for j in range(10, 35, 5)])\n",
    "\n",
    "# Change index and column names\n",
    "new_columns = [col.replace('input_noise_', '') for col in confusion_noise_group.columns]\n",
    "new_index = [idx.replace('train_noise_', '') for idx in confusion_noise_group.index]\n",
    "\n",
    "# Create MultiIndex for columns\n",
    "columns_multiindex = pd.MultiIndex.from_tuples([('Input Noise', col) for col in new_columns])\n",
    "index_multiindex = pd.MultiIndex.from_tuples([('Train Noise', col) for col in new_index])\n",
    "\n",
    "# Update DataFrame columns and index\n",
    "confusion_noise_group.columns = columns_multiindex\n",
    "confusion_noise_group.index = index_multiindex\n",
    "\n",
    "# Print the modified DataFrame\n",
    "confusion_noise_group"
   ]
  },
  {
   "cell_type": "code",
   "execution_count": 8,
   "metadata": {},
   "outputs": [
    {
     "data": {
      "text/plain": [
       "function"
      ]
     },
     "execution_count": 8,
     "metadata": {},
     "output_type": "execute_result"
    }
   ],
   "source": [
    "type(F.mse_loss)"
   ]
  },
  {
   "cell_type": "markdown",
   "metadata": {
    "id": "PEGXKW-wgrOc"
   },
   "source": [
    "# Чтение и синтез данных"
   ]
  },
  {
   "cell_type": "markdown",
   "metadata": {
    "id": "P9BCWWkXkCFq"
   },
   "source": [
    "**считали ключи (название файла - бактерия)**\n"
   ]
  },
  {
   "cell_type": "code",
   "execution_count": 48,
   "metadata": {
    "colab": {
     "base_uri": "https://localhost:8080/",
     "height": 35
    },
    "id": "PRbdi0N8f6Ra",
    "outputId": "631bd132-03a2-4b6a-d7e0-6a5e19107f97",
    "scrolled": false
   },
   "outputs": [
    {
     "data": {
      "text/html": [
       "<div>\n",
       "<style scoped>\n",
       "    .dataframe tbody tr th:only-of-type {\n",
       "        vertical-align: middle;\n",
       "    }\n",
       "\n",
       "    .dataframe tbody tr th {\n",
       "        vertical-align: top;\n",
       "    }\n",
       "\n",
       "    .dataframe thead th {\n",
       "        text-align: right;\n",
       "    }\n",
       "</style>\n",
       "<table border=\"1\" class=\"dataframe\">\n",
       "  <thead>\n",
       "    <tr style=\"text-align: right;\">\n",
       "      <th></th>\n",
       "      <th>0</th>\n",
       "      <th>1</th>\n",
       "      <th>2</th>\n",
       "    </tr>\n",
       "  </thead>\n",
       "  <tbody>\n",
       "    <tr>\n",
       "      <th>0</th>\n",
       "      <td>e0ccca6e-5d79-4c53-b1b8-d80d444e7585</td>\n",
       "      <td>Bacillus_licheniformis</td>\n",
       "      <td>KUskv2(1)</td>\n",
       "    </tr>\n",
       "    <tr>\n",
       "      <th>1</th>\n",
       "      <td>b3e3775b-3309-481a-ad5b-74589da92796</td>\n",
       "      <td>Bacillus_licheniformis</td>\n",
       "      <td>KUskv2(1)</td>\n",
       "    </tr>\n",
       "    <tr>\n",
       "      <th>2</th>\n",
       "      <td>ff9bee2a-2a61-4ece-a65b-a9c91f6cd942</td>\n",
       "      <td>Bacillus_licheniformis</td>\n",
       "      <td>KUskv2(1)</td>\n",
       "    </tr>\n",
       "    <tr>\n",
       "      <th>3</th>\n",
       "      <td>07441fb6-9e0e-4e9e-b9be-7a3f5cf1046c</td>\n",
       "      <td>Bacillus_licheniformis</td>\n",
       "      <td>KU16oc(1)2011</td>\n",
       "    </tr>\n",
       "    <tr>\n",
       "      <th>4</th>\n",
       "      <td>566e6be2-053b-45a7-91ea-3818c6d2f599</td>\n",
       "      <td>Bacillus_licheniformis</td>\n",
       "      <td>KU16oc(1)2011</td>\n",
       "    </tr>\n",
       "    <tr>\n",
       "      <th>...</th>\n",
       "      <td>...</td>\n",
       "      <td>...</td>\n",
       "      <td>...</td>\n",
       "    </tr>\n",
       "    <tr>\n",
       "      <th>144</th>\n",
       "      <td>006bcbe8-8ac5-4939-a9c8-73ba3638b7bb</td>\n",
       "      <td>Bacillus_atrophaeus</td>\n",
       "      <td>47(11)il</td>\n",
       "    </tr>\n",
       "    <tr>\n",
       "      <th>145</th>\n",
       "      <td>f1dc0276-8db7-48a3-a82a-b96d56b5a96c</td>\n",
       "      <td>Bacillus_atrophaeus</td>\n",
       "      <td>47(8)il</td>\n",
       "    </tr>\n",
       "    <tr>\n",
       "      <th>146</th>\n",
       "      <td>af8e46eb-ce25-4069-81b8-cc9d04307819</td>\n",
       "      <td>Bacillus_atrophaeus</td>\n",
       "      <td>47(8)il</td>\n",
       "    </tr>\n",
       "    <tr>\n",
       "      <th>147</th>\n",
       "      <td>16379977-b2cb-4907-9460-680c75c15906</td>\n",
       "      <td>Bacillus_chungangenis</td>\n",
       "      <td>45(3)il</td>\n",
       "    </tr>\n",
       "    <tr>\n",
       "      <th>148</th>\n",
       "      <td>0b5c76c3-6161-4ee4-983b-08cc702a8f40</td>\n",
       "      <td>Bacillus_chungangenis</td>\n",
       "      <td>45(3)il</td>\n",
       "    </tr>\n",
       "  </tbody>\n",
       "</table>\n",
       "<p>149 rows × 3 columns</p>\n",
       "</div>"
      ],
      "text/plain": [
       "                                        0                       1  \\\n",
       "0    e0ccca6e-5d79-4c53-b1b8-d80d444e7585  Bacillus_licheniformis   \n",
       "1    b3e3775b-3309-481a-ad5b-74589da92796  Bacillus_licheniformis   \n",
       "2    ff9bee2a-2a61-4ece-a65b-a9c91f6cd942  Bacillus_licheniformis   \n",
       "3    07441fb6-9e0e-4e9e-b9be-7a3f5cf1046c  Bacillus_licheniformis   \n",
       "4    566e6be2-053b-45a7-91ea-3818c6d2f599  Bacillus_licheniformis   \n",
       "..                                    ...                     ...   \n",
       "144  006bcbe8-8ac5-4939-a9c8-73ba3638b7bb     Bacillus_atrophaeus   \n",
       "145  f1dc0276-8db7-48a3-a82a-b96d56b5a96c     Bacillus_atrophaeus   \n",
       "146  af8e46eb-ce25-4069-81b8-cc9d04307819     Bacillus_atrophaeus   \n",
       "147  16379977-b2cb-4907-9460-680c75c15906   Bacillus_chungangenis   \n",
       "148  0b5c76c3-6161-4ee4-983b-08cc702a8f40   Bacillus_chungangenis   \n",
       "\n",
       "                 2  \n",
       "0        KUskv2(1)  \n",
       "1        KUskv2(1)  \n",
       "2        KUskv2(1)  \n",
       "3    KU16oc(1)2011  \n",
       "4    KU16oc(1)2011  \n",
       "..             ...  \n",
       "144       47(11)il  \n",
       "145        47(8)il  \n",
       "146        47(8)il  \n",
       "147        45(3)il  \n",
       "148        45(3)il  \n",
       "\n",
       "[149 rows x 3 columns]"
      ]
     },
     "execution_count": 48,
     "metadata": {},
     "output_type": "execute_result"
    }
   ],
   "source": [
    "profiles_ID = pd.read_csv(\"MS_profiles/sets/profiles_group_ID.csv\", sep=';', header=None)\n",
    "profiles_ID"
   ]
  },
  {
   "cell_type": "code",
   "execution_count": 49,
   "metadata": {
    "colab": {
     "base_uri": "https://localhost:8080/",
     "height": 530
    },
    "id": "9Bls1KVy_acF",
    "outputId": "f878790d-9e9f-4d7b-b169-d5633724ea09"
   },
   "outputs": [
    {
     "data": {
      "text/html": [
       "<div>\n",
       "<style scoped>\n",
       "    .dataframe tbody tr th:only-of-type {\n",
       "        vertical-align: middle;\n",
       "    }\n",
       "\n",
       "    .dataframe tbody tr th {\n",
       "        vertical-align: top;\n",
       "    }\n",
       "\n",
       "    .dataframe thead th {\n",
       "        text-align: right;\n",
       "    }\n",
       "</style>\n",
       "<table border=\"1\" class=\"dataframe\">\n",
       "  <thead>\n",
       "    <tr style=\"text-align: right;\">\n",
       "      <th></th>\n",
       "      <th>3000.0</th>\n",
       "      <th>3001.0</th>\n",
       "      <th>3002.0</th>\n",
       "      <th>3003.0</th>\n",
       "      <th>3004.0</th>\n",
       "      <th>3005.0</th>\n",
       "      <th>3006.0</th>\n",
       "      <th>3007.0</th>\n",
       "      <th>3008.0</th>\n",
       "      <th>3009.0</th>\n",
       "      <th>...</th>\n",
       "      <th>14993.0</th>\n",
       "      <th>14994.0</th>\n",
       "      <th>14995.0</th>\n",
       "      <th>14996.0</th>\n",
       "      <th>14997.0</th>\n",
       "      <th>14998.0</th>\n",
       "      <th>14999.0</th>\n",
       "      <th>15000.0</th>\n",
       "      <th>15001.0</th>\n",
       "      <th>15002.0</th>\n",
       "    </tr>\n",
       "  </thead>\n",
       "  <tbody>\n",
       "    <tr>\n",
       "      <th>0</th>\n",
       "      <td>0.0</td>\n",
       "      <td>0.006989</td>\n",
       "      <td>0.009474</td>\n",
       "      <td>0.011865</td>\n",
       "      <td>0.014919</td>\n",
       "      <td>0.013818</td>\n",
       "      <td>0.014891</td>\n",
       "      <td>0.014112</td>\n",
       "      <td>0.011084</td>\n",
       "      <td>0.013803</td>\n",
       "      <td>...</td>\n",
       "      <td>0.002440</td>\n",
       "      <td>0.002064</td>\n",
       "      <td>0.001836</td>\n",
       "      <td>0.001591</td>\n",
       "      <td>0.001053</td>\n",
       "      <td>0.000658</td>\n",
       "      <td>0.000551</td>\n",
       "      <td>0.0</td>\n",
       "      <td>Bacillus_licheniformis</td>\n",
       "      <td>KUskv2(1)</td>\n",
       "    </tr>\n",
       "    <tr>\n",
       "      <th>1</th>\n",
       "      <td>0.0</td>\n",
       "      <td>0.004705</td>\n",
       "      <td>0.005630</td>\n",
       "      <td>0.006658</td>\n",
       "      <td>0.007763</td>\n",
       "      <td>0.007013</td>\n",
       "      <td>0.005352</td>\n",
       "      <td>0.005495</td>\n",
       "      <td>0.008364</td>\n",
       "      <td>0.010875</td>\n",
       "      <td>...</td>\n",
       "      <td>0.003029</td>\n",
       "      <td>0.002438</td>\n",
       "      <td>0.001868</td>\n",
       "      <td>0.001774</td>\n",
       "      <td>0.001079</td>\n",
       "      <td>0.000677</td>\n",
       "      <td>0.000545</td>\n",
       "      <td>0.0</td>\n",
       "      <td>Bacillus_licheniformis</td>\n",
       "      <td>KUskv2(1)</td>\n",
       "    </tr>\n",
       "    <tr>\n",
       "      <th>2</th>\n",
       "      <td>0.0</td>\n",
       "      <td>0.004297</td>\n",
       "      <td>0.005857</td>\n",
       "      <td>0.006299</td>\n",
       "      <td>0.005749</td>\n",
       "      <td>0.005669</td>\n",
       "      <td>0.006205</td>\n",
       "      <td>0.005808</td>\n",
       "      <td>0.007874</td>\n",
       "      <td>0.010852</td>\n",
       "      <td>...</td>\n",
       "      <td>0.000879</td>\n",
       "      <td>0.000885</td>\n",
       "      <td>0.000811</td>\n",
       "      <td>0.000625</td>\n",
       "      <td>0.000871</td>\n",
       "      <td>0.000786</td>\n",
       "      <td>0.000364</td>\n",
       "      <td>0.0</td>\n",
       "      <td>Bacillus_licheniformis</td>\n",
       "      <td>KUskv2(1)</td>\n",
       "    </tr>\n",
       "    <tr>\n",
       "      <th>3</th>\n",
       "      <td>0.0</td>\n",
       "      <td>0.008850</td>\n",
       "      <td>0.014245</td>\n",
       "      <td>0.018715</td>\n",
       "      <td>0.022316</td>\n",
       "      <td>0.027317</td>\n",
       "      <td>0.035863</td>\n",
       "      <td>0.039533</td>\n",
       "      <td>0.033606</td>\n",
       "      <td>0.027822</td>\n",
       "      <td>...</td>\n",
       "      <td>0.003156</td>\n",
       "      <td>0.002286</td>\n",
       "      <td>0.001744</td>\n",
       "      <td>0.001688</td>\n",
       "      <td>0.001384</td>\n",
       "      <td>0.000959</td>\n",
       "      <td>0.000605</td>\n",
       "      <td>0.0</td>\n",
       "      <td>Bacillus_licheniformis</td>\n",
       "      <td>KU16oc(1)2011</td>\n",
       "    </tr>\n",
       "    <tr>\n",
       "      <th>4</th>\n",
       "      <td>0.0</td>\n",
       "      <td>0.003600</td>\n",
       "      <td>0.010289</td>\n",
       "      <td>0.010546</td>\n",
       "      <td>0.010758</td>\n",
       "      <td>0.014952</td>\n",
       "      <td>0.012372</td>\n",
       "      <td>0.011998</td>\n",
       "      <td>0.013489</td>\n",
       "      <td>0.008498</td>\n",
       "      <td>...</td>\n",
       "      <td>0.001187</td>\n",
       "      <td>0.000998</td>\n",
       "      <td>0.000950</td>\n",
       "      <td>0.001003</td>\n",
       "      <td>0.000939</td>\n",
       "      <td>0.000655</td>\n",
       "      <td>0.000255</td>\n",
       "      <td>0.0</td>\n",
       "      <td>Bacillus_licheniformis</td>\n",
       "      <td>KU16oc(1)2011</td>\n",
       "    </tr>\n",
       "    <tr>\n",
       "      <th>...</th>\n",
       "      <td>...</td>\n",
       "      <td>...</td>\n",
       "      <td>...</td>\n",
       "      <td>...</td>\n",
       "      <td>...</td>\n",
       "      <td>...</td>\n",
       "      <td>...</td>\n",
       "      <td>...</td>\n",
       "      <td>...</td>\n",
       "      <td>...</td>\n",
       "      <td>...</td>\n",
       "      <td>...</td>\n",
       "      <td>...</td>\n",
       "      <td>...</td>\n",
       "      <td>...</td>\n",
       "      <td>...</td>\n",
       "      <td>...</td>\n",
       "      <td>...</td>\n",
       "      <td>...</td>\n",
       "      <td>...</td>\n",
       "      <td>...</td>\n",
       "    </tr>\n",
       "    <tr>\n",
       "      <th>144</th>\n",
       "      <td>0.0</td>\n",
       "      <td>0.002941</td>\n",
       "      <td>0.001378</td>\n",
       "      <td>0.003481</td>\n",
       "      <td>0.005927</td>\n",
       "      <td>0.006573</td>\n",
       "      <td>0.008819</td>\n",
       "      <td>0.009778</td>\n",
       "      <td>0.009787</td>\n",
       "      <td>0.010087</td>\n",
       "      <td>...</td>\n",
       "      <td>0.001064</td>\n",
       "      <td>0.001024</td>\n",
       "      <td>0.000923</td>\n",
       "      <td>0.000894</td>\n",
       "      <td>0.000749</td>\n",
       "      <td>0.000473</td>\n",
       "      <td>0.000252</td>\n",
       "      <td>0.0</td>\n",
       "      <td>Bacillus_atrophaeus</td>\n",
       "      <td>47(11)il</td>\n",
       "    </tr>\n",
       "    <tr>\n",
       "      <th>145</th>\n",
       "      <td>0.0</td>\n",
       "      <td>0.004210</td>\n",
       "      <td>0.006997</td>\n",
       "      <td>0.009099</td>\n",
       "      <td>0.007007</td>\n",
       "      <td>0.004293</td>\n",
       "      <td>0.003677</td>\n",
       "      <td>0.002448</td>\n",
       "      <td>0.002965</td>\n",
       "      <td>0.003225</td>\n",
       "      <td>...</td>\n",
       "      <td>0.001017</td>\n",
       "      <td>0.001101</td>\n",
       "      <td>0.000811</td>\n",
       "      <td>0.000429</td>\n",
       "      <td>0.000261</td>\n",
       "      <td>0.000131</td>\n",
       "      <td>0.000261</td>\n",
       "      <td>0.0</td>\n",
       "      <td>Bacillus_atrophaeus</td>\n",
       "      <td>47(8)il</td>\n",
       "    </tr>\n",
       "    <tr>\n",
       "      <th>146</th>\n",
       "      <td>0.0</td>\n",
       "      <td>0.030378</td>\n",
       "      <td>0.036577</td>\n",
       "      <td>0.031172</td>\n",
       "      <td>0.029491</td>\n",
       "      <td>0.023378</td>\n",
       "      <td>0.025313</td>\n",
       "      <td>0.024803</td>\n",
       "      <td>0.014782</td>\n",
       "      <td>0.009577</td>\n",
       "      <td>...</td>\n",
       "      <td>0.000300</td>\n",
       "      <td>0.000667</td>\n",
       "      <td>0.000930</td>\n",
       "      <td>0.001027</td>\n",
       "      <td>0.001127</td>\n",
       "      <td>0.000947</td>\n",
       "      <td>0.000256</td>\n",
       "      <td>0.0</td>\n",
       "      <td>Bacillus_atrophaeus</td>\n",
       "      <td>47(8)il</td>\n",
       "    </tr>\n",
       "    <tr>\n",
       "      <th>147</th>\n",
       "      <td>0.0</td>\n",
       "      <td>0.004619</td>\n",
       "      <td>0.004678</td>\n",
       "      <td>0.004688</td>\n",
       "      <td>0.004471</td>\n",
       "      <td>0.002587</td>\n",
       "      <td>0.002639</td>\n",
       "      <td>0.003947</td>\n",
       "      <td>0.006853</td>\n",
       "      <td>0.008931</td>\n",
       "      <td>...</td>\n",
       "      <td>0.001599</td>\n",
       "      <td>0.001406</td>\n",
       "      <td>0.000913</td>\n",
       "      <td>0.000516</td>\n",
       "      <td>0.000499</td>\n",
       "      <td>0.000422</td>\n",
       "      <td>0.000263</td>\n",
       "      <td>0.0</td>\n",
       "      <td>Bacillus_chungangenis</td>\n",
       "      <td>45(3)il</td>\n",
       "    </tr>\n",
       "    <tr>\n",
       "      <th>148</th>\n",
       "      <td>0.0</td>\n",
       "      <td>0.004206</td>\n",
       "      <td>0.006244</td>\n",
       "      <td>0.008653</td>\n",
       "      <td>0.009084</td>\n",
       "      <td>0.010248</td>\n",
       "      <td>0.008840</td>\n",
       "      <td>0.010060</td>\n",
       "      <td>0.009471</td>\n",
       "      <td>0.013752</td>\n",
       "      <td>...</td>\n",
       "      <td>0.001370</td>\n",
       "      <td>0.001503</td>\n",
       "      <td>0.001490</td>\n",
       "      <td>0.001193</td>\n",
       "      <td>0.000849</td>\n",
       "      <td>0.000692</td>\n",
       "      <td>0.000340</td>\n",
       "      <td>0.0</td>\n",
       "      <td>Bacillus_chungangenis</td>\n",
       "      <td>45(3)il</td>\n",
       "    </tr>\n",
       "  </tbody>\n",
       "</table>\n",
       "<p>149 rows × 12003 columns</p>\n",
       "</div>"
      ],
      "text/plain": [
       "     3000.0    3001.0    3002.0    3003.0    3004.0    3005.0    3006.0   \\\n",
       "0        0.0  0.006989  0.009474  0.011865  0.014919  0.013818  0.014891   \n",
       "1        0.0  0.004705  0.005630  0.006658  0.007763  0.007013  0.005352   \n",
       "2        0.0  0.004297  0.005857  0.006299  0.005749  0.005669  0.006205   \n",
       "3        0.0  0.008850  0.014245  0.018715  0.022316  0.027317  0.035863   \n",
       "4        0.0  0.003600  0.010289  0.010546  0.010758  0.014952  0.012372   \n",
       "..       ...       ...       ...       ...       ...       ...       ...   \n",
       "144      0.0  0.002941  0.001378  0.003481  0.005927  0.006573  0.008819   \n",
       "145      0.0  0.004210  0.006997  0.009099  0.007007  0.004293  0.003677   \n",
       "146      0.0  0.030378  0.036577  0.031172  0.029491  0.023378  0.025313   \n",
       "147      0.0  0.004619  0.004678  0.004688  0.004471  0.002587  0.002639   \n",
       "148      0.0  0.004206  0.006244  0.008653  0.009084  0.010248  0.008840   \n",
       "\n",
       "      3007.0    3008.0    3009.0   ...   14993.0   14994.0   14995.0  \\\n",
       "0    0.014112  0.011084  0.013803  ...  0.002440  0.002064  0.001836   \n",
       "1    0.005495  0.008364  0.010875  ...  0.003029  0.002438  0.001868   \n",
       "2    0.005808  0.007874  0.010852  ...  0.000879  0.000885  0.000811   \n",
       "3    0.039533  0.033606  0.027822  ...  0.003156  0.002286  0.001744   \n",
       "4    0.011998  0.013489  0.008498  ...  0.001187  0.000998  0.000950   \n",
       "..        ...       ...       ...  ...       ...       ...       ...   \n",
       "144  0.009778  0.009787  0.010087  ...  0.001064  0.001024  0.000923   \n",
       "145  0.002448  0.002965  0.003225  ...  0.001017  0.001101  0.000811   \n",
       "146  0.024803  0.014782  0.009577  ...  0.000300  0.000667  0.000930   \n",
       "147  0.003947  0.006853  0.008931  ...  0.001599  0.001406  0.000913   \n",
       "148  0.010060  0.009471  0.013752  ...  0.001370  0.001503  0.001490   \n",
       "\n",
       "      14996.0   14997.0   14998.0   14999.0  15000.0                 15001.0  \\\n",
       "0    0.001591  0.001053  0.000658  0.000551      0.0  Bacillus_licheniformis   \n",
       "1    0.001774  0.001079  0.000677  0.000545      0.0  Bacillus_licheniformis   \n",
       "2    0.000625  0.000871  0.000786  0.000364      0.0  Bacillus_licheniformis   \n",
       "3    0.001688  0.001384  0.000959  0.000605      0.0  Bacillus_licheniformis   \n",
       "4    0.001003  0.000939  0.000655  0.000255      0.0  Bacillus_licheniformis   \n",
       "..        ...       ...       ...       ...      ...                     ...   \n",
       "144  0.000894  0.000749  0.000473  0.000252      0.0     Bacillus_atrophaeus   \n",
       "145  0.000429  0.000261  0.000131  0.000261      0.0     Bacillus_atrophaeus   \n",
       "146  0.001027  0.001127  0.000947  0.000256      0.0     Bacillus_atrophaeus   \n",
       "147  0.000516  0.000499  0.000422  0.000263      0.0   Bacillus_chungangenis   \n",
       "148  0.001193  0.000849  0.000692  0.000340      0.0   Bacillus_chungangenis   \n",
       "\n",
       "           15002.0  \n",
       "0        KUskv2(1)  \n",
       "1        KUskv2(1)  \n",
       "2        KUskv2(1)  \n",
       "3    KU16oc(1)2011  \n",
       "4    KU16oc(1)2011  \n",
       "..             ...  \n",
       "144       47(11)il  \n",
       "145        47(8)il  \n",
       "146        47(8)il  \n",
       "147        45(3)il  \n",
       "148        45(3)il  \n",
       "\n",
       "[149 rows x 12003 columns]"
      ]
     },
     "execution_count": 49,
     "metadata": {},
     "output_type": "execute_result"
    }
   ],
   "source": [
    "t = pd.read_csv(\"MS_profiles/0a2c8dcb-9e19-47a4-9f35-0d7a5728eaa7\", sep=';', index_col=0, header=None)\n",
    "t = t.T\n",
    "t[15001.0] = 0\n",
    "\n",
    "# пустой словарь для удобного считывания \n",
    "MS_profiles=pd.DataFrame({k: pd.Series(dtype=float) for k in t.columns})\n",
    "\n",
    "#считываем каждый файл\n",
    "for i in profiles_ID.index:\n",
    "    s = pd.read_csv(\"MS_profiles/\"+profiles_ID.at[i, 0], sep=';', index_col=0, header=None)\n",
    "    s = s.T\n",
    "    s[15001.0] = profiles_ID.at[i, 1]\n",
    "    s[15002.0] = profiles_ID.at[i, 2]\n",
    "    MS_profiles = MS_profiles.append(s)\n",
    "\n",
    "#делаем красивые индексы\n",
    "MS_profiles.index = profiles_ID.index\n",
    "MS_profiles"
   ]
  },
  {
   "cell_type": "markdown",
   "metadata": {
    "heading_collapsed": true
   },
   "source": [
    "## inference noise"
   ]
  },
  {
   "cell_type": "code",
   "execution_count": 48,
   "metadata": {
    "hidden": true
   },
   "outputs": [
    {
     "data": {
      "application/vnd.jupyter.widget-view+json": {
       "model_id": "4156c4b9bf9f41d5b7c56c622f103938",
       "version_major": 2,
       "version_minor": 0
      },
      "text/plain": [
       "0it [00:00, ?it/s]"
      ]
     },
     "metadata": {},
     "output_type": "display_data"
    },
    {
     "data": {
      "text/html": [
       "<div>\n",
       "<style scoped>\n",
       "    .dataframe tbody tr th:only-of-type {\n",
       "        vertical-align: middle;\n",
       "    }\n",
       "\n",
       "    .dataframe tbody tr th {\n",
       "        vertical-align: top;\n",
       "    }\n",
       "\n",
       "    .dataframe thead th {\n",
       "        text-align: right;\n",
       "    }\n",
       "</style>\n",
       "<table border=\"1\" class=\"dataframe\">\n",
       "  <thead>\n",
       "    <tr style=\"text-align: right;\">\n",
       "      <th></th>\n",
       "      <th>3000.0</th>\n",
       "      <th>3001.0</th>\n",
       "      <th>3002.0</th>\n",
       "      <th>3003.0</th>\n",
       "      <th>3004.0</th>\n",
       "      <th>3005.0</th>\n",
       "      <th>3006.0</th>\n",
       "      <th>3007.0</th>\n",
       "      <th>3008.0</th>\n",
       "      <th>3009.0</th>\n",
       "      <th>...</th>\n",
       "      <th>14993.0</th>\n",
       "      <th>14994.0</th>\n",
       "      <th>14995.0</th>\n",
       "      <th>14996.0</th>\n",
       "      <th>14997.0</th>\n",
       "      <th>14998.0</th>\n",
       "      <th>14999.0</th>\n",
       "      <th>15000.0</th>\n",
       "      <th>15001.0</th>\n",
       "      <th>15002.0</th>\n",
       "    </tr>\n",
       "  </thead>\n",
       "  <tbody>\n",
       "    <tr>\n",
       "      <th>0</th>\n",
       "      <td>0.0</td>\n",
       "      <td>0.010112</td>\n",
       "      <td>0.006482</td>\n",
       "      <td>0.02378</td>\n",
       "      <td>0.011594</td>\n",
       "      <td>0.013668</td>\n",
       "      <td>0.013704</td>\n",
       "      <td>0.017883</td>\n",
       "      <td>0.013105</td>\n",
       "      <td>0.019593</td>\n",
       "      <td>...</td>\n",
       "      <td>0.000044</td>\n",
       "      <td>0.003013</td>\n",
       "      <td>0.00266</td>\n",
       "      <td>0.000975</td>\n",
       "      <td>0.000556</td>\n",
       "      <td>0.000581</td>\n",
       "      <td>0.000328</td>\n",
       "      <td>0.0</td>\n",
       "      <td>Bacillus_licheniformis</td>\n",
       "      <td>KUskv2(1)</td>\n",
       "    </tr>\n",
       "    <tr>\n",
       "      <th>1</th>\n",
       "      <td>0.0</td>\n",
       "      <td>0.006515</td>\n",
       "      <td>0.009293</td>\n",
       "      <td>0.002999</td>\n",
       "      <td>0.013527</td>\n",
       "      <td>0.013624</td>\n",
       "      <td>0.023253</td>\n",
       "      <td>0.012089</td>\n",
       "      <td>0.006556</td>\n",
       "      <td>0.009417</td>\n",
       "      <td>...</td>\n",
       "      <td>0.002432</td>\n",
       "      <td>0.001743</td>\n",
       "      <td>0.002165</td>\n",
       "      <td>0.001042</td>\n",
       "      <td>0.001183</td>\n",
       "      <td>0.00041</td>\n",
       "      <td>0.000819</td>\n",
       "      <td>0.0</td>\n",
       "      <td>Bacillus_licheniformis</td>\n",
       "      <td>KUskv2(1)</td>\n",
       "    </tr>\n",
       "    <tr>\n",
       "      <th>2</th>\n",
       "      <td>0.0</td>\n",
       "      <td>0.004622</td>\n",
       "      <td>0.016025</td>\n",
       "      <td>0.002983</td>\n",
       "      <td>0.01052</td>\n",
       "      <td>0.023773</td>\n",
       "      <td>0.019488</td>\n",
       "      <td>0.012423</td>\n",
       "      <td>0.008191</td>\n",
       "      <td>0.019482</td>\n",
       "      <td>...</td>\n",
       "      <td>0.002813</td>\n",
       "      <td>0.000193</td>\n",
       "      <td>0.001779</td>\n",
       "      <td>0.000491</td>\n",
       "      <td>0.001033</td>\n",
       "      <td>0.000441</td>\n",
       "      <td>0.000309</td>\n",
       "      <td>0.0</td>\n",
       "      <td>Bacillus_licheniformis</td>\n",
       "      <td>KUskv2(1)</td>\n",
       "    </tr>\n",
       "    <tr>\n",
       "      <th>3</th>\n",
       "      <td>0.0</td>\n",
       "      <td>0.009</td>\n",
       "      <td>0.011367</td>\n",
       "      <td>0.01851</td>\n",
       "      <td>0.00954</td>\n",
       "      <td>0.002899</td>\n",
       "      <td>0.024042</td>\n",
       "      <td>0.012511</td>\n",
       "      <td>0.007561</td>\n",
       "      <td>0.009193</td>\n",
       "      <td>...</td>\n",
       "      <td>0.002091</td>\n",
       "      <td>0.002595</td>\n",
       "      <td>0.002245</td>\n",
       "      <td>0.002415</td>\n",
       "      <td>0.001213</td>\n",
       "      <td>0.000806</td>\n",
       "      <td>0.000371</td>\n",
       "      <td>0.0</td>\n",
       "      <td>Bacillus_licheniformis</td>\n",
       "      <td>KUskv2(1)</td>\n",
       "    </tr>\n",
       "    <tr>\n",
       "      <th>4</th>\n",
       "      <td>0.0</td>\n",
       "      <td>0.002207</td>\n",
       "      <td>0.003515</td>\n",
       "      <td>0.015097</td>\n",
       "      <td>0.023135</td>\n",
       "      <td>0.016119</td>\n",
       "      <td>0.011026</td>\n",
       "      <td>0.013589</td>\n",
       "      <td>0.011273</td>\n",
       "      <td>0.014173</td>\n",
       "      <td>...</td>\n",
       "      <td>0.002872</td>\n",
       "      <td>0.002158</td>\n",
       "      <td>0.00157</td>\n",
       "      <td>0.00235</td>\n",
       "      <td>0.001285</td>\n",
       "      <td>0.000338</td>\n",
       "      <td>0.000306</td>\n",
       "      <td>0.0</td>\n",
       "      <td>Bacillus_licheniformis</td>\n",
       "      <td>KUskv2(1)</td>\n",
       "    </tr>\n",
       "    <tr>\n",
       "      <th>...</th>\n",
       "      <td>...</td>\n",
       "      <td>...</td>\n",
       "      <td>...</td>\n",
       "      <td>...</td>\n",
       "      <td>...</td>\n",
       "      <td>...</td>\n",
       "      <td>...</td>\n",
       "      <td>...</td>\n",
       "      <td>...</td>\n",
       "      <td>...</td>\n",
       "      <td>...</td>\n",
       "      <td>...</td>\n",
       "      <td>...</td>\n",
       "      <td>...</td>\n",
       "      <td>...</td>\n",
       "      <td>...</td>\n",
       "      <td>...</td>\n",
       "      <td>...</td>\n",
       "      <td>...</td>\n",
       "      <td>...</td>\n",
       "      <td>...</td>\n",
       "    </tr>\n",
       "    <tr>\n",
       "      <th>14795</th>\n",
       "      <td>0.0</td>\n",
       "      <td>0.005266</td>\n",
       "      <td>0.00555</td>\n",
       "      <td>0.004516</td>\n",
       "      <td>0.005489</td>\n",
       "      <td>0.003522</td>\n",
       "      <td>0.00282</td>\n",
       "      <td>0.006037</td>\n",
       "      <td>0.008168</td>\n",
       "      <td>0.011162</td>\n",
       "      <td>...</td>\n",
       "      <td>0.002284</td>\n",
       "      <td>0.002146</td>\n",
       "      <td>0.000883</td>\n",
       "      <td>0.000269</td>\n",
       "      <td>0.0007</td>\n",
       "      <td>0.000731</td>\n",
       "      <td>0.000314</td>\n",
       "      <td>0.0</td>\n",
       "      <td>Bacillus_chungangenis</td>\n",
       "      <td>45(3)il</td>\n",
       "    </tr>\n",
       "    <tr>\n",
       "      <th>14796</th>\n",
       "      <td>0.0</td>\n",
       "      <td>0.003744</td>\n",
       "      <td>0.002862</td>\n",
       "      <td>0.006515</td>\n",
       "      <td>0.004591</td>\n",
       "      <td>0.003352</td>\n",
       "      <td>0.003457</td>\n",
       "      <td>0.004795</td>\n",
       "      <td>0.008738</td>\n",
       "      <td>0.009882</td>\n",
       "      <td>...</td>\n",
       "      <td>0.001878</td>\n",
       "      <td>0.000516</td>\n",
       "      <td>0.00134</td>\n",
       "      <td>0.000435</td>\n",
       "      <td>0.000626</td>\n",
       "      <td>0.000034</td>\n",
       "      <td>0.000346</td>\n",
       "      <td>0.0</td>\n",
       "      <td>Bacillus_chungangenis</td>\n",
       "      <td>45(3)il</td>\n",
       "    </tr>\n",
       "    <tr>\n",
       "      <th>14797</th>\n",
       "      <td>0.0</td>\n",
       "      <td>0.003204</td>\n",
       "      <td>0.003925</td>\n",
       "      <td>0.005768</td>\n",
       "      <td>0.006137</td>\n",
       "      <td>0.002923</td>\n",
       "      <td>0.003974</td>\n",
       "      <td>0.005268</td>\n",
       "      <td>0.009453</td>\n",
       "      <td>0.007671</td>\n",
       "      <td>...</td>\n",
       "      <td>0.001452</td>\n",
       "      <td>0.002137</td>\n",
       "      <td>0.001298</td>\n",
       "      <td>0.000364</td>\n",
       "      <td>0.000447</td>\n",
       "      <td>0.00039</td>\n",
       "      <td>0.000357</td>\n",
       "      <td>0.0</td>\n",
       "      <td>Bacillus_chungangenis</td>\n",
       "      <td>45(3)il</td>\n",
       "    </tr>\n",
       "    <tr>\n",
       "      <th>14798</th>\n",
       "      <td>0.0</td>\n",
       "      <td>0.005385</td>\n",
       "      <td>0.004705</td>\n",
       "      <td>0.00272</td>\n",
       "      <td>0.002208</td>\n",
       "      <td>0.004488</td>\n",
       "      <td>0.003318</td>\n",
       "      <td>0.003293</td>\n",
       "      <td>0.008206</td>\n",
       "      <td>0.010912</td>\n",
       "      <td>...</td>\n",
       "      <td>0.001767</td>\n",
       "      <td>0.001714</td>\n",
       "      <td>0.001356</td>\n",
       "      <td>0.000625</td>\n",
       "      <td>0.000661</td>\n",
       "      <td>0.000239</td>\n",
       "      <td>0.000338</td>\n",
       "      <td>0.0</td>\n",
       "      <td>Bacillus_chungangenis</td>\n",
       "      <td>45(3)il</td>\n",
       "    </tr>\n",
       "    <tr>\n",
       "      <th>14799</th>\n",
       "      <td>0.0</td>\n",
       "      <td>0.004188</td>\n",
       "      <td>0.006058</td>\n",
       "      <td>0.005694</td>\n",
       "      <td>0.004713</td>\n",
       "      <td>0.003979</td>\n",
       "      <td>0.002296</td>\n",
       "      <td>0.00474</td>\n",
       "      <td>0.007192</td>\n",
       "      <td>0.005178</td>\n",
       "      <td>...</td>\n",
       "      <td>0.001855</td>\n",
       "      <td>0.002083</td>\n",
       "      <td>0.000656</td>\n",
       "      <td>0.000278</td>\n",
       "      <td>0.000482</td>\n",
       "      <td>0.000402</td>\n",
       "      <td>0.000226</td>\n",
       "      <td>0.0</td>\n",
       "      <td>Bacillus_chungangenis</td>\n",
       "      <td>45(3)il</td>\n",
       "    </tr>\n",
       "  </tbody>\n",
       "</table>\n",
       "<p>14800 rows × 12003 columns</p>\n",
       "</div>"
      ],
      "text/plain": [
       "      3000.0    3001.0    3002.0    3003.0    3004.0    3005.0    3006.0   \\\n",
       "0         0.0  0.010112  0.006482   0.02378  0.011594  0.013668  0.013704   \n",
       "1         0.0  0.006515  0.009293  0.002999  0.013527  0.013624  0.023253   \n",
       "2         0.0  0.004622  0.016025  0.002983   0.01052  0.023773  0.019488   \n",
       "3         0.0     0.009  0.011367   0.01851   0.00954  0.002899  0.024042   \n",
       "4         0.0  0.002207  0.003515  0.015097  0.023135  0.016119  0.011026   \n",
       "...       ...       ...       ...       ...       ...       ...       ...   \n",
       "14795     0.0  0.005266   0.00555  0.004516  0.005489  0.003522   0.00282   \n",
       "14796     0.0  0.003744  0.002862  0.006515  0.004591  0.003352  0.003457   \n",
       "14797     0.0  0.003204  0.003925  0.005768  0.006137  0.002923  0.003974   \n",
       "14798     0.0  0.005385  0.004705   0.00272  0.002208  0.004488  0.003318   \n",
       "14799     0.0  0.004188  0.006058  0.005694  0.004713  0.003979  0.002296   \n",
       "\n",
       "        3007.0    3008.0    3009.0   ...   14993.0   14994.0   14995.0  \\\n",
       "0      0.017883  0.013105  0.019593  ...  0.000044  0.003013   0.00266   \n",
       "1      0.012089  0.006556  0.009417  ...  0.002432  0.001743  0.002165   \n",
       "2      0.012423  0.008191  0.019482  ...  0.002813  0.000193  0.001779   \n",
       "3      0.012511  0.007561  0.009193  ...  0.002091  0.002595  0.002245   \n",
       "4      0.013589  0.011273  0.014173  ...  0.002872  0.002158   0.00157   \n",
       "...         ...       ...       ...  ...       ...       ...       ...   \n",
       "14795  0.006037  0.008168  0.011162  ...  0.002284  0.002146  0.000883   \n",
       "14796  0.004795  0.008738  0.009882  ...  0.001878  0.000516   0.00134   \n",
       "14797  0.005268  0.009453  0.007671  ...  0.001452  0.002137  0.001298   \n",
       "14798  0.003293  0.008206  0.010912  ...  0.001767  0.001714  0.001356   \n",
       "14799   0.00474  0.007192  0.005178  ...  0.001855  0.002083  0.000656   \n",
       "\n",
       "        14996.0   14997.0   14998.0   14999.0 15000.0                 15001.0  \\\n",
       "0      0.000975  0.000556  0.000581  0.000328     0.0  Bacillus_licheniformis   \n",
       "1      0.001042  0.001183   0.00041  0.000819     0.0  Bacillus_licheniformis   \n",
       "2      0.000491  0.001033  0.000441  0.000309     0.0  Bacillus_licheniformis   \n",
       "3      0.002415  0.001213  0.000806  0.000371     0.0  Bacillus_licheniformis   \n",
       "4       0.00235  0.001285  0.000338  0.000306     0.0  Bacillus_licheniformis   \n",
       "...         ...       ...       ...       ...     ...                     ...   \n",
       "14795  0.000269    0.0007  0.000731  0.000314     0.0   Bacillus_chungangenis   \n",
       "14796  0.000435  0.000626  0.000034  0.000346     0.0   Bacillus_chungangenis   \n",
       "14797  0.000364  0.000447   0.00039  0.000357     0.0   Bacillus_chungangenis   \n",
       "14798  0.000625  0.000661  0.000239  0.000338     0.0   Bacillus_chungangenis   \n",
       "14799  0.000278  0.000482  0.000402  0.000226     0.0   Bacillus_chungangenis   \n",
       "\n",
       "         15002.0  \n",
       "0      KUskv2(1)  \n",
       "1      KUskv2(1)  \n",
       "2      KUskv2(1)  \n",
       "3      KUskv2(1)  \n",
       "4      KUskv2(1)  \n",
       "...          ...  \n",
       "14795    45(3)il  \n",
       "14796    45(3)il  \n",
       "14797    45(3)il  \n",
       "14798    45(3)il  \n",
       "14799    45(3)il  \n",
       "\n",
       "[14800 rows x 12003 columns]"
      ]
     },
     "execution_count": 48,
     "metadata": {},
     "output_type": "execute_result"
    }
   ],
   "source": [
    "# indexes = np.array([i for i in range(10, 35, 5)])\n",
    "# indexes = np.hstack((indexes, np.array([i for i in range(40, 120, 20)])))\n",
    "# indexes = np.hstack((indexes, np.array([i for i in range(150, 350, 50)])))\n",
    "# for k in tqdm(indexes):\n",
    "k = 4\n",
    "noise_factor = k/10\n",
    "for n, i in tqdm (enumerate(pd.unique(MS_profiles[15002.0]))):\n",
    "    s = MS_profiles.loc[MS_profiles[15002.0] == i].copy()\n",
    "    s.index = {j for j in range (len(s.index))}#красивые индексы   \n",
    "    s = s.sample()\n",
    "    s = s.to_numpy()[0]\n",
    "    main = s.copy()\n",
    "    amount = 200\n",
    "    for m, j in enumerate(range(amount)):\n",
    "        s = main.copy()\n",
    "        tmp = s[:12001].astype(float)\n",
    "        tmp = tmp +\\\n",
    "        np.random.normal(loc=0.0, scale = noise_factor*tmp, size = \\\n",
    "        (len(MS_profiles.columns) - 2))#шумим\n",
    "        tmp = abs(tmp)\n",
    "        s[:12001] = tmp\n",
    "        np.place(s[:12001], s[:12001] > 1, 1)\n",
    "        if (m == 0)and(n == 0):\n",
    "            S = np.array([s])\n",
    "        else:    \n",
    "            S = np.append(S, np.array([s]), axis = 0)\n",
    "MS_profiles_inference = pd.DataFrame(S, columns = MS_profiles.columns)\n",
    "MS_profiles_inference.index = {i for i in range(len(MS_profiles_inference.index))}\n",
    "MS_profiles_inference.to_csv(r\"MS_profiles\\sets\\MS_profiles_sintes_norm_noise_\"+str(k)\\\n",
    "                             +\"%_big\", sep=';', header=True, index=True,)\n",
    "MS_profiles_inference"
   ]
  },
  {
   "cell_type": "code",
   "execution_count": 185,
   "metadata": {
    "hidden": true
   },
   "outputs": [
    {
     "data": {
      "text/plain": [
       "(222, 24006)"
      ]
     },
     "execution_count": 185,
     "metadata": {},
     "output_type": "execute_result"
    }
   ],
   "source": [
    "MS_profiles_inference.shape"
   ]
  },
  {
   "cell_type": "code",
   "execution_count": 95,
   "metadata": {
    "hidden": true
   },
   "outputs": [],
   "source": [
    "MS_profiles_inference.to_csv(r\"MS_profiles\\MS_profiles_sintes_norm_noise_100%_inference_2\", sep=';', header=True, index=True,)"
   ]
  },
  {
   "cell_type": "markdown",
   "metadata": {
    "heading_collapsed": true
   },
   "source": [
    "## norm noise n%"
   ]
  },
  {
   "cell_type": "code",
   "execution_count": 7,
   "metadata": {
    "hidden": true
   },
   "outputs": [
    {
     "data": {
      "application/vnd.jupyter.widget-view+json": {
       "model_id": "a7a48b724f15466f9c7bff86055e607d",
       "version_major": 2,
       "version_minor": 0
      },
      "text/plain": [
       "  0%|          | 0/6 [00:00<?, ?it/s]"
      ]
     },
     "metadata": {},
     "output_type": "display_data"
    },
    {
     "data": {
      "application/vnd.jupyter.widget-view+json": {
       "model_id": "44f19cce2cfb43f39a3a907fba6d5f70",
       "version_major": 2,
       "version_minor": 0
      },
      "text/plain": [
       "0it [00:00, ?it/s]"
      ]
     },
     "metadata": {},
     "output_type": "display_data"
    },
    {
     "name": "stderr",
     "output_type": "stream",
     "text": [
      "Exception ignored in: <function tqdm.__del__ at 0x000001E117E0B160>\n",
      "Traceback (most recent call last):\n",
      "  File \"C:\\Users\\mishs\\anaconda3\\lib\\site-packages\\tqdm\\std.py\", line 1162, in __del__\n",
      "    self.close()\n",
      "KeyboardInterrupt: \n"
     ]
    },
    {
     "ename": "KeyboardInterrupt",
     "evalue": "",
     "output_type": "error",
     "traceback": [
      "\u001b[1;31m---------------------------------------------------------------------------\u001b[0m",
      "\u001b[1;31mKeyboardInterrupt\u001b[0m                         Traceback (most recent call last)",
      "Input \u001b[1;32mIn [7]\u001b[0m, in \u001b[0;36m<cell line: 4>\u001b[1;34m()\u001b[0m\n\u001b[0;32m     12\u001b[0m s \u001b[38;5;241m=\u001b[39m MS_profiles\u001b[38;5;241m.\u001b[39mloc[i]\u001b[38;5;241m.\u001b[39mto_numpy()\n\u001b[0;32m     13\u001b[0m tmp \u001b[38;5;241m=\u001b[39m s[:\u001b[38;5;241m12001\u001b[39m]\u001b[38;5;241m.\u001b[39mastype(\u001b[38;5;28mfloat\u001b[39m)\n\u001b[0;32m     14\u001b[0m tmp \u001b[38;5;241m=\u001b[39m tmp \u001b[38;5;241m+\u001b[39m\\\n\u001b[1;32m---> 15\u001b[0m \u001b[43mnp\u001b[49m\u001b[38;5;241;43m.\u001b[39;49m\u001b[43mrandom\u001b[49m\u001b[38;5;241;43m.\u001b[39;49m\u001b[43mnormal\u001b[49m\u001b[43m(\u001b[49m\u001b[43mloc\u001b[49m\u001b[38;5;241;43m=\u001b[39;49m\u001b[38;5;241;43m0.0\u001b[39;49m\u001b[43m,\u001b[49m\u001b[43m \u001b[49m\u001b[43mscale\u001b[49m\u001b[43m \u001b[49m\u001b[38;5;241;43m=\u001b[39;49m\u001b[43m \u001b[49m\u001b[43mnoise_factor\u001b[49m\u001b[38;5;241;43m*\u001b[39;49m\u001b[43mtmp\u001b[49m\u001b[43m,\u001b[49m\u001b[43m \u001b[49m\u001b[43msize\u001b[49m\u001b[43m \u001b[49m\u001b[38;5;241;43m=\u001b[39;49m\u001b[43m \u001b[49m\u001b[43m\\\u001b[49m\n\u001b[0;32m     16\u001b[0m \u001b[43m\u001b[49m\u001b[43m(\u001b[49m\u001b[38;5;28;43mlen\u001b[39;49m\u001b[43m(\u001b[49m\u001b[43mMS_profiles\u001b[49m\u001b[38;5;241;43m.\u001b[39;49m\u001b[43mcolumns\u001b[49m\u001b[43m)\u001b[49m\u001b[43m \u001b[49m\u001b[38;5;241;43m-\u001b[39;49m\u001b[43m \u001b[49m\u001b[38;5;241;43m2\u001b[39;49m\u001b[43m)\u001b[49m\u001b[43m)\u001b[49m\u001b[38;5;66;03m#шумим\u001b[39;00m\n\u001b[0;32m     17\u001b[0m tmp \u001b[38;5;241m=\u001b[39m \u001b[38;5;28mabs\u001b[39m(tmp)\n\u001b[0;32m     18\u001b[0m s[:\u001b[38;5;241m12001\u001b[39m] \u001b[38;5;241m=\u001b[39m tmp\n",
      "File \u001b[1;32mmtrand.pyx:1507\u001b[0m, in \u001b[0;36mnumpy.random.mtrand.RandomState.normal\u001b[1;34m()\u001b[0m\n",
      "File \u001b[1;32m_common.pyx:562\u001b[0m, in \u001b[0;36mnumpy.random._common.cont\u001b[1;34m()\u001b[0m\n",
      "File \u001b[1;32m_common.pyx:467\u001b[0m, in \u001b[0;36mnumpy.random._common.cont_broadcast_2\u001b[1;34m()\u001b[0m\n",
      "File \u001b[1;32m_common.pyx:349\u001b[0m, in \u001b[0;36mnumpy.random._common.check_array_constraint\u001b[1;34m()\u001b[0m\n",
      "File \u001b[1;32m<__array_function__ internals>:5\u001b[0m, in \u001b[0;36many\u001b[1;34m(*args, **kwargs)\u001b[0m\n",
      "File \u001b[1;32m~\\anaconda3\\lib\\site-packages\\numpy\\core\\fromnumeric.py:2358\u001b[0m, in \u001b[0;36many\u001b[1;34m(a, axis, out, keepdims, where)\u001b[0m\n\u001b[0;32m   2268\u001b[0m \u001b[38;5;129m@array_function_dispatch\u001b[39m(_any_dispatcher)\n\u001b[0;32m   2269\u001b[0m \u001b[38;5;28;01mdef\u001b[39;00m \u001b[38;5;21many\u001b[39m(a, axis\u001b[38;5;241m=\u001b[39m\u001b[38;5;28;01mNone\u001b[39;00m, out\u001b[38;5;241m=\u001b[39m\u001b[38;5;28;01mNone\u001b[39;00m, keepdims\u001b[38;5;241m=\u001b[39mnp\u001b[38;5;241m.\u001b[39m_NoValue, \u001b[38;5;241m*\u001b[39m, where\u001b[38;5;241m=\u001b[39mnp\u001b[38;5;241m.\u001b[39m_NoValue):\n\u001b[0;32m   2270\u001b[0m     \u001b[38;5;124;03m\"\"\"\u001b[39;00m\n\u001b[0;32m   2271\u001b[0m \u001b[38;5;124;03m    Test whether any array element along a given axis evaluates to True.\u001b[39;00m\n\u001b[0;32m   2272\u001b[0m \n\u001b[1;32m   (...)\u001b[0m\n\u001b[0;32m   2356\u001b[0m \n\u001b[0;32m   2357\u001b[0m \u001b[38;5;124;03m    \"\"\"\u001b[39;00m\n\u001b[1;32m-> 2358\u001b[0m     \u001b[38;5;28;01mreturn\u001b[39;00m \u001b[43m_wrapreduction\u001b[49m\u001b[43m(\u001b[49m\u001b[43ma\u001b[49m\u001b[43m,\u001b[49m\u001b[43m \u001b[49m\u001b[43mnp\u001b[49m\u001b[38;5;241;43m.\u001b[39;49m\u001b[43mlogical_or\u001b[49m\u001b[43m,\u001b[49m\u001b[43m \u001b[49m\u001b[38;5;124;43m'\u001b[39;49m\u001b[38;5;124;43many\u001b[39;49m\u001b[38;5;124;43m'\u001b[39;49m\u001b[43m,\u001b[49m\u001b[43m \u001b[49m\u001b[43maxis\u001b[49m\u001b[43m,\u001b[49m\u001b[43m \u001b[49m\u001b[38;5;28;43;01mNone\u001b[39;49;00m\u001b[43m,\u001b[49m\u001b[43m \u001b[49m\u001b[43mout\u001b[49m\u001b[43m,\u001b[49m\n\u001b[0;32m   2359\u001b[0m \u001b[43m                          \u001b[49m\u001b[43mkeepdims\u001b[49m\u001b[38;5;241;43m=\u001b[39;49m\u001b[43mkeepdims\u001b[49m\u001b[43m,\u001b[49m\u001b[43m \u001b[49m\u001b[43mwhere\u001b[49m\u001b[38;5;241;43m=\u001b[39;49m\u001b[43mwhere\u001b[49m\u001b[43m)\u001b[49m\n",
      "File \u001b[1;32m~\\anaconda3\\lib\\site-packages\\numpy\\core\\fromnumeric.py:86\u001b[0m, in \u001b[0;36m_wrapreduction\u001b[1;34m(obj, ufunc, method, axis, dtype, out, **kwargs)\u001b[0m\n\u001b[0;32m     83\u001b[0m         \u001b[38;5;28;01melse\u001b[39;00m:\n\u001b[0;32m     84\u001b[0m             \u001b[38;5;28;01mreturn\u001b[39;00m reduction(axis\u001b[38;5;241m=\u001b[39maxis, out\u001b[38;5;241m=\u001b[39mout, \u001b[38;5;241m*\u001b[39m\u001b[38;5;241m*\u001b[39mpasskwargs)\n\u001b[1;32m---> 86\u001b[0m \u001b[38;5;28;01mreturn\u001b[39;00m ufunc\u001b[38;5;241m.\u001b[39mreduce(obj, axis, dtype, out, \u001b[38;5;241m*\u001b[39m\u001b[38;5;241m*\u001b[39mpasskwargs)\n",
      "\u001b[1;31mKeyboardInterrupt\u001b[0m: "
     ]
    }
   ],
   "source": [
    "indexes = np.array([i for i in range(10, 35, 5)])\n",
    "indexes = np.hstack((indexes, np.array([40])))\n",
    "#indexes = np.hstack((indexes, np.array([i for i in range(150, 350, 50)])))\n",
    "for k in tqdm(indexes):\n",
    "    noise_factor = k/10\n",
    "    for k, i in tqdm(enumerate(MS_profiles.index)):\n",
    "        if k == 0:        \n",
    "            S = np.array([MS_profiles.loc[0].to_numpy()])\n",
    "        else:\n",
    "            S = np.append(S, np.array([MS_profiles.loc[i].to_numpy()]), axis = 0)\n",
    "        for j in range (200):\n",
    "            s = MS_profiles.loc[i].to_numpy()\n",
    "            tmp = s[:12001].astype(float)\n",
    "            tmp = tmp +\\\n",
    "            np.random.normal(loc=0.0, scale = noise_factor*tmp, size = \\\n",
    "            (len(MS_profiles.columns) - 2))#шумим\n",
    "            tmp = abs(tmp)\n",
    "            s[:12001] = tmp\n",
    "            np.place(s[:12001], s[:12001] > 1, 1) \n",
    "            S = np.append(S, np.array([s]), axis = 0)\n",
    "    print(S.shape)\n",
    "    MS_profiles_sintes = pd.DataFrame(S, columns = MS_profiles.columns)\n",
    "    MS_profiles_sintes.index = {i for i in range(len(MS_profiles_sintes.index))}\n",
    "    MS_profiles_sintes.to_csv(r\"MS_profiles\\sets\\MS_profiles_sintes_norm_noise_\"+str(k)\\\n",
    "                             +\"%_big\", sep=';', header=True, index=True,)"
   ]
  },
  {
   "cell_type": "code",
   "execution_count": 97,
   "metadata": {
    "hidden": true
   },
   "outputs": [],
   "source": [
    "MS_profiles_sintes.index = {i for i in range (len(MS_profiles_sintes.index))}#красивые индексы\n",
    "MS_profiles_sintes.to_csv(r\"MS_profiles\\sets\\MS_profiles_sintes_norm_noise_100%_2\", sep=';', header=True, index=True,)"
   ]
  },
  {
   "cell_type": "markdown",
   "metadata": {
    "heading_collapsed": true
   },
   "source": [
    "# Bootstrap"
   ]
  },
  {
   "cell_type": "code",
   "execution_count": 69,
   "metadata": {
    "hidden": true,
    "scrolled": true
   },
   "outputs": [
    {
     "data": {
      "application/vnd.jupyter.widget-view+json": {
       "model_id": "f8baeb71ba1f4f8fb428c0b95e28db9a",
       "version_major": 2,
       "version_minor": 0
      },
      "text/plain": [
       "  0%|          | 0/1000 [00:00<?, ?it/s]"
      ]
     },
     "metadata": {},
     "output_type": "display_data"
    }
   ],
   "source": [
    "accuracies_ID = np.zeros((1000))\n",
    "accuracies_group = np.zeros((1000))\n",
    "for i in tqdm(range(1000)):\n",
    "    train_value, test_value = train_test_split(embaddings, train_size=0.7,\\\n",
    "                                                                       shuffle=True)\n",
    "    train_group = []\n",
    "    train_ID = []\n",
    "    train_profiles  = np.zeros((len(train_value), 50))\n",
    "    for j in range(len(train_value)):\n",
    "        train_profiles[j] = train_value[j]['profile']\n",
    "        train_group.append(train_value[j]['group'])\n",
    "        train_ID.append(train_value[j]['ID'])\n",
    "        \n",
    "    test_group = []\n",
    "    test_ID = []\n",
    "    test_profiles  = np.zeros((len(test_value), 50))\n",
    "    for j in range(len(test_value)):\n",
    "        test_profiles[j] = test_value[j]['profile']\n",
    "        test_group.append(test_value[j]['group'])\n",
    "        test_ID.append(test_value[j]['ID'])\n",
    "    \n",
    "    \n",
    "    classifier_group = RandomForestClassifier()\n",
    "    classifier_ID = RandomForestClassifier()\n",
    "    classifier_group.fit(train_profiles, train_group)\n",
    "    classifier_ID.fit(train_profiles, train_ID)\n",
    "    pred_ID = classifier_ID.predict(test_profiles)\n",
    "    pred_group = classifier_group.predict(test_profiles)\n",
    "    accuracies_ID[i] = accuracy_score(test_ID, pred_ID)\n",
    "    accuracies_group[i] = accuracy_score(test_group, pred_group)"
   ]
  },
  {
   "cell_type": "code",
   "execution_count": 73,
   "metadata": {
    "hidden": true
   },
   "outputs": [],
   "source": [
    "accuracies_ID = pd.Series(accuracies_ID)\n",
    "accuracies_group = pd.Series(accuracies_group)"
   ]
  },
  {
   "cell_type": "code",
   "execution_count": 75,
   "metadata": {
    "hidden": true
   },
   "outputs": [],
   "source": [
    "accuracies_ID = pd.read_csv(r\"MS_profiles\\bootstrap_ID\", sep=';', index_col=0, header=0)\n",
    "accuracies_group = pd.read_csv(r\"MS_profiles\\bootstrap_group\", sep=';', index_col=0, header=0)"
   ]
  },
  {
   "cell_type": "code",
   "execution_count": 77,
   "metadata": {
    "hidden": true
   },
   "outputs": [
    {
     "data": {
      "application/vnd.plotly.v1+json": {
       "config": {
        "plotlyServerURL": "https://plot.ly"
       },
       "data": [
        {
         "alignmentgroup": "True",
         "bingroup": "x",
         "hovertemplate": "variable=0<br>accuracy=%{x}<br>count=%{y}<extra></extra>",
         "legendgroup": "0",
         "marker": {
          "color": "#636efa",
          "pattern": {
           "shape": ""
          }
         },
         "name": "0",
         "offsetgroup": "0",
         "orientation": "v",
         "showlegend": true,
         "type": "histogram",
         "x": [
          0.9413870246085012,
          0.9393736017897092,
          0.938255033557047,
          0.9380313199105146,
          0.9351230425055927,
          0.9402684563758388,
          0.9344519015659956,
          0.9357941834451902,
          0.9373601789709172,
          0.9357941834451902,
          0.9315436241610738,
          0.930648769574944,
          0.9324384787472036,
          0.9360178970917226,
          0.9333333333333332,
          0.9384787472035794,
          0.9436241610738256,
          0.9340044742729308,
          0.9344519015659956,
          0.9375838926174496,
          0.9422818791946308,
          0.9348993288590604,
          0.934675615212528,
          0.9319910514541389,
          0.9373601789709172,
          0.9353467561521251,
          0.9445190156599552,
          0.9389261744966444,
          0.943847874720358,
          0.938255033557047,
          0.9369127516778524,
          0.9357941834451902,
          0.9315436241610738,
          0.9393736017897092,
          0.938702460850112,
          0.9407158836689038,
          0.9337807606263984,
          0.9355704697986578,
          0.9413870246085012,
          0.9364653243847876,
          0.9375838926174496,
          0.9340044742729308,
          0.9389261744966444,
          0.9362416107382552,
          0.9328859060402684,
          0.9442953020134228,
          0.9322147651006712,
          0.9328859060402684,
          0.9277404921700224,
          0.9362416107382552,
          0.9395973154362416,
          0.9357941834451902,
          0.9389261744966444,
          0.937807606263982,
          0.9333333333333332,
          0.93668903803132,
          0.9340044742729308,
          0.9331096196868008,
          0.932662192393736,
          0.9340044742729308,
          0.9333333333333332,
          0.9324384787472036,
          0.939821029082774,
          0.9371364653243848,
          0.932662192393736,
          0.9348993288590604,
          0.9413870246085012,
          0.9357941834451902,
          0.9348993288590604,
          0.9402684563758388,
          0.9257270693512304,
          0.9360178970917226,
          0.9407158836689038,
          0.9324384787472036,
          0.939821029082774,
          0.9384787472035794,
          0.93668903803132,
          0.941834451901566,
          0.9413870246085012,
          0.9304250559284116,
          0.9364653243847876,
          0.9310961968680088,
          0.9364653243847876,
          0.93668903803132,
          0.9373601789709172,
          0.943847874720358,
          0.934228187919463,
          0.941834451901566,
          0.9355704697986578,
          0.9393736017897092,
          0.934228187919463,
          0.934228187919463,
          0.93668903803132,
          0.930648769574944,
          0.9355704697986578,
          0.9344519015659956,
          0.9348993288590604,
          0.9404921700223714,
          0.9360178970917226,
          0.9373601789709172,
          0.9357941834451902,
          0.9328859060402684,
          0.9360178970917226,
          0.9384787472035794,
          0.9335570469798656,
          0.9371364653243848,
          0.9337807606263984,
          0.9380313199105146,
          0.937807606263982,
          0.9317673378076062,
          0.9393736017897092,
          0.9371364653243848,
          0.9353467561521251,
          0.9369127516778524,
          0.9353467561521251,
          0.9322147651006712,
          0.9355704697986578,
          0.9369127516778524,
          0.9371364653243848,
          0.9344519015659956,
          0.934228187919463,
          0.9360178970917226,
          0.9369127516778524,
          0.9308724832214764,
          0.934228187919463,
          0.9337807606263984,
          0.9402684563758388,
          0.9360178970917226,
          0.9337807606263984,
          0.9400447427293064,
          0.9340044742729308,
          0.9369127516778524,
          0.9360178970917226,
          0.938702460850112,
          0.9416107382550336,
          0.9335570469798656,
          0.9393736017897092,
          0.9427293064876956,
          0.9391498881431768,
          0.9384787472035794,
          0.9351230425055927,
          0.9416107382550336,
          0.937807606263982,
          0.9333333333333332,
          0.939821029082774,
          0.9333333333333332,
          0.941834451901566,
          0.9407158836689038,
          0.9333333333333332,
          0.9409395973154362,
          0.9319910514541389,
          0.9308724832214764,
          0.9431767337807606,
          0.934675615212528,
          0.9319910514541389,
          0.9373601789709172,
          0.9353467561521251,
          0.9304250559284116,
          0.9407158836689038,
          0.9400447427293064,
          0.9348993288590604,
          0.9422818791946308,
          0.928635346756152,
          0.9364653243847876,
          0.9369127516778524,
          0.929082774049217,
          0.9337807606263984,
          0.9322147651006712,
          0.9340044742729308,
          0.9393736017897092,
          0.9335570469798656,
          0.9409395973154362,
          0.9364653243847876,
          0.938702460850112,
          0.938255033557047,
          0.9319910514541389,
          0.9402684563758388,
          0.9420581655480984,
          0.9353467561521251,
          0.9355704697986578,
          0.9371364653243848,
          0.9355704697986578,
          0.932662192393736,
          0.937807606263982,
          0.9389261744966444,
          0.9380313199105146,
          0.9436241610738256,
          0.9400447427293064,
          0.9317673378076062,
          0.9340044742729308,
          0.9380313199105146,
          0.9353467561521251,
          0.9313199105145414,
          0.939821029082774,
          0.9409395973154362,
          0.9315436241610738,
          0.930648769574944,
          0.9351230425055927,
          0.9404921700223714,
          0.9404921700223714,
          0.934675615212528,
          0.9304250559284116,
          0.9348993288590604,
          0.938255033557047,
          0.93668903803132,
          0.9413870246085012,
          0.9380313199105146,
          0.9416107382550336,
          0.9380313199105146,
          0.9331096196868008,
          0.9364653243847876,
          0.9395973154362416,
          0.934228187919463,
          0.9348993288590604,
          0.9393736017897092,
          0.9369127516778524,
          0.9400447427293064,
          0.9351230425055927,
          0.9351230425055927,
          0.9313199105145414,
          0.9297539149888144,
          0.9357941834451902,
          0.9369127516778524,
          0.9351230425055927,
          0.934675615212528,
          0.932662192393736,
          0.93668903803132,
          0.9375838926174496,
          0.938255033557047,
          0.9357941834451902,
          0.9391498881431768,
          0.9389261744966444,
          0.9353467561521251,
          0.9402684563758388,
          0.9400447427293064,
          0.9395973154362416,
          0.943847874720358,
          0.9393736017897092,
          0.9351230425055927,
          0.9391498881431768,
          0.9308724832214764,
          0.937807606263982,
          0.934228187919463,
          0.9315436241610738,
          0.939821029082774,
          0.9324384787472036,
          0.9389261744966444,
          0.9355704697986578,
          0.9371364653243848,
          0.9375838926174496,
          0.9391498881431768,
          0.9395973154362416,
          0.9353467561521251,
          0.9393736017897092,
          0.9360178970917226,
          0.9340044742729308,
          0.932662192393736,
          0.934675615212528,
          0.937807606263982,
          0.9333333333333332,
          0.9375838926174496,
          0.9357941834451902,
          0.9400447427293064,
          0.937807606263982,
          0.9369127516778524,
          0.9375838926174496,
          0.9369127516778524,
          0.939821029082774,
          0.9324384787472036,
          0.937807606263982,
          0.938702460850112,
          0.937807606263982,
          0.9384787472035794,
          0.938255033557047,
          0.9371364653243848,
          0.9393736017897092,
          0.934675615212528,
          0.9360178970917226,
          0.9328859060402684,
          0.932662192393736,
          0.9375838926174496,
          0.9375838926174496,
          0.9391498881431768,
          0.9402684563758388,
          0.9384787472035794,
          0.9348993288590604,
          0.9391498881431768,
          0.9355704697986578,
          0.9436241610738256,
          0.9373601789709172,
          0.9299776286353468,
          0.9322147651006712,
          0.9395973154362416,
          0.9393736017897092,
          0.9440715883668904,
          0.9375838926174496,
          0.9360178970917226,
          0.9348993288590604,
          0.9420581655480984,
          0.934228187919463,
          0.937807606263982,
          0.9404921700223714,
          0.9315436241610738,
          0.9351230425055927,
          0.9331096196868008,
          0.9362416107382552,
          0.934675615212528,
          0.9348993288590604,
          0.9391498881431768,
          0.934675615212528,
          0.9369127516778524,
          0.9324384787472036,
          0.934675615212528,
          0.9395973154362416,
          0.9313199105145414,
          0.938702460850112,
          0.9393736017897092,
          0.9395973154362416,
          0.9371364653243848,
          0.9324384787472036,
          0.938702460850112,
          0.9384787472035794,
          0.9369127516778524,
          0.9322147651006712,
          0.9413870246085012,
          0.9348993288590604,
          0.9353467561521251,
          0.9353467561521251,
          0.934675615212528,
          0.9395973154362416,
          0.937807606263982,
          0.9369127516778524,
          0.9427293064876956,
          0.9353467561521251,
          0.9402684563758388,
          0.938255033557047,
          0.9373601789709172,
          0.9310961968680088,
          0.9404921700223714,
          0.9373601789709172,
          0.9375838926174496,
          0.9362416107382552,
          0.9369127516778524,
          0.9380313199105146,
          0.9344519015659956,
          0.9411633109619688,
          0.93668903803132,
          0.938255033557047,
          0.9373601789709172,
          0.9362416107382552,
          0.9324384787472036,
          0.9369127516778524,
          0.9427293064876956,
          0.934675615212528,
          0.9416107382550336,
          0.9348993288590604,
          0.9416107382550336,
          0.9371364653243848,
          0.939821029082774,
          0.9373601789709172,
          0.9324384787472036,
          0.9324384787472036,
          0.9402684563758388,
          0.9411633109619688,
          0.9344519015659956,
          0.9384787472035794,
          0.941834451901566,
          0.9333333333333332,
          0.9324384787472036,
          0.9393736017897092,
          0.941834451901566,
          0.9373601789709172,
          0.934675615212528,
          0.9400447427293064,
          0.9328859060402684,
          0.9353467561521251,
          0.9344519015659956,
          0.9369127516778524,
          0.93668903803132,
          0.9425055928411632,
          0.9308724832214764,
          0.94496644295302,
          0.9357941834451902,
          0.9425055928411632,
          0.9371364653243848,
          0.93668903803132,
          0.9371364653243848,
          0.9333333333333332,
          0.9371364653243848,
          0.9351230425055927,
          0.9447427293064876,
          0.938255033557047,
          0.9364653243847876,
          0.9335570469798656,
          0.9328859060402684,
          0.9322147651006712,
          0.9328859060402684,
          0.9353467561521251,
          0.93668903803132,
          0.9348993288590604,
          0.937807606263982,
          0.9402684563758388,
          0.934675615212528,
          0.9362416107382552,
          0.9322147651006712,
          0.934675615212528,
          0.9360178970917226,
          0.9360178970917226,
          0.9319910514541389,
          0.9351230425055927,
          0.9344519015659956,
          0.93668903803132,
          0.9351230425055927,
          0.9337807606263984,
          0.9357941834451902,
          0.9389261744966444,
          0.9357941834451902,
          0.9364653243847876,
          0.9353467561521251,
          0.9384787472035794,
          0.9351230425055927,
          0.93668903803132,
          0.938255033557047,
          0.9375838926174496,
          0.9360178970917226,
          0.9380313199105146,
          0.928635346756152,
          0.9335570469798656,
          0.9353467561521251,
          0.9371364653243848,
          0.9369127516778524,
          0.9360178970917226,
          0.9340044742729308,
          0.929082774049217,
          0.9380313199105146,
          0.9324384787472036,
          0.932662192393736,
          0.934228187919463,
          0.937807606263982,
          0.9362416107382552,
          0.9357941834451902,
          0.9413870246085012,
          0.939821029082774,
          0.938255033557047,
          0.9416107382550336,
          0.9351230425055927,
          0.9279642058165548,
          0.9364653243847876,
          0.9277404921700224,
          0.9375838926174496,
          0.9328859060402684,
          0.938702460850112,
          0.939821029082774,
          0.9297539149888144,
          0.9351230425055927,
          0.9319910514541389,
          0.9331096196868008,
          0.9322147651006712,
          0.9351230425055927,
          0.9353467561521251,
          0.9288590604026844,
          0.9369127516778524,
          0.9373601789709172,
          0.9308724832214764,
          0.9362416107382552,
          0.9333333333333332,
          0.9413870246085012,
          0.9373601789709172,
          0.9357941834451902,
          0.934228187919463,
          0.9384787472035794,
          0.9353467561521251,
          0.9384787472035794,
          0.9333333333333332,
          0.9416107382550336,
          0.932662192393736,
          0.9335570469798656,
          0.929082774049217,
          0.9362416107382552,
          0.938702460850112,
          0.9369127516778524,
          0.9402684563758388,
          0.9436241610738256,
          0.934228187919463,
          0.928635346756152,
          0.9391498881431768,
          0.9355704697986578,
          0.9380313199105146,
          0.9364653243847876,
          0.9322147651006712,
          0.9308724832214764,
          0.9364653243847876,
          0.939821029082774,
          0.9333333333333332,
          0.9380313199105146,
          0.9357941834451902,
          0.9340044742729308,
          0.938702460850112,
          0.934228187919463,
          0.9360178970917226,
          0.9420581655480984,
          0.9364653243847876,
          0.9335570469798656,
          0.93668903803132,
          0.9362416107382552,
          0.9389261744966444,
          0.9337807606263984,
          0.934228187919463,
          0.9357941834451902,
          0.9373601789709172,
          0.9360178970917226,
          0.9389261744966444,
          0.9375838926174496,
          0.9319910514541389,
          0.93668903803132,
          0.9360178970917226,
          0.9413870246085012,
          0.9302013422818792,
          0.9315436241610738,
          0.9427293064876956,
          0.93668903803132,
          0.9355704697986578,
          0.9369127516778524,
          0.938255033557047,
          0.938255033557047,
          0.9344519015659956,
          0.9420581655480984,
          0.9299776286353468,
          0.9324384787472036,
          0.9411633109619688,
          0.9308724832214764,
          0.9344519015659956,
          0.93668903803132,
          0.9364653243847876,
          0.9369127516778524,
          0.9384787472035794,
          0.9364653243847876,
          0.9389261744966444,
          0.9442953020134228,
          0.9362416107382552,
          0.9351230425055927,
          0.938255033557047,
          0.9384787472035794,
          0.9362416107382552,
          0.943847874720358,
          0.9344519015659956,
          0.9360178970917226,
          0.9375838926174496,
          0.9391498881431768,
          0.9333333333333332,
          0.9322147651006712,
          0.9400447427293064,
          0.941834451901566,
          0.9328859060402684,
          0.9384787472035794,
          0.9431767337807606,
          0.9304250559284116,
          0.9413870246085012,
          0.9400447427293064,
          0.930648769574944,
          0.9407158836689038,
          0.9373601789709172,
          0.9369127516778524,
          0.9335570469798656,
          0.9369127516778524,
          0.9351230425055927,
          0.9360178970917226,
          0.93668903803132,
          0.9355704697986578,
          0.9369127516778524,
          0.9373601789709172,
          0.9400447427293064,
          0.9360178970917226,
          0.9344519015659956,
          0.9364653243847876,
          0.9407158836689038,
          0.9442953020134228,
          0.9362416107382552,
          0.9393736017897092,
          0.9299776286353468,
          0.9395973154362416,
          0.9375838926174496,
          0.939821029082774,
          0.9400447427293064,
          0.9360178970917226,
          0.9429530201342282,
          0.9411633109619688,
          0.9364653243847876,
          0.9308724832214764,
          0.9324384787472036,
          0.9400447427293064,
          0.9364653243847876,
          0.9328859060402684,
          0.9384787472035794,
          0.9355704697986578,
          0.9393736017897092,
          0.9380313199105146,
          0.9293064876957494,
          0.937807606263982,
          0.9411633109619688,
          0.9360178970917226,
          0.934675615212528,
          0.9362416107382552,
          0.9369127516778524,
          0.9348993288590604,
          0.937807606263982,
          0.9317673378076062,
          0.9315436241610738,
          0.9335570469798656,
          0.932662192393736,
          0.9467561521252796,
          0.9331096196868008,
          0.9322147651006712,
          0.9391498881431768,
          0.9355704697986578,
          0.9340044742729308,
          0.9344519015659956,
          0.929530201342282,
          0.938702460850112,
          0.9389261744966444,
          0.9279642058165548,
          0.9427293064876956,
          0.937807606263982,
          0.9331096196868008,
          0.932662192393736,
          0.9331096196868008,
          0.9348993288590604,
          0.9317673378076062,
          0.9337807606263984,
          0.9337807606263984,
          0.937807606263982,
          0.9384787472035794,
          0.9380313199105146,
          0.9351230425055927,
          0.9416107382550336,
          0.939821029082774,
          0.93668903803132,
          0.9411633109619688,
          0.9304250559284116,
          0.9322147651006712,
          0.9364653243847876,
          0.941834451901566,
          0.9391498881431768,
          0.9322147651006712,
          0.929530201342282,
          0.9331096196868008,
          0.9391498881431768,
          0.9351230425055927,
          0.938255033557047,
          0.9328859060402684,
          0.9384787472035794,
          0.9375838926174496,
          0.934675615212528,
          0.9364653243847876,
          0.9313199105145414,
          0.9393736017897092,
          0.939821029082774,
          0.9364653243847876,
          0.9371364653243848,
          0.939821029082774,
          0.93668903803132,
          0.9380313199105146,
          0.9393736017897092,
          0.9391498881431768,
          0.9279642058165548,
          0.9324384787472036,
          0.9362416107382552,
          0.938255033557047,
          0.934228187919463,
          0.9328859060402684,
          0.9395973154362416,
          0.9360178970917226,
          0.9440715883668904,
          0.9389261744966444,
          0.9400447427293064,
          0.9315436241610738,
          0.9395973154362416,
          0.9407158836689038,
          0.9357941834451902,
          0.93668903803132,
          0.9380313199105146,
          0.9364653243847876,
          0.9380313199105146,
          0.9393736017897092,
          0.9355704697986578,
          0.9364653243847876,
          0.9369127516778524,
          0.9384787472035794,
          0.9351230425055927,
          0.9322147651006712,
          0.9360178970917226,
          0.9351230425055927,
          0.9362416107382552,
          0.9416107382550336,
          0.9322147651006712,
          0.932662192393736,
          0.9360178970917226,
          0.9402684563758388,
          0.9371364653243848,
          0.9373601789709172,
          0.9348993288590604,
          0.9375838926174496,
          0.93668903803132,
          0.9380313199105146,
          0.9335570469798656,
          0.92751677852349,
          0.937807606263982,
          0.939821029082774,
          0.9384787472035794,
          0.9333333333333332,
          0.9344519015659956,
          0.9380313199105146,
          0.9344519015659956,
          0.938255033557047,
          0.9360178970917226,
          0.9353467561521251,
          0.9371364653243848,
          0.9391498881431768,
          0.9402684563758388,
          0.934228187919463,
          0.9351230425055927,
          0.9427293064876956,
          0.93668903803132,
          0.9331096196868008,
          0.9324384787472036,
          0.9304250559284116,
          0.9355704697986578,
          0.9391498881431768,
          0.9284116331096196,
          0.9315436241610738,
          0.9297539149888144,
          0.9348993288590604,
          0.9360178970917226,
          0.9369127516778524,
          0.937807606263982,
          0.9333333333333332,
          0.9263982102908276,
          0.9393736017897092,
          0.934675615212528,
          0.9416107382550336,
          0.9357941834451902,
          0.9319910514541389,
          0.9360178970917226,
          0.937807606263982,
          0.9315436241610738,
          0.938255033557047,
          0.937807606263982,
          0.93668903803132,
          0.9351230425055927,
          0.9355704697986578,
          0.9440715883668904,
          0.9362416107382552,
          0.934675615212528,
          0.9357941834451902,
          0.9322147651006712,
          0.9272930648769576,
          0.9380313199105146,
          0.93668903803132,
          0.9331096196868008,
          0.9425055928411632,
          0.938255033557047,
          0.9369127516778524,
          0.938255033557047,
          0.929530201342282,
          0.9371364653243848,
          0.938255033557047,
          0.9369127516778524,
          0.9355704697986578,
          0.9404921700223714,
          0.9404921700223714,
          0.9340044742729308,
          0.938702460850112,
          0.9391498881431768,
          0.9375838926174496,
          0.9380313199105146,
          0.93668903803132,
          0.9409395973154362,
          0.93668903803132,
          0.9369127516778524,
          0.9297539149888144,
          0.9364653243847876,
          0.9337807606263984,
          0.9357941834451902,
          0.934228187919463,
          0.9279642058165548,
          0.9335570469798656,
          0.93668903803132,
          0.9331096196868008,
          0.93668903803132,
          0.9364653243847876,
          0.928635346756152,
          0.9375838926174496,
          0.934228187919463,
          0.9371364653243848,
          0.9463087248322148,
          0.9340044742729308,
          0.9324384787472036,
          0.9357941834451902,
          0.9333333333333332,
          0.9351230425055927,
          0.937807606263982,
          0.9380313199105146,
          0.9380313199105146,
          0.934675615212528,
          0.934675615212528,
          0.934675615212528,
          0.93668903803132,
          0.9335570469798656,
          0.9297539149888144,
          0.938255033557047,
          0.9389261744966444,
          0.938702460850112,
          0.9362416107382552,
          0.9413870246085012,
          0.9355704697986578,
          0.9357941834451902,
          0.9335570469798656,
          0.937807606263982,
          0.9348993288590604,
          0.9328859060402684,
          0.9404921700223714,
          0.9304250559284116,
          0.93668903803132,
          0.9407158836689038,
          0.9348993288590604,
          0.9395973154362416,
          0.9348993288590604,
          0.9340044742729308,
          0.9384787472035794,
          0.9413870246085012,
          0.9348993288590604,
          0.9328859060402684,
          0.9324384787472036,
          0.9360178970917226,
          0.93668903803132,
          0.9362416107382552,
          0.9302013422818792,
          0.938255033557047,
          0.9310961968680088,
          0.9355704697986578,
          0.9380313199105146,
          0.9389261744966444,
          0.9353467561521251,
          0.934228187919463,
          0.9357941834451902,
          0.9360178970917226,
          0.9353467561521251,
          0.9460850111856824,
          0.9411633109619688,
          0.937807606263982,
          0.9357941834451902,
          0.9315436241610738,
          0.9362416107382552,
          0.9357941834451902,
          0.9351230425055927,
          0.937807606263982,
          0.9364653243847876,
          0.9344519015659956,
          0.9425055928411632,
          0.93668903803132,
          0.9369127516778524,
          0.934228187919463,
          0.9413870246085012,
          0.9411633109619688,
          0.9355704697986578,
          0.9357941834451902,
          0.9355704697986578,
          0.9333333333333332,
          0.9348993288590604,
          0.9364653243847876,
          0.9351230425055927,
          0.9411633109619688,
          0.9340044742729308,
          0.937807606263982,
          0.9360178970917226,
          0.9425055928411632,
          0.9393736017897092,
          0.934675615212528,
          0.93668903803132,
          0.941834451901566,
          0.932662192393736,
          0.9362416107382552,
          0.9360178970917226,
          0.93668903803132,
          0.9404921700223714,
          0.9395973154362416,
          0.9422818791946308,
          0.9371364653243848,
          0.9319910514541389,
          0.9369127516778524,
          0.938702460850112,
          0.9407158836689038,
          0.9357941834451902,
          0.9373601789709172,
          0.9404921700223714,
          0.929530201342282,
          0.9333333333333332,
          0.9431767337807606,
          0.9331096196868008,
          0.928635346756152,
          0.9409395973154362,
          0.9362416107382552,
          0.9373601789709172,
          0.9348993288590604,
          0.934228187919463,
          0.9413870246085012,
          0.9369127516778524,
          0.9411633109619688,
          0.939821029082774,
          0.94496644295302,
          0.9407158836689038,
          0.9348993288590604,
          0.937807606263982,
          0.9402684563758388,
          0.9337807606263984,
          0.9380313199105146,
          0.93668903803132,
          0.9373601789709172,
          0.9317673378076062,
          0.938702460850112,
          0.941834451901566,
          0.9375838926174496,
          0.930648769574944,
          0.9353467561521251,
          0.9315436241610738,
          0.9371364653243848,
          0.9413870246085012,
          0.93668903803132,
          0.932662192393736,
          0.930648769574944,
          0.9360178970917226,
          0.9416107382550336,
          0.9348993288590604,
          0.934228187919463,
          0.932662192393736,
          0.9380313199105146,
          0.9422818791946308,
          0.9373601789709172,
          0.9402684563758388,
          0.9411633109619688,
          0.9440715883668904,
          0.932662192393736,
          0.9331096196868008,
          0.9404921700223714,
          0.9353467561521251,
          0.9315436241610738,
          0.9369127516778524,
          0.9357941834451902,
          0.9409395973154362,
          0.937807606263982,
          0.9436241610738256,
          0.9429530201342282,
          0.9400447427293064,
          0.9409395973154362,
          0.9364653243847876,
          0.9299776286353468,
          0.9353467561521251,
          0.932662192393736,
          0.9353467561521251,
          0.9324384787472036,
          0.93668903803132,
          0.9360178970917226,
          0.934228187919463,
          0.938702460850112,
          0.9380313199105146,
          0.9335570469798656,
          0.9409395973154362,
          0.938255033557047,
          0.9302013422818792,
          0.9364653243847876,
          0.939821029082774,
          0.9404921700223714,
          0.9333333333333332,
          0.9357941834451902,
          0.9355704697986578,
          0.9391498881431768,
          0.9391498881431768,
          0.938702460850112,
          0.9371364653243848,
          0.9391498881431768,
          0.938255033557047,
          0.9375838926174496,
          0.9357941834451902,
          0.9351230425055927,
          0.9407158836689038,
          0.9302013422818792,
          0.9355704697986578,
          0.9360178970917226,
          0.9442953020134228,
          0.9344519015659956,
          0.9375838926174496,
          0.9375838926174496,
          0.9340044742729308,
          0.9369127516778524,
          0.9313199105145414,
          0.9310961968680088,
          0.9400447427293064,
          0.9362416107382552,
          0.938702460850112,
          0.9337807606263984
         ],
         "xaxis": "x",
         "yaxis": "y"
        },
        {
         "alignmentgroup": "True",
         "customdata": [
          [
           0.9413870246085012
          ],
          [
           0.9393736017897092
          ],
          [
           0.938255033557047
          ],
          [
           0.9380313199105146
          ],
          [
           0.9351230425055927
          ],
          [
           0.9402684563758388
          ],
          [
           0.9344519015659956
          ],
          [
           0.9357941834451902
          ],
          [
           0.9373601789709172
          ],
          [
           0.9357941834451902
          ],
          [
           0.9315436241610738
          ],
          [
           0.930648769574944
          ],
          [
           0.9324384787472036
          ],
          [
           0.9360178970917226
          ],
          [
           0.9333333333333332
          ],
          [
           0.9384787472035794
          ],
          [
           0.9436241610738256
          ],
          [
           0.9340044742729308
          ],
          [
           0.9344519015659956
          ],
          [
           0.9375838926174496
          ],
          [
           0.9422818791946308
          ],
          [
           0.9348993288590604
          ],
          [
           0.934675615212528
          ],
          [
           0.9319910514541389
          ],
          [
           0.9373601789709172
          ],
          [
           0.9353467561521251
          ],
          [
           0.9445190156599552
          ],
          [
           0.9389261744966444
          ],
          [
           0.943847874720358
          ],
          [
           0.938255033557047
          ],
          [
           0.9369127516778524
          ],
          [
           0.9357941834451902
          ],
          [
           0.9315436241610738
          ],
          [
           0.9393736017897092
          ],
          [
           0.938702460850112
          ],
          [
           0.9407158836689038
          ],
          [
           0.9337807606263984
          ],
          [
           0.9355704697986578
          ],
          [
           0.9413870246085012
          ],
          [
           0.9364653243847876
          ],
          [
           0.9375838926174496
          ],
          [
           0.9340044742729308
          ],
          [
           0.9389261744966444
          ],
          [
           0.9362416107382552
          ],
          [
           0.9328859060402684
          ],
          [
           0.9442953020134228
          ],
          [
           0.9322147651006712
          ],
          [
           0.9328859060402684
          ],
          [
           0.9277404921700224
          ],
          [
           0.9362416107382552
          ],
          [
           0.9395973154362416
          ],
          [
           0.9357941834451902
          ],
          [
           0.9389261744966444
          ],
          [
           0.937807606263982
          ],
          [
           0.9333333333333332
          ],
          [
           0.93668903803132
          ],
          [
           0.9340044742729308
          ],
          [
           0.9331096196868008
          ],
          [
           0.932662192393736
          ],
          [
           0.9340044742729308
          ],
          [
           0.9333333333333332
          ],
          [
           0.9324384787472036
          ],
          [
           0.939821029082774
          ],
          [
           0.9371364653243848
          ],
          [
           0.932662192393736
          ],
          [
           0.9348993288590604
          ],
          [
           0.9413870246085012
          ],
          [
           0.9357941834451902
          ],
          [
           0.9348993288590604
          ],
          [
           0.9402684563758388
          ],
          [
           0.9257270693512304
          ],
          [
           0.9360178970917226
          ],
          [
           0.9407158836689038
          ],
          [
           0.9324384787472036
          ],
          [
           0.939821029082774
          ],
          [
           0.9384787472035794
          ],
          [
           0.93668903803132
          ],
          [
           0.941834451901566
          ],
          [
           0.9413870246085012
          ],
          [
           0.9304250559284116
          ],
          [
           0.9364653243847876
          ],
          [
           0.9310961968680088
          ],
          [
           0.9364653243847876
          ],
          [
           0.93668903803132
          ],
          [
           0.9373601789709172
          ],
          [
           0.943847874720358
          ],
          [
           0.934228187919463
          ],
          [
           0.941834451901566
          ],
          [
           0.9355704697986578
          ],
          [
           0.9393736017897092
          ],
          [
           0.934228187919463
          ],
          [
           0.934228187919463
          ],
          [
           0.93668903803132
          ],
          [
           0.930648769574944
          ],
          [
           0.9355704697986578
          ],
          [
           0.9344519015659956
          ],
          [
           0.9348993288590604
          ],
          [
           0.9404921700223714
          ],
          [
           0.9360178970917226
          ],
          [
           0.9373601789709172
          ],
          [
           0.9357941834451902
          ],
          [
           0.9328859060402684
          ],
          [
           0.9360178970917226
          ],
          [
           0.9384787472035794
          ],
          [
           0.9335570469798656
          ],
          [
           0.9371364653243848
          ],
          [
           0.9337807606263984
          ],
          [
           0.9380313199105146
          ],
          [
           0.937807606263982
          ],
          [
           0.9317673378076062
          ],
          [
           0.9393736017897092
          ],
          [
           0.9371364653243848
          ],
          [
           0.9353467561521251
          ],
          [
           0.9369127516778524
          ],
          [
           0.9353467561521251
          ],
          [
           0.9322147651006712
          ],
          [
           0.9355704697986578
          ],
          [
           0.9369127516778524
          ],
          [
           0.9371364653243848
          ],
          [
           0.9344519015659956
          ],
          [
           0.934228187919463
          ],
          [
           0.9360178970917226
          ],
          [
           0.9369127516778524
          ],
          [
           0.9308724832214764
          ],
          [
           0.934228187919463
          ],
          [
           0.9337807606263984
          ],
          [
           0.9402684563758388
          ],
          [
           0.9360178970917226
          ],
          [
           0.9337807606263984
          ],
          [
           0.9400447427293064
          ],
          [
           0.9340044742729308
          ],
          [
           0.9369127516778524
          ],
          [
           0.9360178970917226
          ],
          [
           0.938702460850112
          ],
          [
           0.9416107382550336
          ],
          [
           0.9335570469798656
          ],
          [
           0.9393736017897092
          ],
          [
           0.9427293064876956
          ],
          [
           0.9391498881431768
          ],
          [
           0.9384787472035794
          ],
          [
           0.9351230425055927
          ],
          [
           0.9416107382550336
          ],
          [
           0.937807606263982
          ],
          [
           0.9333333333333332
          ],
          [
           0.939821029082774
          ],
          [
           0.9333333333333332
          ],
          [
           0.941834451901566
          ],
          [
           0.9407158836689038
          ],
          [
           0.9333333333333332
          ],
          [
           0.9409395973154362
          ],
          [
           0.9319910514541389
          ],
          [
           0.9308724832214764
          ],
          [
           0.9431767337807606
          ],
          [
           0.934675615212528
          ],
          [
           0.9319910514541389
          ],
          [
           0.9373601789709172
          ],
          [
           0.9353467561521251
          ],
          [
           0.9304250559284116
          ],
          [
           0.9407158836689038
          ],
          [
           0.9400447427293064
          ],
          [
           0.9348993288590604
          ],
          [
           0.9422818791946308
          ],
          [
           0.928635346756152
          ],
          [
           0.9364653243847876
          ],
          [
           0.9369127516778524
          ],
          [
           0.929082774049217
          ],
          [
           0.9337807606263984
          ],
          [
           0.9322147651006712
          ],
          [
           0.9340044742729308
          ],
          [
           0.9393736017897092
          ],
          [
           0.9335570469798656
          ],
          [
           0.9409395973154362
          ],
          [
           0.9364653243847876
          ],
          [
           0.938702460850112
          ],
          [
           0.938255033557047
          ],
          [
           0.9319910514541389
          ],
          [
           0.9402684563758388
          ],
          [
           0.9420581655480984
          ],
          [
           0.9353467561521251
          ],
          [
           0.9355704697986578
          ],
          [
           0.9371364653243848
          ],
          [
           0.9355704697986578
          ],
          [
           0.932662192393736
          ],
          [
           0.937807606263982
          ],
          [
           0.9389261744966444
          ],
          [
           0.9380313199105146
          ],
          [
           0.9436241610738256
          ],
          [
           0.9400447427293064
          ],
          [
           0.9317673378076062
          ],
          [
           0.9340044742729308
          ],
          [
           0.9380313199105146
          ],
          [
           0.9353467561521251
          ],
          [
           0.9313199105145414
          ],
          [
           0.939821029082774
          ],
          [
           0.9409395973154362
          ],
          [
           0.9315436241610738
          ],
          [
           0.930648769574944
          ],
          [
           0.9351230425055927
          ],
          [
           0.9404921700223714
          ],
          [
           0.9404921700223714
          ],
          [
           0.934675615212528
          ],
          [
           0.9304250559284116
          ],
          [
           0.9348993288590604
          ],
          [
           0.938255033557047
          ],
          [
           0.93668903803132
          ],
          [
           0.9413870246085012
          ],
          [
           0.9380313199105146
          ],
          [
           0.9416107382550336
          ],
          [
           0.9380313199105146
          ],
          [
           0.9331096196868008
          ],
          [
           0.9364653243847876
          ],
          [
           0.9395973154362416
          ],
          [
           0.934228187919463
          ],
          [
           0.9348993288590604
          ],
          [
           0.9393736017897092
          ],
          [
           0.9369127516778524
          ],
          [
           0.9400447427293064
          ],
          [
           0.9351230425055927
          ],
          [
           0.9351230425055927
          ],
          [
           0.9313199105145414
          ],
          [
           0.9297539149888144
          ],
          [
           0.9357941834451902
          ],
          [
           0.9369127516778524
          ],
          [
           0.9351230425055927
          ],
          [
           0.934675615212528
          ],
          [
           0.932662192393736
          ],
          [
           0.93668903803132
          ],
          [
           0.9375838926174496
          ],
          [
           0.938255033557047
          ],
          [
           0.9357941834451902
          ],
          [
           0.9391498881431768
          ],
          [
           0.9389261744966444
          ],
          [
           0.9353467561521251
          ],
          [
           0.9402684563758388
          ],
          [
           0.9400447427293064
          ],
          [
           0.9395973154362416
          ],
          [
           0.943847874720358
          ],
          [
           0.9393736017897092
          ],
          [
           0.9351230425055927
          ],
          [
           0.9391498881431768
          ],
          [
           0.9308724832214764
          ],
          [
           0.937807606263982
          ],
          [
           0.934228187919463
          ],
          [
           0.9315436241610738
          ],
          [
           0.939821029082774
          ],
          [
           0.9324384787472036
          ],
          [
           0.9389261744966444
          ],
          [
           0.9355704697986578
          ],
          [
           0.9371364653243848
          ],
          [
           0.9375838926174496
          ],
          [
           0.9391498881431768
          ],
          [
           0.9395973154362416
          ],
          [
           0.9353467561521251
          ],
          [
           0.9393736017897092
          ],
          [
           0.9360178970917226
          ],
          [
           0.9340044742729308
          ],
          [
           0.932662192393736
          ],
          [
           0.934675615212528
          ],
          [
           0.937807606263982
          ],
          [
           0.9333333333333332
          ],
          [
           0.9375838926174496
          ],
          [
           0.9357941834451902
          ],
          [
           0.9400447427293064
          ],
          [
           0.937807606263982
          ],
          [
           0.9369127516778524
          ],
          [
           0.9375838926174496
          ],
          [
           0.9369127516778524
          ],
          [
           0.939821029082774
          ],
          [
           0.9324384787472036
          ],
          [
           0.937807606263982
          ],
          [
           0.938702460850112
          ],
          [
           0.937807606263982
          ],
          [
           0.9384787472035794
          ],
          [
           0.938255033557047
          ],
          [
           0.9371364653243848
          ],
          [
           0.9393736017897092
          ],
          [
           0.934675615212528
          ],
          [
           0.9360178970917226
          ],
          [
           0.9328859060402684
          ],
          [
           0.932662192393736
          ],
          [
           0.9375838926174496
          ],
          [
           0.9375838926174496
          ],
          [
           0.9391498881431768
          ],
          [
           0.9402684563758388
          ],
          [
           0.9384787472035794
          ],
          [
           0.9348993288590604
          ],
          [
           0.9391498881431768
          ],
          [
           0.9355704697986578
          ],
          [
           0.9436241610738256
          ],
          [
           0.9373601789709172
          ],
          [
           0.9299776286353468
          ],
          [
           0.9322147651006712
          ],
          [
           0.9395973154362416
          ],
          [
           0.9393736017897092
          ],
          [
           0.9440715883668904
          ],
          [
           0.9375838926174496
          ],
          [
           0.9360178970917226
          ],
          [
           0.9348993288590604
          ],
          [
           0.9420581655480984
          ],
          [
           0.934228187919463
          ],
          [
           0.937807606263982
          ],
          [
           0.9404921700223714
          ],
          [
           0.9315436241610738
          ],
          [
           0.9351230425055927
          ],
          [
           0.9331096196868008
          ],
          [
           0.9362416107382552
          ],
          [
           0.934675615212528
          ],
          [
           0.9348993288590604
          ],
          [
           0.9391498881431768
          ],
          [
           0.934675615212528
          ],
          [
           0.9369127516778524
          ],
          [
           0.9324384787472036
          ],
          [
           0.934675615212528
          ],
          [
           0.9395973154362416
          ],
          [
           0.9313199105145414
          ],
          [
           0.938702460850112
          ],
          [
           0.9393736017897092
          ],
          [
           0.9395973154362416
          ],
          [
           0.9371364653243848
          ],
          [
           0.9324384787472036
          ],
          [
           0.938702460850112
          ],
          [
           0.9384787472035794
          ],
          [
           0.9369127516778524
          ],
          [
           0.9322147651006712
          ],
          [
           0.9413870246085012
          ],
          [
           0.9348993288590604
          ],
          [
           0.9353467561521251
          ],
          [
           0.9353467561521251
          ],
          [
           0.934675615212528
          ],
          [
           0.9395973154362416
          ],
          [
           0.937807606263982
          ],
          [
           0.9369127516778524
          ],
          [
           0.9427293064876956
          ],
          [
           0.9353467561521251
          ],
          [
           0.9402684563758388
          ],
          [
           0.938255033557047
          ],
          [
           0.9373601789709172
          ],
          [
           0.9310961968680088
          ],
          [
           0.9404921700223714
          ],
          [
           0.9373601789709172
          ],
          [
           0.9375838926174496
          ],
          [
           0.9362416107382552
          ],
          [
           0.9369127516778524
          ],
          [
           0.9380313199105146
          ],
          [
           0.9344519015659956
          ],
          [
           0.9411633109619688
          ],
          [
           0.93668903803132
          ],
          [
           0.938255033557047
          ],
          [
           0.9373601789709172
          ],
          [
           0.9362416107382552
          ],
          [
           0.9324384787472036
          ],
          [
           0.9369127516778524
          ],
          [
           0.9427293064876956
          ],
          [
           0.934675615212528
          ],
          [
           0.9416107382550336
          ],
          [
           0.9348993288590604
          ],
          [
           0.9416107382550336
          ],
          [
           0.9371364653243848
          ],
          [
           0.939821029082774
          ],
          [
           0.9373601789709172
          ],
          [
           0.9324384787472036
          ],
          [
           0.9324384787472036
          ],
          [
           0.9402684563758388
          ],
          [
           0.9411633109619688
          ],
          [
           0.9344519015659956
          ],
          [
           0.9384787472035794
          ],
          [
           0.941834451901566
          ],
          [
           0.9333333333333332
          ],
          [
           0.9324384787472036
          ],
          [
           0.9393736017897092
          ],
          [
           0.941834451901566
          ],
          [
           0.9373601789709172
          ],
          [
           0.934675615212528
          ],
          [
           0.9400447427293064
          ],
          [
           0.9328859060402684
          ],
          [
           0.9353467561521251
          ],
          [
           0.9344519015659956
          ],
          [
           0.9369127516778524
          ],
          [
           0.93668903803132
          ],
          [
           0.9425055928411632
          ],
          [
           0.9308724832214764
          ],
          [
           0.94496644295302
          ],
          [
           0.9357941834451902
          ],
          [
           0.9425055928411632
          ],
          [
           0.9371364653243848
          ],
          [
           0.93668903803132
          ],
          [
           0.9371364653243848
          ],
          [
           0.9333333333333332
          ],
          [
           0.9371364653243848
          ],
          [
           0.9351230425055927
          ],
          [
           0.9447427293064876
          ],
          [
           0.938255033557047
          ],
          [
           0.9364653243847876
          ],
          [
           0.9335570469798656
          ],
          [
           0.9328859060402684
          ],
          [
           0.9322147651006712
          ],
          [
           0.9328859060402684
          ],
          [
           0.9353467561521251
          ],
          [
           0.93668903803132
          ],
          [
           0.9348993288590604
          ],
          [
           0.937807606263982
          ],
          [
           0.9402684563758388
          ],
          [
           0.934675615212528
          ],
          [
           0.9362416107382552
          ],
          [
           0.9322147651006712
          ],
          [
           0.934675615212528
          ],
          [
           0.9360178970917226
          ],
          [
           0.9360178970917226
          ],
          [
           0.9319910514541389
          ],
          [
           0.9351230425055927
          ],
          [
           0.9344519015659956
          ],
          [
           0.93668903803132
          ],
          [
           0.9351230425055927
          ],
          [
           0.9337807606263984
          ],
          [
           0.9357941834451902
          ],
          [
           0.9389261744966444
          ],
          [
           0.9357941834451902
          ],
          [
           0.9364653243847876
          ],
          [
           0.9353467561521251
          ],
          [
           0.9384787472035794
          ],
          [
           0.9351230425055927
          ],
          [
           0.93668903803132
          ],
          [
           0.938255033557047
          ],
          [
           0.9375838926174496
          ],
          [
           0.9360178970917226
          ],
          [
           0.9380313199105146
          ],
          [
           0.928635346756152
          ],
          [
           0.9335570469798656
          ],
          [
           0.9353467561521251
          ],
          [
           0.9371364653243848
          ],
          [
           0.9369127516778524
          ],
          [
           0.9360178970917226
          ],
          [
           0.9340044742729308
          ],
          [
           0.929082774049217
          ],
          [
           0.9380313199105146
          ],
          [
           0.9324384787472036
          ],
          [
           0.932662192393736
          ],
          [
           0.934228187919463
          ],
          [
           0.937807606263982
          ],
          [
           0.9362416107382552
          ],
          [
           0.9357941834451902
          ],
          [
           0.9413870246085012
          ],
          [
           0.939821029082774
          ],
          [
           0.938255033557047
          ],
          [
           0.9416107382550336
          ],
          [
           0.9351230425055927
          ],
          [
           0.9279642058165548
          ],
          [
           0.9364653243847876
          ],
          [
           0.9277404921700224
          ],
          [
           0.9375838926174496
          ],
          [
           0.9328859060402684
          ],
          [
           0.938702460850112
          ],
          [
           0.939821029082774
          ],
          [
           0.9297539149888144
          ],
          [
           0.9351230425055927
          ],
          [
           0.9319910514541389
          ],
          [
           0.9331096196868008
          ],
          [
           0.9322147651006712
          ],
          [
           0.9351230425055927
          ],
          [
           0.9353467561521251
          ],
          [
           0.9288590604026844
          ],
          [
           0.9369127516778524
          ],
          [
           0.9373601789709172
          ],
          [
           0.9308724832214764
          ],
          [
           0.9362416107382552
          ],
          [
           0.9333333333333332
          ],
          [
           0.9413870246085012
          ],
          [
           0.9373601789709172
          ],
          [
           0.9357941834451902
          ],
          [
           0.934228187919463
          ],
          [
           0.9384787472035794
          ],
          [
           0.9353467561521251
          ],
          [
           0.9384787472035794
          ],
          [
           0.9333333333333332
          ],
          [
           0.9416107382550336
          ],
          [
           0.932662192393736
          ],
          [
           0.9335570469798656
          ],
          [
           0.929082774049217
          ],
          [
           0.9362416107382552
          ],
          [
           0.938702460850112
          ],
          [
           0.9369127516778524
          ],
          [
           0.9402684563758388
          ],
          [
           0.9436241610738256
          ],
          [
           0.934228187919463
          ],
          [
           0.928635346756152
          ],
          [
           0.9391498881431768
          ],
          [
           0.9355704697986578
          ],
          [
           0.9380313199105146
          ],
          [
           0.9364653243847876
          ],
          [
           0.9322147651006712
          ],
          [
           0.9308724832214764
          ],
          [
           0.9364653243847876
          ],
          [
           0.939821029082774
          ],
          [
           0.9333333333333332
          ],
          [
           0.9380313199105146
          ],
          [
           0.9357941834451902
          ],
          [
           0.9340044742729308
          ],
          [
           0.938702460850112
          ],
          [
           0.934228187919463
          ],
          [
           0.9360178970917226
          ],
          [
           0.9420581655480984
          ],
          [
           0.9364653243847876
          ],
          [
           0.9335570469798656
          ],
          [
           0.93668903803132
          ],
          [
           0.9362416107382552
          ],
          [
           0.9389261744966444
          ],
          [
           0.9337807606263984
          ],
          [
           0.934228187919463
          ],
          [
           0.9357941834451902
          ],
          [
           0.9373601789709172
          ],
          [
           0.9360178970917226
          ],
          [
           0.9389261744966444
          ],
          [
           0.9375838926174496
          ],
          [
           0.9319910514541389
          ],
          [
           0.93668903803132
          ],
          [
           0.9360178970917226
          ],
          [
           0.9413870246085012
          ],
          [
           0.9302013422818792
          ],
          [
           0.9315436241610738
          ],
          [
           0.9427293064876956
          ],
          [
           0.93668903803132
          ],
          [
           0.9355704697986578
          ],
          [
           0.9369127516778524
          ],
          [
           0.938255033557047
          ],
          [
           0.938255033557047
          ],
          [
           0.9344519015659956
          ],
          [
           0.9420581655480984
          ],
          [
           0.9299776286353468
          ],
          [
           0.9324384787472036
          ],
          [
           0.9411633109619688
          ],
          [
           0.9308724832214764
          ],
          [
           0.9344519015659956
          ],
          [
           0.93668903803132
          ],
          [
           0.9364653243847876
          ],
          [
           0.9369127516778524
          ],
          [
           0.9384787472035794
          ],
          [
           0.9364653243847876
          ],
          [
           0.9389261744966444
          ],
          [
           0.9442953020134228
          ],
          [
           0.9362416107382552
          ],
          [
           0.9351230425055927
          ],
          [
           0.938255033557047
          ],
          [
           0.9384787472035794
          ],
          [
           0.9362416107382552
          ],
          [
           0.943847874720358
          ],
          [
           0.9344519015659956
          ],
          [
           0.9360178970917226
          ],
          [
           0.9375838926174496
          ],
          [
           0.9391498881431768
          ],
          [
           0.9333333333333332
          ],
          [
           0.9322147651006712
          ],
          [
           0.9400447427293064
          ],
          [
           0.941834451901566
          ],
          [
           0.9328859060402684
          ],
          [
           0.9384787472035794
          ],
          [
           0.9431767337807606
          ],
          [
           0.9304250559284116
          ],
          [
           0.9413870246085012
          ],
          [
           0.9400447427293064
          ],
          [
           0.930648769574944
          ],
          [
           0.9407158836689038
          ],
          [
           0.9373601789709172
          ],
          [
           0.9369127516778524
          ],
          [
           0.9335570469798656
          ],
          [
           0.9369127516778524
          ],
          [
           0.9351230425055927
          ],
          [
           0.9360178970917226
          ],
          [
           0.93668903803132
          ],
          [
           0.9355704697986578
          ],
          [
           0.9369127516778524
          ],
          [
           0.9373601789709172
          ],
          [
           0.9400447427293064
          ],
          [
           0.9360178970917226
          ],
          [
           0.9344519015659956
          ],
          [
           0.9364653243847876
          ],
          [
           0.9407158836689038
          ],
          [
           0.9442953020134228
          ],
          [
           0.9362416107382552
          ],
          [
           0.9393736017897092
          ],
          [
           0.9299776286353468
          ],
          [
           0.9395973154362416
          ],
          [
           0.9375838926174496
          ],
          [
           0.939821029082774
          ],
          [
           0.9400447427293064
          ],
          [
           0.9360178970917226
          ],
          [
           0.9429530201342282
          ],
          [
           0.9411633109619688
          ],
          [
           0.9364653243847876
          ],
          [
           0.9308724832214764
          ],
          [
           0.9324384787472036
          ],
          [
           0.9400447427293064
          ],
          [
           0.9364653243847876
          ],
          [
           0.9328859060402684
          ],
          [
           0.9384787472035794
          ],
          [
           0.9355704697986578
          ],
          [
           0.9393736017897092
          ],
          [
           0.9380313199105146
          ],
          [
           0.9293064876957494
          ],
          [
           0.937807606263982
          ],
          [
           0.9411633109619688
          ],
          [
           0.9360178970917226
          ],
          [
           0.934675615212528
          ],
          [
           0.9362416107382552
          ],
          [
           0.9369127516778524
          ],
          [
           0.9348993288590604
          ],
          [
           0.937807606263982
          ],
          [
           0.9317673378076062
          ],
          [
           0.9315436241610738
          ],
          [
           0.9335570469798656
          ],
          [
           0.932662192393736
          ],
          [
           0.9467561521252796
          ],
          [
           0.9331096196868008
          ],
          [
           0.9322147651006712
          ],
          [
           0.9391498881431768
          ],
          [
           0.9355704697986578
          ],
          [
           0.9340044742729308
          ],
          [
           0.9344519015659956
          ],
          [
           0.929530201342282
          ],
          [
           0.938702460850112
          ],
          [
           0.9389261744966444
          ],
          [
           0.9279642058165548
          ],
          [
           0.9427293064876956
          ],
          [
           0.937807606263982
          ],
          [
           0.9331096196868008
          ],
          [
           0.932662192393736
          ],
          [
           0.9331096196868008
          ],
          [
           0.9348993288590604
          ],
          [
           0.9317673378076062
          ],
          [
           0.9337807606263984
          ],
          [
           0.9337807606263984
          ],
          [
           0.937807606263982
          ],
          [
           0.9384787472035794
          ],
          [
           0.9380313199105146
          ],
          [
           0.9351230425055927
          ],
          [
           0.9416107382550336
          ],
          [
           0.939821029082774
          ],
          [
           0.93668903803132
          ],
          [
           0.9411633109619688
          ],
          [
           0.9304250559284116
          ],
          [
           0.9322147651006712
          ],
          [
           0.9364653243847876
          ],
          [
           0.941834451901566
          ],
          [
           0.9391498881431768
          ],
          [
           0.9322147651006712
          ],
          [
           0.929530201342282
          ],
          [
           0.9331096196868008
          ],
          [
           0.9391498881431768
          ],
          [
           0.9351230425055927
          ],
          [
           0.938255033557047
          ],
          [
           0.9328859060402684
          ],
          [
           0.9384787472035794
          ],
          [
           0.9375838926174496
          ],
          [
           0.934675615212528
          ],
          [
           0.9364653243847876
          ],
          [
           0.9313199105145414
          ],
          [
           0.9393736017897092
          ],
          [
           0.939821029082774
          ],
          [
           0.9364653243847876
          ],
          [
           0.9371364653243848
          ],
          [
           0.939821029082774
          ],
          [
           0.93668903803132
          ],
          [
           0.9380313199105146
          ],
          [
           0.9393736017897092
          ],
          [
           0.9391498881431768
          ],
          [
           0.9279642058165548
          ],
          [
           0.9324384787472036
          ],
          [
           0.9362416107382552
          ],
          [
           0.938255033557047
          ],
          [
           0.934228187919463
          ],
          [
           0.9328859060402684
          ],
          [
           0.9395973154362416
          ],
          [
           0.9360178970917226
          ],
          [
           0.9440715883668904
          ],
          [
           0.9389261744966444
          ],
          [
           0.9400447427293064
          ],
          [
           0.9315436241610738
          ],
          [
           0.9395973154362416
          ],
          [
           0.9407158836689038
          ],
          [
           0.9357941834451902
          ],
          [
           0.93668903803132
          ],
          [
           0.9380313199105146
          ],
          [
           0.9364653243847876
          ],
          [
           0.9380313199105146
          ],
          [
           0.9393736017897092
          ],
          [
           0.9355704697986578
          ],
          [
           0.9364653243847876
          ],
          [
           0.9369127516778524
          ],
          [
           0.9384787472035794
          ],
          [
           0.9351230425055927
          ],
          [
           0.9322147651006712
          ],
          [
           0.9360178970917226
          ],
          [
           0.9351230425055927
          ],
          [
           0.9362416107382552
          ],
          [
           0.9416107382550336
          ],
          [
           0.9322147651006712
          ],
          [
           0.932662192393736
          ],
          [
           0.9360178970917226
          ],
          [
           0.9402684563758388
          ],
          [
           0.9371364653243848
          ],
          [
           0.9373601789709172
          ],
          [
           0.9348993288590604
          ],
          [
           0.9375838926174496
          ],
          [
           0.93668903803132
          ],
          [
           0.9380313199105146
          ],
          [
           0.9335570469798656
          ],
          [
           0.92751677852349
          ],
          [
           0.937807606263982
          ],
          [
           0.939821029082774
          ],
          [
           0.9384787472035794
          ],
          [
           0.9333333333333332
          ],
          [
           0.9344519015659956
          ],
          [
           0.9380313199105146
          ],
          [
           0.9344519015659956
          ],
          [
           0.938255033557047
          ],
          [
           0.9360178970917226
          ],
          [
           0.9353467561521251
          ],
          [
           0.9371364653243848
          ],
          [
           0.9391498881431768
          ],
          [
           0.9402684563758388
          ],
          [
           0.934228187919463
          ],
          [
           0.9351230425055927
          ],
          [
           0.9427293064876956
          ],
          [
           0.93668903803132
          ],
          [
           0.9331096196868008
          ],
          [
           0.9324384787472036
          ],
          [
           0.9304250559284116
          ],
          [
           0.9355704697986578
          ],
          [
           0.9391498881431768
          ],
          [
           0.9284116331096196
          ],
          [
           0.9315436241610738
          ],
          [
           0.9297539149888144
          ],
          [
           0.9348993288590604
          ],
          [
           0.9360178970917226
          ],
          [
           0.9369127516778524
          ],
          [
           0.937807606263982
          ],
          [
           0.9333333333333332
          ],
          [
           0.9263982102908276
          ],
          [
           0.9393736017897092
          ],
          [
           0.934675615212528
          ],
          [
           0.9416107382550336
          ],
          [
           0.9357941834451902
          ],
          [
           0.9319910514541389
          ],
          [
           0.9360178970917226
          ],
          [
           0.937807606263982
          ],
          [
           0.9315436241610738
          ],
          [
           0.938255033557047
          ],
          [
           0.937807606263982
          ],
          [
           0.93668903803132
          ],
          [
           0.9351230425055927
          ],
          [
           0.9355704697986578
          ],
          [
           0.9440715883668904
          ],
          [
           0.9362416107382552
          ],
          [
           0.934675615212528
          ],
          [
           0.9357941834451902
          ],
          [
           0.9322147651006712
          ],
          [
           0.9272930648769576
          ],
          [
           0.9380313199105146
          ],
          [
           0.93668903803132
          ],
          [
           0.9331096196868008
          ],
          [
           0.9425055928411632
          ],
          [
           0.938255033557047
          ],
          [
           0.9369127516778524
          ],
          [
           0.938255033557047
          ],
          [
           0.929530201342282
          ],
          [
           0.9371364653243848
          ],
          [
           0.938255033557047
          ],
          [
           0.9369127516778524
          ],
          [
           0.9355704697986578
          ],
          [
           0.9404921700223714
          ],
          [
           0.9404921700223714
          ],
          [
           0.9340044742729308
          ],
          [
           0.938702460850112
          ],
          [
           0.9391498881431768
          ],
          [
           0.9375838926174496
          ],
          [
           0.9380313199105146
          ],
          [
           0.93668903803132
          ],
          [
           0.9409395973154362
          ],
          [
           0.93668903803132
          ],
          [
           0.9369127516778524
          ],
          [
           0.9297539149888144
          ],
          [
           0.9364653243847876
          ],
          [
           0.9337807606263984
          ],
          [
           0.9357941834451902
          ],
          [
           0.934228187919463
          ],
          [
           0.9279642058165548
          ],
          [
           0.9335570469798656
          ],
          [
           0.93668903803132
          ],
          [
           0.9331096196868008
          ],
          [
           0.93668903803132
          ],
          [
           0.9364653243847876
          ],
          [
           0.928635346756152
          ],
          [
           0.9375838926174496
          ],
          [
           0.934228187919463
          ],
          [
           0.9371364653243848
          ],
          [
           0.9463087248322148
          ],
          [
           0.9340044742729308
          ],
          [
           0.9324384787472036
          ],
          [
           0.9357941834451902
          ],
          [
           0.9333333333333332
          ],
          [
           0.9351230425055927
          ],
          [
           0.937807606263982
          ],
          [
           0.9380313199105146
          ],
          [
           0.9380313199105146
          ],
          [
           0.934675615212528
          ],
          [
           0.934675615212528
          ],
          [
           0.934675615212528
          ],
          [
           0.93668903803132
          ],
          [
           0.9335570469798656
          ],
          [
           0.9297539149888144
          ],
          [
           0.938255033557047
          ],
          [
           0.9389261744966444
          ],
          [
           0.938702460850112
          ],
          [
           0.9362416107382552
          ],
          [
           0.9413870246085012
          ],
          [
           0.9355704697986578
          ],
          [
           0.9357941834451902
          ],
          [
           0.9335570469798656
          ],
          [
           0.937807606263982
          ],
          [
           0.9348993288590604
          ],
          [
           0.9328859060402684
          ],
          [
           0.9404921700223714
          ],
          [
           0.9304250559284116
          ],
          [
           0.93668903803132
          ],
          [
           0.9407158836689038
          ],
          [
           0.9348993288590604
          ],
          [
           0.9395973154362416
          ],
          [
           0.9348993288590604
          ],
          [
           0.9340044742729308
          ],
          [
           0.9384787472035794
          ],
          [
           0.9413870246085012
          ],
          [
           0.9348993288590604
          ],
          [
           0.9328859060402684
          ],
          [
           0.9324384787472036
          ],
          [
           0.9360178970917226
          ],
          [
           0.93668903803132
          ],
          [
           0.9362416107382552
          ],
          [
           0.9302013422818792
          ],
          [
           0.938255033557047
          ],
          [
           0.9310961968680088
          ],
          [
           0.9355704697986578
          ],
          [
           0.9380313199105146
          ],
          [
           0.9389261744966444
          ],
          [
           0.9353467561521251
          ],
          [
           0.934228187919463
          ],
          [
           0.9357941834451902
          ],
          [
           0.9360178970917226
          ],
          [
           0.9353467561521251
          ],
          [
           0.9460850111856824
          ],
          [
           0.9411633109619688
          ],
          [
           0.937807606263982
          ],
          [
           0.9357941834451902
          ],
          [
           0.9315436241610738
          ],
          [
           0.9362416107382552
          ],
          [
           0.9357941834451902
          ],
          [
           0.9351230425055927
          ],
          [
           0.937807606263982
          ],
          [
           0.9364653243847876
          ],
          [
           0.9344519015659956
          ],
          [
           0.9425055928411632
          ],
          [
           0.93668903803132
          ],
          [
           0.9369127516778524
          ],
          [
           0.934228187919463
          ],
          [
           0.9413870246085012
          ],
          [
           0.9411633109619688
          ],
          [
           0.9355704697986578
          ],
          [
           0.9357941834451902
          ],
          [
           0.9355704697986578
          ],
          [
           0.9333333333333332
          ],
          [
           0.9348993288590604
          ],
          [
           0.9364653243847876
          ],
          [
           0.9351230425055927
          ],
          [
           0.9411633109619688
          ],
          [
           0.9340044742729308
          ],
          [
           0.937807606263982
          ],
          [
           0.9360178970917226
          ],
          [
           0.9425055928411632
          ],
          [
           0.9393736017897092
          ],
          [
           0.934675615212528
          ],
          [
           0.93668903803132
          ],
          [
           0.941834451901566
          ],
          [
           0.932662192393736
          ],
          [
           0.9362416107382552
          ],
          [
           0.9360178970917226
          ],
          [
           0.93668903803132
          ],
          [
           0.9404921700223714
          ],
          [
           0.9395973154362416
          ],
          [
           0.9422818791946308
          ],
          [
           0.9371364653243848
          ],
          [
           0.9319910514541389
          ],
          [
           0.9369127516778524
          ],
          [
           0.938702460850112
          ],
          [
           0.9407158836689038
          ],
          [
           0.9357941834451902
          ],
          [
           0.9373601789709172
          ],
          [
           0.9404921700223714
          ],
          [
           0.929530201342282
          ],
          [
           0.9333333333333332
          ],
          [
           0.9431767337807606
          ],
          [
           0.9331096196868008
          ],
          [
           0.928635346756152
          ],
          [
           0.9409395973154362
          ],
          [
           0.9362416107382552
          ],
          [
           0.9373601789709172
          ],
          [
           0.9348993288590604
          ],
          [
           0.934228187919463
          ],
          [
           0.9413870246085012
          ],
          [
           0.9369127516778524
          ],
          [
           0.9411633109619688
          ],
          [
           0.939821029082774
          ],
          [
           0.94496644295302
          ],
          [
           0.9407158836689038
          ],
          [
           0.9348993288590604
          ],
          [
           0.937807606263982
          ],
          [
           0.9402684563758388
          ],
          [
           0.9337807606263984
          ],
          [
           0.9380313199105146
          ],
          [
           0.93668903803132
          ],
          [
           0.9373601789709172
          ],
          [
           0.9317673378076062
          ],
          [
           0.938702460850112
          ],
          [
           0.941834451901566
          ],
          [
           0.9375838926174496
          ],
          [
           0.930648769574944
          ],
          [
           0.9353467561521251
          ],
          [
           0.9315436241610738
          ],
          [
           0.9371364653243848
          ],
          [
           0.9413870246085012
          ],
          [
           0.93668903803132
          ],
          [
           0.932662192393736
          ],
          [
           0.930648769574944
          ],
          [
           0.9360178970917226
          ],
          [
           0.9416107382550336
          ],
          [
           0.9348993288590604
          ],
          [
           0.934228187919463
          ],
          [
           0.932662192393736
          ],
          [
           0.9380313199105146
          ],
          [
           0.9422818791946308
          ],
          [
           0.9373601789709172
          ],
          [
           0.9402684563758388
          ],
          [
           0.9411633109619688
          ],
          [
           0.9440715883668904
          ],
          [
           0.932662192393736
          ],
          [
           0.9331096196868008
          ],
          [
           0.9404921700223714
          ],
          [
           0.9353467561521251
          ],
          [
           0.9315436241610738
          ],
          [
           0.9369127516778524
          ],
          [
           0.9357941834451902
          ],
          [
           0.9409395973154362
          ],
          [
           0.937807606263982
          ],
          [
           0.9436241610738256
          ],
          [
           0.9429530201342282
          ],
          [
           0.9400447427293064
          ],
          [
           0.9409395973154362
          ],
          [
           0.9364653243847876
          ],
          [
           0.9299776286353468
          ],
          [
           0.9353467561521251
          ],
          [
           0.932662192393736
          ],
          [
           0.9353467561521251
          ],
          [
           0.9324384787472036
          ],
          [
           0.93668903803132
          ],
          [
           0.9360178970917226
          ],
          [
           0.934228187919463
          ],
          [
           0.938702460850112
          ],
          [
           0.9380313199105146
          ],
          [
           0.9335570469798656
          ],
          [
           0.9409395973154362
          ],
          [
           0.938255033557047
          ],
          [
           0.9302013422818792
          ],
          [
           0.9364653243847876
          ],
          [
           0.939821029082774
          ],
          [
           0.9404921700223714
          ],
          [
           0.9333333333333332
          ],
          [
           0.9357941834451902
          ],
          [
           0.9355704697986578
          ],
          [
           0.9391498881431768
          ],
          [
           0.9391498881431768
          ],
          [
           0.938702460850112
          ],
          [
           0.9371364653243848
          ],
          [
           0.9391498881431768
          ],
          [
           0.938255033557047
          ],
          [
           0.9375838926174496
          ],
          [
           0.9357941834451902
          ],
          [
           0.9351230425055927
          ],
          [
           0.9407158836689038
          ],
          [
           0.9302013422818792
          ],
          [
           0.9355704697986578
          ],
          [
           0.9360178970917226
          ],
          [
           0.9442953020134228
          ],
          [
           0.9344519015659956
          ],
          [
           0.9375838926174496
          ],
          [
           0.9375838926174496
          ],
          [
           0.9340044742729308
          ],
          [
           0.9369127516778524
          ],
          [
           0.9313199105145414
          ],
          [
           0.9310961968680088
          ],
          [
           0.9400447427293064
          ],
          [
           0.9362416107382552
          ],
          [
           0.938702460850112
          ],
          [
           0.9337807606263984
          ]
         ],
         "hovertemplate": "variable=0<br>accuracy=%{x}<br>hover_data_0=%{customdata[0]}<extra></extra>",
         "legendgroup": "0",
         "marker": {
          "color": "#636efa"
         },
         "name": "0",
         "notched": true,
         "offsetgroup": "0",
         "showlegend": false,
         "type": "box",
         "x": [
          0.9413870246085012,
          0.9393736017897092,
          0.938255033557047,
          0.9380313199105146,
          0.9351230425055927,
          0.9402684563758388,
          0.9344519015659956,
          0.9357941834451902,
          0.9373601789709172,
          0.9357941834451902,
          0.9315436241610738,
          0.930648769574944,
          0.9324384787472036,
          0.9360178970917226,
          0.9333333333333332,
          0.9384787472035794,
          0.9436241610738256,
          0.9340044742729308,
          0.9344519015659956,
          0.9375838926174496,
          0.9422818791946308,
          0.9348993288590604,
          0.934675615212528,
          0.9319910514541389,
          0.9373601789709172,
          0.9353467561521251,
          0.9445190156599552,
          0.9389261744966444,
          0.943847874720358,
          0.938255033557047,
          0.9369127516778524,
          0.9357941834451902,
          0.9315436241610738,
          0.9393736017897092,
          0.938702460850112,
          0.9407158836689038,
          0.9337807606263984,
          0.9355704697986578,
          0.9413870246085012,
          0.9364653243847876,
          0.9375838926174496,
          0.9340044742729308,
          0.9389261744966444,
          0.9362416107382552,
          0.9328859060402684,
          0.9442953020134228,
          0.9322147651006712,
          0.9328859060402684,
          0.9277404921700224,
          0.9362416107382552,
          0.9395973154362416,
          0.9357941834451902,
          0.9389261744966444,
          0.937807606263982,
          0.9333333333333332,
          0.93668903803132,
          0.9340044742729308,
          0.9331096196868008,
          0.932662192393736,
          0.9340044742729308,
          0.9333333333333332,
          0.9324384787472036,
          0.939821029082774,
          0.9371364653243848,
          0.932662192393736,
          0.9348993288590604,
          0.9413870246085012,
          0.9357941834451902,
          0.9348993288590604,
          0.9402684563758388,
          0.9257270693512304,
          0.9360178970917226,
          0.9407158836689038,
          0.9324384787472036,
          0.939821029082774,
          0.9384787472035794,
          0.93668903803132,
          0.941834451901566,
          0.9413870246085012,
          0.9304250559284116,
          0.9364653243847876,
          0.9310961968680088,
          0.9364653243847876,
          0.93668903803132,
          0.9373601789709172,
          0.943847874720358,
          0.934228187919463,
          0.941834451901566,
          0.9355704697986578,
          0.9393736017897092,
          0.934228187919463,
          0.934228187919463,
          0.93668903803132,
          0.930648769574944,
          0.9355704697986578,
          0.9344519015659956,
          0.9348993288590604,
          0.9404921700223714,
          0.9360178970917226,
          0.9373601789709172,
          0.9357941834451902,
          0.9328859060402684,
          0.9360178970917226,
          0.9384787472035794,
          0.9335570469798656,
          0.9371364653243848,
          0.9337807606263984,
          0.9380313199105146,
          0.937807606263982,
          0.9317673378076062,
          0.9393736017897092,
          0.9371364653243848,
          0.9353467561521251,
          0.9369127516778524,
          0.9353467561521251,
          0.9322147651006712,
          0.9355704697986578,
          0.9369127516778524,
          0.9371364653243848,
          0.9344519015659956,
          0.934228187919463,
          0.9360178970917226,
          0.9369127516778524,
          0.9308724832214764,
          0.934228187919463,
          0.9337807606263984,
          0.9402684563758388,
          0.9360178970917226,
          0.9337807606263984,
          0.9400447427293064,
          0.9340044742729308,
          0.9369127516778524,
          0.9360178970917226,
          0.938702460850112,
          0.9416107382550336,
          0.9335570469798656,
          0.9393736017897092,
          0.9427293064876956,
          0.9391498881431768,
          0.9384787472035794,
          0.9351230425055927,
          0.9416107382550336,
          0.937807606263982,
          0.9333333333333332,
          0.939821029082774,
          0.9333333333333332,
          0.941834451901566,
          0.9407158836689038,
          0.9333333333333332,
          0.9409395973154362,
          0.9319910514541389,
          0.9308724832214764,
          0.9431767337807606,
          0.934675615212528,
          0.9319910514541389,
          0.9373601789709172,
          0.9353467561521251,
          0.9304250559284116,
          0.9407158836689038,
          0.9400447427293064,
          0.9348993288590604,
          0.9422818791946308,
          0.928635346756152,
          0.9364653243847876,
          0.9369127516778524,
          0.929082774049217,
          0.9337807606263984,
          0.9322147651006712,
          0.9340044742729308,
          0.9393736017897092,
          0.9335570469798656,
          0.9409395973154362,
          0.9364653243847876,
          0.938702460850112,
          0.938255033557047,
          0.9319910514541389,
          0.9402684563758388,
          0.9420581655480984,
          0.9353467561521251,
          0.9355704697986578,
          0.9371364653243848,
          0.9355704697986578,
          0.932662192393736,
          0.937807606263982,
          0.9389261744966444,
          0.9380313199105146,
          0.9436241610738256,
          0.9400447427293064,
          0.9317673378076062,
          0.9340044742729308,
          0.9380313199105146,
          0.9353467561521251,
          0.9313199105145414,
          0.939821029082774,
          0.9409395973154362,
          0.9315436241610738,
          0.930648769574944,
          0.9351230425055927,
          0.9404921700223714,
          0.9404921700223714,
          0.934675615212528,
          0.9304250559284116,
          0.9348993288590604,
          0.938255033557047,
          0.93668903803132,
          0.9413870246085012,
          0.9380313199105146,
          0.9416107382550336,
          0.9380313199105146,
          0.9331096196868008,
          0.9364653243847876,
          0.9395973154362416,
          0.934228187919463,
          0.9348993288590604,
          0.9393736017897092,
          0.9369127516778524,
          0.9400447427293064,
          0.9351230425055927,
          0.9351230425055927,
          0.9313199105145414,
          0.9297539149888144,
          0.9357941834451902,
          0.9369127516778524,
          0.9351230425055927,
          0.934675615212528,
          0.932662192393736,
          0.93668903803132,
          0.9375838926174496,
          0.938255033557047,
          0.9357941834451902,
          0.9391498881431768,
          0.9389261744966444,
          0.9353467561521251,
          0.9402684563758388,
          0.9400447427293064,
          0.9395973154362416,
          0.943847874720358,
          0.9393736017897092,
          0.9351230425055927,
          0.9391498881431768,
          0.9308724832214764,
          0.937807606263982,
          0.934228187919463,
          0.9315436241610738,
          0.939821029082774,
          0.9324384787472036,
          0.9389261744966444,
          0.9355704697986578,
          0.9371364653243848,
          0.9375838926174496,
          0.9391498881431768,
          0.9395973154362416,
          0.9353467561521251,
          0.9393736017897092,
          0.9360178970917226,
          0.9340044742729308,
          0.932662192393736,
          0.934675615212528,
          0.937807606263982,
          0.9333333333333332,
          0.9375838926174496,
          0.9357941834451902,
          0.9400447427293064,
          0.937807606263982,
          0.9369127516778524,
          0.9375838926174496,
          0.9369127516778524,
          0.939821029082774,
          0.9324384787472036,
          0.937807606263982,
          0.938702460850112,
          0.937807606263982,
          0.9384787472035794,
          0.938255033557047,
          0.9371364653243848,
          0.9393736017897092,
          0.934675615212528,
          0.9360178970917226,
          0.9328859060402684,
          0.932662192393736,
          0.9375838926174496,
          0.9375838926174496,
          0.9391498881431768,
          0.9402684563758388,
          0.9384787472035794,
          0.9348993288590604,
          0.9391498881431768,
          0.9355704697986578,
          0.9436241610738256,
          0.9373601789709172,
          0.9299776286353468,
          0.9322147651006712,
          0.9395973154362416,
          0.9393736017897092,
          0.9440715883668904,
          0.9375838926174496,
          0.9360178970917226,
          0.9348993288590604,
          0.9420581655480984,
          0.934228187919463,
          0.937807606263982,
          0.9404921700223714,
          0.9315436241610738,
          0.9351230425055927,
          0.9331096196868008,
          0.9362416107382552,
          0.934675615212528,
          0.9348993288590604,
          0.9391498881431768,
          0.934675615212528,
          0.9369127516778524,
          0.9324384787472036,
          0.934675615212528,
          0.9395973154362416,
          0.9313199105145414,
          0.938702460850112,
          0.9393736017897092,
          0.9395973154362416,
          0.9371364653243848,
          0.9324384787472036,
          0.938702460850112,
          0.9384787472035794,
          0.9369127516778524,
          0.9322147651006712,
          0.9413870246085012,
          0.9348993288590604,
          0.9353467561521251,
          0.9353467561521251,
          0.934675615212528,
          0.9395973154362416,
          0.937807606263982,
          0.9369127516778524,
          0.9427293064876956,
          0.9353467561521251,
          0.9402684563758388,
          0.938255033557047,
          0.9373601789709172,
          0.9310961968680088,
          0.9404921700223714,
          0.9373601789709172,
          0.9375838926174496,
          0.9362416107382552,
          0.9369127516778524,
          0.9380313199105146,
          0.9344519015659956,
          0.9411633109619688,
          0.93668903803132,
          0.938255033557047,
          0.9373601789709172,
          0.9362416107382552,
          0.9324384787472036,
          0.9369127516778524,
          0.9427293064876956,
          0.934675615212528,
          0.9416107382550336,
          0.9348993288590604,
          0.9416107382550336,
          0.9371364653243848,
          0.939821029082774,
          0.9373601789709172,
          0.9324384787472036,
          0.9324384787472036,
          0.9402684563758388,
          0.9411633109619688,
          0.9344519015659956,
          0.9384787472035794,
          0.941834451901566,
          0.9333333333333332,
          0.9324384787472036,
          0.9393736017897092,
          0.941834451901566,
          0.9373601789709172,
          0.934675615212528,
          0.9400447427293064,
          0.9328859060402684,
          0.9353467561521251,
          0.9344519015659956,
          0.9369127516778524,
          0.93668903803132,
          0.9425055928411632,
          0.9308724832214764,
          0.94496644295302,
          0.9357941834451902,
          0.9425055928411632,
          0.9371364653243848,
          0.93668903803132,
          0.9371364653243848,
          0.9333333333333332,
          0.9371364653243848,
          0.9351230425055927,
          0.9447427293064876,
          0.938255033557047,
          0.9364653243847876,
          0.9335570469798656,
          0.9328859060402684,
          0.9322147651006712,
          0.9328859060402684,
          0.9353467561521251,
          0.93668903803132,
          0.9348993288590604,
          0.937807606263982,
          0.9402684563758388,
          0.934675615212528,
          0.9362416107382552,
          0.9322147651006712,
          0.934675615212528,
          0.9360178970917226,
          0.9360178970917226,
          0.9319910514541389,
          0.9351230425055927,
          0.9344519015659956,
          0.93668903803132,
          0.9351230425055927,
          0.9337807606263984,
          0.9357941834451902,
          0.9389261744966444,
          0.9357941834451902,
          0.9364653243847876,
          0.9353467561521251,
          0.9384787472035794,
          0.9351230425055927,
          0.93668903803132,
          0.938255033557047,
          0.9375838926174496,
          0.9360178970917226,
          0.9380313199105146,
          0.928635346756152,
          0.9335570469798656,
          0.9353467561521251,
          0.9371364653243848,
          0.9369127516778524,
          0.9360178970917226,
          0.9340044742729308,
          0.929082774049217,
          0.9380313199105146,
          0.9324384787472036,
          0.932662192393736,
          0.934228187919463,
          0.937807606263982,
          0.9362416107382552,
          0.9357941834451902,
          0.9413870246085012,
          0.939821029082774,
          0.938255033557047,
          0.9416107382550336,
          0.9351230425055927,
          0.9279642058165548,
          0.9364653243847876,
          0.9277404921700224,
          0.9375838926174496,
          0.9328859060402684,
          0.938702460850112,
          0.939821029082774,
          0.9297539149888144,
          0.9351230425055927,
          0.9319910514541389,
          0.9331096196868008,
          0.9322147651006712,
          0.9351230425055927,
          0.9353467561521251,
          0.9288590604026844,
          0.9369127516778524,
          0.9373601789709172,
          0.9308724832214764,
          0.9362416107382552,
          0.9333333333333332,
          0.9413870246085012,
          0.9373601789709172,
          0.9357941834451902,
          0.934228187919463,
          0.9384787472035794,
          0.9353467561521251,
          0.9384787472035794,
          0.9333333333333332,
          0.9416107382550336,
          0.932662192393736,
          0.9335570469798656,
          0.929082774049217,
          0.9362416107382552,
          0.938702460850112,
          0.9369127516778524,
          0.9402684563758388,
          0.9436241610738256,
          0.934228187919463,
          0.928635346756152,
          0.9391498881431768,
          0.9355704697986578,
          0.9380313199105146,
          0.9364653243847876,
          0.9322147651006712,
          0.9308724832214764,
          0.9364653243847876,
          0.939821029082774,
          0.9333333333333332,
          0.9380313199105146,
          0.9357941834451902,
          0.9340044742729308,
          0.938702460850112,
          0.934228187919463,
          0.9360178970917226,
          0.9420581655480984,
          0.9364653243847876,
          0.9335570469798656,
          0.93668903803132,
          0.9362416107382552,
          0.9389261744966444,
          0.9337807606263984,
          0.934228187919463,
          0.9357941834451902,
          0.9373601789709172,
          0.9360178970917226,
          0.9389261744966444,
          0.9375838926174496,
          0.9319910514541389,
          0.93668903803132,
          0.9360178970917226,
          0.9413870246085012,
          0.9302013422818792,
          0.9315436241610738,
          0.9427293064876956,
          0.93668903803132,
          0.9355704697986578,
          0.9369127516778524,
          0.938255033557047,
          0.938255033557047,
          0.9344519015659956,
          0.9420581655480984,
          0.9299776286353468,
          0.9324384787472036,
          0.9411633109619688,
          0.9308724832214764,
          0.9344519015659956,
          0.93668903803132,
          0.9364653243847876,
          0.9369127516778524,
          0.9384787472035794,
          0.9364653243847876,
          0.9389261744966444,
          0.9442953020134228,
          0.9362416107382552,
          0.9351230425055927,
          0.938255033557047,
          0.9384787472035794,
          0.9362416107382552,
          0.943847874720358,
          0.9344519015659956,
          0.9360178970917226,
          0.9375838926174496,
          0.9391498881431768,
          0.9333333333333332,
          0.9322147651006712,
          0.9400447427293064,
          0.941834451901566,
          0.9328859060402684,
          0.9384787472035794,
          0.9431767337807606,
          0.9304250559284116,
          0.9413870246085012,
          0.9400447427293064,
          0.930648769574944,
          0.9407158836689038,
          0.9373601789709172,
          0.9369127516778524,
          0.9335570469798656,
          0.9369127516778524,
          0.9351230425055927,
          0.9360178970917226,
          0.93668903803132,
          0.9355704697986578,
          0.9369127516778524,
          0.9373601789709172,
          0.9400447427293064,
          0.9360178970917226,
          0.9344519015659956,
          0.9364653243847876,
          0.9407158836689038,
          0.9442953020134228,
          0.9362416107382552,
          0.9393736017897092,
          0.9299776286353468,
          0.9395973154362416,
          0.9375838926174496,
          0.939821029082774,
          0.9400447427293064,
          0.9360178970917226,
          0.9429530201342282,
          0.9411633109619688,
          0.9364653243847876,
          0.9308724832214764,
          0.9324384787472036,
          0.9400447427293064,
          0.9364653243847876,
          0.9328859060402684,
          0.9384787472035794,
          0.9355704697986578,
          0.9393736017897092,
          0.9380313199105146,
          0.9293064876957494,
          0.937807606263982,
          0.9411633109619688,
          0.9360178970917226,
          0.934675615212528,
          0.9362416107382552,
          0.9369127516778524,
          0.9348993288590604,
          0.937807606263982,
          0.9317673378076062,
          0.9315436241610738,
          0.9335570469798656,
          0.932662192393736,
          0.9467561521252796,
          0.9331096196868008,
          0.9322147651006712,
          0.9391498881431768,
          0.9355704697986578,
          0.9340044742729308,
          0.9344519015659956,
          0.929530201342282,
          0.938702460850112,
          0.9389261744966444,
          0.9279642058165548,
          0.9427293064876956,
          0.937807606263982,
          0.9331096196868008,
          0.932662192393736,
          0.9331096196868008,
          0.9348993288590604,
          0.9317673378076062,
          0.9337807606263984,
          0.9337807606263984,
          0.937807606263982,
          0.9384787472035794,
          0.9380313199105146,
          0.9351230425055927,
          0.9416107382550336,
          0.939821029082774,
          0.93668903803132,
          0.9411633109619688,
          0.9304250559284116,
          0.9322147651006712,
          0.9364653243847876,
          0.941834451901566,
          0.9391498881431768,
          0.9322147651006712,
          0.929530201342282,
          0.9331096196868008,
          0.9391498881431768,
          0.9351230425055927,
          0.938255033557047,
          0.9328859060402684,
          0.9384787472035794,
          0.9375838926174496,
          0.934675615212528,
          0.9364653243847876,
          0.9313199105145414,
          0.9393736017897092,
          0.939821029082774,
          0.9364653243847876,
          0.9371364653243848,
          0.939821029082774,
          0.93668903803132,
          0.9380313199105146,
          0.9393736017897092,
          0.9391498881431768,
          0.9279642058165548,
          0.9324384787472036,
          0.9362416107382552,
          0.938255033557047,
          0.934228187919463,
          0.9328859060402684,
          0.9395973154362416,
          0.9360178970917226,
          0.9440715883668904,
          0.9389261744966444,
          0.9400447427293064,
          0.9315436241610738,
          0.9395973154362416,
          0.9407158836689038,
          0.9357941834451902,
          0.93668903803132,
          0.9380313199105146,
          0.9364653243847876,
          0.9380313199105146,
          0.9393736017897092,
          0.9355704697986578,
          0.9364653243847876,
          0.9369127516778524,
          0.9384787472035794,
          0.9351230425055927,
          0.9322147651006712,
          0.9360178970917226,
          0.9351230425055927,
          0.9362416107382552,
          0.9416107382550336,
          0.9322147651006712,
          0.932662192393736,
          0.9360178970917226,
          0.9402684563758388,
          0.9371364653243848,
          0.9373601789709172,
          0.9348993288590604,
          0.9375838926174496,
          0.93668903803132,
          0.9380313199105146,
          0.9335570469798656,
          0.92751677852349,
          0.937807606263982,
          0.939821029082774,
          0.9384787472035794,
          0.9333333333333332,
          0.9344519015659956,
          0.9380313199105146,
          0.9344519015659956,
          0.938255033557047,
          0.9360178970917226,
          0.9353467561521251,
          0.9371364653243848,
          0.9391498881431768,
          0.9402684563758388,
          0.934228187919463,
          0.9351230425055927,
          0.9427293064876956,
          0.93668903803132,
          0.9331096196868008,
          0.9324384787472036,
          0.9304250559284116,
          0.9355704697986578,
          0.9391498881431768,
          0.9284116331096196,
          0.9315436241610738,
          0.9297539149888144,
          0.9348993288590604,
          0.9360178970917226,
          0.9369127516778524,
          0.937807606263982,
          0.9333333333333332,
          0.9263982102908276,
          0.9393736017897092,
          0.934675615212528,
          0.9416107382550336,
          0.9357941834451902,
          0.9319910514541389,
          0.9360178970917226,
          0.937807606263982,
          0.9315436241610738,
          0.938255033557047,
          0.937807606263982,
          0.93668903803132,
          0.9351230425055927,
          0.9355704697986578,
          0.9440715883668904,
          0.9362416107382552,
          0.934675615212528,
          0.9357941834451902,
          0.9322147651006712,
          0.9272930648769576,
          0.9380313199105146,
          0.93668903803132,
          0.9331096196868008,
          0.9425055928411632,
          0.938255033557047,
          0.9369127516778524,
          0.938255033557047,
          0.929530201342282,
          0.9371364653243848,
          0.938255033557047,
          0.9369127516778524,
          0.9355704697986578,
          0.9404921700223714,
          0.9404921700223714,
          0.9340044742729308,
          0.938702460850112,
          0.9391498881431768,
          0.9375838926174496,
          0.9380313199105146,
          0.93668903803132,
          0.9409395973154362,
          0.93668903803132,
          0.9369127516778524,
          0.9297539149888144,
          0.9364653243847876,
          0.9337807606263984,
          0.9357941834451902,
          0.934228187919463,
          0.9279642058165548,
          0.9335570469798656,
          0.93668903803132,
          0.9331096196868008,
          0.93668903803132,
          0.9364653243847876,
          0.928635346756152,
          0.9375838926174496,
          0.934228187919463,
          0.9371364653243848,
          0.9463087248322148,
          0.9340044742729308,
          0.9324384787472036,
          0.9357941834451902,
          0.9333333333333332,
          0.9351230425055927,
          0.937807606263982,
          0.9380313199105146,
          0.9380313199105146,
          0.934675615212528,
          0.934675615212528,
          0.934675615212528,
          0.93668903803132,
          0.9335570469798656,
          0.9297539149888144,
          0.938255033557047,
          0.9389261744966444,
          0.938702460850112,
          0.9362416107382552,
          0.9413870246085012,
          0.9355704697986578,
          0.9357941834451902,
          0.9335570469798656,
          0.937807606263982,
          0.9348993288590604,
          0.9328859060402684,
          0.9404921700223714,
          0.9304250559284116,
          0.93668903803132,
          0.9407158836689038,
          0.9348993288590604,
          0.9395973154362416,
          0.9348993288590604,
          0.9340044742729308,
          0.9384787472035794,
          0.9413870246085012,
          0.9348993288590604,
          0.9328859060402684,
          0.9324384787472036,
          0.9360178970917226,
          0.93668903803132,
          0.9362416107382552,
          0.9302013422818792,
          0.938255033557047,
          0.9310961968680088,
          0.9355704697986578,
          0.9380313199105146,
          0.9389261744966444,
          0.9353467561521251,
          0.934228187919463,
          0.9357941834451902,
          0.9360178970917226,
          0.9353467561521251,
          0.9460850111856824,
          0.9411633109619688,
          0.937807606263982,
          0.9357941834451902,
          0.9315436241610738,
          0.9362416107382552,
          0.9357941834451902,
          0.9351230425055927,
          0.937807606263982,
          0.9364653243847876,
          0.9344519015659956,
          0.9425055928411632,
          0.93668903803132,
          0.9369127516778524,
          0.934228187919463,
          0.9413870246085012,
          0.9411633109619688,
          0.9355704697986578,
          0.9357941834451902,
          0.9355704697986578,
          0.9333333333333332,
          0.9348993288590604,
          0.9364653243847876,
          0.9351230425055927,
          0.9411633109619688,
          0.9340044742729308,
          0.937807606263982,
          0.9360178970917226,
          0.9425055928411632,
          0.9393736017897092,
          0.934675615212528,
          0.93668903803132,
          0.941834451901566,
          0.932662192393736,
          0.9362416107382552,
          0.9360178970917226,
          0.93668903803132,
          0.9404921700223714,
          0.9395973154362416,
          0.9422818791946308,
          0.9371364653243848,
          0.9319910514541389,
          0.9369127516778524,
          0.938702460850112,
          0.9407158836689038,
          0.9357941834451902,
          0.9373601789709172,
          0.9404921700223714,
          0.929530201342282,
          0.9333333333333332,
          0.9431767337807606,
          0.9331096196868008,
          0.928635346756152,
          0.9409395973154362,
          0.9362416107382552,
          0.9373601789709172,
          0.9348993288590604,
          0.934228187919463,
          0.9413870246085012,
          0.9369127516778524,
          0.9411633109619688,
          0.939821029082774,
          0.94496644295302,
          0.9407158836689038,
          0.9348993288590604,
          0.937807606263982,
          0.9402684563758388,
          0.9337807606263984,
          0.9380313199105146,
          0.93668903803132,
          0.9373601789709172,
          0.9317673378076062,
          0.938702460850112,
          0.941834451901566,
          0.9375838926174496,
          0.930648769574944,
          0.9353467561521251,
          0.9315436241610738,
          0.9371364653243848,
          0.9413870246085012,
          0.93668903803132,
          0.932662192393736,
          0.930648769574944,
          0.9360178970917226,
          0.9416107382550336,
          0.9348993288590604,
          0.934228187919463,
          0.932662192393736,
          0.9380313199105146,
          0.9422818791946308,
          0.9373601789709172,
          0.9402684563758388,
          0.9411633109619688,
          0.9440715883668904,
          0.932662192393736,
          0.9331096196868008,
          0.9404921700223714,
          0.9353467561521251,
          0.9315436241610738,
          0.9369127516778524,
          0.9357941834451902,
          0.9409395973154362,
          0.937807606263982,
          0.9436241610738256,
          0.9429530201342282,
          0.9400447427293064,
          0.9409395973154362,
          0.9364653243847876,
          0.9299776286353468,
          0.9353467561521251,
          0.932662192393736,
          0.9353467561521251,
          0.9324384787472036,
          0.93668903803132,
          0.9360178970917226,
          0.934228187919463,
          0.938702460850112,
          0.9380313199105146,
          0.9335570469798656,
          0.9409395973154362,
          0.938255033557047,
          0.9302013422818792,
          0.9364653243847876,
          0.939821029082774,
          0.9404921700223714,
          0.9333333333333332,
          0.9357941834451902,
          0.9355704697986578,
          0.9391498881431768,
          0.9391498881431768,
          0.938702460850112,
          0.9371364653243848,
          0.9391498881431768,
          0.938255033557047,
          0.9375838926174496,
          0.9357941834451902,
          0.9351230425055927,
          0.9407158836689038,
          0.9302013422818792,
          0.9355704697986578,
          0.9360178970917226,
          0.9442953020134228,
          0.9344519015659956,
          0.9375838926174496,
          0.9375838926174496,
          0.9340044742729308,
          0.9369127516778524,
          0.9313199105145414,
          0.9310961968680088,
          0.9400447427293064,
          0.9362416107382552,
          0.938702460850112,
          0.9337807606263984
         ],
         "xaxis": "x2",
         "yaxis": "y2"
        }
       ],
       "layout": {
        "barmode": "relative",
        "legend": {
         "title": {
          "text": "variable"
         },
         "tracegroupgap": 0
        },
        "margin": {
         "t": 60
        },
        "showlegend": false,
        "template": {
         "data": {
          "bar": [
           {
            "error_x": {
             "color": "#2a3f5f"
            },
            "error_y": {
             "color": "#2a3f5f"
            },
            "marker": {
             "line": {
              "color": "#E5ECF6",
              "width": 0.5
             },
             "pattern": {
              "fillmode": "overlay",
              "size": 10,
              "solidity": 0.2
             }
            },
            "type": "bar"
           }
          ],
          "barpolar": [
           {
            "marker": {
             "line": {
              "color": "#E5ECF6",
              "width": 0.5
             },
             "pattern": {
              "fillmode": "overlay",
              "size": 10,
              "solidity": 0.2
             }
            },
            "type": "barpolar"
           }
          ],
          "carpet": [
           {
            "aaxis": {
             "endlinecolor": "#2a3f5f",
             "gridcolor": "white",
             "linecolor": "white",
             "minorgridcolor": "white",
             "startlinecolor": "#2a3f5f"
            },
            "baxis": {
             "endlinecolor": "#2a3f5f",
             "gridcolor": "white",
             "linecolor": "white",
             "minorgridcolor": "white",
             "startlinecolor": "#2a3f5f"
            },
            "type": "carpet"
           }
          ],
          "choropleth": [
           {
            "colorbar": {
             "outlinewidth": 0,
             "ticks": ""
            },
            "type": "choropleth"
           }
          ],
          "contour": [
           {
            "colorbar": {
             "outlinewidth": 0,
             "ticks": ""
            },
            "colorscale": [
             [
              0,
              "#0d0887"
             ],
             [
              0.1111111111111111,
              "#46039f"
             ],
             [
              0.2222222222222222,
              "#7201a8"
             ],
             [
              0.3333333333333333,
              "#9c179e"
             ],
             [
              0.4444444444444444,
              "#bd3786"
             ],
             [
              0.5555555555555556,
              "#d8576b"
             ],
             [
              0.6666666666666666,
              "#ed7953"
             ],
             [
              0.7777777777777778,
              "#fb9f3a"
             ],
             [
              0.8888888888888888,
              "#fdca26"
             ],
             [
              1,
              "#f0f921"
             ]
            ],
            "type": "contour"
           }
          ],
          "contourcarpet": [
           {
            "colorbar": {
             "outlinewidth": 0,
             "ticks": ""
            },
            "type": "contourcarpet"
           }
          ],
          "heatmap": [
           {
            "colorbar": {
             "outlinewidth": 0,
             "ticks": ""
            },
            "colorscale": [
             [
              0,
              "#0d0887"
             ],
             [
              0.1111111111111111,
              "#46039f"
             ],
             [
              0.2222222222222222,
              "#7201a8"
             ],
             [
              0.3333333333333333,
              "#9c179e"
             ],
             [
              0.4444444444444444,
              "#bd3786"
             ],
             [
              0.5555555555555556,
              "#d8576b"
             ],
             [
              0.6666666666666666,
              "#ed7953"
             ],
             [
              0.7777777777777778,
              "#fb9f3a"
             ],
             [
              0.8888888888888888,
              "#fdca26"
             ],
             [
              1,
              "#f0f921"
             ]
            ],
            "type": "heatmap"
           }
          ],
          "heatmapgl": [
           {
            "colorbar": {
             "outlinewidth": 0,
             "ticks": ""
            },
            "colorscale": [
             [
              0,
              "#0d0887"
             ],
             [
              0.1111111111111111,
              "#46039f"
             ],
             [
              0.2222222222222222,
              "#7201a8"
             ],
             [
              0.3333333333333333,
              "#9c179e"
             ],
             [
              0.4444444444444444,
              "#bd3786"
             ],
             [
              0.5555555555555556,
              "#d8576b"
             ],
             [
              0.6666666666666666,
              "#ed7953"
             ],
             [
              0.7777777777777778,
              "#fb9f3a"
             ],
             [
              0.8888888888888888,
              "#fdca26"
             ],
             [
              1,
              "#f0f921"
             ]
            ],
            "type": "heatmapgl"
           }
          ],
          "histogram": [
           {
            "marker": {
             "pattern": {
              "fillmode": "overlay",
              "size": 10,
              "solidity": 0.2
             }
            },
            "type": "histogram"
           }
          ],
          "histogram2d": [
           {
            "colorbar": {
             "outlinewidth": 0,
             "ticks": ""
            },
            "colorscale": [
             [
              0,
              "#0d0887"
             ],
             [
              0.1111111111111111,
              "#46039f"
             ],
             [
              0.2222222222222222,
              "#7201a8"
             ],
             [
              0.3333333333333333,
              "#9c179e"
             ],
             [
              0.4444444444444444,
              "#bd3786"
             ],
             [
              0.5555555555555556,
              "#d8576b"
             ],
             [
              0.6666666666666666,
              "#ed7953"
             ],
             [
              0.7777777777777778,
              "#fb9f3a"
             ],
             [
              0.8888888888888888,
              "#fdca26"
             ],
             [
              1,
              "#f0f921"
             ]
            ],
            "type": "histogram2d"
           }
          ],
          "histogram2dcontour": [
           {
            "colorbar": {
             "outlinewidth": 0,
             "ticks": ""
            },
            "colorscale": [
             [
              0,
              "#0d0887"
             ],
             [
              0.1111111111111111,
              "#46039f"
             ],
             [
              0.2222222222222222,
              "#7201a8"
             ],
             [
              0.3333333333333333,
              "#9c179e"
             ],
             [
              0.4444444444444444,
              "#bd3786"
             ],
             [
              0.5555555555555556,
              "#d8576b"
             ],
             [
              0.6666666666666666,
              "#ed7953"
             ],
             [
              0.7777777777777778,
              "#fb9f3a"
             ],
             [
              0.8888888888888888,
              "#fdca26"
             ],
             [
              1,
              "#f0f921"
             ]
            ],
            "type": "histogram2dcontour"
           }
          ],
          "mesh3d": [
           {
            "colorbar": {
             "outlinewidth": 0,
             "ticks": ""
            },
            "type": "mesh3d"
           }
          ],
          "parcoords": [
           {
            "line": {
             "colorbar": {
              "outlinewidth": 0,
              "ticks": ""
             }
            },
            "type": "parcoords"
           }
          ],
          "pie": [
           {
            "automargin": true,
            "type": "pie"
           }
          ],
          "scatter": [
           {
            "marker": {
             "colorbar": {
              "outlinewidth": 0,
              "ticks": ""
             }
            },
            "type": "scatter"
           }
          ],
          "scatter3d": [
           {
            "line": {
             "colorbar": {
              "outlinewidth": 0,
              "ticks": ""
             }
            },
            "marker": {
             "colorbar": {
              "outlinewidth": 0,
              "ticks": ""
             }
            },
            "type": "scatter3d"
           }
          ],
          "scattercarpet": [
           {
            "marker": {
             "colorbar": {
              "outlinewidth": 0,
              "ticks": ""
             }
            },
            "type": "scattercarpet"
           }
          ],
          "scattergeo": [
           {
            "marker": {
             "colorbar": {
              "outlinewidth": 0,
              "ticks": ""
             }
            },
            "type": "scattergeo"
           }
          ],
          "scattergl": [
           {
            "marker": {
             "colorbar": {
              "outlinewidth": 0,
              "ticks": ""
             }
            },
            "type": "scattergl"
           }
          ],
          "scattermapbox": [
           {
            "marker": {
             "colorbar": {
              "outlinewidth": 0,
              "ticks": ""
             }
            },
            "type": "scattermapbox"
           }
          ],
          "scatterpolar": [
           {
            "marker": {
             "colorbar": {
              "outlinewidth": 0,
              "ticks": ""
             }
            },
            "type": "scatterpolar"
           }
          ],
          "scatterpolargl": [
           {
            "marker": {
             "colorbar": {
              "outlinewidth": 0,
              "ticks": ""
             }
            },
            "type": "scatterpolargl"
           }
          ],
          "scatterternary": [
           {
            "marker": {
             "colorbar": {
              "outlinewidth": 0,
              "ticks": ""
             }
            },
            "type": "scatterternary"
           }
          ],
          "surface": [
           {
            "colorbar": {
             "outlinewidth": 0,
             "ticks": ""
            },
            "colorscale": [
             [
              0,
              "#0d0887"
             ],
             [
              0.1111111111111111,
              "#46039f"
             ],
             [
              0.2222222222222222,
              "#7201a8"
             ],
             [
              0.3333333333333333,
              "#9c179e"
             ],
             [
              0.4444444444444444,
              "#bd3786"
             ],
             [
              0.5555555555555556,
              "#d8576b"
             ],
             [
              0.6666666666666666,
              "#ed7953"
             ],
             [
              0.7777777777777778,
              "#fb9f3a"
             ],
             [
              0.8888888888888888,
              "#fdca26"
             ],
             [
              1,
              "#f0f921"
             ]
            ],
            "type": "surface"
           }
          ],
          "table": [
           {
            "cells": {
             "fill": {
              "color": "#EBF0F8"
             },
             "line": {
              "color": "white"
             }
            },
            "header": {
             "fill": {
              "color": "#C8D4E3"
             },
             "line": {
              "color": "white"
             }
            },
            "type": "table"
           }
          ]
         },
         "layout": {
          "annotationdefaults": {
           "arrowcolor": "#2a3f5f",
           "arrowhead": 0,
           "arrowwidth": 1
          },
          "autotypenumbers": "strict",
          "coloraxis": {
           "colorbar": {
            "outlinewidth": 0,
            "ticks": ""
           }
          },
          "colorscale": {
           "diverging": [
            [
             0,
             "#8e0152"
            ],
            [
             0.1,
             "#c51b7d"
            ],
            [
             0.2,
             "#de77ae"
            ],
            [
             0.3,
             "#f1b6da"
            ],
            [
             0.4,
             "#fde0ef"
            ],
            [
             0.5,
             "#f7f7f7"
            ],
            [
             0.6,
             "#e6f5d0"
            ],
            [
             0.7,
             "#b8e186"
            ],
            [
             0.8,
             "#7fbc41"
            ],
            [
             0.9,
             "#4d9221"
            ],
            [
             1,
             "#276419"
            ]
           ],
           "sequential": [
            [
             0,
             "#0d0887"
            ],
            [
             0.1111111111111111,
             "#46039f"
            ],
            [
             0.2222222222222222,
             "#7201a8"
            ],
            [
             0.3333333333333333,
             "#9c179e"
            ],
            [
             0.4444444444444444,
             "#bd3786"
            ],
            [
             0.5555555555555556,
             "#d8576b"
            ],
            [
             0.6666666666666666,
             "#ed7953"
            ],
            [
             0.7777777777777778,
             "#fb9f3a"
            ],
            [
             0.8888888888888888,
             "#fdca26"
            ],
            [
             1,
             "#f0f921"
            ]
           ],
           "sequentialminus": [
            [
             0,
             "#0d0887"
            ],
            [
             0.1111111111111111,
             "#46039f"
            ],
            [
             0.2222222222222222,
             "#7201a8"
            ],
            [
             0.3333333333333333,
             "#9c179e"
            ],
            [
             0.4444444444444444,
             "#bd3786"
            ],
            [
             0.5555555555555556,
             "#d8576b"
            ],
            [
             0.6666666666666666,
             "#ed7953"
            ],
            [
             0.7777777777777778,
             "#fb9f3a"
            ],
            [
             0.8888888888888888,
             "#fdca26"
            ],
            [
             1,
             "#f0f921"
            ]
           ]
          },
          "colorway": [
           "#636efa",
           "#EF553B",
           "#00cc96",
           "#ab63fa",
           "#FFA15A",
           "#19d3f3",
           "#FF6692",
           "#B6E880",
           "#FF97FF",
           "#FECB52"
          ],
          "font": {
           "color": "#2a3f5f"
          },
          "geo": {
           "bgcolor": "white",
           "lakecolor": "white",
           "landcolor": "#E5ECF6",
           "showlakes": true,
           "showland": true,
           "subunitcolor": "white"
          },
          "hoverlabel": {
           "align": "left"
          },
          "hovermode": "closest",
          "mapbox": {
           "style": "light"
          },
          "paper_bgcolor": "white",
          "plot_bgcolor": "#E5ECF6",
          "polar": {
           "angularaxis": {
            "gridcolor": "white",
            "linecolor": "white",
            "ticks": ""
           },
           "bgcolor": "#E5ECF6",
           "radialaxis": {
            "gridcolor": "white",
            "linecolor": "white",
            "ticks": ""
           }
          },
          "scene": {
           "xaxis": {
            "backgroundcolor": "#E5ECF6",
            "gridcolor": "white",
            "gridwidth": 2,
            "linecolor": "white",
            "showbackground": true,
            "ticks": "",
            "zerolinecolor": "white"
           },
           "yaxis": {
            "backgroundcolor": "#E5ECF6",
            "gridcolor": "white",
            "gridwidth": 2,
            "linecolor": "white",
            "showbackground": true,
            "ticks": "",
            "zerolinecolor": "white"
           },
           "zaxis": {
            "backgroundcolor": "#E5ECF6",
            "gridcolor": "white",
            "gridwidth": 2,
            "linecolor": "white",
            "showbackground": true,
            "ticks": "",
            "zerolinecolor": "white"
           }
          },
          "shapedefaults": {
           "line": {
            "color": "#2a3f5f"
           }
          },
          "ternary": {
           "aaxis": {
            "gridcolor": "white",
            "linecolor": "white",
            "ticks": ""
           },
           "baxis": {
            "gridcolor": "white",
            "linecolor": "white",
            "ticks": ""
           },
           "bgcolor": "#E5ECF6",
           "caxis": {
            "gridcolor": "white",
            "linecolor": "white",
            "ticks": ""
           }
          },
          "title": {
           "x": 0.05
          },
          "xaxis": {
           "automargin": true,
           "gridcolor": "white",
           "linecolor": "white",
           "ticks": "",
           "title": {
            "standoff": 15
           },
           "zerolinecolor": "white",
           "zerolinewidth": 2
          },
          "yaxis": {
           "automargin": true,
           "gridcolor": "white",
           "linecolor": "white",
           "ticks": "",
           "title": {
            "standoff": 15
           },
           "zerolinecolor": "white",
           "zerolinewidth": 2
          }
         }
        },
        "xaxis": {
         "anchor": "y",
         "domain": [
          0,
          1
         ],
         "title": {
          "text": "accuracy"
         }
        },
        "xaxis2": {
         "anchor": "y2",
         "domain": [
          0,
          1
         ],
         "matches": "x",
         "showgrid": true,
         "showticklabels": false
        },
        "yaxis": {
         "anchor": "x",
         "domain": [
          0,
          0.7326
         ],
         "title": {
          "text": "count"
         }
        },
        "yaxis2": {
         "anchor": "x2",
         "domain": [
          0.7426,
          1
         ],
         "matches": "y2",
         "showgrid": false,
         "showline": false,
         "showticklabels": false,
         "ticks": ""
        }
       }
      },
      "text/html": [
       "<div>                            <div id=\"6711b482-9c23-4b8d-beca-eee342cc87ee\" class=\"plotly-graph-div\" style=\"height:525px; width:100%;\"></div>            <script type=\"text/javascript\">                require([\"plotly\"], function(Plotly) {                    window.PLOTLYENV=window.PLOTLYENV || {};                                    if (document.getElementById(\"6711b482-9c23-4b8d-beca-eee342cc87ee\")) {                    Plotly.newPlot(                        \"6711b482-9c23-4b8d-beca-eee342cc87ee\",                        [{\"alignmentgroup\":\"True\",\"bingroup\":\"x\",\"hovertemplate\":\"variable=0<br>accuracy=%{x}<br>count=%{y}<extra></extra>\",\"legendgroup\":\"0\",\"marker\":{\"color\":\"#636efa\",\"pattern\":{\"shape\":\"\"}},\"name\":\"0\",\"offsetgroup\":\"0\",\"orientation\":\"v\",\"showlegend\":true,\"x\":[0.9413870246085012,0.9393736017897092,0.938255033557047,0.9380313199105146,0.9351230425055927,0.9402684563758388,0.9344519015659956,0.9357941834451902,0.9373601789709172,0.9357941834451902,0.9315436241610738,0.930648769574944,0.9324384787472036,0.9360178970917226,0.9333333333333332,0.9384787472035794,0.9436241610738256,0.9340044742729308,0.9344519015659956,0.9375838926174496,0.9422818791946308,0.9348993288590604,0.934675615212528,0.9319910514541389,0.9373601789709172,0.9353467561521251,0.9445190156599552,0.9389261744966444,0.943847874720358,0.938255033557047,0.9369127516778524,0.9357941834451902,0.9315436241610738,0.9393736017897092,0.938702460850112,0.9407158836689038,0.9337807606263984,0.9355704697986578,0.9413870246085012,0.9364653243847876,0.9375838926174496,0.9340044742729308,0.9389261744966444,0.9362416107382552,0.9328859060402684,0.9442953020134228,0.9322147651006712,0.9328859060402684,0.9277404921700224,0.9362416107382552,0.9395973154362416,0.9357941834451902,0.9389261744966444,0.937807606263982,0.9333333333333332,0.93668903803132,0.9340044742729308,0.9331096196868008,0.932662192393736,0.9340044742729308,0.9333333333333332,0.9324384787472036,0.939821029082774,0.9371364653243848,0.932662192393736,0.9348993288590604,0.9413870246085012,0.9357941834451902,0.9348993288590604,0.9402684563758388,0.9257270693512304,0.9360178970917226,0.9407158836689038,0.9324384787472036,0.939821029082774,0.9384787472035794,0.93668903803132,0.941834451901566,0.9413870246085012,0.9304250559284116,0.9364653243847876,0.9310961968680088,0.9364653243847876,0.93668903803132,0.9373601789709172,0.943847874720358,0.934228187919463,0.941834451901566,0.9355704697986578,0.9393736017897092,0.934228187919463,0.934228187919463,0.93668903803132,0.930648769574944,0.9355704697986578,0.9344519015659956,0.9348993288590604,0.9404921700223714,0.9360178970917226,0.9373601789709172,0.9357941834451902,0.9328859060402684,0.9360178970917226,0.9384787472035794,0.9335570469798656,0.9371364653243848,0.9337807606263984,0.9380313199105146,0.937807606263982,0.9317673378076062,0.9393736017897092,0.9371364653243848,0.9353467561521251,0.9369127516778524,0.9353467561521251,0.9322147651006712,0.9355704697986578,0.9369127516778524,0.9371364653243848,0.9344519015659956,0.934228187919463,0.9360178970917226,0.9369127516778524,0.9308724832214764,0.934228187919463,0.9337807606263984,0.9402684563758388,0.9360178970917226,0.9337807606263984,0.9400447427293064,0.9340044742729308,0.9369127516778524,0.9360178970917226,0.938702460850112,0.9416107382550336,0.9335570469798656,0.9393736017897092,0.9427293064876956,0.9391498881431768,0.9384787472035794,0.9351230425055927,0.9416107382550336,0.937807606263982,0.9333333333333332,0.939821029082774,0.9333333333333332,0.941834451901566,0.9407158836689038,0.9333333333333332,0.9409395973154362,0.9319910514541389,0.9308724832214764,0.9431767337807606,0.934675615212528,0.9319910514541389,0.9373601789709172,0.9353467561521251,0.9304250559284116,0.9407158836689038,0.9400447427293064,0.9348993288590604,0.9422818791946308,0.928635346756152,0.9364653243847876,0.9369127516778524,0.929082774049217,0.9337807606263984,0.9322147651006712,0.9340044742729308,0.9393736017897092,0.9335570469798656,0.9409395973154362,0.9364653243847876,0.938702460850112,0.938255033557047,0.9319910514541389,0.9402684563758388,0.9420581655480984,0.9353467561521251,0.9355704697986578,0.9371364653243848,0.9355704697986578,0.932662192393736,0.937807606263982,0.9389261744966444,0.9380313199105146,0.9436241610738256,0.9400447427293064,0.9317673378076062,0.9340044742729308,0.9380313199105146,0.9353467561521251,0.9313199105145414,0.939821029082774,0.9409395973154362,0.9315436241610738,0.930648769574944,0.9351230425055927,0.9404921700223714,0.9404921700223714,0.934675615212528,0.9304250559284116,0.9348993288590604,0.938255033557047,0.93668903803132,0.9413870246085012,0.9380313199105146,0.9416107382550336,0.9380313199105146,0.9331096196868008,0.9364653243847876,0.9395973154362416,0.934228187919463,0.9348993288590604,0.9393736017897092,0.9369127516778524,0.9400447427293064,0.9351230425055927,0.9351230425055927,0.9313199105145414,0.9297539149888144,0.9357941834451902,0.9369127516778524,0.9351230425055927,0.934675615212528,0.932662192393736,0.93668903803132,0.9375838926174496,0.938255033557047,0.9357941834451902,0.9391498881431768,0.9389261744966444,0.9353467561521251,0.9402684563758388,0.9400447427293064,0.9395973154362416,0.943847874720358,0.9393736017897092,0.9351230425055927,0.9391498881431768,0.9308724832214764,0.937807606263982,0.934228187919463,0.9315436241610738,0.939821029082774,0.9324384787472036,0.9389261744966444,0.9355704697986578,0.9371364653243848,0.9375838926174496,0.9391498881431768,0.9395973154362416,0.9353467561521251,0.9393736017897092,0.9360178970917226,0.9340044742729308,0.932662192393736,0.934675615212528,0.937807606263982,0.9333333333333332,0.9375838926174496,0.9357941834451902,0.9400447427293064,0.937807606263982,0.9369127516778524,0.9375838926174496,0.9369127516778524,0.939821029082774,0.9324384787472036,0.937807606263982,0.938702460850112,0.937807606263982,0.9384787472035794,0.938255033557047,0.9371364653243848,0.9393736017897092,0.934675615212528,0.9360178970917226,0.9328859060402684,0.932662192393736,0.9375838926174496,0.9375838926174496,0.9391498881431768,0.9402684563758388,0.9384787472035794,0.9348993288590604,0.9391498881431768,0.9355704697986578,0.9436241610738256,0.9373601789709172,0.9299776286353468,0.9322147651006712,0.9395973154362416,0.9393736017897092,0.9440715883668904,0.9375838926174496,0.9360178970917226,0.9348993288590604,0.9420581655480984,0.934228187919463,0.937807606263982,0.9404921700223714,0.9315436241610738,0.9351230425055927,0.9331096196868008,0.9362416107382552,0.934675615212528,0.9348993288590604,0.9391498881431768,0.934675615212528,0.9369127516778524,0.9324384787472036,0.934675615212528,0.9395973154362416,0.9313199105145414,0.938702460850112,0.9393736017897092,0.9395973154362416,0.9371364653243848,0.9324384787472036,0.938702460850112,0.9384787472035794,0.9369127516778524,0.9322147651006712,0.9413870246085012,0.9348993288590604,0.9353467561521251,0.9353467561521251,0.934675615212528,0.9395973154362416,0.937807606263982,0.9369127516778524,0.9427293064876956,0.9353467561521251,0.9402684563758388,0.938255033557047,0.9373601789709172,0.9310961968680088,0.9404921700223714,0.9373601789709172,0.9375838926174496,0.9362416107382552,0.9369127516778524,0.9380313199105146,0.9344519015659956,0.9411633109619688,0.93668903803132,0.938255033557047,0.9373601789709172,0.9362416107382552,0.9324384787472036,0.9369127516778524,0.9427293064876956,0.934675615212528,0.9416107382550336,0.9348993288590604,0.9416107382550336,0.9371364653243848,0.939821029082774,0.9373601789709172,0.9324384787472036,0.9324384787472036,0.9402684563758388,0.9411633109619688,0.9344519015659956,0.9384787472035794,0.941834451901566,0.9333333333333332,0.9324384787472036,0.9393736017897092,0.941834451901566,0.9373601789709172,0.934675615212528,0.9400447427293064,0.9328859060402684,0.9353467561521251,0.9344519015659956,0.9369127516778524,0.93668903803132,0.9425055928411632,0.9308724832214764,0.94496644295302,0.9357941834451902,0.9425055928411632,0.9371364653243848,0.93668903803132,0.9371364653243848,0.9333333333333332,0.9371364653243848,0.9351230425055927,0.9447427293064876,0.938255033557047,0.9364653243847876,0.9335570469798656,0.9328859060402684,0.9322147651006712,0.9328859060402684,0.9353467561521251,0.93668903803132,0.9348993288590604,0.937807606263982,0.9402684563758388,0.934675615212528,0.9362416107382552,0.9322147651006712,0.934675615212528,0.9360178970917226,0.9360178970917226,0.9319910514541389,0.9351230425055927,0.9344519015659956,0.93668903803132,0.9351230425055927,0.9337807606263984,0.9357941834451902,0.9389261744966444,0.9357941834451902,0.9364653243847876,0.9353467561521251,0.9384787472035794,0.9351230425055927,0.93668903803132,0.938255033557047,0.9375838926174496,0.9360178970917226,0.9380313199105146,0.928635346756152,0.9335570469798656,0.9353467561521251,0.9371364653243848,0.9369127516778524,0.9360178970917226,0.9340044742729308,0.929082774049217,0.9380313199105146,0.9324384787472036,0.932662192393736,0.934228187919463,0.937807606263982,0.9362416107382552,0.9357941834451902,0.9413870246085012,0.939821029082774,0.938255033557047,0.9416107382550336,0.9351230425055927,0.9279642058165548,0.9364653243847876,0.9277404921700224,0.9375838926174496,0.9328859060402684,0.938702460850112,0.939821029082774,0.9297539149888144,0.9351230425055927,0.9319910514541389,0.9331096196868008,0.9322147651006712,0.9351230425055927,0.9353467561521251,0.9288590604026844,0.9369127516778524,0.9373601789709172,0.9308724832214764,0.9362416107382552,0.9333333333333332,0.9413870246085012,0.9373601789709172,0.9357941834451902,0.934228187919463,0.9384787472035794,0.9353467561521251,0.9384787472035794,0.9333333333333332,0.9416107382550336,0.932662192393736,0.9335570469798656,0.929082774049217,0.9362416107382552,0.938702460850112,0.9369127516778524,0.9402684563758388,0.9436241610738256,0.934228187919463,0.928635346756152,0.9391498881431768,0.9355704697986578,0.9380313199105146,0.9364653243847876,0.9322147651006712,0.9308724832214764,0.9364653243847876,0.939821029082774,0.9333333333333332,0.9380313199105146,0.9357941834451902,0.9340044742729308,0.938702460850112,0.934228187919463,0.9360178970917226,0.9420581655480984,0.9364653243847876,0.9335570469798656,0.93668903803132,0.9362416107382552,0.9389261744966444,0.9337807606263984,0.934228187919463,0.9357941834451902,0.9373601789709172,0.9360178970917226,0.9389261744966444,0.9375838926174496,0.9319910514541389,0.93668903803132,0.9360178970917226,0.9413870246085012,0.9302013422818792,0.9315436241610738,0.9427293064876956,0.93668903803132,0.9355704697986578,0.9369127516778524,0.938255033557047,0.938255033557047,0.9344519015659956,0.9420581655480984,0.9299776286353468,0.9324384787472036,0.9411633109619688,0.9308724832214764,0.9344519015659956,0.93668903803132,0.9364653243847876,0.9369127516778524,0.9384787472035794,0.9364653243847876,0.9389261744966444,0.9442953020134228,0.9362416107382552,0.9351230425055927,0.938255033557047,0.9384787472035794,0.9362416107382552,0.943847874720358,0.9344519015659956,0.9360178970917226,0.9375838926174496,0.9391498881431768,0.9333333333333332,0.9322147651006712,0.9400447427293064,0.941834451901566,0.9328859060402684,0.9384787472035794,0.9431767337807606,0.9304250559284116,0.9413870246085012,0.9400447427293064,0.930648769574944,0.9407158836689038,0.9373601789709172,0.9369127516778524,0.9335570469798656,0.9369127516778524,0.9351230425055927,0.9360178970917226,0.93668903803132,0.9355704697986578,0.9369127516778524,0.9373601789709172,0.9400447427293064,0.9360178970917226,0.9344519015659956,0.9364653243847876,0.9407158836689038,0.9442953020134228,0.9362416107382552,0.9393736017897092,0.9299776286353468,0.9395973154362416,0.9375838926174496,0.939821029082774,0.9400447427293064,0.9360178970917226,0.9429530201342282,0.9411633109619688,0.9364653243847876,0.9308724832214764,0.9324384787472036,0.9400447427293064,0.9364653243847876,0.9328859060402684,0.9384787472035794,0.9355704697986578,0.9393736017897092,0.9380313199105146,0.9293064876957494,0.937807606263982,0.9411633109619688,0.9360178970917226,0.934675615212528,0.9362416107382552,0.9369127516778524,0.9348993288590604,0.937807606263982,0.9317673378076062,0.9315436241610738,0.9335570469798656,0.932662192393736,0.9467561521252796,0.9331096196868008,0.9322147651006712,0.9391498881431768,0.9355704697986578,0.9340044742729308,0.9344519015659956,0.929530201342282,0.938702460850112,0.9389261744966444,0.9279642058165548,0.9427293064876956,0.937807606263982,0.9331096196868008,0.932662192393736,0.9331096196868008,0.9348993288590604,0.9317673378076062,0.9337807606263984,0.9337807606263984,0.937807606263982,0.9384787472035794,0.9380313199105146,0.9351230425055927,0.9416107382550336,0.939821029082774,0.93668903803132,0.9411633109619688,0.9304250559284116,0.9322147651006712,0.9364653243847876,0.941834451901566,0.9391498881431768,0.9322147651006712,0.929530201342282,0.9331096196868008,0.9391498881431768,0.9351230425055927,0.938255033557047,0.9328859060402684,0.9384787472035794,0.9375838926174496,0.934675615212528,0.9364653243847876,0.9313199105145414,0.9393736017897092,0.939821029082774,0.9364653243847876,0.9371364653243848,0.939821029082774,0.93668903803132,0.9380313199105146,0.9393736017897092,0.9391498881431768,0.9279642058165548,0.9324384787472036,0.9362416107382552,0.938255033557047,0.934228187919463,0.9328859060402684,0.9395973154362416,0.9360178970917226,0.9440715883668904,0.9389261744966444,0.9400447427293064,0.9315436241610738,0.9395973154362416,0.9407158836689038,0.9357941834451902,0.93668903803132,0.9380313199105146,0.9364653243847876,0.9380313199105146,0.9393736017897092,0.9355704697986578,0.9364653243847876,0.9369127516778524,0.9384787472035794,0.9351230425055927,0.9322147651006712,0.9360178970917226,0.9351230425055927,0.9362416107382552,0.9416107382550336,0.9322147651006712,0.932662192393736,0.9360178970917226,0.9402684563758388,0.9371364653243848,0.9373601789709172,0.9348993288590604,0.9375838926174496,0.93668903803132,0.9380313199105146,0.9335570469798656,0.92751677852349,0.937807606263982,0.939821029082774,0.9384787472035794,0.9333333333333332,0.9344519015659956,0.9380313199105146,0.9344519015659956,0.938255033557047,0.9360178970917226,0.9353467561521251,0.9371364653243848,0.9391498881431768,0.9402684563758388,0.934228187919463,0.9351230425055927,0.9427293064876956,0.93668903803132,0.9331096196868008,0.9324384787472036,0.9304250559284116,0.9355704697986578,0.9391498881431768,0.9284116331096196,0.9315436241610738,0.9297539149888144,0.9348993288590604,0.9360178970917226,0.9369127516778524,0.937807606263982,0.9333333333333332,0.9263982102908276,0.9393736017897092,0.934675615212528,0.9416107382550336,0.9357941834451902,0.9319910514541389,0.9360178970917226,0.937807606263982,0.9315436241610738,0.938255033557047,0.937807606263982,0.93668903803132,0.9351230425055927,0.9355704697986578,0.9440715883668904,0.9362416107382552,0.934675615212528,0.9357941834451902,0.9322147651006712,0.9272930648769576,0.9380313199105146,0.93668903803132,0.9331096196868008,0.9425055928411632,0.938255033557047,0.9369127516778524,0.938255033557047,0.929530201342282,0.9371364653243848,0.938255033557047,0.9369127516778524,0.9355704697986578,0.9404921700223714,0.9404921700223714,0.9340044742729308,0.938702460850112,0.9391498881431768,0.9375838926174496,0.9380313199105146,0.93668903803132,0.9409395973154362,0.93668903803132,0.9369127516778524,0.9297539149888144,0.9364653243847876,0.9337807606263984,0.9357941834451902,0.934228187919463,0.9279642058165548,0.9335570469798656,0.93668903803132,0.9331096196868008,0.93668903803132,0.9364653243847876,0.928635346756152,0.9375838926174496,0.934228187919463,0.9371364653243848,0.9463087248322148,0.9340044742729308,0.9324384787472036,0.9357941834451902,0.9333333333333332,0.9351230425055927,0.937807606263982,0.9380313199105146,0.9380313199105146,0.934675615212528,0.934675615212528,0.934675615212528,0.93668903803132,0.9335570469798656,0.9297539149888144,0.938255033557047,0.9389261744966444,0.938702460850112,0.9362416107382552,0.9413870246085012,0.9355704697986578,0.9357941834451902,0.9335570469798656,0.937807606263982,0.9348993288590604,0.9328859060402684,0.9404921700223714,0.9304250559284116,0.93668903803132,0.9407158836689038,0.9348993288590604,0.9395973154362416,0.9348993288590604,0.9340044742729308,0.9384787472035794,0.9413870246085012,0.9348993288590604,0.9328859060402684,0.9324384787472036,0.9360178970917226,0.93668903803132,0.9362416107382552,0.9302013422818792,0.938255033557047,0.9310961968680088,0.9355704697986578,0.9380313199105146,0.9389261744966444,0.9353467561521251,0.934228187919463,0.9357941834451902,0.9360178970917226,0.9353467561521251,0.9460850111856824,0.9411633109619688,0.937807606263982,0.9357941834451902,0.9315436241610738,0.9362416107382552,0.9357941834451902,0.9351230425055927,0.937807606263982,0.9364653243847876,0.9344519015659956,0.9425055928411632,0.93668903803132,0.9369127516778524,0.934228187919463,0.9413870246085012,0.9411633109619688,0.9355704697986578,0.9357941834451902,0.9355704697986578,0.9333333333333332,0.9348993288590604,0.9364653243847876,0.9351230425055927,0.9411633109619688,0.9340044742729308,0.937807606263982,0.9360178970917226,0.9425055928411632,0.9393736017897092,0.934675615212528,0.93668903803132,0.941834451901566,0.932662192393736,0.9362416107382552,0.9360178970917226,0.93668903803132,0.9404921700223714,0.9395973154362416,0.9422818791946308,0.9371364653243848,0.9319910514541389,0.9369127516778524,0.938702460850112,0.9407158836689038,0.9357941834451902,0.9373601789709172,0.9404921700223714,0.929530201342282,0.9333333333333332,0.9431767337807606,0.9331096196868008,0.928635346756152,0.9409395973154362,0.9362416107382552,0.9373601789709172,0.9348993288590604,0.934228187919463,0.9413870246085012,0.9369127516778524,0.9411633109619688,0.939821029082774,0.94496644295302,0.9407158836689038,0.9348993288590604,0.937807606263982,0.9402684563758388,0.9337807606263984,0.9380313199105146,0.93668903803132,0.9373601789709172,0.9317673378076062,0.938702460850112,0.941834451901566,0.9375838926174496,0.930648769574944,0.9353467561521251,0.9315436241610738,0.9371364653243848,0.9413870246085012,0.93668903803132,0.932662192393736,0.930648769574944,0.9360178970917226,0.9416107382550336,0.9348993288590604,0.934228187919463,0.932662192393736,0.9380313199105146,0.9422818791946308,0.9373601789709172,0.9402684563758388,0.9411633109619688,0.9440715883668904,0.932662192393736,0.9331096196868008,0.9404921700223714,0.9353467561521251,0.9315436241610738,0.9369127516778524,0.9357941834451902,0.9409395973154362,0.937807606263982,0.9436241610738256,0.9429530201342282,0.9400447427293064,0.9409395973154362,0.9364653243847876,0.9299776286353468,0.9353467561521251,0.932662192393736,0.9353467561521251,0.9324384787472036,0.93668903803132,0.9360178970917226,0.934228187919463,0.938702460850112,0.9380313199105146,0.9335570469798656,0.9409395973154362,0.938255033557047,0.9302013422818792,0.9364653243847876,0.939821029082774,0.9404921700223714,0.9333333333333332,0.9357941834451902,0.9355704697986578,0.9391498881431768,0.9391498881431768,0.938702460850112,0.9371364653243848,0.9391498881431768,0.938255033557047,0.9375838926174496,0.9357941834451902,0.9351230425055927,0.9407158836689038,0.9302013422818792,0.9355704697986578,0.9360178970917226,0.9442953020134228,0.9344519015659956,0.9375838926174496,0.9375838926174496,0.9340044742729308,0.9369127516778524,0.9313199105145414,0.9310961968680088,0.9400447427293064,0.9362416107382552,0.938702460850112,0.9337807606263984],\"xaxis\":\"x\",\"yaxis\":\"y\",\"type\":\"histogram\"},{\"alignmentgroup\":\"True\",\"customdata\":[[0.9413870246085012],[0.9393736017897092],[0.938255033557047],[0.9380313199105146],[0.9351230425055927],[0.9402684563758388],[0.9344519015659956],[0.9357941834451902],[0.9373601789709172],[0.9357941834451902],[0.9315436241610738],[0.930648769574944],[0.9324384787472036],[0.9360178970917226],[0.9333333333333332],[0.9384787472035794],[0.9436241610738256],[0.9340044742729308],[0.9344519015659956],[0.9375838926174496],[0.9422818791946308],[0.9348993288590604],[0.934675615212528],[0.9319910514541389],[0.9373601789709172],[0.9353467561521251],[0.9445190156599552],[0.9389261744966444],[0.943847874720358],[0.938255033557047],[0.9369127516778524],[0.9357941834451902],[0.9315436241610738],[0.9393736017897092],[0.938702460850112],[0.9407158836689038],[0.9337807606263984],[0.9355704697986578],[0.9413870246085012],[0.9364653243847876],[0.9375838926174496],[0.9340044742729308],[0.9389261744966444],[0.9362416107382552],[0.9328859060402684],[0.9442953020134228],[0.9322147651006712],[0.9328859060402684],[0.9277404921700224],[0.9362416107382552],[0.9395973154362416],[0.9357941834451902],[0.9389261744966444],[0.937807606263982],[0.9333333333333332],[0.93668903803132],[0.9340044742729308],[0.9331096196868008],[0.932662192393736],[0.9340044742729308],[0.9333333333333332],[0.9324384787472036],[0.939821029082774],[0.9371364653243848],[0.932662192393736],[0.9348993288590604],[0.9413870246085012],[0.9357941834451902],[0.9348993288590604],[0.9402684563758388],[0.9257270693512304],[0.9360178970917226],[0.9407158836689038],[0.9324384787472036],[0.939821029082774],[0.9384787472035794],[0.93668903803132],[0.941834451901566],[0.9413870246085012],[0.9304250559284116],[0.9364653243847876],[0.9310961968680088],[0.9364653243847876],[0.93668903803132],[0.9373601789709172],[0.943847874720358],[0.934228187919463],[0.941834451901566],[0.9355704697986578],[0.9393736017897092],[0.934228187919463],[0.934228187919463],[0.93668903803132],[0.930648769574944],[0.9355704697986578],[0.9344519015659956],[0.9348993288590604],[0.9404921700223714],[0.9360178970917226],[0.9373601789709172],[0.9357941834451902],[0.9328859060402684],[0.9360178970917226],[0.9384787472035794],[0.9335570469798656],[0.9371364653243848],[0.9337807606263984],[0.9380313199105146],[0.937807606263982],[0.9317673378076062],[0.9393736017897092],[0.9371364653243848],[0.9353467561521251],[0.9369127516778524],[0.9353467561521251],[0.9322147651006712],[0.9355704697986578],[0.9369127516778524],[0.9371364653243848],[0.9344519015659956],[0.934228187919463],[0.9360178970917226],[0.9369127516778524],[0.9308724832214764],[0.934228187919463],[0.9337807606263984],[0.9402684563758388],[0.9360178970917226],[0.9337807606263984],[0.9400447427293064],[0.9340044742729308],[0.9369127516778524],[0.9360178970917226],[0.938702460850112],[0.9416107382550336],[0.9335570469798656],[0.9393736017897092],[0.9427293064876956],[0.9391498881431768],[0.9384787472035794],[0.9351230425055927],[0.9416107382550336],[0.937807606263982],[0.9333333333333332],[0.939821029082774],[0.9333333333333332],[0.941834451901566],[0.9407158836689038],[0.9333333333333332],[0.9409395973154362],[0.9319910514541389],[0.9308724832214764],[0.9431767337807606],[0.934675615212528],[0.9319910514541389],[0.9373601789709172],[0.9353467561521251],[0.9304250559284116],[0.9407158836689038],[0.9400447427293064],[0.9348993288590604],[0.9422818791946308],[0.928635346756152],[0.9364653243847876],[0.9369127516778524],[0.929082774049217],[0.9337807606263984],[0.9322147651006712],[0.9340044742729308],[0.9393736017897092],[0.9335570469798656],[0.9409395973154362],[0.9364653243847876],[0.938702460850112],[0.938255033557047],[0.9319910514541389],[0.9402684563758388],[0.9420581655480984],[0.9353467561521251],[0.9355704697986578],[0.9371364653243848],[0.9355704697986578],[0.932662192393736],[0.937807606263982],[0.9389261744966444],[0.9380313199105146],[0.9436241610738256],[0.9400447427293064],[0.9317673378076062],[0.9340044742729308],[0.9380313199105146],[0.9353467561521251],[0.9313199105145414],[0.939821029082774],[0.9409395973154362],[0.9315436241610738],[0.930648769574944],[0.9351230425055927],[0.9404921700223714],[0.9404921700223714],[0.934675615212528],[0.9304250559284116],[0.9348993288590604],[0.938255033557047],[0.93668903803132],[0.9413870246085012],[0.9380313199105146],[0.9416107382550336],[0.9380313199105146],[0.9331096196868008],[0.9364653243847876],[0.9395973154362416],[0.934228187919463],[0.9348993288590604],[0.9393736017897092],[0.9369127516778524],[0.9400447427293064],[0.9351230425055927],[0.9351230425055927],[0.9313199105145414],[0.9297539149888144],[0.9357941834451902],[0.9369127516778524],[0.9351230425055927],[0.934675615212528],[0.932662192393736],[0.93668903803132],[0.9375838926174496],[0.938255033557047],[0.9357941834451902],[0.9391498881431768],[0.9389261744966444],[0.9353467561521251],[0.9402684563758388],[0.9400447427293064],[0.9395973154362416],[0.943847874720358],[0.9393736017897092],[0.9351230425055927],[0.9391498881431768],[0.9308724832214764],[0.937807606263982],[0.934228187919463],[0.9315436241610738],[0.939821029082774],[0.9324384787472036],[0.9389261744966444],[0.9355704697986578],[0.9371364653243848],[0.9375838926174496],[0.9391498881431768],[0.9395973154362416],[0.9353467561521251],[0.9393736017897092],[0.9360178970917226],[0.9340044742729308],[0.932662192393736],[0.934675615212528],[0.937807606263982],[0.9333333333333332],[0.9375838926174496],[0.9357941834451902],[0.9400447427293064],[0.937807606263982],[0.9369127516778524],[0.9375838926174496],[0.9369127516778524],[0.939821029082774],[0.9324384787472036],[0.937807606263982],[0.938702460850112],[0.937807606263982],[0.9384787472035794],[0.938255033557047],[0.9371364653243848],[0.9393736017897092],[0.934675615212528],[0.9360178970917226],[0.9328859060402684],[0.932662192393736],[0.9375838926174496],[0.9375838926174496],[0.9391498881431768],[0.9402684563758388],[0.9384787472035794],[0.9348993288590604],[0.9391498881431768],[0.9355704697986578],[0.9436241610738256],[0.9373601789709172],[0.9299776286353468],[0.9322147651006712],[0.9395973154362416],[0.9393736017897092],[0.9440715883668904],[0.9375838926174496],[0.9360178970917226],[0.9348993288590604],[0.9420581655480984],[0.934228187919463],[0.937807606263982],[0.9404921700223714],[0.9315436241610738],[0.9351230425055927],[0.9331096196868008],[0.9362416107382552],[0.934675615212528],[0.9348993288590604],[0.9391498881431768],[0.934675615212528],[0.9369127516778524],[0.9324384787472036],[0.934675615212528],[0.9395973154362416],[0.9313199105145414],[0.938702460850112],[0.9393736017897092],[0.9395973154362416],[0.9371364653243848],[0.9324384787472036],[0.938702460850112],[0.9384787472035794],[0.9369127516778524],[0.9322147651006712],[0.9413870246085012],[0.9348993288590604],[0.9353467561521251],[0.9353467561521251],[0.934675615212528],[0.9395973154362416],[0.937807606263982],[0.9369127516778524],[0.9427293064876956],[0.9353467561521251],[0.9402684563758388],[0.938255033557047],[0.9373601789709172],[0.9310961968680088],[0.9404921700223714],[0.9373601789709172],[0.9375838926174496],[0.9362416107382552],[0.9369127516778524],[0.9380313199105146],[0.9344519015659956],[0.9411633109619688],[0.93668903803132],[0.938255033557047],[0.9373601789709172],[0.9362416107382552],[0.9324384787472036],[0.9369127516778524],[0.9427293064876956],[0.934675615212528],[0.9416107382550336],[0.9348993288590604],[0.9416107382550336],[0.9371364653243848],[0.939821029082774],[0.9373601789709172],[0.9324384787472036],[0.9324384787472036],[0.9402684563758388],[0.9411633109619688],[0.9344519015659956],[0.9384787472035794],[0.941834451901566],[0.9333333333333332],[0.9324384787472036],[0.9393736017897092],[0.941834451901566],[0.9373601789709172],[0.934675615212528],[0.9400447427293064],[0.9328859060402684],[0.9353467561521251],[0.9344519015659956],[0.9369127516778524],[0.93668903803132],[0.9425055928411632],[0.9308724832214764],[0.94496644295302],[0.9357941834451902],[0.9425055928411632],[0.9371364653243848],[0.93668903803132],[0.9371364653243848],[0.9333333333333332],[0.9371364653243848],[0.9351230425055927],[0.9447427293064876],[0.938255033557047],[0.9364653243847876],[0.9335570469798656],[0.9328859060402684],[0.9322147651006712],[0.9328859060402684],[0.9353467561521251],[0.93668903803132],[0.9348993288590604],[0.937807606263982],[0.9402684563758388],[0.934675615212528],[0.9362416107382552],[0.9322147651006712],[0.934675615212528],[0.9360178970917226],[0.9360178970917226],[0.9319910514541389],[0.9351230425055927],[0.9344519015659956],[0.93668903803132],[0.9351230425055927],[0.9337807606263984],[0.9357941834451902],[0.9389261744966444],[0.9357941834451902],[0.9364653243847876],[0.9353467561521251],[0.9384787472035794],[0.9351230425055927],[0.93668903803132],[0.938255033557047],[0.9375838926174496],[0.9360178970917226],[0.9380313199105146],[0.928635346756152],[0.9335570469798656],[0.9353467561521251],[0.9371364653243848],[0.9369127516778524],[0.9360178970917226],[0.9340044742729308],[0.929082774049217],[0.9380313199105146],[0.9324384787472036],[0.932662192393736],[0.934228187919463],[0.937807606263982],[0.9362416107382552],[0.9357941834451902],[0.9413870246085012],[0.939821029082774],[0.938255033557047],[0.9416107382550336],[0.9351230425055927],[0.9279642058165548],[0.9364653243847876],[0.9277404921700224],[0.9375838926174496],[0.9328859060402684],[0.938702460850112],[0.939821029082774],[0.9297539149888144],[0.9351230425055927],[0.9319910514541389],[0.9331096196868008],[0.9322147651006712],[0.9351230425055927],[0.9353467561521251],[0.9288590604026844],[0.9369127516778524],[0.9373601789709172],[0.9308724832214764],[0.9362416107382552],[0.9333333333333332],[0.9413870246085012],[0.9373601789709172],[0.9357941834451902],[0.934228187919463],[0.9384787472035794],[0.9353467561521251],[0.9384787472035794],[0.9333333333333332],[0.9416107382550336],[0.932662192393736],[0.9335570469798656],[0.929082774049217],[0.9362416107382552],[0.938702460850112],[0.9369127516778524],[0.9402684563758388],[0.9436241610738256],[0.934228187919463],[0.928635346756152],[0.9391498881431768],[0.9355704697986578],[0.9380313199105146],[0.9364653243847876],[0.9322147651006712],[0.9308724832214764],[0.9364653243847876],[0.939821029082774],[0.9333333333333332],[0.9380313199105146],[0.9357941834451902],[0.9340044742729308],[0.938702460850112],[0.934228187919463],[0.9360178970917226],[0.9420581655480984],[0.9364653243847876],[0.9335570469798656],[0.93668903803132],[0.9362416107382552],[0.9389261744966444],[0.9337807606263984],[0.934228187919463],[0.9357941834451902],[0.9373601789709172],[0.9360178970917226],[0.9389261744966444],[0.9375838926174496],[0.9319910514541389],[0.93668903803132],[0.9360178970917226],[0.9413870246085012],[0.9302013422818792],[0.9315436241610738],[0.9427293064876956],[0.93668903803132],[0.9355704697986578],[0.9369127516778524],[0.938255033557047],[0.938255033557047],[0.9344519015659956],[0.9420581655480984],[0.9299776286353468],[0.9324384787472036],[0.9411633109619688],[0.9308724832214764],[0.9344519015659956],[0.93668903803132],[0.9364653243847876],[0.9369127516778524],[0.9384787472035794],[0.9364653243847876],[0.9389261744966444],[0.9442953020134228],[0.9362416107382552],[0.9351230425055927],[0.938255033557047],[0.9384787472035794],[0.9362416107382552],[0.943847874720358],[0.9344519015659956],[0.9360178970917226],[0.9375838926174496],[0.9391498881431768],[0.9333333333333332],[0.9322147651006712],[0.9400447427293064],[0.941834451901566],[0.9328859060402684],[0.9384787472035794],[0.9431767337807606],[0.9304250559284116],[0.9413870246085012],[0.9400447427293064],[0.930648769574944],[0.9407158836689038],[0.9373601789709172],[0.9369127516778524],[0.9335570469798656],[0.9369127516778524],[0.9351230425055927],[0.9360178970917226],[0.93668903803132],[0.9355704697986578],[0.9369127516778524],[0.9373601789709172],[0.9400447427293064],[0.9360178970917226],[0.9344519015659956],[0.9364653243847876],[0.9407158836689038],[0.9442953020134228],[0.9362416107382552],[0.9393736017897092],[0.9299776286353468],[0.9395973154362416],[0.9375838926174496],[0.939821029082774],[0.9400447427293064],[0.9360178970917226],[0.9429530201342282],[0.9411633109619688],[0.9364653243847876],[0.9308724832214764],[0.9324384787472036],[0.9400447427293064],[0.9364653243847876],[0.9328859060402684],[0.9384787472035794],[0.9355704697986578],[0.9393736017897092],[0.9380313199105146],[0.9293064876957494],[0.937807606263982],[0.9411633109619688],[0.9360178970917226],[0.934675615212528],[0.9362416107382552],[0.9369127516778524],[0.9348993288590604],[0.937807606263982],[0.9317673378076062],[0.9315436241610738],[0.9335570469798656],[0.932662192393736],[0.9467561521252796],[0.9331096196868008],[0.9322147651006712],[0.9391498881431768],[0.9355704697986578],[0.9340044742729308],[0.9344519015659956],[0.929530201342282],[0.938702460850112],[0.9389261744966444],[0.9279642058165548],[0.9427293064876956],[0.937807606263982],[0.9331096196868008],[0.932662192393736],[0.9331096196868008],[0.9348993288590604],[0.9317673378076062],[0.9337807606263984],[0.9337807606263984],[0.937807606263982],[0.9384787472035794],[0.9380313199105146],[0.9351230425055927],[0.9416107382550336],[0.939821029082774],[0.93668903803132],[0.9411633109619688],[0.9304250559284116],[0.9322147651006712],[0.9364653243847876],[0.941834451901566],[0.9391498881431768],[0.9322147651006712],[0.929530201342282],[0.9331096196868008],[0.9391498881431768],[0.9351230425055927],[0.938255033557047],[0.9328859060402684],[0.9384787472035794],[0.9375838926174496],[0.934675615212528],[0.9364653243847876],[0.9313199105145414],[0.9393736017897092],[0.939821029082774],[0.9364653243847876],[0.9371364653243848],[0.939821029082774],[0.93668903803132],[0.9380313199105146],[0.9393736017897092],[0.9391498881431768],[0.9279642058165548],[0.9324384787472036],[0.9362416107382552],[0.938255033557047],[0.934228187919463],[0.9328859060402684],[0.9395973154362416],[0.9360178970917226],[0.9440715883668904],[0.9389261744966444],[0.9400447427293064],[0.9315436241610738],[0.9395973154362416],[0.9407158836689038],[0.9357941834451902],[0.93668903803132],[0.9380313199105146],[0.9364653243847876],[0.9380313199105146],[0.9393736017897092],[0.9355704697986578],[0.9364653243847876],[0.9369127516778524],[0.9384787472035794],[0.9351230425055927],[0.9322147651006712],[0.9360178970917226],[0.9351230425055927],[0.9362416107382552],[0.9416107382550336],[0.9322147651006712],[0.932662192393736],[0.9360178970917226],[0.9402684563758388],[0.9371364653243848],[0.9373601789709172],[0.9348993288590604],[0.9375838926174496],[0.93668903803132],[0.9380313199105146],[0.9335570469798656],[0.92751677852349],[0.937807606263982],[0.939821029082774],[0.9384787472035794],[0.9333333333333332],[0.9344519015659956],[0.9380313199105146],[0.9344519015659956],[0.938255033557047],[0.9360178970917226],[0.9353467561521251],[0.9371364653243848],[0.9391498881431768],[0.9402684563758388],[0.934228187919463],[0.9351230425055927],[0.9427293064876956],[0.93668903803132],[0.9331096196868008],[0.9324384787472036],[0.9304250559284116],[0.9355704697986578],[0.9391498881431768],[0.9284116331096196],[0.9315436241610738],[0.9297539149888144],[0.9348993288590604],[0.9360178970917226],[0.9369127516778524],[0.937807606263982],[0.9333333333333332],[0.9263982102908276],[0.9393736017897092],[0.934675615212528],[0.9416107382550336],[0.9357941834451902],[0.9319910514541389],[0.9360178970917226],[0.937807606263982],[0.9315436241610738],[0.938255033557047],[0.937807606263982],[0.93668903803132],[0.9351230425055927],[0.9355704697986578],[0.9440715883668904],[0.9362416107382552],[0.934675615212528],[0.9357941834451902],[0.9322147651006712],[0.9272930648769576],[0.9380313199105146],[0.93668903803132],[0.9331096196868008],[0.9425055928411632],[0.938255033557047],[0.9369127516778524],[0.938255033557047],[0.929530201342282],[0.9371364653243848],[0.938255033557047],[0.9369127516778524],[0.9355704697986578],[0.9404921700223714],[0.9404921700223714],[0.9340044742729308],[0.938702460850112],[0.9391498881431768],[0.9375838926174496],[0.9380313199105146],[0.93668903803132],[0.9409395973154362],[0.93668903803132],[0.9369127516778524],[0.9297539149888144],[0.9364653243847876],[0.9337807606263984],[0.9357941834451902],[0.934228187919463],[0.9279642058165548],[0.9335570469798656],[0.93668903803132],[0.9331096196868008],[0.93668903803132],[0.9364653243847876],[0.928635346756152],[0.9375838926174496],[0.934228187919463],[0.9371364653243848],[0.9463087248322148],[0.9340044742729308],[0.9324384787472036],[0.9357941834451902],[0.9333333333333332],[0.9351230425055927],[0.937807606263982],[0.9380313199105146],[0.9380313199105146],[0.934675615212528],[0.934675615212528],[0.934675615212528],[0.93668903803132],[0.9335570469798656],[0.9297539149888144],[0.938255033557047],[0.9389261744966444],[0.938702460850112],[0.9362416107382552],[0.9413870246085012],[0.9355704697986578],[0.9357941834451902],[0.9335570469798656],[0.937807606263982],[0.9348993288590604],[0.9328859060402684],[0.9404921700223714],[0.9304250559284116],[0.93668903803132],[0.9407158836689038],[0.9348993288590604],[0.9395973154362416],[0.9348993288590604],[0.9340044742729308],[0.9384787472035794],[0.9413870246085012],[0.9348993288590604],[0.9328859060402684],[0.9324384787472036],[0.9360178970917226],[0.93668903803132],[0.9362416107382552],[0.9302013422818792],[0.938255033557047],[0.9310961968680088],[0.9355704697986578],[0.9380313199105146],[0.9389261744966444],[0.9353467561521251],[0.934228187919463],[0.9357941834451902],[0.9360178970917226],[0.9353467561521251],[0.9460850111856824],[0.9411633109619688],[0.937807606263982],[0.9357941834451902],[0.9315436241610738],[0.9362416107382552],[0.9357941834451902],[0.9351230425055927],[0.937807606263982],[0.9364653243847876],[0.9344519015659956],[0.9425055928411632],[0.93668903803132],[0.9369127516778524],[0.934228187919463],[0.9413870246085012],[0.9411633109619688],[0.9355704697986578],[0.9357941834451902],[0.9355704697986578],[0.9333333333333332],[0.9348993288590604],[0.9364653243847876],[0.9351230425055927],[0.9411633109619688],[0.9340044742729308],[0.937807606263982],[0.9360178970917226],[0.9425055928411632],[0.9393736017897092],[0.934675615212528],[0.93668903803132],[0.941834451901566],[0.932662192393736],[0.9362416107382552],[0.9360178970917226],[0.93668903803132],[0.9404921700223714],[0.9395973154362416],[0.9422818791946308],[0.9371364653243848],[0.9319910514541389],[0.9369127516778524],[0.938702460850112],[0.9407158836689038],[0.9357941834451902],[0.9373601789709172],[0.9404921700223714],[0.929530201342282],[0.9333333333333332],[0.9431767337807606],[0.9331096196868008],[0.928635346756152],[0.9409395973154362],[0.9362416107382552],[0.9373601789709172],[0.9348993288590604],[0.934228187919463],[0.9413870246085012],[0.9369127516778524],[0.9411633109619688],[0.939821029082774],[0.94496644295302],[0.9407158836689038],[0.9348993288590604],[0.937807606263982],[0.9402684563758388],[0.9337807606263984],[0.9380313199105146],[0.93668903803132],[0.9373601789709172],[0.9317673378076062],[0.938702460850112],[0.941834451901566],[0.9375838926174496],[0.930648769574944],[0.9353467561521251],[0.9315436241610738],[0.9371364653243848],[0.9413870246085012],[0.93668903803132],[0.932662192393736],[0.930648769574944],[0.9360178970917226],[0.9416107382550336],[0.9348993288590604],[0.934228187919463],[0.932662192393736],[0.9380313199105146],[0.9422818791946308],[0.9373601789709172],[0.9402684563758388],[0.9411633109619688],[0.9440715883668904],[0.932662192393736],[0.9331096196868008],[0.9404921700223714],[0.9353467561521251],[0.9315436241610738],[0.9369127516778524],[0.9357941834451902],[0.9409395973154362],[0.937807606263982],[0.9436241610738256],[0.9429530201342282],[0.9400447427293064],[0.9409395973154362],[0.9364653243847876],[0.9299776286353468],[0.9353467561521251],[0.932662192393736],[0.9353467561521251],[0.9324384787472036],[0.93668903803132],[0.9360178970917226],[0.934228187919463],[0.938702460850112],[0.9380313199105146],[0.9335570469798656],[0.9409395973154362],[0.938255033557047],[0.9302013422818792],[0.9364653243847876],[0.939821029082774],[0.9404921700223714],[0.9333333333333332],[0.9357941834451902],[0.9355704697986578],[0.9391498881431768],[0.9391498881431768],[0.938702460850112],[0.9371364653243848],[0.9391498881431768],[0.938255033557047],[0.9375838926174496],[0.9357941834451902],[0.9351230425055927],[0.9407158836689038],[0.9302013422818792],[0.9355704697986578],[0.9360178970917226],[0.9442953020134228],[0.9344519015659956],[0.9375838926174496],[0.9375838926174496],[0.9340044742729308],[0.9369127516778524],[0.9313199105145414],[0.9310961968680088],[0.9400447427293064],[0.9362416107382552],[0.938702460850112],[0.9337807606263984]],\"hovertemplate\":\"variable=0<br>accuracy=%{x}<br>hover_data_0=%{customdata[0]}<extra></extra>\",\"legendgroup\":\"0\",\"marker\":{\"color\":\"#636efa\"},\"name\":\"0\",\"notched\":true,\"offsetgroup\":\"0\",\"showlegend\":false,\"x\":[0.9413870246085012,0.9393736017897092,0.938255033557047,0.9380313199105146,0.9351230425055927,0.9402684563758388,0.9344519015659956,0.9357941834451902,0.9373601789709172,0.9357941834451902,0.9315436241610738,0.930648769574944,0.9324384787472036,0.9360178970917226,0.9333333333333332,0.9384787472035794,0.9436241610738256,0.9340044742729308,0.9344519015659956,0.9375838926174496,0.9422818791946308,0.9348993288590604,0.934675615212528,0.9319910514541389,0.9373601789709172,0.9353467561521251,0.9445190156599552,0.9389261744966444,0.943847874720358,0.938255033557047,0.9369127516778524,0.9357941834451902,0.9315436241610738,0.9393736017897092,0.938702460850112,0.9407158836689038,0.9337807606263984,0.9355704697986578,0.9413870246085012,0.9364653243847876,0.9375838926174496,0.9340044742729308,0.9389261744966444,0.9362416107382552,0.9328859060402684,0.9442953020134228,0.9322147651006712,0.9328859060402684,0.9277404921700224,0.9362416107382552,0.9395973154362416,0.9357941834451902,0.9389261744966444,0.937807606263982,0.9333333333333332,0.93668903803132,0.9340044742729308,0.9331096196868008,0.932662192393736,0.9340044742729308,0.9333333333333332,0.9324384787472036,0.939821029082774,0.9371364653243848,0.932662192393736,0.9348993288590604,0.9413870246085012,0.9357941834451902,0.9348993288590604,0.9402684563758388,0.9257270693512304,0.9360178970917226,0.9407158836689038,0.9324384787472036,0.939821029082774,0.9384787472035794,0.93668903803132,0.941834451901566,0.9413870246085012,0.9304250559284116,0.9364653243847876,0.9310961968680088,0.9364653243847876,0.93668903803132,0.9373601789709172,0.943847874720358,0.934228187919463,0.941834451901566,0.9355704697986578,0.9393736017897092,0.934228187919463,0.934228187919463,0.93668903803132,0.930648769574944,0.9355704697986578,0.9344519015659956,0.9348993288590604,0.9404921700223714,0.9360178970917226,0.9373601789709172,0.9357941834451902,0.9328859060402684,0.9360178970917226,0.9384787472035794,0.9335570469798656,0.9371364653243848,0.9337807606263984,0.9380313199105146,0.937807606263982,0.9317673378076062,0.9393736017897092,0.9371364653243848,0.9353467561521251,0.9369127516778524,0.9353467561521251,0.9322147651006712,0.9355704697986578,0.9369127516778524,0.9371364653243848,0.9344519015659956,0.934228187919463,0.9360178970917226,0.9369127516778524,0.9308724832214764,0.934228187919463,0.9337807606263984,0.9402684563758388,0.9360178970917226,0.9337807606263984,0.9400447427293064,0.9340044742729308,0.9369127516778524,0.9360178970917226,0.938702460850112,0.9416107382550336,0.9335570469798656,0.9393736017897092,0.9427293064876956,0.9391498881431768,0.9384787472035794,0.9351230425055927,0.9416107382550336,0.937807606263982,0.9333333333333332,0.939821029082774,0.9333333333333332,0.941834451901566,0.9407158836689038,0.9333333333333332,0.9409395973154362,0.9319910514541389,0.9308724832214764,0.9431767337807606,0.934675615212528,0.9319910514541389,0.9373601789709172,0.9353467561521251,0.9304250559284116,0.9407158836689038,0.9400447427293064,0.9348993288590604,0.9422818791946308,0.928635346756152,0.9364653243847876,0.9369127516778524,0.929082774049217,0.9337807606263984,0.9322147651006712,0.9340044742729308,0.9393736017897092,0.9335570469798656,0.9409395973154362,0.9364653243847876,0.938702460850112,0.938255033557047,0.9319910514541389,0.9402684563758388,0.9420581655480984,0.9353467561521251,0.9355704697986578,0.9371364653243848,0.9355704697986578,0.932662192393736,0.937807606263982,0.9389261744966444,0.9380313199105146,0.9436241610738256,0.9400447427293064,0.9317673378076062,0.9340044742729308,0.9380313199105146,0.9353467561521251,0.9313199105145414,0.939821029082774,0.9409395973154362,0.9315436241610738,0.930648769574944,0.9351230425055927,0.9404921700223714,0.9404921700223714,0.934675615212528,0.9304250559284116,0.9348993288590604,0.938255033557047,0.93668903803132,0.9413870246085012,0.9380313199105146,0.9416107382550336,0.9380313199105146,0.9331096196868008,0.9364653243847876,0.9395973154362416,0.934228187919463,0.9348993288590604,0.9393736017897092,0.9369127516778524,0.9400447427293064,0.9351230425055927,0.9351230425055927,0.9313199105145414,0.9297539149888144,0.9357941834451902,0.9369127516778524,0.9351230425055927,0.934675615212528,0.932662192393736,0.93668903803132,0.9375838926174496,0.938255033557047,0.9357941834451902,0.9391498881431768,0.9389261744966444,0.9353467561521251,0.9402684563758388,0.9400447427293064,0.9395973154362416,0.943847874720358,0.9393736017897092,0.9351230425055927,0.9391498881431768,0.9308724832214764,0.937807606263982,0.934228187919463,0.9315436241610738,0.939821029082774,0.9324384787472036,0.9389261744966444,0.9355704697986578,0.9371364653243848,0.9375838926174496,0.9391498881431768,0.9395973154362416,0.9353467561521251,0.9393736017897092,0.9360178970917226,0.9340044742729308,0.932662192393736,0.934675615212528,0.937807606263982,0.9333333333333332,0.9375838926174496,0.9357941834451902,0.9400447427293064,0.937807606263982,0.9369127516778524,0.9375838926174496,0.9369127516778524,0.939821029082774,0.9324384787472036,0.937807606263982,0.938702460850112,0.937807606263982,0.9384787472035794,0.938255033557047,0.9371364653243848,0.9393736017897092,0.934675615212528,0.9360178970917226,0.9328859060402684,0.932662192393736,0.9375838926174496,0.9375838926174496,0.9391498881431768,0.9402684563758388,0.9384787472035794,0.9348993288590604,0.9391498881431768,0.9355704697986578,0.9436241610738256,0.9373601789709172,0.9299776286353468,0.9322147651006712,0.9395973154362416,0.9393736017897092,0.9440715883668904,0.9375838926174496,0.9360178970917226,0.9348993288590604,0.9420581655480984,0.934228187919463,0.937807606263982,0.9404921700223714,0.9315436241610738,0.9351230425055927,0.9331096196868008,0.9362416107382552,0.934675615212528,0.9348993288590604,0.9391498881431768,0.934675615212528,0.9369127516778524,0.9324384787472036,0.934675615212528,0.9395973154362416,0.9313199105145414,0.938702460850112,0.9393736017897092,0.9395973154362416,0.9371364653243848,0.9324384787472036,0.938702460850112,0.9384787472035794,0.9369127516778524,0.9322147651006712,0.9413870246085012,0.9348993288590604,0.9353467561521251,0.9353467561521251,0.934675615212528,0.9395973154362416,0.937807606263982,0.9369127516778524,0.9427293064876956,0.9353467561521251,0.9402684563758388,0.938255033557047,0.9373601789709172,0.9310961968680088,0.9404921700223714,0.9373601789709172,0.9375838926174496,0.9362416107382552,0.9369127516778524,0.9380313199105146,0.9344519015659956,0.9411633109619688,0.93668903803132,0.938255033557047,0.9373601789709172,0.9362416107382552,0.9324384787472036,0.9369127516778524,0.9427293064876956,0.934675615212528,0.9416107382550336,0.9348993288590604,0.9416107382550336,0.9371364653243848,0.939821029082774,0.9373601789709172,0.9324384787472036,0.9324384787472036,0.9402684563758388,0.9411633109619688,0.9344519015659956,0.9384787472035794,0.941834451901566,0.9333333333333332,0.9324384787472036,0.9393736017897092,0.941834451901566,0.9373601789709172,0.934675615212528,0.9400447427293064,0.9328859060402684,0.9353467561521251,0.9344519015659956,0.9369127516778524,0.93668903803132,0.9425055928411632,0.9308724832214764,0.94496644295302,0.9357941834451902,0.9425055928411632,0.9371364653243848,0.93668903803132,0.9371364653243848,0.9333333333333332,0.9371364653243848,0.9351230425055927,0.9447427293064876,0.938255033557047,0.9364653243847876,0.9335570469798656,0.9328859060402684,0.9322147651006712,0.9328859060402684,0.9353467561521251,0.93668903803132,0.9348993288590604,0.937807606263982,0.9402684563758388,0.934675615212528,0.9362416107382552,0.9322147651006712,0.934675615212528,0.9360178970917226,0.9360178970917226,0.9319910514541389,0.9351230425055927,0.9344519015659956,0.93668903803132,0.9351230425055927,0.9337807606263984,0.9357941834451902,0.9389261744966444,0.9357941834451902,0.9364653243847876,0.9353467561521251,0.9384787472035794,0.9351230425055927,0.93668903803132,0.938255033557047,0.9375838926174496,0.9360178970917226,0.9380313199105146,0.928635346756152,0.9335570469798656,0.9353467561521251,0.9371364653243848,0.9369127516778524,0.9360178970917226,0.9340044742729308,0.929082774049217,0.9380313199105146,0.9324384787472036,0.932662192393736,0.934228187919463,0.937807606263982,0.9362416107382552,0.9357941834451902,0.9413870246085012,0.939821029082774,0.938255033557047,0.9416107382550336,0.9351230425055927,0.9279642058165548,0.9364653243847876,0.9277404921700224,0.9375838926174496,0.9328859060402684,0.938702460850112,0.939821029082774,0.9297539149888144,0.9351230425055927,0.9319910514541389,0.9331096196868008,0.9322147651006712,0.9351230425055927,0.9353467561521251,0.9288590604026844,0.9369127516778524,0.9373601789709172,0.9308724832214764,0.9362416107382552,0.9333333333333332,0.9413870246085012,0.9373601789709172,0.9357941834451902,0.934228187919463,0.9384787472035794,0.9353467561521251,0.9384787472035794,0.9333333333333332,0.9416107382550336,0.932662192393736,0.9335570469798656,0.929082774049217,0.9362416107382552,0.938702460850112,0.9369127516778524,0.9402684563758388,0.9436241610738256,0.934228187919463,0.928635346756152,0.9391498881431768,0.9355704697986578,0.9380313199105146,0.9364653243847876,0.9322147651006712,0.9308724832214764,0.9364653243847876,0.939821029082774,0.9333333333333332,0.9380313199105146,0.9357941834451902,0.9340044742729308,0.938702460850112,0.934228187919463,0.9360178970917226,0.9420581655480984,0.9364653243847876,0.9335570469798656,0.93668903803132,0.9362416107382552,0.9389261744966444,0.9337807606263984,0.934228187919463,0.9357941834451902,0.9373601789709172,0.9360178970917226,0.9389261744966444,0.9375838926174496,0.9319910514541389,0.93668903803132,0.9360178970917226,0.9413870246085012,0.9302013422818792,0.9315436241610738,0.9427293064876956,0.93668903803132,0.9355704697986578,0.9369127516778524,0.938255033557047,0.938255033557047,0.9344519015659956,0.9420581655480984,0.9299776286353468,0.9324384787472036,0.9411633109619688,0.9308724832214764,0.9344519015659956,0.93668903803132,0.9364653243847876,0.9369127516778524,0.9384787472035794,0.9364653243847876,0.9389261744966444,0.9442953020134228,0.9362416107382552,0.9351230425055927,0.938255033557047,0.9384787472035794,0.9362416107382552,0.943847874720358,0.9344519015659956,0.9360178970917226,0.9375838926174496,0.9391498881431768,0.9333333333333332,0.9322147651006712,0.9400447427293064,0.941834451901566,0.9328859060402684,0.9384787472035794,0.9431767337807606,0.9304250559284116,0.9413870246085012,0.9400447427293064,0.930648769574944,0.9407158836689038,0.9373601789709172,0.9369127516778524,0.9335570469798656,0.9369127516778524,0.9351230425055927,0.9360178970917226,0.93668903803132,0.9355704697986578,0.9369127516778524,0.9373601789709172,0.9400447427293064,0.9360178970917226,0.9344519015659956,0.9364653243847876,0.9407158836689038,0.9442953020134228,0.9362416107382552,0.9393736017897092,0.9299776286353468,0.9395973154362416,0.9375838926174496,0.939821029082774,0.9400447427293064,0.9360178970917226,0.9429530201342282,0.9411633109619688,0.9364653243847876,0.9308724832214764,0.9324384787472036,0.9400447427293064,0.9364653243847876,0.9328859060402684,0.9384787472035794,0.9355704697986578,0.9393736017897092,0.9380313199105146,0.9293064876957494,0.937807606263982,0.9411633109619688,0.9360178970917226,0.934675615212528,0.9362416107382552,0.9369127516778524,0.9348993288590604,0.937807606263982,0.9317673378076062,0.9315436241610738,0.9335570469798656,0.932662192393736,0.9467561521252796,0.9331096196868008,0.9322147651006712,0.9391498881431768,0.9355704697986578,0.9340044742729308,0.9344519015659956,0.929530201342282,0.938702460850112,0.9389261744966444,0.9279642058165548,0.9427293064876956,0.937807606263982,0.9331096196868008,0.932662192393736,0.9331096196868008,0.9348993288590604,0.9317673378076062,0.9337807606263984,0.9337807606263984,0.937807606263982,0.9384787472035794,0.9380313199105146,0.9351230425055927,0.9416107382550336,0.939821029082774,0.93668903803132,0.9411633109619688,0.9304250559284116,0.9322147651006712,0.9364653243847876,0.941834451901566,0.9391498881431768,0.9322147651006712,0.929530201342282,0.9331096196868008,0.9391498881431768,0.9351230425055927,0.938255033557047,0.9328859060402684,0.9384787472035794,0.9375838926174496,0.934675615212528,0.9364653243847876,0.9313199105145414,0.9393736017897092,0.939821029082774,0.9364653243847876,0.9371364653243848,0.939821029082774,0.93668903803132,0.9380313199105146,0.9393736017897092,0.9391498881431768,0.9279642058165548,0.9324384787472036,0.9362416107382552,0.938255033557047,0.934228187919463,0.9328859060402684,0.9395973154362416,0.9360178970917226,0.9440715883668904,0.9389261744966444,0.9400447427293064,0.9315436241610738,0.9395973154362416,0.9407158836689038,0.9357941834451902,0.93668903803132,0.9380313199105146,0.9364653243847876,0.9380313199105146,0.9393736017897092,0.9355704697986578,0.9364653243847876,0.9369127516778524,0.9384787472035794,0.9351230425055927,0.9322147651006712,0.9360178970917226,0.9351230425055927,0.9362416107382552,0.9416107382550336,0.9322147651006712,0.932662192393736,0.9360178970917226,0.9402684563758388,0.9371364653243848,0.9373601789709172,0.9348993288590604,0.9375838926174496,0.93668903803132,0.9380313199105146,0.9335570469798656,0.92751677852349,0.937807606263982,0.939821029082774,0.9384787472035794,0.9333333333333332,0.9344519015659956,0.9380313199105146,0.9344519015659956,0.938255033557047,0.9360178970917226,0.9353467561521251,0.9371364653243848,0.9391498881431768,0.9402684563758388,0.934228187919463,0.9351230425055927,0.9427293064876956,0.93668903803132,0.9331096196868008,0.9324384787472036,0.9304250559284116,0.9355704697986578,0.9391498881431768,0.9284116331096196,0.9315436241610738,0.9297539149888144,0.9348993288590604,0.9360178970917226,0.9369127516778524,0.937807606263982,0.9333333333333332,0.9263982102908276,0.9393736017897092,0.934675615212528,0.9416107382550336,0.9357941834451902,0.9319910514541389,0.9360178970917226,0.937807606263982,0.9315436241610738,0.938255033557047,0.937807606263982,0.93668903803132,0.9351230425055927,0.9355704697986578,0.9440715883668904,0.9362416107382552,0.934675615212528,0.9357941834451902,0.9322147651006712,0.9272930648769576,0.9380313199105146,0.93668903803132,0.9331096196868008,0.9425055928411632,0.938255033557047,0.9369127516778524,0.938255033557047,0.929530201342282,0.9371364653243848,0.938255033557047,0.9369127516778524,0.9355704697986578,0.9404921700223714,0.9404921700223714,0.9340044742729308,0.938702460850112,0.9391498881431768,0.9375838926174496,0.9380313199105146,0.93668903803132,0.9409395973154362,0.93668903803132,0.9369127516778524,0.9297539149888144,0.9364653243847876,0.9337807606263984,0.9357941834451902,0.934228187919463,0.9279642058165548,0.9335570469798656,0.93668903803132,0.9331096196868008,0.93668903803132,0.9364653243847876,0.928635346756152,0.9375838926174496,0.934228187919463,0.9371364653243848,0.9463087248322148,0.9340044742729308,0.9324384787472036,0.9357941834451902,0.9333333333333332,0.9351230425055927,0.937807606263982,0.9380313199105146,0.9380313199105146,0.934675615212528,0.934675615212528,0.934675615212528,0.93668903803132,0.9335570469798656,0.9297539149888144,0.938255033557047,0.9389261744966444,0.938702460850112,0.9362416107382552,0.9413870246085012,0.9355704697986578,0.9357941834451902,0.9335570469798656,0.937807606263982,0.9348993288590604,0.9328859060402684,0.9404921700223714,0.9304250559284116,0.93668903803132,0.9407158836689038,0.9348993288590604,0.9395973154362416,0.9348993288590604,0.9340044742729308,0.9384787472035794,0.9413870246085012,0.9348993288590604,0.9328859060402684,0.9324384787472036,0.9360178970917226,0.93668903803132,0.9362416107382552,0.9302013422818792,0.938255033557047,0.9310961968680088,0.9355704697986578,0.9380313199105146,0.9389261744966444,0.9353467561521251,0.934228187919463,0.9357941834451902,0.9360178970917226,0.9353467561521251,0.9460850111856824,0.9411633109619688,0.937807606263982,0.9357941834451902,0.9315436241610738,0.9362416107382552,0.9357941834451902,0.9351230425055927,0.937807606263982,0.9364653243847876,0.9344519015659956,0.9425055928411632,0.93668903803132,0.9369127516778524,0.934228187919463,0.9413870246085012,0.9411633109619688,0.9355704697986578,0.9357941834451902,0.9355704697986578,0.9333333333333332,0.9348993288590604,0.9364653243847876,0.9351230425055927,0.9411633109619688,0.9340044742729308,0.937807606263982,0.9360178970917226,0.9425055928411632,0.9393736017897092,0.934675615212528,0.93668903803132,0.941834451901566,0.932662192393736,0.9362416107382552,0.9360178970917226,0.93668903803132,0.9404921700223714,0.9395973154362416,0.9422818791946308,0.9371364653243848,0.9319910514541389,0.9369127516778524,0.938702460850112,0.9407158836689038,0.9357941834451902,0.9373601789709172,0.9404921700223714,0.929530201342282,0.9333333333333332,0.9431767337807606,0.9331096196868008,0.928635346756152,0.9409395973154362,0.9362416107382552,0.9373601789709172,0.9348993288590604,0.934228187919463,0.9413870246085012,0.9369127516778524,0.9411633109619688,0.939821029082774,0.94496644295302,0.9407158836689038,0.9348993288590604,0.937807606263982,0.9402684563758388,0.9337807606263984,0.9380313199105146,0.93668903803132,0.9373601789709172,0.9317673378076062,0.938702460850112,0.941834451901566,0.9375838926174496,0.930648769574944,0.9353467561521251,0.9315436241610738,0.9371364653243848,0.9413870246085012,0.93668903803132,0.932662192393736,0.930648769574944,0.9360178970917226,0.9416107382550336,0.9348993288590604,0.934228187919463,0.932662192393736,0.9380313199105146,0.9422818791946308,0.9373601789709172,0.9402684563758388,0.9411633109619688,0.9440715883668904,0.932662192393736,0.9331096196868008,0.9404921700223714,0.9353467561521251,0.9315436241610738,0.9369127516778524,0.9357941834451902,0.9409395973154362,0.937807606263982,0.9436241610738256,0.9429530201342282,0.9400447427293064,0.9409395973154362,0.9364653243847876,0.9299776286353468,0.9353467561521251,0.932662192393736,0.9353467561521251,0.9324384787472036,0.93668903803132,0.9360178970917226,0.934228187919463,0.938702460850112,0.9380313199105146,0.9335570469798656,0.9409395973154362,0.938255033557047,0.9302013422818792,0.9364653243847876,0.939821029082774,0.9404921700223714,0.9333333333333332,0.9357941834451902,0.9355704697986578,0.9391498881431768,0.9391498881431768,0.938702460850112,0.9371364653243848,0.9391498881431768,0.938255033557047,0.9375838926174496,0.9357941834451902,0.9351230425055927,0.9407158836689038,0.9302013422818792,0.9355704697986578,0.9360178970917226,0.9442953020134228,0.9344519015659956,0.9375838926174496,0.9375838926174496,0.9340044742729308,0.9369127516778524,0.9313199105145414,0.9310961968680088,0.9400447427293064,0.9362416107382552,0.938702460850112,0.9337807606263984],\"xaxis\":\"x2\",\"yaxis\":\"y2\",\"type\":\"box\"}],                        {\"template\":{\"data\":{\"bar\":[{\"error_x\":{\"color\":\"#2a3f5f\"},\"error_y\":{\"color\":\"#2a3f5f\"},\"marker\":{\"line\":{\"color\":\"#E5ECF6\",\"width\":0.5},\"pattern\":{\"fillmode\":\"overlay\",\"size\":10,\"solidity\":0.2}},\"type\":\"bar\"}],\"barpolar\":[{\"marker\":{\"line\":{\"color\":\"#E5ECF6\",\"width\":0.5},\"pattern\":{\"fillmode\":\"overlay\",\"size\":10,\"solidity\":0.2}},\"type\":\"barpolar\"}],\"carpet\":[{\"aaxis\":{\"endlinecolor\":\"#2a3f5f\",\"gridcolor\":\"white\",\"linecolor\":\"white\",\"minorgridcolor\":\"white\",\"startlinecolor\":\"#2a3f5f\"},\"baxis\":{\"endlinecolor\":\"#2a3f5f\",\"gridcolor\":\"white\",\"linecolor\":\"white\",\"minorgridcolor\":\"white\",\"startlinecolor\":\"#2a3f5f\"},\"type\":\"carpet\"}],\"choropleth\":[{\"colorbar\":{\"outlinewidth\":0,\"ticks\":\"\"},\"type\":\"choropleth\"}],\"contour\":[{\"colorbar\":{\"outlinewidth\":0,\"ticks\":\"\"},\"colorscale\":[[0.0,\"#0d0887\"],[0.1111111111111111,\"#46039f\"],[0.2222222222222222,\"#7201a8\"],[0.3333333333333333,\"#9c179e\"],[0.4444444444444444,\"#bd3786\"],[0.5555555555555556,\"#d8576b\"],[0.6666666666666666,\"#ed7953\"],[0.7777777777777778,\"#fb9f3a\"],[0.8888888888888888,\"#fdca26\"],[1.0,\"#f0f921\"]],\"type\":\"contour\"}],\"contourcarpet\":[{\"colorbar\":{\"outlinewidth\":0,\"ticks\":\"\"},\"type\":\"contourcarpet\"}],\"heatmap\":[{\"colorbar\":{\"outlinewidth\":0,\"ticks\":\"\"},\"colorscale\":[[0.0,\"#0d0887\"],[0.1111111111111111,\"#46039f\"],[0.2222222222222222,\"#7201a8\"],[0.3333333333333333,\"#9c179e\"],[0.4444444444444444,\"#bd3786\"],[0.5555555555555556,\"#d8576b\"],[0.6666666666666666,\"#ed7953\"],[0.7777777777777778,\"#fb9f3a\"],[0.8888888888888888,\"#fdca26\"],[1.0,\"#f0f921\"]],\"type\":\"heatmap\"}],\"heatmapgl\":[{\"colorbar\":{\"outlinewidth\":0,\"ticks\":\"\"},\"colorscale\":[[0.0,\"#0d0887\"],[0.1111111111111111,\"#46039f\"],[0.2222222222222222,\"#7201a8\"],[0.3333333333333333,\"#9c179e\"],[0.4444444444444444,\"#bd3786\"],[0.5555555555555556,\"#d8576b\"],[0.6666666666666666,\"#ed7953\"],[0.7777777777777778,\"#fb9f3a\"],[0.8888888888888888,\"#fdca26\"],[1.0,\"#f0f921\"]],\"type\":\"heatmapgl\"}],\"histogram\":[{\"marker\":{\"pattern\":{\"fillmode\":\"overlay\",\"size\":10,\"solidity\":0.2}},\"type\":\"histogram\"}],\"histogram2d\":[{\"colorbar\":{\"outlinewidth\":0,\"ticks\":\"\"},\"colorscale\":[[0.0,\"#0d0887\"],[0.1111111111111111,\"#46039f\"],[0.2222222222222222,\"#7201a8\"],[0.3333333333333333,\"#9c179e\"],[0.4444444444444444,\"#bd3786\"],[0.5555555555555556,\"#d8576b\"],[0.6666666666666666,\"#ed7953\"],[0.7777777777777778,\"#fb9f3a\"],[0.8888888888888888,\"#fdca26\"],[1.0,\"#f0f921\"]],\"type\":\"histogram2d\"}],\"histogram2dcontour\":[{\"colorbar\":{\"outlinewidth\":0,\"ticks\":\"\"},\"colorscale\":[[0.0,\"#0d0887\"],[0.1111111111111111,\"#46039f\"],[0.2222222222222222,\"#7201a8\"],[0.3333333333333333,\"#9c179e\"],[0.4444444444444444,\"#bd3786\"],[0.5555555555555556,\"#d8576b\"],[0.6666666666666666,\"#ed7953\"],[0.7777777777777778,\"#fb9f3a\"],[0.8888888888888888,\"#fdca26\"],[1.0,\"#f0f921\"]],\"type\":\"histogram2dcontour\"}],\"mesh3d\":[{\"colorbar\":{\"outlinewidth\":0,\"ticks\":\"\"},\"type\":\"mesh3d\"}],\"parcoords\":[{\"line\":{\"colorbar\":{\"outlinewidth\":0,\"ticks\":\"\"}},\"type\":\"parcoords\"}],\"pie\":[{\"automargin\":true,\"type\":\"pie\"}],\"scatter\":[{\"marker\":{\"colorbar\":{\"outlinewidth\":0,\"ticks\":\"\"}},\"type\":\"scatter\"}],\"scatter3d\":[{\"line\":{\"colorbar\":{\"outlinewidth\":0,\"ticks\":\"\"}},\"marker\":{\"colorbar\":{\"outlinewidth\":0,\"ticks\":\"\"}},\"type\":\"scatter3d\"}],\"scattercarpet\":[{\"marker\":{\"colorbar\":{\"outlinewidth\":0,\"ticks\":\"\"}},\"type\":\"scattercarpet\"}],\"scattergeo\":[{\"marker\":{\"colorbar\":{\"outlinewidth\":0,\"ticks\":\"\"}},\"type\":\"scattergeo\"}],\"scattergl\":[{\"marker\":{\"colorbar\":{\"outlinewidth\":0,\"ticks\":\"\"}},\"type\":\"scattergl\"}],\"scattermapbox\":[{\"marker\":{\"colorbar\":{\"outlinewidth\":0,\"ticks\":\"\"}},\"type\":\"scattermapbox\"}],\"scatterpolar\":[{\"marker\":{\"colorbar\":{\"outlinewidth\":0,\"ticks\":\"\"}},\"type\":\"scatterpolar\"}],\"scatterpolargl\":[{\"marker\":{\"colorbar\":{\"outlinewidth\":0,\"ticks\":\"\"}},\"type\":\"scatterpolargl\"}],\"scatterternary\":[{\"marker\":{\"colorbar\":{\"outlinewidth\":0,\"ticks\":\"\"}},\"type\":\"scatterternary\"}],\"surface\":[{\"colorbar\":{\"outlinewidth\":0,\"ticks\":\"\"},\"colorscale\":[[0.0,\"#0d0887\"],[0.1111111111111111,\"#46039f\"],[0.2222222222222222,\"#7201a8\"],[0.3333333333333333,\"#9c179e\"],[0.4444444444444444,\"#bd3786\"],[0.5555555555555556,\"#d8576b\"],[0.6666666666666666,\"#ed7953\"],[0.7777777777777778,\"#fb9f3a\"],[0.8888888888888888,\"#fdca26\"],[1.0,\"#f0f921\"]],\"type\":\"surface\"}],\"table\":[{\"cells\":{\"fill\":{\"color\":\"#EBF0F8\"},\"line\":{\"color\":\"white\"}},\"header\":{\"fill\":{\"color\":\"#C8D4E3\"},\"line\":{\"color\":\"white\"}},\"type\":\"table\"}]},\"layout\":{\"annotationdefaults\":{\"arrowcolor\":\"#2a3f5f\",\"arrowhead\":0,\"arrowwidth\":1},\"autotypenumbers\":\"strict\",\"coloraxis\":{\"colorbar\":{\"outlinewidth\":0,\"ticks\":\"\"}},\"colorscale\":{\"diverging\":[[0,\"#8e0152\"],[0.1,\"#c51b7d\"],[0.2,\"#de77ae\"],[0.3,\"#f1b6da\"],[0.4,\"#fde0ef\"],[0.5,\"#f7f7f7\"],[0.6,\"#e6f5d0\"],[0.7,\"#b8e186\"],[0.8,\"#7fbc41\"],[0.9,\"#4d9221\"],[1,\"#276419\"]],\"sequential\":[[0.0,\"#0d0887\"],[0.1111111111111111,\"#46039f\"],[0.2222222222222222,\"#7201a8\"],[0.3333333333333333,\"#9c179e\"],[0.4444444444444444,\"#bd3786\"],[0.5555555555555556,\"#d8576b\"],[0.6666666666666666,\"#ed7953\"],[0.7777777777777778,\"#fb9f3a\"],[0.8888888888888888,\"#fdca26\"],[1.0,\"#f0f921\"]],\"sequentialminus\":[[0.0,\"#0d0887\"],[0.1111111111111111,\"#46039f\"],[0.2222222222222222,\"#7201a8\"],[0.3333333333333333,\"#9c179e\"],[0.4444444444444444,\"#bd3786\"],[0.5555555555555556,\"#d8576b\"],[0.6666666666666666,\"#ed7953\"],[0.7777777777777778,\"#fb9f3a\"],[0.8888888888888888,\"#fdca26\"],[1.0,\"#f0f921\"]]},\"colorway\":[\"#636efa\",\"#EF553B\",\"#00cc96\",\"#ab63fa\",\"#FFA15A\",\"#19d3f3\",\"#FF6692\",\"#B6E880\",\"#FF97FF\",\"#FECB52\"],\"font\":{\"color\":\"#2a3f5f\"},\"geo\":{\"bgcolor\":\"white\",\"lakecolor\":\"white\",\"landcolor\":\"#E5ECF6\",\"showlakes\":true,\"showland\":true,\"subunitcolor\":\"white\"},\"hoverlabel\":{\"align\":\"left\"},\"hovermode\":\"closest\",\"mapbox\":{\"style\":\"light\"},\"paper_bgcolor\":\"white\",\"plot_bgcolor\":\"#E5ECF6\",\"polar\":{\"angularaxis\":{\"gridcolor\":\"white\",\"linecolor\":\"white\",\"ticks\":\"\"},\"bgcolor\":\"#E5ECF6\",\"radialaxis\":{\"gridcolor\":\"white\",\"linecolor\":\"white\",\"ticks\":\"\"}},\"scene\":{\"xaxis\":{\"backgroundcolor\":\"#E5ECF6\",\"gridcolor\":\"white\",\"gridwidth\":2,\"linecolor\":\"white\",\"showbackground\":true,\"ticks\":\"\",\"zerolinecolor\":\"white\"},\"yaxis\":{\"backgroundcolor\":\"#E5ECF6\",\"gridcolor\":\"white\",\"gridwidth\":2,\"linecolor\":\"white\",\"showbackground\":true,\"ticks\":\"\",\"zerolinecolor\":\"white\"},\"zaxis\":{\"backgroundcolor\":\"#E5ECF6\",\"gridcolor\":\"white\",\"gridwidth\":2,\"linecolor\":\"white\",\"showbackground\":true,\"ticks\":\"\",\"zerolinecolor\":\"white\"}},\"shapedefaults\":{\"line\":{\"color\":\"#2a3f5f\"}},\"ternary\":{\"aaxis\":{\"gridcolor\":\"white\",\"linecolor\":\"white\",\"ticks\":\"\"},\"baxis\":{\"gridcolor\":\"white\",\"linecolor\":\"white\",\"ticks\":\"\"},\"bgcolor\":\"#E5ECF6\",\"caxis\":{\"gridcolor\":\"white\",\"linecolor\":\"white\",\"ticks\":\"\"}},\"title\":{\"x\":0.05},\"xaxis\":{\"automargin\":true,\"gridcolor\":\"white\",\"linecolor\":\"white\",\"ticks\":\"\",\"title\":{\"standoff\":15},\"zerolinecolor\":\"white\",\"zerolinewidth\":2},\"yaxis\":{\"automargin\":true,\"gridcolor\":\"white\",\"linecolor\":\"white\",\"ticks\":\"\",\"title\":{\"standoff\":15},\"zerolinecolor\":\"white\",\"zerolinewidth\":2}}},\"xaxis\":{\"anchor\":\"y\",\"domain\":[0.0,1.0],\"title\":{\"text\":\"accuracy\"}},\"yaxis\":{\"anchor\":\"x\",\"domain\":[0.0,0.7326],\"title\":{\"text\":\"count\"}},\"xaxis2\":{\"anchor\":\"y2\",\"domain\":[0.0,1.0],\"matches\":\"x\",\"showticklabels\":false,\"showgrid\":true},\"yaxis2\":{\"anchor\":\"x2\",\"domain\":[0.7426,1.0],\"matches\":\"y2\",\"showticklabels\":false,\"showline\":false,\"ticks\":\"\",\"showgrid\":false},\"legend\":{\"title\":{\"text\":\"variable\"},\"tracegroupgap\":0},\"margin\":{\"t\":60},\"barmode\":\"relative\",\"showlegend\":false},                        {\"responsive\": true}                    ).then(function(){\n",
       "                            \n",
       "var gd = document.getElementById('6711b482-9c23-4b8d-beca-eee342cc87ee');\n",
       "var x = new MutationObserver(function (mutations, observer) {{\n",
       "        var display = window.getComputedStyle(gd).display;\n",
       "        if (!display || display === 'none') {{\n",
       "            console.log([gd, 'removed!']);\n",
       "            Plotly.purge(gd);\n",
       "            observer.disconnect();\n",
       "        }}\n",
       "}});\n",
       "\n",
       "// Listen for the removal of the full notebook cells\n",
       "var notebookContainer = gd.closest('#notebook-container');\n",
       "if (notebookContainer) {{\n",
       "    x.observe(notebookContainer, {childList: true});\n",
       "}}\n",
       "\n",
       "// Listen for the clearing of the current output cell\n",
       "var outputEl = gd.closest('.output');\n",
       "if (outputEl) {{\n",
       "    x.observe(outputEl, {childList: true});\n",
       "}}\n",
       "\n",
       "                        })                };                });            </script>        </div>"
      ]
     },
     "metadata": {},
     "output_type": "display_data"
    }
   ],
   "source": [
    "import plotly.express as px\n",
    "df = accuracies_group.to_numpy()\n",
    "#df = accuracies_ID\n",
    "fig = px.histogram(df,  marginal=\"box\",\\\n",
    "        labels={'count':'amount of bootstraps', 'value':'accuracy'}, hover_data=df.transpose())\n",
    "fig.update_layout(showlegend=False)\n",
    "fig.show()"
   ]
  },
  {
   "cell_type": "code",
   "execution_count": 74,
   "metadata": {
    "hidden": true
   },
   "outputs": [],
   "source": [
    "accuracies_ID.to_csv(r\"MS_profiles\\bootstrap_ID\", sep=';', header=True, index=True,)\n",
    "accuracies_group.to_csv(r\"MS_profiles\\bootstrap_group\", sep=';', header=True, index=True,)"
   ]
  },
  {
   "cell_type": "markdown",
   "metadata": {
    "heading_collapsed": true
   },
   "source": [
    "# Оценка уровня шума\n",
    "## внутривидовая"
   ]
  },
  {
   "cell_type": "code",
   "execution_count": 14,
   "metadata": {
    "hidden": true
   },
   "outputs": [
    {
     "data": {
      "text/html": [
       "<div>\n",
       "<style scoped>\n",
       "    .dataframe tbody tr th:only-of-type {\n",
       "        vertical-align: middle;\n",
       "    }\n",
       "\n",
       "    .dataframe tbody tr th {\n",
       "        vertical-align: top;\n",
       "    }\n",
       "\n",
       "    .dataframe thead th {\n",
       "        text-align: right;\n",
       "    }\n",
       "</style>\n",
       "<table border=\"1\" class=\"dataframe\">\n",
       "  <thead>\n",
       "    <tr style=\"text-align: right;\">\n",
       "      <th></th>\n",
       "      <th>KUskv2(1)</th>\n",
       "      <th>2U</th>\n",
       "      <th>KH6</th>\n",
       "    </tr>\n",
       "  </thead>\n",
       "  <tbody>\n",
       "    <tr>\n",
       "      <th>0</th>\n",
       "      <td>0.329652</td>\n",
       "      <td>1.387434</td>\n",
       "      <td>0.565035</td>\n",
       "    </tr>\n",
       "  </tbody>\n",
       "</table>\n",
       "</div>"
      ],
      "text/plain": [
       "   KUskv2(1)        2U       KH6\n",
       "0   0.329652  1.387434  0.565035"
      ]
     },
     "execution_count": 14,
     "metadata": {},
     "output_type": "execute_result"
    }
   ],
   "source": [
    "eps = np.finfo(float).eps\n",
    "average_noise = pd.DataFrame([0], columns = ['delete'])\n",
    "for i in pd.unique(MS_profiles[15002.0]):\n",
    "    bacil = MS_profiles.loc[MS_profiles[15002.0] == i].copy()\n",
    "    if len(bacil.index) >= 3:\n",
    "        bacil = bacil.to_numpy()\n",
    "        mean = bacil.mean()\n",
    "        np.place(mean, mean == 0, np.NaN)\n",
    "        tmp = (mean - bacil[0][:12001]).copy()\n",
    "        sigma = np.array([tmp])\n",
    "        for j, k in enumerate(range(1, len(bacil), 1)):\n",
    "            tmp = (mean - bacil[k][:12001]).copy()\n",
    "            sigma = np.append (sigma, [tmp.copy()], axis = 0)        \n",
    "        sigma = np.std(sigma, dtype=np.float64, axis = 0)\n",
    "        for j in range(len(bacil)):\n",
    "            tmp = mean.copy()\n",
    "            np.place(tmp, tmp == 0, 1) \n",
    "            tmp = sigma/tmp\n",
    "            tmp = tmp[~np.isnan(tmp)]\n",
    "        average_noise[i] = np.mean(tmp,  dtype=np.float64)\n",
    "average_noise = average_noise.drop(columns = ['delete'], axis = 1)\n",
    "average_noise"
   ]
  },
  {
   "cell_type": "code",
   "execution_count": 15,
   "metadata": {
    "hidden": true
   },
   "outputs": [],
   "source": [
    "average_noise.to_csv(r\"average_noise_ID.csv\", sep=';', header=True, index=True,)"
   ]
  },
  {
   "cell_type": "markdown",
   "metadata": {
    "heading_collapsed": true,
    "hidden": true
   },
   "source": [
    "## По всем профилям"
   ]
  },
  {
   "cell_type": "code",
   "execution_count": 12,
   "metadata": {
    "hidden": true
   },
   "outputs": [
    {
     "data": {
      "text/html": [
       "<div>\n",
       "<style scoped>\n",
       "    .dataframe tbody tr th:only-of-type {\n",
       "        vertical-align: middle;\n",
       "    }\n",
       "\n",
       "    .dataframe tbody tr th {\n",
       "        vertical-align: top;\n",
       "    }\n",
       "\n",
       "    .dataframe thead th {\n",
       "        text-align: right;\n",
       "    }\n",
       "</style>\n",
       "<table border=\"1\" class=\"dataframe\">\n",
       "  <thead>\n",
       "    <tr style=\"text-align: right;\">\n",
       "      <th></th>\n",
       "      <th>Bacillus_licheniformis</th>\n",
       "      <th>Bacillus_altitudinis</th>\n",
       "      <th>Bacillus_cereus</th>\n",
       "      <th>Bacillus_pumilus</th>\n",
       "      <th>Bacillus_simplex</th>\n",
       "      <th>Bacillus_megaterium</th>\n",
       "      <th>Geobacillus_subterraneus</th>\n",
       "      <th>Bacillus_flexus</th>\n",
       "      <th>Bacillus_atrophaeus</th>\n",
       "    </tr>\n",
       "  </thead>\n",
       "  <tbody>\n",
       "    <tr>\n",
       "      <th>0</th>\n",
       "      <td>0.891074</td>\n",
       "      <td>0.813061</td>\n",
       "      <td>0.71174</td>\n",
       "      <td>0.895449</td>\n",
       "      <td>0.713575</td>\n",
       "      <td>0.996766</td>\n",
       "      <td>0.726554</td>\n",
       "      <td>0.650573</td>\n",
       "      <td>0.413444</td>\n",
       "    </tr>\n",
       "  </tbody>\n",
       "</table>\n",
       "</div>"
      ],
      "text/plain": [
       "   Bacillus_licheniformis  Bacillus_altitudinis  Bacillus_cereus  \\\n",
       "0                0.891074              0.813061          0.71174   \n",
       "\n",
       "   Bacillus_pumilus  Bacillus_simplex  Bacillus_megaterium  \\\n",
       "0          0.895449          0.713575             0.996766   \n",
       "\n",
       "   Geobacillus_subterraneus  Bacillus_flexus  Bacillus_atrophaeus  \n",
       "0                  0.726554         0.650573             0.413444  "
      ]
     },
     "execution_count": 12,
     "metadata": {},
     "output_type": "execute_result"
    }
   ],
   "source": [
    "eps = np.finfo(float).eps\n",
    "average_noise = pd.DataFrame([0], columns = ['delete'])\n",
    "for i in pd.unique(MS_profiles[15001.0]):\n",
    "    bacil = MS_profiles.loc[MS_profiles[15001.0] == i].copy()\n",
    "    if len(bacil.index) >= 3:\n",
    "        mean = bacil.mean()\n",
    "        bacil = bacil.to_numpy()\n",
    "        mean = mean.to_numpy()\n",
    "        np.place(mean, mean == 0, np.NaN)\n",
    "        for j, k in enumerate(range(len(bacil))):\n",
    "            tmp = (mean - bacil[k][:12001]).copy()\n",
    "            if j == 0:\n",
    "                sigma = np.array([tmp])\n",
    "            else:\n",
    "                sigma = np.append (sigma, [tmp.copy()], axis = 0)        \n",
    "        sigma = np.std(sigma, dtype=np.float64, axis = 0)\n",
    "        for j in range(len(bacil)):\n",
    "            tmp = mean.copy()\n",
    "            np.place(tmp, tmp == 0, 1) \n",
    "            tmp = sigma/tmp\n",
    "            tmp = tmp[~np.isnan(tmp)]\n",
    "        average_noise[i] = np.mean(tmp,  dtype=np.float64)\n",
    "average_noise = average_noise.drop(columns = ['delete'], axis = 1)\n",
    "average_noise"
   ]
  },
  {
   "cell_type": "code",
   "execution_count": 13,
   "metadata": {
    "hidden": true
   },
   "outputs": [],
   "source": [
    "average_noise.to_csv(r\"average_noise_species.csv\", sep=';', header=True, index=True,)"
   ]
  },
  {
   "cell_type": "code",
   "execution_count": 153,
   "metadata": {
    "colab": {
     "base_uri": "https://localhost:8080/",
     "height": 424
    },
    "hidden": true,
    "id": "lDOQ0dqhbALD",
    "outputId": "3e280994-68b5-440d-cd25-16796a4a56df",
    "scrolled": true
   },
   "outputs": [
    {
     "data": {
      "text/html": [
       "<div>\n",
       "<style scoped>\n",
       "    .dataframe tbody tr th:only-of-type {\n",
       "        vertical-align: middle;\n",
       "    }\n",
       "\n",
       "    .dataframe tbody tr th {\n",
       "        vertical-align: top;\n",
       "    }\n",
       "\n",
       "    .dataframe thead th {\n",
       "        text-align: right;\n",
       "    }\n",
       "</style>\n",
       "<table border=\"1\" class=\"dataframe\">\n",
       "  <thead>\n",
       "    <tr style=\"text-align: right;\">\n",
       "      <th></th>\n",
       "      <th>3000.0</th>\n",
       "      <th>3001.0</th>\n",
       "      <th>3002.0</th>\n",
       "      <th>3003.0</th>\n",
       "      <th>3004.0</th>\n",
       "      <th>3005.0</th>\n",
       "      <th>3006.0</th>\n",
       "      <th>3007.0</th>\n",
       "      <th>3008.0</th>\n",
       "      <th>3009.0</th>\n",
       "      <th>...</th>\n",
       "      <th>14993.0</th>\n",
       "      <th>14994.0</th>\n",
       "      <th>14995.0</th>\n",
       "      <th>14996.0</th>\n",
       "      <th>14997.0</th>\n",
       "      <th>14998.0</th>\n",
       "      <th>14999.0</th>\n",
       "      <th>15000.0</th>\n",
       "      <th>15001.0</th>\n",
       "      <th>15002.0</th>\n",
       "    </tr>\n",
       "  </thead>\n",
       "  <tbody>\n",
       "    <tr>\n",
       "      <th>0</th>\n",
       "      <td>0.000000</td>\n",
       "      <td>0.006989</td>\n",
       "      <td>0.009474</td>\n",
       "      <td>0.011865</td>\n",
       "      <td>0.014919</td>\n",
       "      <td>0.013818</td>\n",
       "      <td>0.014891</td>\n",
       "      <td>0.014112</td>\n",
       "      <td>0.011084</td>\n",
       "      <td>0.013803</td>\n",
       "      <td>...</td>\n",
       "      <td>0.002440</td>\n",
       "      <td>0.002064</td>\n",
       "      <td>0.001836</td>\n",
       "      <td>0.001591</td>\n",
       "      <td>0.001053</td>\n",
       "      <td>0.000658</td>\n",
       "      <td>0.000551</td>\n",
       "      <td>0.000000</td>\n",
       "      <td>Bacillus_licheniformis</td>\n",
       "      <td>KUskv2t1(1)</td>\n",
       "    </tr>\n",
       "    <tr>\n",
       "      <th>1</th>\n",
       "      <td>0.007313</td>\n",
       "      <td>0.013938</td>\n",
       "      <td>0.014750</td>\n",
       "      <td>0.006966</td>\n",
       "      <td>0.014828</td>\n",
       "      <td>0.012808</td>\n",
       "      <td>0.017923</td>\n",
       "      <td>0.019887</td>\n",
       "      <td>0.002961</td>\n",
       "      <td>0.004370</td>\n",
       "      <td>...</td>\n",
       "      <td>0.005857</td>\n",
       "      <td>0.006673</td>\n",
       "      <td>0.009541</td>\n",
       "      <td>0.010383</td>\n",
       "      <td>0.004015</td>\n",
       "      <td>0.008366</td>\n",
       "      <td>0.008383</td>\n",
       "      <td>0.006958</td>\n",
       "      <td>Bacillus_licheniformis</td>\n",
       "      <td>KUskv2t1(1)</td>\n",
       "    </tr>\n",
       "    <tr>\n",
       "      <th>2</th>\n",
       "      <td>0.000435</td>\n",
       "      <td>0.015809</td>\n",
       "      <td>0.019351</td>\n",
       "      <td>0.011824</td>\n",
       "      <td>0.023598</td>\n",
       "      <td>0.018181</td>\n",
       "      <td>0.022701</td>\n",
       "      <td>0.011030</td>\n",
       "      <td>0.003904</td>\n",
       "      <td>0.004140</td>\n",
       "      <td>...</td>\n",
       "      <td>0.012167</td>\n",
       "      <td>0.011262</td>\n",
       "      <td>0.006807</td>\n",
       "      <td>0.003807</td>\n",
       "      <td>0.010370</td>\n",
       "      <td>0.001349</td>\n",
       "      <td>0.000063</td>\n",
       "      <td>0.009756</td>\n",
       "      <td>Bacillus_licheniformis</td>\n",
       "      <td>KUskv2t1(1)</td>\n",
       "    </tr>\n",
       "    <tr>\n",
       "      <th>3</th>\n",
       "      <td>0.007757</td>\n",
       "      <td>0.001331</td>\n",
       "      <td>0.000973</td>\n",
       "      <td>0.004458</td>\n",
       "      <td>0.010547</td>\n",
       "      <td>0.021161</td>\n",
       "      <td>0.024628</td>\n",
       "      <td>0.012870</td>\n",
       "      <td>0.002637</td>\n",
       "      <td>0.020423</td>\n",
       "      <td>...</td>\n",
       "      <td>0.012325</td>\n",
       "      <td>0.005027</td>\n",
       "      <td>0.009708</td>\n",
       "      <td>0.001062</td>\n",
       "      <td>0.009265</td>\n",
       "      <td>0.006616</td>\n",
       "      <td>0.009516</td>\n",
       "      <td>0.007590</td>\n",
       "      <td>Bacillus_licheniformis</td>\n",
       "      <td>KUskv2t1(1)</td>\n",
       "    </tr>\n",
       "    <tr>\n",
       "      <th>4</th>\n",
       "      <td>0.009745</td>\n",
       "      <td>0.011968</td>\n",
       "      <td>0.010912</td>\n",
       "      <td>0.021210</td>\n",
       "      <td>0.011922</td>\n",
       "      <td>0.007094</td>\n",
       "      <td>0.005605</td>\n",
       "      <td>0.011333</td>\n",
       "      <td>0.013676</td>\n",
       "      <td>0.013832</td>\n",
       "      <td>...</td>\n",
       "      <td>0.000855</td>\n",
       "      <td>0.011289</td>\n",
       "      <td>0.009245</td>\n",
       "      <td>0.008980</td>\n",
       "      <td>0.009023</td>\n",
       "      <td>0.003088</td>\n",
       "      <td>0.008388</td>\n",
       "      <td>0.008149</td>\n",
       "      <td>Bacillus_licheniformis</td>\n",
       "      <td>KUskv2t1(1)</td>\n",
       "    </tr>\n",
       "    <tr>\n",
       "      <th>...</th>\n",
       "      <td>...</td>\n",
       "      <td>...</td>\n",
       "      <td>...</td>\n",
       "      <td>...</td>\n",
       "      <td>...</td>\n",
       "      <td>...</td>\n",
       "      <td>...</td>\n",
       "      <td>...</td>\n",
       "      <td>...</td>\n",
       "      <td>...</td>\n",
       "      <td>...</td>\n",
       "      <td>...</td>\n",
       "      <td>...</td>\n",
       "      <td>...</td>\n",
       "      <td>...</td>\n",
       "      <td>...</td>\n",
       "      <td>...</td>\n",
       "      <td>...</td>\n",
       "      <td>...</td>\n",
       "      <td>...</td>\n",
       "      <td>...</td>\n",
       "    </tr>\n",
       "    <tr>\n",
       "      <th>3166</th>\n",
       "      <td>0.009394</td>\n",
       "      <td>0.008386</td>\n",
       "      <td>0.009074</td>\n",
       "      <td>0.004583</td>\n",
       "      <td>0.002929</td>\n",
       "      <td>0.006659</td>\n",
       "      <td>0.014556</td>\n",
       "      <td>0.011760</td>\n",
       "      <td>0.017440</td>\n",
       "      <td>0.021321</td>\n",
       "      <td>...</td>\n",
       "      <td>0.010809</td>\n",
       "      <td>0.009078</td>\n",
       "      <td>0.008580</td>\n",
       "      <td>0.011124</td>\n",
       "      <td>0.001862</td>\n",
       "      <td>0.009470</td>\n",
       "      <td>0.008352</td>\n",
       "      <td>0.002091</td>\n",
       "      <td>Bacillus_chungangenis</td>\n",
       "      <td>45(3)il</td>\n",
       "    </tr>\n",
       "    <tr>\n",
       "      <th>3167</th>\n",
       "      <td>0.002889</td>\n",
       "      <td>0.009418</td>\n",
       "      <td>0.008417</td>\n",
       "      <td>0.000243</td>\n",
       "      <td>0.001700</td>\n",
       "      <td>0.016935</td>\n",
       "      <td>0.014160</td>\n",
       "      <td>0.018519</td>\n",
       "      <td>0.003089</td>\n",
       "      <td>0.016207</td>\n",
       "      <td>...</td>\n",
       "      <td>0.004894</td>\n",
       "      <td>0.004727</td>\n",
       "      <td>0.009947</td>\n",
       "      <td>0.003794</td>\n",
       "      <td>0.007648</td>\n",
       "      <td>0.001698</td>\n",
       "      <td>0.006608</td>\n",
       "      <td>0.007744</td>\n",
       "      <td>Bacillus_chungangenis</td>\n",
       "      <td>45(3)il</td>\n",
       "    </tr>\n",
       "    <tr>\n",
       "      <th>3168</th>\n",
       "      <td>0.000237</td>\n",
       "      <td>0.005421</td>\n",
       "      <td>0.013267</td>\n",
       "      <td>0.013822</td>\n",
       "      <td>0.005666</td>\n",
       "      <td>0.009650</td>\n",
       "      <td>0.006884</td>\n",
       "      <td>0.016543</td>\n",
       "      <td>0.002788</td>\n",
       "      <td>0.014981</td>\n",
       "      <td>...</td>\n",
       "      <td>0.003290</td>\n",
       "      <td>0.004330</td>\n",
       "      <td>0.008629</td>\n",
       "      <td>0.000734</td>\n",
       "      <td>0.000328</td>\n",
       "      <td>0.006762</td>\n",
       "      <td>0.001016</td>\n",
       "      <td>0.006497</td>\n",
       "      <td>Bacillus_chungangenis</td>\n",
       "      <td>45(3)il</td>\n",
       "    </tr>\n",
       "    <tr>\n",
       "      <th>3169</th>\n",
       "      <td>0.003498</td>\n",
       "      <td>0.005135</td>\n",
       "      <td>0.005355</td>\n",
       "      <td>0.007462</td>\n",
       "      <td>0.016225</td>\n",
       "      <td>0.017192</td>\n",
       "      <td>0.010678</td>\n",
       "      <td>0.005472</td>\n",
       "      <td>0.003863</td>\n",
       "      <td>0.022940</td>\n",
       "      <td>...</td>\n",
       "      <td>0.008216</td>\n",
       "      <td>0.006939</td>\n",
       "      <td>0.003526</td>\n",
       "      <td>0.010951</td>\n",
       "      <td>0.009421</td>\n",
       "      <td>0.002176</td>\n",
       "      <td>0.006806</td>\n",
       "      <td>0.008494</td>\n",
       "      <td>Bacillus_chungangenis</td>\n",
       "      <td>45(3)il</td>\n",
       "    </tr>\n",
       "    <tr>\n",
       "      <th>3170</th>\n",
       "      <td>0.005123</td>\n",
       "      <td>0.007502</td>\n",
       "      <td>0.014583</td>\n",
       "      <td>0.015872</td>\n",
       "      <td>0.018143</td>\n",
       "      <td>0.009905</td>\n",
       "      <td>0.010948</td>\n",
       "      <td>0.016916</td>\n",
       "      <td>0.017614</td>\n",
       "      <td>0.016680</td>\n",
       "      <td>...</td>\n",
       "      <td>0.005385</td>\n",
       "      <td>0.003788</td>\n",
       "      <td>0.009014</td>\n",
       "      <td>0.008465</td>\n",
       "      <td>0.001230</td>\n",
       "      <td>0.007134</td>\n",
       "      <td>0.000238</td>\n",
       "      <td>0.008338</td>\n",
       "      <td>Bacillus_chungangenis</td>\n",
       "      <td>45(3)il</td>\n",
       "    </tr>\n",
       "  </tbody>\n",
       "</table>\n",
       "<p>3171 rows × 12003 columns</p>\n",
       "</div>"
      ],
      "text/plain": [
       "        3000.0    3001.0    3002.0    3003.0    3004.0    3005.0    3006.0  \\\n",
       "0     0.000000  0.006989  0.009474  0.011865  0.014919  0.013818  0.014891   \n",
       "1     0.007313  0.013938  0.014750  0.006966  0.014828  0.012808  0.017923   \n",
       "2     0.000435  0.015809  0.019351  0.011824  0.023598  0.018181  0.022701   \n",
       "3     0.007757  0.001331  0.000973  0.004458  0.010547  0.021161  0.024628   \n",
       "4     0.009745  0.011968  0.010912  0.021210  0.011922  0.007094  0.005605   \n",
       "...        ...       ...       ...       ...       ...       ...       ...   \n",
       "3166  0.009394  0.008386  0.009074  0.004583  0.002929  0.006659  0.014556   \n",
       "3167  0.002889  0.009418  0.008417  0.000243  0.001700  0.016935  0.014160   \n",
       "3168  0.000237  0.005421  0.013267  0.013822  0.005666  0.009650  0.006884   \n",
       "3169  0.003498  0.005135  0.005355  0.007462  0.016225  0.017192  0.010678   \n",
       "3170  0.005123  0.007502  0.014583  0.015872  0.018143  0.009905  0.010948   \n",
       "\n",
       "        3007.0    3008.0    3009.0  ...   14993.0   14994.0   14995.0  \\\n",
       "0     0.014112  0.011084  0.013803  ...  0.002440  0.002064  0.001836   \n",
       "1     0.019887  0.002961  0.004370  ...  0.005857  0.006673  0.009541   \n",
       "2     0.011030  0.003904  0.004140  ...  0.012167  0.011262  0.006807   \n",
       "3     0.012870  0.002637  0.020423  ...  0.012325  0.005027  0.009708   \n",
       "4     0.011333  0.013676  0.013832  ...  0.000855  0.011289  0.009245   \n",
       "...        ...       ...       ...  ...       ...       ...       ...   \n",
       "3166  0.011760  0.017440  0.021321  ...  0.010809  0.009078  0.008580   \n",
       "3167  0.018519  0.003089  0.016207  ...  0.004894  0.004727  0.009947   \n",
       "3168  0.016543  0.002788  0.014981  ...  0.003290  0.004330  0.008629   \n",
       "3169  0.005472  0.003863  0.022940  ...  0.008216  0.006939  0.003526   \n",
       "3170  0.016916  0.017614  0.016680  ...  0.005385  0.003788  0.009014   \n",
       "\n",
       "       14996.0   14997.0   14998.0   14999.0   15000.0  \\\n",
       "0     0.001591  0.001053  0.000658  0.000551  0.000000   \n",
       "1     0.010383  0.004015  0.008366  0.008383  0.006958   \n",
       "2     0.003807  0.010370  0.001349  0.000063  0.009756   \n",
       "3     0.001062  0.009265  0.006616  0.009516  0.007590   \n",
       "4     0.008980  0.009023  0.003088  0.008388  0.008149   \n",
       "...        ...       ...       ...       ...       ...   \n",
       "3166  0.011124  0.001862  0.009470  0.008352  0.002091   \n",
       "3167  0.003794  0.007648  0.001698  0.006608  0.007744   \n",
       "3168  0.000734  0.000328  0.006762  0.001016  0.006497   \n",
       "3169  0.010951  0.009421  0.002176  0.006806  0.008494   \n",
       "3170  0.008465  0.001230  0.007134  0.000238  0.008338   \n",
       "\n",
       "                     15001.0      15002.0  \n",
       "0     Bacillus_licheniformis  KUskv2t1(1)  \n",
       "1     Bacillus_licheniformis  KUskv2t1(1)  \n",
       "2     Bacillus_licheniformis  KUskv2t1(1)  \n",
       "3     Bacillus_licheniformis  KUskv2t1(1)  \n",
       "4     Bacillus_licheniformis  KUskv2t1(1)  \n",
       "...                      ...          ...  \n",
       "3166   Bacillus_chungangenis      45(3)il  \n",
       "3167   Bacillus_chungangenis      45(3)il  \n",
       "3168   Bacillus_chungangenis      45(3)il  \n",
       "3169   Bacillus_chungangenis      45(3)il  \n",
       "3170   Bacillus_chungangenis      45(3)il  \n",
       "\n",
       "[3171 rows x 12003 columns]"
      ]
     },
     "execution_count": 153,
     "metadata": {},
     "output_type": "execute_result"
    }
   ],
   "source": [
    "MS_profiles_sintes=pd.read_csv(\"MS_profiles\\MS_profiles_sintes_full_noise_1e-2\", sep=';', index_col=0, header=0)\n",
    "MS_profiles_sintes"
   ]
  },
  {
   "cell_type": "markdown",
   "metadata": {
    "heading_collapsed": true,
    "id": "cUJW1XbyaVaS"
   },
   "source": [
    "# Эвклидово расстояние\n"
   ]
  },
  {
   "cell_type": "code",
   "execution_count": 11,
   "metadata": {
    "hidden": true,
    "id": "wvVpcS--ngQk"
   },
   "outputs": [],
   "source": [
    "def euclid (x):\n",
    "    x = x**2\n",
    "    l = torch.sum(x)\n",
    "    l = torch.sqrt(l)\n",
    "    return l\n",
    "    "
   ]
  },
  {
   "cell_type": "markdown",
   "metadata": {
    "heading_collapsed": true
   },
   "source": [
    "# Подготовка датасэта"
   ]
  },
  {
   "cell_type": "markdown",
   "metadata": {
    "hidden": true
   },
   "source": [
    "создаем тип для хранения профилей и айдишников"
   ]
  },
  {
   "cell_type": "code",
   "execution_count": 5,
   "metadata": {
    "hidden": true
   },
   "outputs": [],
   "source": [
    "class customdataset (Dataset):\n",
    "    def __init__ (self, profile, group, name):\n",
    "        self.profile = torch.FloatTensor(profile)\n",
    "        self.group = group\n",
    "        self.name = name\n",
    "        \n",
    "    def __len__ (self):\n",
    "        return int(self.profile.size(dim = 0))\n",
    "    \n",
    "    def __getitem__ (self, index):\n",
    "        profile = self.profile[index, :]\n",
    "        name = self.name[index]\n",
    "        group = self.group[index]\n",
    "        return{'profile': profile,\n",
    "            'group': group,\n",
    "            'ID': name}\n",
    "    def cat (self, profile, group, name):\n",
    "        self.profile = torch.cat((self.profile, profile), 0)\n",
    "        self.group[len(self.group):] = group\n",
    "        self.name[len(self.name):] = name"
   ]
  },
  {
   "cell_type": "markdown",
   "metadata": {
    "heading_collapsed": true,
    "id": "_FwouoXMpLoK"
   },
   "source": [
    "# Ванильный автоэнкодер \n",
    "## архитектура, тренировка\n",
    "**архитектура** "
   ]
  },
  {
   "cell_type": "code",
   "execution_count": 47,
   "metadata": {
    "hidden": true,
    "id": "k-UWSOmPEIEB"
   },
   "outputs": [],
   "source": [
    "class vanilla_autoencoder(nn.Module):\n",
    "    def __init__(self):\n",
    "        super().__init__()\n",
    "        self.encoder = nn.Sequential(\n",
    "            nn.Linear(12001, 6000),\n",
    "            nn.ReLU(),\n",
    "            #nn.Dropout(p=0.25),\n",
    "            nn.Linear(6000, 750),\n",
    "            nn.ReLU()\n",
    "            )\n",
    "        self.fc = nn.Linear(750, 50)\n",
    "        \n",
    "        self.unfc = nn.Linear(50, 750)\n",
    "        \n",
    "        self.decoder = nn.Sequential(\n",
    "        nn.ReLU(), \n",
    "        nn.Linear(750, 6000),\n",
    "        #nn.Dropout(p=0.25),\n",
    "        nn.ReLU(),\n",
    "        nn.Linear(6000, 12001)\n",
    "        )\n",
    "              \n",
    "    def forward(self, x):\n",
    "        x = self.encoder(x)\n",
    "        embadding = self.fc(x)\n",
    "        x = self.unfc(embadding)\n",
    "        reconstruction = self.decoder(x)\n",
    "\n",
    "        return reconstruction, embadding"
   ]
  },
  {
   "cell_type": "markdown",
   "metadata": {
    "hidden": true,
    "id": "MxX_LTQGsV6U"
   },
   "source": [
    "**лосс функция для embadding regularzed autoencoder**\n",
    "считаем расстояния между всеми векторами батча в исходном пространсве и в скрытом, требуем чтобы они были максимально близкими"
   ]
  },
  {
   "cell_type": "code",
   "execution_count": 73,
   "metadata": {
    "hidden": true,
    "id": "Q6l6NcljsUd1"
   },
   "outputs": [],
   "source": [
    "def ERA_loss(rec, real, emb):\n",
    "    len_sum=0\n",
    "    for i in range(real.size(dim=0)):\n",
    "        for j in range(i + 1, real.size(dim=0)):\n",
    "            len_real = euclid(real[i, :(len(real[0]) - 1)]-real[j, :(len(real[0]) - 1)])\n",
    "            len_emb = euclid(emb[i, :(len(real[0]) - 1)]-emb[j, :(len(real[0]) - 1)])\n",
    "            len_sum = len_sum + (len_real - len_emb)**2\n",
    "    len_sum=len_sum+F.mse_loss(rec, real)\n",
    "    return len_sum        "
   ]
  },
  {
   "cell_type": "markdown",
   "metadata": {
    "hidden": true,
    "id": "moxqsX0FtbyI"
   },
   "source": [
    "**лосс-функция/оптимайзер**"
   ]
  },
  {
   "cell_type": "code",
   "execution_count": 101,
   "metadata": {
    "hidden": true,
    "id": "M18Y4jopLTAC"
   },
   "outputs": [],
   "source": [
    "#L = F.mse_loss #nn.torch.functional....\n",
    "L=ERA_loss\n",
    "autoencoder = vanilla_autoencoder().to(device)\n",
    "optimizer = torch.optim.Adam(autoencoder.parameters(), lr=0.001)"
   ]
  },
  {
   "cell_type": "markdown",
   "metadata": {
    "hidden": true,
    "id": "hWIeBekmuDj4"
   },
   "source": [
    "**тренировка**"
   ]
  },
  {
   "cell_type": "code",
   "execution_count": 102,
   "metadata": {
    "colab": {
     "base_uri": "https://localhost:8080/",
     "height": 17,
     "referenced_widgets": [
      "a4dd3c87a5e9429a8b0a8de8fa4344c5",
      "8a4ee5bf15cf4a0ea0562cd6d40b2c6f",
      "590e20d5dc0b429c906ffe3168173a2b",
      "300cc72602c144239f1880173f090e78",
      "0ee40a49e04b454b8e8e45640f93dfc4",
      "5049e4b7f5f04ddbb79052f9c74c0d52",
      "31207233420e4c21813e77277cfe697b",
      "97be1f598db3432e8fee19267eaa916d",
      "2e5042cd7c974c4e873906d357dac2ae",
      "be98dc9993ad4b8abcc3880186a9d6a5",
      "abaa4cba9ec44bd1ab34ff885d0ea153"
     ]
    },
    "hidden": true,
    "id": "ep293OEFMwPR",
    "outputId": "fe699f6c-4a85-453d-a2d5-97e0d6527f12"
   },
   "outputs": [
    {
     "data": {
      "application/vnd.jupyter.widget-view+json": {
       "model_id": "e4753085f08e489c917066c1978d09a8",
       "version_major": 2,
       "version_minor": 0
      },
      "text/plain": [
       "  0%|          | 0/50 [00:00<?, ?it/s]"
      ]
     },
     "metadata": {},
     "output_type": "display_data"
    }
   ],
   "source": [
    "from torch.cuda.memory import list_gpu_processes\n",
    "n_epochs = 50\n",
    "train_losses = []\n",
    "val_losses = []\n",
    "embaddings = torch.Tensor()\n",
    "truth = torch.Tensor()\n",
    "pred = torch.Tensor()\n",
    "\n",
    "for epoch in tqdm(range(n_epochs)): #tqdm для красивой загрузочки\n",
    "    autoencoder.train()\n",
    "    train_losses_per_epoch = []\n",
    "    for X_batch in train_data:\n",
    "        X_batch['profile'] = X_batch['profile'].to(device)\n",
    "        optimizer.zero_grad()\n",
    "        reconstructed, embadding = autoencoder.forward(X_batch['profile'])\n",
    "        #loss = L(reconstructed, X_batch['profile'])\n",
    "        loss = L(reconstructed, X_batch['profile'], embadding)\n",
    "        loss.backward()\n",
    "        optimizer.step()\n",
    "        train_losses_per_epoch.append(loss.item())\n",
    "\n",
    "    train_losses.append(np.mean(train_losses_per_epoch))\n",
    "\n",
    "    autoencoder.eval()\n",
    "    val_losses_per_epoch = []\n",
    "    with torch.no_grad():\n",
    "        for i, X_batch in enumerate(value_data):\n",
    "            X_batch['profile'] = X_batch['profile'].to(device)\n",
    "            reconstructed, embadding = autoencoder(X_batch['profile'])\n",
    "            loss = L(reconstructed, X_batch['profile'], embadding)\n",
    "            val_losses_per_epoch.append(loss.item())\n",
    "            if epoch == n_epochs - 1:\n",
    "                embadding = embadding.to('cpu')\n",
    "                reconstructed = reconstructed.to('cpu')\n",
    "                X_batch['profile'] = X_batch['profile'].to('cpu')\n",
    "                if i==0:\n",
    "                    embaddings = customdataset(embadding, X_batch['group'].copy(), X_batch['ID'].copy())\n",
    "                    truth = customdataset(X_batch['profile'], X_batch['group'].copy(), X_batch['ID'].copy())\n",
    "                    pred = customdataset(reconstructed, X_batch['group'].copy(), X_batch['ID'].copy())\n",
    "                else:\n",
    "                    embaddings.cat(embadding, X_batch['group'], X_batch['ID'])\n",
    "                    pred.cat(reconstructed, X_batch['group'], X_batch['ID'])\n",
    "                    truth.cat(X_batch['profile'], X_batch['group'], X_batch['ID'])\n",
    "\n",
    "    val_losses.append(np.mean(val_losses_per_epoch))\n"
   ]
  },
  {
   "cell_type": "code",
   "execution_count": 38,
   "metadata": {
    "hidden": true
   },
   "outputs": [],
   "source": [
    "torch.save (autoencoder, 'denoising_auotencoder_good.pkl')"
   ]
  },
  {
   "cell_type": "code",
   "execution_count": 103,
   "metadata": {
    "colab": {
     "base_uri": "https://localhost:8080/",
     "height": 279
    },
    "hidden": true,
    "id": "ZhC4WPz5oY-a",
    "outputId": "fc4a12c4-7cef-4cec-94ca-fe8018f3d128"
   },
   "outputs": [
    {
     "data": {
      "image/png": "[encoded data removed]",
      "text/plain": [
       "<Figure size 432x288 with 1 Axes>"
      ]
     },
     "metadata": {
      "needs_background": "light"
     },
     "output_type": "display_data"
    }
   ],
   "source": [
    "plt.plot(train_losses, label=\"train_loss\")\n",
    "plt.plot(val_losses, label=\"val_loss\")\n",
    "plt.legend(loc='best')\n",
    "plt.xlabel(\"epochs\")\n",
    "plt.ylabel(\"loss\")\n",
    "plt.show()"
   ]
  },
  {
   "cell_type": "markdown",
   "metadata": {
    "heading_collapsed": true,
    "hidden": true
   },
   "source": [
    "## пример чтения сети из файла"
   ]
  },
  {
   "cell_type": "code",
   "execution_count": 118,
   "metadata": {
    "hidden": true
   },
   "outputs": [
    {
     "name": "stdout",
     "output_type": "stream",
     "text": [
      "tensor(4.9312e-05)\n",
      "<__main__.customdataset object at 0x000001E1C7EF6B80>\n"
     ]
    }
   ],
   "source": [
    "#autoencoder_test = vanilla_autoencoder()\n",
    "with torch.no_grad():\n",
    "    autoencoder_test = torch.load('vanilla_auoencoder_00.pkl')\n",
    "    autoencoder_test = autoencoder_test.to('cpu')\n",
    "    for i, X_batch in enumerate(value_data):\n",
    "        X_batch['profile'] = X_batch['profile'].to('cpu')\n",
    "        reconstructed, embadding = autoencoder_test( X_batch['profile'] )\n",
    "        loss = L(reconstructed, X_batch['profile'])\n",
    "        #loss = L(reconstructed, X_batch[:, :(len(X_batch[0])-1)], embadding[:, :(len(embadding[0])-1)])\n",
    "        if i==0:\n",
    "            embaddings = customdataset(embadding, X_batch['ID'].copy())\n",
    "            truth = customdataset(X_batch['profile'], X_batch['ID'].copy())\n",
    "            pred = customdataset(reconstructed, X_batch['ID'].copy())\n",
    "        else:\n",
    "            embaddings.profile = torch.cat((embaddings.profile, embadding), 0)\n",
    "            embaddings.name[len(embaddings.name):] = X_batch['ID']\n",
    "            pred.profile = torch.cat((pred.profile, reconstructed), 0)\n",
    "            pred.name[len(pred.name):] = X_batch['ID']\n",
    "            truth.profile = torch.cat((truth.profile, X_batch['profile']), 0)\n",
    "            truth.name[len(truth.name):] = X_batch['ID']\n",
    "print(loss)\n",
    "print(embaddings)"
   ]
  },
  {
   "cell_type": "markdown",
   "metadata": {
    "heading_collapsed": true,
    "hidden": true,
    "id": "ce3VX6G_uM5Q"
   },
   "source": [
    "## heat map"
   ]
  },
  {
   "cell_type": "markdown",
   "metadata": {
    "hidden": true,
    "id": "XNfAAyDYaf9a"
   },
   "source": [
    "построение heat map, она показывает расстояние между средними векторами для каждой группы бактерий, на диагонали стоят средне-групповые расстояния "
   ]
  },
  {
   "cell_type": "code",
   "execution_count": 12,
   "metadata": {
    "hidden": true
   },
   "outputs": [],
   "source": [
    "def euclid (x):\n",
    "    x = x**2\n",
    "    l = np.sum(x)\n",
    "    l = np.sqrt(l)\n",
    "    return l"
   ]
  },
  {
   "cell_type": "code",
   "execution_count": 17,
   "metadata": {
    "colab": {
     "base_uri": "https://localhost:8080/"
    },
    "hidden": true,
    "id": "4HK6ra77AqbI",
    "outputId": "08799508-58a1-4f32-9beb-7afa9b30836c"
   },
   "outputs": [
    {
     "name": "stdout",
     "output_type": "stream",
     "text": [
      "7400\n",
      "(20, 20)\n"
     ]
    }
   ],
   "source": [
    "embaddings_heat = pd.DataFrame(embaddings[:]['profile'].numpy(), dtype = float)\n",
    "print(len(embaddings[:]['ID']))\n",
    "embaddings_heat['50'] = embaddings[:]['group'] \n",
    "embaddings_heat_mean = embaddings_heat.groupby('50').mean()\n",
    "heat_map = np.zeros((len(embaddings_heat_mean.index), len(embaddings_heat_mean.index)))\n",
    "heat_map = pd.DataFrame(heat_map, index=embaddings_heat_mean.index, \n",
    "                        columns=embaddings_heat_mean.index, dtype = float)\n",
    "for i in embaddings_heat_mean.index:\n",
    "\n",
    "    #для каждой группы ищем средне-групповое расстояние (ищем разность каждого ветора с каждым и делим на количество разностей) \n",
    "    mean = embaddings_heat.loc[embaddings_heat['50'] == i].drop(columns = ['50'], axis=1).to_numpy()\n",
    "    s = np.zeros((len(mean[0])))\n",
    "    count = 0\n",
    "    for j in range (len(mean[:, 0])):\n",
    "        for k in range (j+1, len(mean[:, 0])):\n",
    "            s = s + mean[j] - mean[k]\n",
    "            count = count + 1\n",
    "    s = s/count\n",
    "    e = euclid(s)\n",
    "    heat_map.at[i, i] = e\n",
    "\n",
    "    #ищем расстояние до средних векторов остальных групп mylist.index(element)\n",
    "    for j in embaddings_heat_mean.index.values[np.where(embaddings_heat_mean.index.values == i)[0][0]: ]:\n",
    "        s = embaddings_heat_mean.loc[i].to_numpy() - embaddings_heat_mean.loc[j].to_numpy()       \n",
    "        e = euclid(s)\n",
    "        heat_map.at[i, j] = e\n",
    "print(heat_map.shape)    "
   ]
  },
  {
   "cell_type": "markdown",
   "metadata": {
    "hidden": true,
    "id": "hXLOZ3f6hANB"
   },
   "source": [
    "полученная ранее матрица - верхне-треугольная, поэтому транспонируем ее, зануляем диагональ и складываем эти две матрицы"
   ]
  },
  {
   "cell_type": "code",
   "execution_count": 20,
   "metadata": {
    "hidden": true,
    "id": "zg89pzyk6YI2"
   },
   "outputs": [],
   "source": [
    "heat_map_t = heat_map.values.copy()\n",
    "for i in range (len(heat_map['Bacillus_licheniformis'])):\n",
    "    heat_map_t[i, i] = 0\n",
    "heat_map_t = heat_map_t.transpose()                  \n",
    "heat_map.loc[ : , : ] = heat_map.values + heat_map_t     "
   ]
  },
  {
   "cell_type": "markdown",
   "metadata": {
    "hidden": true,
    "id": "pgzWtSG5irfY"
   },
   "source": [
    "рисуем heat map"
   ]
  },
  {
   "cell_type": "code",
   "execution_count": 21,
   "metadata": {
    "colab": {
     "base_uri": "https://localhost:8080/",
     "height": 1000
    },
    "hidden": true,
    "id": "I_70NMNX382e",
    "outputId": "2419d12b-59c7-4d4a-b625-c62116098886",
    "scrolled": true
   },
   "outputs": [
    {
     "data": {
      "image/png": "[encoded data removed]",
      "text/plain": [
       "<Figure size 1440x1440 with 2 Axes>"
      ]
     },
     "metadata": {
      "needs_background": "light"
     },
     "output_type": "display_data"
    }
   ],
   "source": [
    "fig = plt.figure(figsize=(20,20))\n",
    "ax = fig.add_axes([0.1, 0.1, 0.8, 0.8])\n",
    "ax.set_xticks(np.arange(heat_map.shape[1]))\n",
    "ax.set_yticks(np.arange(heat_map.shape[0]))\n",
    "ax.set_xticklabels(heat_map)\n",
    "ax.set_yticklabels(heat_map)\n",
    "plt.setp(ax.get_xticklabels(), rotation=90, ha=\"right\", rotation_mode=\"anchor\")\n",
    "im = ax.imshow(heat_map)\n",
    "ax.set_title(\"карта расстояний между группами культур\")\n",
    "cbar = ax.figure.colorbar(im)\n",
    "plt.show()"
   ]
  },
  {
   "cell_type": "code",
   "execution_count": 88,
   "metadata": {
    "hidden": true
   },
   "outputs": [],
   "source": [
    "x_train, x_test, y_train, y_test = train_test_split (embaddings[:]['profile'], \n",
    "                                                     embaddings[:]['group'], train_size = 0.7)"
   ]
  },
  {
   "cell_type": "code",
   "execution_count": 89,
   "metadata": {
    "hidden": true
   },
   "outputs": [
    {
     "data": {
      "text/plain": [
       "RandomForestClassifier()"
      ]
     },
     "execution_count": 89,
     "metadata": {},
     "output_type": "execute_result"
    }
   ],
   "source": [
    "classifier = RandomForestClassifier()\n",
    "classifier.fit(x_train, y_train)"
   ]
  },
  {
   "cell_type": "code",
   "execution_count": 90,
   "metadata": {
    "hidden": true
   },
   "outputs": [
    {
     "name": "stdout",
     "output_type": "stream",
     "text": [
      "[[ 0  0  0  0  0  0  0  0  0  0  1  0  0  0  0  0  0  0  0  0]\n",
      " [ 0  2  0  0  0  0  0  0  0  0  5  0  0 24  0  0  0  0  0  0]\n",
      " [ 0  1  0  0  0  0  0  0  0  0  2  0  0  4  0  0  0  0  0  0]\n",
      " [ 0  2  0  0  0  0  0  0  0  0  1  0  0  6  0  0  0  0  0  0]\n",
      " [ 0  0  0  0  0  0  0  0  0  0  1  0  0  0  0  0  0  0  0  0]\n",
      " [ 0  8  0  0  0  0  0  0  0  0  7  1  0 20  0  0  0  0  0  0]\n",
      " [ 0  0  0  0  0  0  0  0  0  0  0  0  0  5  0  0  0  0  0  0]\n",
      " [ 0  0  0  0  0  0  0  0  0  0  0  0  0  4  0  0  0  0  0  0]\n",
      " [ 0  0  0  0  0  0  0  0  0  0  1  0  0  2  0  0  0  0  0  0]\n",
      " [ 0  0  0  0  0  0  0  0  0  0  2  0  0 10  0  0  0  0  0  0]\n",
      " [ 0  7  0  0  0  1  0  0  0  0  6  0  0 26  0  0  0  0  0  0]\n",
      " [ 0  2  0  0  0  0  0  0  0  0  3  0  0 16  0  0  0  0  0  0]\n",
      " [ 0  1  0  0  0  0  0  0  0  0  0  0  0  8  0  0  0  0  0  0]\n",
      " [ 0  8  0  0  0  0  0  0  0  0  9  0  0 40  0  0  0  0  0  0]\n",
      " [ 0  3  0  0  0  0  0  0  0  0  4  0  0 15  0  0  0  0  0  0]\n",
      " [ 0  0  0  0  0  0  0  0  0  0  0  0  0  5  0  0  0  0  0  0]\n",
      " [ 0  3  0  0  0  0  0  0  0  0  2  0  0  6  0  0  0  0  0  0]\n",
      " [ 0  0  0  0  0  0  0  0  0  0  0  0  0  1  0  0  0  0  0  0]\n",
      " [ 0  2  0  0  0  0  0  0  0  0  0  0  0  2  0  0  0  0  0  0]\n",
      " [ 0  0  0  0  0  0  0  0  0  0  1  0  0  6  0  0  0  0  0  0]]\n",
      "                             precision    recall  f1-score   support\n",
      "\n",
      " Anoxybacillus_flavithermus       0.00      0.00      0.00         1\n",
      "       Bacillus_altitudinis       0.05      0.06      0.06        31\n",
      "       Bacillus_aryabhattai       0.00      0.00      0.00         7\n",
      "        Bacillus_atrophaeus       0.00      0.00      0.00         9\n",
      "         Bacillus_berkeleyi       0.00      0.00      0.00         1\n",
      "            Bacillus_cereus       0.00      0.00      0.00        36\n",
      "      Bacillus_chungangenis       0.00      0.00      0.00         5\n",
      "           Bacillus_clausii       0.00      0.00      0.00         4\n",
      "         Bacillus_coagulans       0.00      0.00      0.00         3\n",
      "            Bacillus_flexus       0.00      0.00      0.00        12\n",
      "     Bacillus_licheniformis       0.13      0.15      0.14        40\n",
      "        Bacillus_megaterium       0.00      0.00      0.00        21\n",
      "          Bacillus_mycoides       0.00      0.00      0.00         9\n",
      "           Bacillus_pumilus       0.20      0.70      0.31        57\n",
      "           Bacillus_simplex       0.00      0.00      0.00        22\n",
      "          Bacillus_subtilis       0.00      0.00      0.00         5\n",
      "     Bacillus_thuringiensis       0.00      0.00      0.00        11\n",
      "Bacillus_weihenstephanensis       0.00      0.00      0.00         1\n",
      "                     E-Coli       0.00      0.00      0.00         4\n",
      "   Geobacillus_subterraneus       0.00      0.00      0.00         7\n",
      "\n",
      "                   accuracy                           0.17       286\n",
      "                  macro avg       0.02      0.05      0.03       286\n",
      "               weighted avg       0.06      0.17      0.09       286\n",
      "\n"
     ]
    },
    {
     "name": "stderr",
     "output_type": "stream",
     "text": [
      "C:\\Users\\mishs\\anaconda3\\lib\\site-packages\\sklearn\\metrics\\_classification.py:1318: UndefinedMetricWarning: Precision and F-score are ill-defined and being set to 0.0 in labels with no predicted samples. Use `zero_division` parameter to control this behavior.\n",
      "  _warn_prf(average, modifier, msg_start, len(result))\n",
      "C:\\Users\\mishs\\anaconda3\\lib\\site-packages\\sklearn\\metrics\\_classification.py:1318: UndefinedMetricWarning: Precision and F-score are ill-defined and being set to 0.0 in labels with no predicted samples. Use `zero_division` parameter to control this behavior.\n",
      "  _warn_prf(average, modifier, msg_start, len(result))\n",
      "C:\\Users\\mishs\\anaconda3\\lib\\site-packages\\sklearn\\metrics\\_classification.py:1318: UndefinedMetricWarning: Precision and F-score are ill-defined and being set to 0.0 in labels with no predicted samples. Use `zero_division` parameter to control this behavior.\n",
      "  _warn_prf(average, modifier, msg_start, len(result))\n"
     ]
    }
   ],
   "source": [
    "classifier = RandomForestClassifier()\n",
    "classifier.fit(x_train, y_train)\n",
    "y_pred = classifier.predict(x_test)\n",
    "from sklearn.metrics import classification_report, confusion_matrix\n",
    "print(confusion_matrix(y_test, y_pred))\n",
    "print(classification_report(y_test, y_pred))"
   ]
  },
  {
   "cell_type": "markdown",
   "metadata": {
    "heading_collapsed": true,
    "id": "SPv_vURItnt4"
   },
   "source": [
    "# VAE\n",
    "пока забракован\n"
   ]
  },
  {
   "cell_type": "code",
   "execution_count": 91,
   "metadata": {
    "hidden": true,
    "id": "ilU5a0TxroJ0"
   },
   "outputs": [],
   "source": [
    "class VAE(nn.Module):\n",
    "    def __init__(self):\n",
    "        super(VAE, self).__init__()\n",
    "\n",
    "        self.encoder = nn.Sequential(\n",
    "            nn.Linear(12001, 7000),\n",
    "            nn.ReLU(),\n",
    "            nn.Linear(7000, 4000),\n",
    "            nn.ReLU(),\n",
    "            nn.Linear(4000, 750),\n",
    "            nn.ReLU(),\n",
    "            nn.Linear(750, 100),\n",
    "            nn.ReLU()\n",
    "            )\n",
    "\n",
    "        self.decoder = nn.Sequential(\n",
    "            nn.ReLU(), \n",
    "            nn.Linear(50, 750),\n",
    "            nn.ReLU(),\n",
    "            nn.Linear(750, 4000),\n",
    "            nn.ReLU(), \n",
    "            nn.Linear(4000, 7000),\n",
    "            nn.ReLU(),\n",
    "            nn.Linear(7000, 12001)\n",
    "            )\n",
    "\n",
    "        \n",
    "    def gaussian_sampler(self, xx):\n",
    "        m = xx[ : , :50] #полученное матожидание перед скрытым слоем \n",
    "        log = xx[ : , 50:] #полученный логарифм дисперсии в квадрате \n",
    "        #if self.training:\n",
    "        sigma = torch.exp(0.5 * log) \n",
    "        N = torch.randn_like(sigma) \n",
    "        sample = m + (N * sigma) # создаем вектор скрытого состояния\n",
    "        return sample, m, log\n",
    "#         else: \n",
    "#             sample = m\n",
    "#             return sample, m, log #на валидации, берем не случайный вектор с такими матожиданием и диссперсией а средний\n",
    "\n",
    "    def forward(self, x):\n",
    "        x = self.encoder(x)\n",
    "        em, mu_f, logsigma_f = self.gaussian_sampler(x)\n",
    "        reconstruction = self.decoder(em)\n",
    "        return reconstruction, em, mu_f, logsigma_f"
   ]
  },
  {
   "cell_type": "code",
   "execution_count": 92,
   "metadata": {
    "hidden": true,
    "id": "CDI47f3qu7vF"
   },
   "outputs": [],
   "source": [
    "def L (rec, real, m, log):\n",
    "    los=F.mse_loss(real, rec)+(-0.5 * torch.sum(1 + log - m ** 2 - log.exp()))\n",
    "    return los  \n",
    "autoencoder = VAE().to(device)\n",
    "optimizer = torch.optim.Adam(autoencoder.parameters(), lr=0.001)"
   ]
  },
  {
   "cell_type": "code",
   "execution_count": 93,
   "metadata": {
    "colab": {
     "base_uri": "https://localhost:8080/",
     "height": 17,
     "referenced_widgets": [
      "56ce6cdb3d0049c0a87f01029092a8ca",
      "e0001778484341dfb039809908d0121b",
      "23b84c188f434a6bac5b45993af71eab",
      "341cf3fab21a485dad750f0f438a3ad7",
      "bc17440c049e4b9ab22b97f0165af8b0",
      "b53e1d45f641457aa70487cb63158ed4",
      "ccde5fb136ba44a2942cc7d9b1b515ab",
      "11d78348d7eb4419938515639c23600d",
      "42e97c07673245569add1ef4c3bb5b0f",
      "ed6f434ab95d4cffb7df9cd3c765f7df",
      "cf8c98d4c5b04d0da1f77aa674c1ebb0"
     ]
    },
    "hidden": true,
    "id": "j_vQoiicj590",
    "outputId": "645ca142-2887-4322-b637-20818f698b91"
   },
   "outputs": [
    {
     "data": {
      "application/vnd.jupyter.widget-view+json": {
       "model_id": "df577fd637bf4c1683a92cd75f7383df",
       "version_major": 2,
       "version_minor": 0
      },
      "text/plain": [
       "  0%|          | 0/20 [00:00<?, ?it/s]"
      ]
     },
     "metadata": {},
     "output_type": "display_data"
    }
   ],
   "source": [
    "from torch.cuda.memory import list_gpu_processes\n",
    "n_epochs = 20\n",
    "train_losses = []\n",
    "val_losses = []\n",
    "embaddings = torch.Tensor()\n",
    "truth = torch.Tensor()\n",
    "pred = torch.Tensor()\n",
    "\n",
    "for epoch in tqdm(range(n_epochs)): #tqdm для красивой загрузочки\n",
    "    autoencoder.train()\n",
    "    train_losses_per_epoch = []\n",
    "    for X_batch in train_data:\n",
    "        X_batch['profile'] = X_batch['profile'].to(device)\n",
    "        optimizer.zero_grad()\n",
    "        reconstructed, embadding, mu, logsigma  = autoencoder.forward(X_batch['profile'])\n",
    "        loss = L(reconstructed, X_batch['profile'], mu, logsigma)\n",
    "        loss.backward()\n",
    "        optimizer.step()\n",
    "        train_losses_per_epoch.append(loss.item())\n",
    "\n",
    "    train_losses.append(np.mean(train_losses_per_epoch))\n",
    "\n",
    "    autoencoder.eval()\n",
    "    val_losses_per_epoch = []\n",
    "    with torch.no_grad():\n",
    "        for i, X_batch in enumerate(value_data):\n",
    "            X_batch['profile'] = X_batch['profile'].to(device)\n",
    "            reconstructed, embadding, mu, logsigma  = autoencoder(X_batch['profile'])\n",
    "            loss = L(reconstructed, X_batch['profile'], mu, logsigma)\n",
    "            val_losses_per_epoch.append(loss.item())\n",
    "            if epoch == n_epochs - 1:\n",
    "                embadding = embadding.to('cpu')\n",
    "                reconstructed = reconstructed.to('cpu')\n",
    "                X_batch['profile'] = X_batch['profile'].to('cpu')\n",
    "                if i==0:\n",
    "                    embaddings = customdataset(embadding, X_batch['group'].copy(), X_batch['ID'].copy())\n",
    "                    truth = customdataset(X_batch['profile'], X_batch['group'].copy(), X_batch['ID'].copy())\n",
    "                    pred = customdataset(reconstructed, X_batch['group'].copy(), X_batch['ID'].copy())\n",
    "                else:\n",
    "                    embaddings.cat(embadding, X_batch['group'], X_batch['ID'])\n",
    "                    pred.cat(reconstructed, X_batch['group'], X_batch['ID'])\n",
    "                    truth.cat(X_batch['profile'], X_batch['group'], X_batch['ID'])\n",
    "\n",
    "    val_losses.append(np.mean(val_losses_per_epoch))\n"
   ]
  },
  {
   "cell_type": "code",
   "execution_count": 94,
   "metadata": {
    "colab": {
     "base_uri": "https://localhost:8080/",
     "height": 279
    },
    "hidden": true,
    "id": "GNAzg75jSWv9",
    "outputId": "db6022ef-7351-4e2b-b880-037d558a5294"
   },
   "outputs": [
    {
     "data": {
      "image/png": "[encoded data removed]",
      "text/plain": [
       "<Figure size 432x288 with 1 Axes>"
      ]
     },
     "metadata": {
      "needs_background": "light"
     },
     "output_type": "display_data"
    }
   ],
   "source": [
    "plt.plot(train_losses, label=\"train_loss\")\n",
    "plt.plot(val_losses, label=\"val_loss\")\n",
    "plt.legend(loc='best')\n",
    "plt.xlabel(\"epochs\")\n",
    "plt.ylabel(\"loss\")\n",
    "plt.show()"
   ]
  },
  {
   "cell_type": "code",
   "execution_count": 56,
   "metadata": {
    "hidden": true
   },
   "outputs": [
    {
     "name": "stdout",
     "output_type": "stream",
     "text": [
      "{'profile': tensor([[-0.0580, -0.0529,  1.3426,  ..., -0.6304,  0.1741,  0.8791],\n",
      "        [ 1.1724, -0.7602,  1.7509,  ...,  1.2371,  1.8824,  0.6504],\n",
      "        [-0.1866, -0.0034,  1.1323,  ..., -0.0798, -2.1678, -1.3434],\n",
      "        ...,\n",
      "        [-0.5130, -1.6938, -1.3094,  ...,  1.9922,  1.8420, -0.7178],\n",
      "        [-0.7292,  2.0430,  1.0188,  ..., -0.2586,  1.1032, -0.4997],\n",
      "        [ 0.4341, -1.2457, -0.5206,  ..., -2.0810, -0.3330,  0.6404]]), 'group': ['Bacillus_altitudinis', 'Bacillus_cereus', 'Bacillus_simplex', 'Geobacillus_subterraneus', 'Bacillus_megaterium', 'Bacillus_weihenstephanensis', 'Bacillus_cereus', 'Bacillus_megaterium', 'Geobacillus_subterraneus', 'Bacillus_simplex', 'Bacillus_licheniformis', 'Bacillus_chungangenis', 'Bacillus_licheniformis', 'Bacillus_licheniformis', 'Bacillus_megaterium', 'Bacillus_pumilus', 'Bacillus_clausii', 'Bacillus_mycoides', 'Bacillus_altitudinis', 'Bacillus_pumilus', 'Bacillus_simplex', 'Bacillus_pumilus', 'Bacillus_altitudinis', 'Bacillus_licheniformis', 'Bacillus_licheniformis', 'Bacillus_cereus', 'Bacillus_chungangenis', 'Bacillus_flexus', 'Bacillus_pumilus', 'Bacillus_pumilus', 'Bacillus_licheniformis', 'Bacillus_simplex', 'Bacillus_chungangenis', 'Bacillus_clausii', 'Bacillus_cereus', 'Bacillus_cereus', 'Bacillus_pumilus', 'Bacillus_cereus', 'Bacillus_altitudinis', 'Bacillus_pumilus', 'Bacillus_pumilus', 'Bacillus_megaterium', 'Bacillus_licheniformis', 'Bacillus_altitudinis', 'Bacillus_cereus', 'Bacillus_licheniformis', 'Bacillus_pumilus', 'Bacillus_mycoides', 'Bacillus_cereus', 'Bacillus_thuringiensis', 'Bacillus_cereus', 'Anoxybacillus_flavithermus', 'Bacillus_megaterium', 'Bacillus_altitudinis', 'Bacillus_altitudinis', 'Bacillus_simplex', 'Bacillus_pumilus', 'Bacillus_megaterium', 'Bacillus_licheniformis', 'Geobacillus_subterraneus', 'Bacillus_altitudinis', 'Bacillus_simplex', 'Bacillus_pumilus', 'Anoxybacillus_flavithermus', 'Bacillus_pumilus', 'Bacillus_megaterium', 'Bacillus_licheniformis', 'Bacillus_simplex', 'Bacillus_mycoides', 'Bacillus_thuringiensis', 'Bacillus_weihenstephanensis', 'Bacillus_subtilis', 'Bacillus_altitudinis', 'Bacillus_licheniformis', 'Bacillus_licheniformis', 'Bacillus_simplex', 'Geobacillus_subterraneus', 'Bacillus_mycoides', 'Bacillus_thuringiensis', 'Bacillus_altitudinis', 'Bacillus_simplex', 'Bacillus_pumilus', 'Bacillus_altitudinis', 'Anoxybacillus_flavithermus', 'Bacillus_berkeleyi', 'Bacillus_atrophaeus', 'Bacillus_pumilus', 'Bacillus_cereus', 'Bacillus_altitudinis', 'Geobacillus_subterraneus', 'Bacillus_atrophaeus', 'Bacillus_licheniformis', 'Bacillus_thuringiensis', 'Bacillus_cereus', 'Bacillus_cereus', 'Bacillus_berkeleyi', 'Bacillus_simplex', 'Bacillus_cereus', 'Bacillus_megaterium', 'Geobacillus_subterraneus', 'Bacillus_pumilus', 'Bacillus_pumilus', 'Bacillus_pumilus', 'Bacillus_megaterium', 'Bacillus_cereus', 'Bacillus_licheniformis', 'Bacillus_altitudinis', 'Bacillus_cereus', 'Bacillus_thuringiensis', 'Bacillus_pumilus', 'Bacillus_clausii', 'Bacillus_pumilus', 'Bacillus_simplex', 'Bacillus_cereus', 'Bacillus_cereus', 'Bacillus_altitudinis', 'Bacillus_mycoides', 'Bacillus_pumilus', 'Bacillus_cereus', 'Bacillus_megaterium', 'Bacillus_altitudinis', 'Bacillus_simplex', 'Bacillus_altitudinis', 'Bacillus_altitudinis', 'Bacillus_thuringiensis', 'Bacillus_cereus', 'Bacillus_megaterium', 'Bacillus_atrophaeus', 'Bacillus_chungangenis', 'Bacillus_mycoides', 'Bacillus_subtilis', 'Bacillus_licheniformis', 'Bacillus_thuringiensis', 'Bacillus_megaterium', 'Bacillus_licheniformis', 'Bacillus_altitudinis', 'Bacillus_altitudinis', 'Bacillus_simplex', 'Geobacillus_subterraneus', 'Bacillus_altitudinis', 'Bacillus_altitudinis', 'Bacillus_cereus', 'Bacillus_licheniformis', 'Bacillus_pumilus', 'Bacillus_pumilus', 'E-Coli', 'Bacillus_cereus', 'Bacillus_pumilus', 'Bacillus_altitudinis', 'Bacillus_megaterium', 'Bacillus_flexus', 'Bacillus_pumilus', 'Bacillus_pumilus', 'Bacillus_licheniformis', 'Bacillus_altitudinis', 'Bacillus_pumilus', 'Bacillus_licheniformis', 'Bacillus_weihenstephanensis', 'Bacillus_pumilus', 'Bacillus_altitudinis', 'Bacillus_megaterium', 'Bacillus_altitudinis', 'Bacillus_pumilus', 'Bacillus_licheniformis', 'Bacillus_mycoides', 'Bacillus_thuringiensis', 'Bacillus_altitudinis', 'Geobacillus_subterraneus', 'Bacillus_megaterium', 'Bacillus_altitudinis', 'Bacillus_pumilus', 'Bacillus_altitudinis', 'Bacillus_weihenstephanensis', 'Bacillus_cereus', 'Bacillus_cereus', 'Bacillus_altitudinis', 'Bacillus_pumilus', 'Bacillus_licheniformis', 'Bacillus_licheniformis', 'Bacillus_aryabhattai', 'Bacillus_clausii', 'Bacillus_megaterium', 'Bacillus_simplex', 'Bacillus_atrophaeus', 'Bacillus_licheniformis', 'Bacillus_cereus', 'Bacillus_cereus', 'Anoxybacillus_flavithermus', 'Bacillus_coagulans', 'Bacillus_pumilus', 'Bacillus_pumilus', 'Bacillus_pumilus', 'Bacillus_cereus', 'Bacillus_licheniformis', 'Bacillus_megaterium', 'Bacillus_pumilus', 'Bacillus_berkeleyi', 'Bacillus_mycoides', 'Bacillus_mycoides', 'Bacillus_simplex', 'Bacillus_atrophaeus', 'Bacillus_berkeleyi', 'Bacillus_altitudinis', 'Bacillus_pumilus', 'Bacillus_licheniformis', 'Bacillus_pumilus', 'Bacillus_licheniformis', 'Bacillus_altitudinis', 'Bacillus_simplex', 'Bacillus_licheniformis', 'Bacillus_cereus', 'Bacillus_cereus', 'Bacillus_aryabhattai', 'Geobacillus_subterraneus', 'Bacillus_pumilus', 'Bacillus_altitudinis', 'Bacillus_altitudinis', 'Bacillus_simplex', 'Bacillus_cereus', 'Bacillus_altitudinis', 'Bacillus_pumilus', 'Bacillus_pumilus', 'Bacillus_cereus', 'Bacillus_simplex', 'Bacillus_pumilus', 'Bacillus_pumilus', 'Bacillus_altitudinis', 'Bacillus_licheniformis', 'Bacillus_pumilus', 'Bacillus_cereus', 'Bacillus_subtilis', 'Bacillus_aryabhattai', 'Bacillus_pumilus', 'Bacillus_megaterium', 'Bacillus_pumilus', 'Bacillus_berkeleyi', 'Bacillus_chungangenis', 'Bacillus_licheniformis', 'Bacillus_megaterium', 'Bacillus_pumilus', 'Bacillus_simplex', 'Bacillus_pumilus', 'Bacillus_licheniformis', 'Bacillus_cereus', 'Bacillus_altitudinis', 'Bacillus_pumilus', 'Bacillus_simplex', 'Bacillus_clausii', 'Bacillus_altitudinis', 'Bacillus_pumilus', 'Bacillus_altitudinis', 'Bacillus_aryabhattai', 'Bacillus_licheniformis', 'Bacillus_pumilus', 'Bacillus_pumilus', 'Bacillus_licheniformis', 'Bacillus_licheniformis', 'Bacillus_altitudinis', 'Bacillus_flexus', 'Bacillus_licheniformis', 'Bacillus_berkeleyi', 'E-Coli', 'Bacillus_chungangenis', 'Bacillus_megaterium', 'Bacillus_altitudinis', 'Bacillus_pumilus', 'Bacillus_cereus', 'Bacillus_berkeleyi', 'Bacillus_licheniformis', 'Bacillus_megaterium', 'Bacillus_altitudinis', 'Bacillus_cereus', 'Bacillus_pumilus', 'Bacillus_cereus', 'Bacillus_flexus', 'Bacillus_thuringiensis', 'Bacillus_cereus', 'Bacillus_pumilus', 'Bacillus_megaterium', 'Bacillus_cereus', 'Bacillus_atrophaeus', 'Bacillus_pumilus', 'Bacillus_atrophaeus', 'Bacillus_cereus', 'Bacillus_licheniformis', 'Bacillus_thuringiensis', 'Bacillus_licheniformis', 'Bacillus_cereus', 'Bacillus_cereus', 'Bacillus_pumilus', 'Bacillus_aryabhattai', 'Bacillus_pumilus', 'Bacillus_megaterium', 'Bacillus_pumilus', 'Bacillus_simplex', 'Bacillus_altitudinis', 'Bacillus_pumilus', 'Bacillus_pumilus', 'Bacillus_simplex', 'Bacillus_clausii', 'Bacillus_pumilus', 'Bacillus_pumilus', 'Bacillus_licheniformis', 'Bacillus_simplex', 'Bacillus_simplex', 'Bacillus_megaterium', 'Bacillus_pumilus', 'Bacillus_licheniformis', 'Bacillus_licheniformis', 'Bacillus_licheniformis', 'Bacillus_atrophaeus', 'Bacillus_pumilus', 'Geobacillus_subterraneus', 'Bacillus_pumilus', 'Bacillus_altitudinis', 'Bacillus_cereus', 'Bacillus_thuringiensis', 'Bacillus_altitudinis', 'Bacillus_megaterium', 'Bacillus_simplex', 'Bacillus_simplex', 'Bacillus_atrophaeus', 'Bacillus_cereus', 'Bacillus_pumilus', 'Bacillus_altitudinis', 'Bacillus_licheniformis', 'Bacillus_simplex', 'Bacillus_chungangenis', 'Bacillus_clausii', 'Bacillus_licheniformis', 'Bacillus_pumilus', 'Bacillus_licheniformis', 'Bacillus_licheniformis', 'Bacillus_pumilus', 'Bacillus_mycoides', 'Bacillus_simplex', 'Bacillus_pumilus', 'Bacillus_altitudinis', 'Bacillus_coagulans', 'Bacillus_pumilus', 'Bacillus_altitudinis', 'Geobacillus_subterraneus', 'Bacillus_megaterium', 'Bacillus_pumilus', 'Geobacillus_subterraneus', 'Bacillus_pumilus', 'E-Coli', 'Bacillus_flexus', 'Bacillus_thuringiensis', 'Bacillus_cereus', 'Bacillus_chungangenis', 'Geobacillus_subterraneus', 'Bacillus_pumilus', 'Bacillus_pumilus', 'Bacillus_licheniformis', 'Bacillus_clausii', 'Bacillus_megaterium', 'Bacillus_altitudinis', 'Bacillus_cereus', 'Bacillus_subtilis', 'Bacillus_altitudinis', 'Bacillus_pumilus', 'Bacillus_altitudinis', 'Bacillus_pumilus', 'Bacillus_cereus', 'Bacillus_cereus', 'Geobacillus_subterraneus', 'Geobacillus_subterraneus', 'Bacillus_cereus', 'Bacillus_altitudinis', 'Bacillus_simplex', 'Bacillus_pumilus', 'Bacillus_pumilus', 'Bacillus_licheniformis', 'Bacillus_atrophaeus', 'Bacillus_altitudinis', 'Bacillus_cereus', 'Bacillus_licheniformis', 'Bacillus_cereus', 'Bacillus_altitudinis', 'Bacillus_altitudinis', 'Bacillus_flexus', 'Bacillus_simplex', 'Bacillus_licheniformis', 'Bacillus_berkeleyi', 'Bacillus_licheniformis', 'Bacillus_pumilus', 'Bacillus_megaterium', 'Bacillus_flexus', 'Bacillus_megaterium', 'Bacillus_pumilus', 'Bacillus_simplex', 'Bacillus_altitudinis', 'Bacillus_pumilus', 'Bacillus_atrophaeus', 'Bacillus_altitudinis', 'Bacillus_flexus', 'Bacillus_atrophaeus', 'Bacillus_thuringiensis', 'Bacillus_licheniformis', 'Bacillus_megaterium', 'Bacillus_cereus', 'Bacillus_licheniformis', 'Bacillus_licheniformis', 'Bacillus_pumilus', 'Bacillus_pumilus', 'Bacillus_pumilus', 'Bacillus_licheniformis', 'Bacillus_subtilis', 'Bacillus_licheniformis', 'Bacillus_licheniformis', 'Bacillus_licheniformis', 'Bacillus_pumilus', 'Bacillus_licheniformis', 'Bacillus_mycoides', 'Bacillus_pumilus', 'Bacillus_pumilus', 'Bacillus_pumilus', 'Bacillus_cereus', 'Bacillus_pumilus', 'Bacillus_pumilus', 'Bacillus_cereus', 'Bacillus_mycoides', 'Bacillus_cereus', 'Bacillus_altitudinis', 'Bacillus_licheniformis', 'Bacillus_licheniformis', 'Bacillus_megaterium', 'Bacillus_pumilus', 'Bacillus_aryabhattai', 'Bacillus_pumilus', 'Bacillus_mycoides', 'Bacillus_pumilus', 'Bacillus_altitudinis', 'Bacillus_megaterium', 'Bacillus_pumilus', 'Bacillus_cereus', 'Bacillus_cereus', 'Bacillus_pumilus', 'Bacillus_licheniformis', 'Bacillus_simplex', 'Bacillus_altitudinis', 'Bacillus_pumilus', 'Bacillus_simplex', 'Bacillus_cereus', 'Bacillus_pumilus', 'Geobacillus_subterraneus', 'Bacillus_cereus', 'Bacillus_simplex', 'Bacillus_megaterium', 'Bacillus_aryabhattai', 'Bacillus_pumilus', 'Bacillus_pumilus', 'Bacillus_pumilus', 'Bacillus_pumilus', 'Bacillus_cereus', 'Geobacillus_subterraneus', 'Bacillus_cereus', 'Bacillus_cereus', 'Bacillus_pumilus', 'Bacillus_pumilus', 'Bacillus_coagulans', 'Bacillus_altitudinis', 'Bacillus_licheniformis', 'Bacillus_altitudinis', 'Bacillus_licheniformis', 'Bacillus_licheniformis', 'Bacillus_cereus', 'Bacillus_pumilus', 'Bacillus_cereus', 'Bacillus_pumilus', 'Bacillus_megaterium', 'Bacillus_clausii', 'Bacillus_pumilus', 'Bacillus_megaterium', 'Bacillus_cereus', 'Bacillus_megaterium', 'Bacillus_coagulans', 'Bacillus_pumilus', 'Bacillus_pumilus', 'Bacillus_coagulans', 'Bacillus_altitudinis', 'Bacillus_thuringiensis', 'Bacillus_altitudinis', 'Bacillus_licheniformis', 'Bacillus_simplex', 'Bacillus_licheniformis', 'Bacillus_simplex', 'Bacillus_pumilus', 'Bacillus_megaterium', 'Bacillus_pumilus', 'Bacillus_megaterium', 'Bacillus_megaterium', 'Bacillus_licheniformis', 'Bacillus_licheniformis', 'Bacillus_atrophaeus', 'Bacillus_cereus', 'Bacillus_pumilus', 'Bacillus_cereus', 'Bacillus_simplex', 'Bacillus_altitudinis', 'Bacillus_altitudinis', 'Bacillus_pumilus', 'Bacillus_coagulans', 'Bacillus_cereus', 'Bacillus_pumilus', 'Bacillus_flexus', 'Bacillus_altitudinis', 'Bacillus_licheniformis', 'E-Coli', 'Bacillus_flexus', 'Bacillus_pumilus', 'Bacillus_megaterium', 'Bacillus_licheniformis', 'Bacillus_altitudinis', 'Bacillus_altitudinis', 'Bacillus_coagulans', 'Bacillus_licheniformis', 'Bacillus_licheniformis', 'Bacillus_simplex', 'Bacillus_altitudinis', 'Bacillus_licheniformis', 'Bacillus_megaterium', 'Bacillus_altitudinis', 'Bacillus_cereus', 'Bacillus_licheniformis', 'Bacillus_licheniformis', 'Bacillus_altitudinis', 'Bacillus_cereus', 'Bacillus_cereus', 'Bacillus_megaterium', 'Bacillus_pumilus', 'Bacillus_pumilus', 'Bacillus_pumilus', 'Bacillus_aryabhattai', 'Bacillus_megaterium', 'Bacillus_pumilus', 'Bacillus_altitudinis', 'Bacillus_licheniformis', 'Bacillus_altitudinis', 'Bacillus_pumilus', 'Bacillus_pumilus', 'Bacillus_licheniformis', 'Bacillus_megaterium', 'Bacillus_cereus', 'Bacillus_atrophaeus', 'Bacillus_licheniformis', 'Bacillus_licheniformis', 'Bacillus_atrophaeus', 'Bacillus_simplex', 'Bacillus_simplex', 'Bacillus_licheniformis', 'Bacillus_altitudinis', 'Bacillus_licheniformis', 'Bacillus_megaterium', 'Bacillus_megaterium', 'Bacillus_simplex', 'Bacillus_weihenstephanensis', 'Bacillus_pumilus', 'Bacillus_cereus', 'Bacillus_altitudinis', 'Bacillus_licheniformis', 'Bacillus_cereus', 'Geobacillus_subterraneus', 'Bacillus_pumilus', 'Bacillus_altitudinis', 'Bacillus_subtilis', 'Bacillus_pumilus', 'Bacillus_clausii', 'Bacillus_altitudinis', 'Bacillus_licheniformis', 'Bacillus_altitudinis', 'Bacillus_pumilus', 'Bacillus_simplex', 'Bacillus_pumilus', 'Bacillus_megaterium', 'Bacillus_licheniformis', 'Bacillus_altitudinis', 'Bacillus_cereus', 'E-Coli', 'Bacillus_simplex', 'Bacillus_cereus', 'Bacillus_thuringiensis', 'Bacillus_licheniformis', 'Bacillus_licheniformis', 'Bacillus_cereus', 'Bacillus_pumilus', 'Anoxybacillus_flavithermus', 'Bacillus_altitudinis', 'Bacillus_altitudinis', 'Bacillus_simplex', 'Bacillus_simplex', 'Bacillus_cereus', 'Bacillus_licheniformis', 'Bacillus_pumilus', 'Bacillus_pumilus', 'Bacillus_megaterium', 'Bacillus_thuringiensis', 'Bacillus_pumilus', 'Bacillus_altitudinis', 'Bacillus_licheniformis', 'Bacillus_licheniformis', 'Bacillus_cereus', 'Bacillus_pumilus', 'Bacillus_pumilus', 'Bacillus_pumilus', 'Bacillus_cereus', 'Bacillus_subtilis', 'Bacillus_licheniformis', 'Bacillus_pumilus', 'Anoxybacillus_flavithermus', 'Bacillus_altitudinis', 'Geobacillus_subterraneus', 'Bacillus_berkeleyi', 'Bacillus_thuringiensis', 'Bacillus_megaterium', 'Bacillus_simplex', 'Bacillus_cereus', 'Bacillus_mycoides', 'Bacillus_altitudinis', 'Bacillus_weihenstephanensis', 'Bacillus_megaterium', 'Bacillus_altitudinis', 'Bacillus_simplex', 'Geobacillus_subterraneus', 'Bacillus_berkeleyi', 'Bacillus_pumilus', 'Bacillus_altitudinis', 'Bacillus_simplex', 'Bacillus_megaterium', 'Bacillus_pumilus', 'Bacillus_weihenstephanensis', 'Bacillus_licheniformis', 'Bacillus_pumilus', 'Bacillus_licheniformis', 'Bacillus_coagulans', 'Bacillus_pumilus', 'Bacillus_megaterium', 'Bacillus_mycoides', 'Bacillus_pumilus', 'E-Coli', 'Bacillus_megaterium', 'Anoxybacillus_flavithermus', 'Bacillus_mycoides', 'Bacillus_pumilus', 'Bacillus_pumilus', 'Bacillus_pumilus', 'Bacillus_pumilus', 'Bacillus_megaterium', 'Bacillus_pumilus', 'Bacillus_megaterium', 'Bacillus_pumilus', 'Bacillus_pumilus', 'Bacillus_pumilus', 'Bacillus_licheniformis', 'Bacillus_weihenstephanensis', 'Bacillus_chungangenis', 'Bacillus_flexus', 'Bacillus_pumilus', 'Bacillus_pumilus', 'Bacillus_licheniformis', 'Bacillus_altitudinis', 'Bacillus_megaterium', 'Bacillus_pumilus', 'Bacillus_pumilus', 'Bacillus_pumilus', 'Bacillus_megaterium', 'Bacillus_licheniformis', 'Bacillus_licheniformis', 'Bacillus_mycoides', 'Bacillus_pumilus', 'Bacillus_licheniformis', 'Bacillus_altitudinis', 'Bacillus_cereus', 'Bacillus_cereus', 'Bacillus_simplex', 'Bacillus_thuringiensis', 'Bacillus_altitudinis', 'Bacillus_altitudinis', 'Bacillus_altitudinis', 'Bacillus_megaterium', 'Bacillus_atrophaeus', 'Bacillus_atrophaeus', 'Bacillus_altitudinis', 'Bacillus_chungangenis', 'Bacillus_atrophaeus', 'Bacillus_atrophaeus', 'Bacillus_simplex', 'Bacillus_altitudinis', 'Bacillus_mycoides', 'Bacillus_licheniformis', 'Bacillus_pumilus', 'Bacillus_atrophaeus', 'Bacillus_cereus', 'Bacillus_licheniformis', 'Bacillus_pumilus', 'Bacillus_altitudinis', 'Geobacillus_subterraneus', 'Bacillus_pumilus', 'Bacillus_megaterium', 'Bacillus_simplex', 'Bacillus_simplex', 'Bacillus_berkeleyi', 'Bacillus_pumilus', 'Bacillus_coagulans', 'Bacillus_pumilus', 'Bacillus_pumilus', 'Bacillus_licheniformis', 'Bacillus_cereus', 'Bacillus_licheniformis', 'Bacillus_licheniformis', 'Bacillus_coagulans', 'Bacillus_megaterium', 'Bacillus_subtilis', 'Bacillus_pumilus', 'Bacillus_megaterium', 'Bacillus_cereus', 'Bacillus_megaterium', 'Bacillus_berkeleyi', 'Bacillus_berkeleyi', 'Bacillus_megaterium', 'Bacillus_altitudinis', 'Bacillus_simplex', 'Bacillus_simplex', 'E-Coli', 'Bacillus_thuringiensis', 'Bacillus_simplex', 'Bacillus_licheniformis', 'Bacillus_pumilus', 'Bacillus_altitudinis', 'Bacillus_pumilus', 'Bacillus_pumilus', 'Bacillus_chungangenis', 'Bacillus_coagulans', 'Bacillus_megaterium', 'Bacillus_altitudinis', 'Bacillus_pumilus', 'Bacillus_megaterium', 'Bacillus_simplex', 'Bacillus_cereus', 'Bacillus_cereus', 'Bacillus_pumilus', 'Geobacillus_subterraneus', 'Bacillus_clausii', 'Bacillus_pumilus', 'E-Coli', 'Bacillus_cereus', 'Bacillus_licheniformis', 'Bacillus_altitudinis', 'Bacillus_pumilus', 'Bacillus_cereus', 'Bacillus_cereus', 'Bacillus_megaterium', 'Bacillus_altitudinis', 'Bacillus_pumilus', 'Bacillus_pumilus', 'Bacillus_megaterium', 'Bacillus_pumilus', 'Bacillus_simplex', 'Bacillus_pumilus', 'Bacillus_cereus', 'Bacillus_cereus', 'Bacillus_licheniformis', 'Bacillus_licheniformis', 'Bacillus_cereus', 'Bacillus_pumilus', 'Bacillus_cereus', 'Bacillus_altitudinis', 'Bacillus_altitudinis', 'Bacillus_pumilus', 'Bacillus_licheniformis', 'Bacillus_aryabhattai', 'Bacillus_altitudinis', 'Bacillus_licheniformis', 'Bacillus_pumilus', 'Bacillus_licheniformis', 'Bacillus_pumilus', 'Bacillus_licheniformis', 'Bacillus_pumilus', 'Bacillus_licheniformis', 'Bacillus_altitudinis', 'Bacillus_altitudinis', 'Bacillus_pumilus', 'Bacillus_licheniformis', 'Bacillus_pumilus', 'Bacillus_cereus', 'Bacillus_altitudinis', 'Bacillus_altitudinis', 'Bacillus_pumilus', 'Bacillus_pumilus', 'Bacillus_pumilus', 'Bacillus_pumilus', 'Bacillus_cereus', 'Bacillus_licheniformis', 'Bacillus_simplex', 'Bacillus_simplex', 'Bacillus_licheniformis', 'Bacillus_cereus', 'Bacillus_cereus', 'Bacillus_altitudinis', 'Bacillus_pumilus', 'Bacillus_cereus', 'Bacillus_simplex', 'Bacillus_subtilis', 'Bacillus_altitudinis', 'Bacillus_altitudinis', 'Bacillus_pumilus', 'Bacillus_weihenstephanensis', 'Bacillus_megaterium', 'Bacillus_clausii', 'Bacillus_simplex', 'Bacillus_clausii', 'Anoxybacillus_flavithermus', 'Bacillus_pumilus', 'Bacillus_altitudinis', 'Bacillus_pumilus', 'Bacillus_altitudinis', 'Bacillus_pumilus', 'Bacillus_licheniformis', 'Bacillus_licheniformis', 'Bacillus_berkeleyi', 'Bacillus_megaterium', 'Bacillus_cereus', 'Bacillus_pumilus', 'Bacillus_simplex', 'Bacillus_altitudinis', 'Bacillus_altitudinis', 'Bacillus_licheniformis', 'Bacillus_thuringiensis', 'Bacillus_pumilus', 'Bacillus_aryabhattai', 'Bacillus_cereus', 'Anoxybacillus_flavithermus', 'Bacillus_pumilus', 'Bacillus_weihenstephanensis', 'Bacillus_pumilus', 'Geobacillus_subterraneus', 'Bacillus_pumilus', 'Bacillus_cereus', 'Bacillus_clausii', 'Bacillus_licheniformis', 'Bacillus_cereus', 'Bacillus_simplex', 'Bacillus_megaterium', 'Bacillus_megaterium', 'Bacillus_pumilus', 'Bacillus_pumilus', 'Bacillus_licheniformis', 'Bacillus_simplex', 'Bacillus_thuringiensis', 'Bacillus_thuringiensis', 'Bacillus_altitudinis', 'Bacillus_licheniformis', 'Bacillus_megaterium', 'Bacillus_pumilus', 'Bacillus_pumilus', 'Bacillus_altitudinis', 'Bacillus_altitudinis', 'Bacillus_altitudinis', 'Bacillus_cereus', 'Bacillus_pumilus', 'Bacillus_atrophaeus', 'Bacillus_pumilus', 'Bacillus_megaterium', 'Bacillus_pumilus', 'Bacillus_pumilus', 'Bacillus_simplex', 'Bacillus_pumilus', 'Bacillus_cereus', 'Bacillus_pumilus', 'Bacillus_chungangenis', 'Bacillus_pumilus', 'Bacillus_licheniformis', 'Bacillus_pumilus', 'Bacillus_megaterium', 'Bacillus_pumilus', 'Bacillus_flexus', 'E-Coli', 'Bacillus_cereus', 'Bacillus_coagulans', 'Bacillus_cereus', 'Bacillus_flexus', 'Bacillus_pumilus', 'Geobacillus_subterraneus', 'Bacillus_megaterium', 'Bacillus_megaterium', 'Bacillus_thuringiensis', 'Bacillus_pumilus', 'Anoxybacillus_flavithermus', 'Bacillus_pumilus', 'Bacillus_cereus', 'Bacillus_licheniformis', 'Bacillus_pumilus', 'Bacillus_pumilus', 'Bacillus_flexus', 'Bacillus_altitudinis', 'Bacillus_thuringiensis', 'Bacillus_licheniformis', 'Bacillus_clausii', 'Bacillus_licheniformis', 'Bacillus_pumilus', 'Bacillus_thuringiensis', 'Bacillus_simplex', 'Bacillus_subtilis', 'Bacillus_pumilus', 'Bacillus_pumilus', 'Bacillus_cereus', 'Bacillus_cereus', 'Bacillus_cereus', 'Bacillus_simplex', 'Bacillus_pumilus', 'Bacillus_licheniformis', 'Bacillus_cereus', 'Bacillus_simplex', 'Bacillus_altitudinis', 'Bacillus_cereus', 'Bacillus_licheniformis', 'Bacillus_altitudinis', 'Bacillus_cereus', 'Bacillus_megaterium', 'Bacillus_licheniformis', 'Bacillus_pumilus', 'Bacillus_megaterium', 'Bacillus_aryabhattai', 'Bacillus_pumilus', 'Bacillus_chungangenis', 'Bacillus_aryabhattai', 'Bacillus_pumilus', 'Bacillus_simplex', 'Bacillus_pumilus', 'Bacillus_pumilus', 'Bacillus_megaterium', 'Bacillus_pumilus', 'Bacillus_clausii', 'Bacillus_simplex', 'Bacillus_altitudinis', 'Bacillus_megaterium', 'Bacillus_pumilus', 'Geobacillus_subterraneus', 'Bacillus_atrophaeus', 'Bacillus_pumilus', 'Bacillus_altitudinis', 'Anoxybacillus_flavithermus', 'Bacillus_megaterium', 'Bacillus_altitudinis', 'Bacillus_simplex', 'Bacillus_licheniformis', 'Bacillus_simplex', 'Bacillus_pumilus', 'Bacillus_licheniformis', 'Bacillus_altitudinis', 'Bacillus_atrophaeus'], 'ID': ['KU3-5(2)', '41(4)il', 'KL20', 'DS1T', 'B40', 'KU82(2)', '46(10)il', '45(5)il', 'DS1T', 'O4', '9U', '45(3)il', 'KUskv2t-1(1)', 'KUskv2t1(1)', 'B512', 'O41', '13U', '666', 'k6dt', '42(6)w', '41(2)w', 'O33', 'KH6', '9U', '2U', '46(10)il', '45(3)il', '42(1)il', '3884', 'O19', '15U', '47(5)w', '45(3)il', '13U', 'O43', '41(4)il', '10U', 'O43', 'Cd3', '47(6)il', 'O19', 'B396', '16U', 'KG16(2011)(2)', '41(4)il', 'KU16oc(3)2011', '51(5)il', '666', '41(7)il', 'B370', '41(4)il', 'Seya', 'B394', 'KG16(2011)(3)', 'KG16(2011)(2)', '41(2)w', '10U', 'B40', 'KG16(2011)1_(k14dt)-fs', 'DS1T', 'KG16(2)', 'O45', 'O32', 'Seya', '42(6)w', 'B512', 'KUskv2(1)', '41(2)w', '666', 'B82', 'KU82(2)(K24dt)', '6806', 'KH2', 'KU16oc(3)2011', '9U', 'KL20', 'DS1T', '666', 'B82', 'KUskv2(2)(KH3)', '9419', 'O32', 'KG16(2011)(2)', 'Seya', '6244', '47(8)il', 'Cd1', '41(4)il', 'KG16(3)', 'DS1T', '47(8)il', '16U', 'B370', '46(10)il', 'KUskv2(1)(K9dt)', '6244', 'O45', 'B504', 'B397', 'DS1T', 'Cd1', 'antclone_1', '47(6)il', 'B397', 'UD01', '2U', 'KU3-5(2)', 'B13', 'B82', '47(6)il', '13U', '51(3)w', 'O45', '44(7)il', '46(10)il', 'KG16(1)2011(KH6)', '666', 'O48', '41(7)il', 'B396', 'KU3-5(2)', 'KL20', 'Cd3', 'KG16(1)2011', 'B82', 'O43', 'B394', '47(8)il', '45(3)il', '666', '6806', '2U', 'B370', 'B512', 'KU16oc(3)2011', 'k6dt', 'KU-3-4-8(1)(KH2)', 'O45', '34T', 'Cu1', 'KG16(3)', 'B504', 'KG16(1)2011(K14dt)', '3U', 'O33', 'E-Coli', 'B504', 'Cd1', 'KU4(2)(K6dt)', 'B394', '42(1)il', 'O32', 'O41', '2U', 'KG16(2011)(2)', '51(3)w', '9U', 'KU82(2)', '48(1)w', 'KU3-5(2)', 'B396', 'KG16(2011)(3)', '47(6)il', 'KUskv2t-1(1)', '666', 'B82', 'KH3', 'DS1T', 'B394', 'KH6', '51(5)il', 'Cu1', 'KU82(2)(K24dt)', 'KUskv2(1)(K9dt)', 'UDO1', 'KH3', '47(6)il', 'KG16(1)2011(K14dt)', '2U', '2021', '13U', 'B394', '41(2)w', '47(11)il', '16U', '41(4)il', '44(7)il', 'Seya', 'B497', 'antclone_1', 'O32', 'O32', '41(7)il', 'KU16oc(3)2011', 'B512', 'antclone_1', '6244', '666', '666', '47(5)w', '47(8)il', '6244', 'KU4(2)(K6dt)', 'O41', '16U', '51(3)w', '2U', 'Cu1', '9419', 'KU16oc(1)2011(KH11)', '44(7)il', 'UDO1', '2021', '34T', 'Cd1', 'Cd3', 'KH2', '47(5)w', 'B504', 'KG16(1)2011(KH6)', '51(1)il', '47(6)il', '41(4)il', '41(2)w', '46(5)il', 'O41', 'Cu1', 'KG16(1)2011(K14dt)', 'O32', 'UDO1', '6806', '2021', 'O6', 'B397', '10U', '6244', '45(3)il', '2U', 'B396', '3884', 'O45', '51(3)w', '2U', 'O43', 'KH3', '51(1)il', '9419', '13U', 'KU4(2)(K6dt)', 'O6', 'KG16(2011)(2)', '2021', 'KUskv2(1)', '42(6)w', '51(1)il', '16U', 'KU16oc(1)2011', 'KG16(2011)(3)', '42(1)il', 'KU16oc(3)2011(K5dt)', '6244', 'E-Coli', '45(3)il', 'B394', 'KH2', '10U', '44(7)il', '6244', '16U', '45(5)il', 'KG16(1)2011(KH6)', '44(7)il', '47(6)il', '46(10)il', '4U', 'B82', 'B504', '10U', 'B394', 'B504', '47(11)il', '3U', '47(8)il', 'UD01', 'KU16oc(3)2011', 'B82', '15U', '41(4)il', 'KUskv2(1)(K9dt)', 'Cd1', '2021', '10U', 'B396', '3884', '47(5)w', 'KU4(2)(K6dt)', '47(6)il', 'O32', '47(5)w', '13U', 'O32', 'Cd1', '16U', 'O4', 'O4', 'B40', 'O32', 'KG16(1)2011(K14dt)', '2U', 'KG16(1)2011(K14dt)', '47(11)il', 'O6', '34T', 'Cd1', 'KU3-5(2)', '41(7)il', 'B82', 'Cd3', 'B40', '9419', 'O4', '47(11)il', '41(7)il', 'O48', 'Cu1', 'KU16oc(1)2011', 'O45', '45(3)il', '13U', '9U', 'O48', 'KU16oc(3)2011(K5dt)', '16U', 'O48', '666', '47(5)w', '10U', 'KG16(3)', 'B497', '46(5)il', 'Cu1', 'DS1T', 'B397', 'O48', '34T', 'O6', 'E-Coli', '42(1)il', 'B370', '41(4)il', '45(3)il', 'DS1T', '51(3)w', 'O19', 'KU16oc(1)2011(KH11)', '13U', '45(5)il', 'KG16(2011)(3)', 'B13', '6806', 'KU-3-4-8(1)(KH2)', 'O19', 'KU3-5(2)', '42(6)w', 'UDO1', 'UDO1', 'DS1T', 'DS1T', '41(7)il', 'KH2', '47(5)w', 'O41', 'antclone_1', 'KU16oc(1)2011', '47(11)il', 'KG16(2011)(3)', '41(4)il', 'KG16(2011)1_(k14dt)-fs', 'KUskv2(1)(K9dt)', 'KG16(2)', 'KU3-5(2)', '42(1)il', '9419', 'KU16oc(3)2011(K5dt)', '6244', 'KUskv2t-1(1)', '46(5)il', '45(5)il', '4U', 'B397', 'O6', 'O4', 'KH3', '42(6)w', '47(8)il', 'Cd3', '4U', '47(11)il', 'B370', 'KG16(2011)1_(k14dt)-fs', 'B397', 'O43', 'KU16oc(3)2011', '2U', 'O19', '42(6)w', '47(6)il', 'KUskv2t-1(1)', '6806', '15U', 'KU16oc(3)2011', '9U', 'O41', '2U', '666', '3884', 'O19', '42(6)w', '41(7)il', '48(1)w', 'antclone_1', 'B504', '666', '41(7)il', 'KH6', '2U', '16U', 'B397', 'O33', '2021', '46(5)il', '666', 'O19', 'Cd3', 'B396', 'O33', 'O43', '41(4)il', '51(3)w', 'KU16oc(1)2011(KH11)', 'O4', 'KU3-5(2)', '46(5)il', 'KL20', 'UDO1', 'O19', 'DS1T', '41(4)il', 'KL20', 'B397', '2021', 'O6', 'O19', '3U', 'antclone_1', 'B504', 'DS1T', 'O43', 'UD01', 'O48', '48(1)w', 'B497', 'KH3', '15U', 'KG16(1)2011', '2U', 'KUskv2(1)', 'O43', 'Cd1', '41(4)il', '3884', 'B40', '13U', '46(5)il', '45(5)il', 'O43', 'B394', 'B497', 'O6', 'antclone_1', 'B497', 'KH6', 'B370', 'KUskv2(2)(KH3)', 'KU16oc(1)2011', 'O4', '2U', 'KL20', '47(6)il', 'B40', '47(6)il', '45(5)il', 'B40', '2U', 'KG16(2011)1_(k14dt)-fs', '47(11)il', 'B13', '46(5)il', 'O43', 'KL20', 'KG16(2011)(3)', 'Cu1', '3884', 'B497', '44(7)il', 'O33', '4U', 'KU3-5(2)', 'KUskv2t-1(1)', 'E-Coli', '42(1)il', 'O33', 'B40', '15U', 'KU3-5(2)', 'KU3-5(2)', 'B497', 'KUskv2(1)', 'KUskv2t-1(1)', 'O45', 'KG16(1)2011', 'KU16oc(3)2011', 'B396', 'Cu1', 'B504', 'KUskv2t1(1)', 'KU16oc(3)2011(K5dt)', 'Cd3', 'B504', '41(4)il', 'B394', 'Cd1', '51(1)il', 'Cd1', '2021', 'B394', '51(3)w', 'KH3', 'KUskv2(1)', 'KH3', 'O32', '51(1)il', 'KU16oc(3)2011', 'B396', 'B13', '47(11)il', '2U', '16U', '47(11)il', 'KL20', '9419', '15U', 'KH2', '15U', 'B394', 'B397', 'KL20', 'KU82(2)', '48(1)w', '44(7)il', 'Cd3', '2U', 'O43', '34T', 'O19', 'KH3', '6806', 'O32', '13U', 'Cu1', 'KUskv2(1)', 'Cd3', '47(6)il', 'KL20', '51(3)w', 'B397', '2U', 'KU-3-4-8(1)(KH2)', '41(7)il', 'E-Coli', '47(5)w', 'B13', 'B370', 'KUskv2(1)', '9U', '41(4)il', '47(6)il', 'Seya', 'KG16(2)', 'Cu1', 'O4', 'O4', '46(10)il', '2U', 'O41', 'Cd1', 'B512', 'B370', '51(1)il', 'KG16(1)2011(KH6)', '15U', '15U', '41(7)il', 'O32', '46(5)il', 'O19', '41(7)il', '6806', '9U', '3U', 'Seya', 'KU4(2)(K6dt)', 'DS1T', '6244', 'B82', 'B40', '47(5)w', '41(7)il', '666', 'KG16(1)2011(KH6)', 'KU82(2)', '45(5)il', 'KG16(2011)(2)', 'O4', '34T', '6244', 'antclone_1', 'KG16(2011)(3)', 'KL20', '45(5)il', '3U', 'KU82(2)', 'KUskv2t1(1)', 'O6', '2U', 'B497', '42(6)w', '45(5)il', '666', '51(3)w', 'E-Coli', 'B40', 'Seya', '666', 'O6', 'antclone_1', '48(1)w', 'O33', 'B397', '51(3)w', 'B396', '51(1)il', 'O32', '47(6)il', '15U', 'KU82(2)(K24dt)', '45(3)il', '4U', '42(6)w', '42(6)w', '15U', 'KU3-5(2)', 'B396', 'O32', '3884', '51(5)il', 'B396', 'KG16(1)2011(K14dt)', 'KG16(2011)1_(k14dt)-fs', '666', 'O33', '2U', 'KU-3-4-8(1)(KH2)', '41(4)il', 'B13', 'KL20', 'B82', 'Cu1', 'KU3-5(2)', 'KG16(1)2011(KH6)', '45(5)il', '47(8)il', '47(11)il', 'KG16(1)2011', '45(3)il', '47(11)il', '47(11)il', 'O45', 'Cu1', '666', '2U', '51(5)il', '47(8)il', 'UD01', 'KG16(2011)1_(k14dt)-fs', '46(5)il', 'Cu1', 'DS1T', '42(6)w', 'B40', '9419', '41(2)w', '6244', '51(5)il', 'B497', 'O33', 'O19', 'KUskv2(1)', 'O43', '2U', '2U', 'B497', 'B394', '6806', 'Cd1', 'B396', '41(7)il', 'B397', '6244', '6244', 'B394', 'KH2', 'KL20', '9419', 'E-Coli', 'B82', 'KL20', '2U', '51(1)il', 'KG16(1)2011', '47(6)il', '51(3)w', '45(3)il', 'B497', 'B512', 'KG16(1)2011', '46(5)il', 'B394', '9419', '41(4)il', '44(7)il', '51(5)il', 'DS1T', '13U', '42(6)w', 'E-Coli', '44(7)il', 'KG16(2011)1_(k14dt)-fs', 'Cd3', '46(5)il', 'UDO1', '41(7)il', '45(5)il', 'KG16(2)', 'O33', '3U', '45(5)il', 'O19', 'KL20', '3U', 'B13', 'KUskv2(1)(K9dt)', 'KU16oc(3)2011(K5dt)', 'KUskv2t-1(1)', '41(7)il', '10U', 'UD01', 'Cu1', 'Cd3', '10U', 'KU16oc(1)2011', '2021', 'KU3-5(2)', 'KU16oc(3)2011', '51(5)il', '9U', 'O33', '9U', '51(1)il', '2U', 'KH2', 'KU3-5(2)', 'O41', '2U', 'O41', 'B13', 'KU4(2)(K6dt)', 'KUskv2(2)(KH3)', 'Cd1', '47(6)il', '51(5)il', 'O48', 'B13', '16U', 'KL20', '9419', '2U', 'B504', '41(7)il', 'KG16(1)2011', 'O48', '41(7)il', '41(2)w', '6806', 'KH2', 'KU3-5(2)', '3884', 'KU82(2)', 'B40', '13U', '9419', '13U', 'Seya', 'O19', 'KU3-5(2)', 'O41', 'KU3-5(2)', 'O6', 'KU16oc(3)2011', '9U', '6244', 'B512', '44(7)il', 'antclone_1', 'O4', 'KU3-5(2)', 'k6dt', '2U', 'B370', 'O6', '2021', 'O43', 'Seya', '51(5)il', 'KU82(2)', '51(1)il', 'DS1T', '51(5)il', 'O43', '13U', 'KU16oc(1)2011', '41(7)il', 'O45', 'B394', 'B40', '51(3)w', '51(1)il', 'KU16oc(3)2011', '47(5)w', 'B370', 'B82', 'KG16(1)2011', 'KUskv2t-1(1)', 'B512', '47(6)il', '51(3)w', 'k6dt', 'k6dt', 'KG16(1)2011(KH6)', 'KUskv2(1)(K9dt)', '51(1)il', '47(8)il', 'antclone_1', 'B394', 'O48', 'O32', '47(5)w', 'O41', 'KUskv2(1)(K9dt)', '51(1)il', '45(3)il', '47(6)il', '2U', 'O41', '45(5)il', '3U', '4U', 'E-Coli', 'O43', 'B497', 'KUskv2(1)(K9dt)', '42(1)il', '51(1)il', '34T', 'B394', '45(5)il', 'B82', '51(5)il', 'Seya', 'O32', '44(7)il', '16U', 'O19', '3884', '4U', 'Cd3', 'B82', '2U', '13U', 'KG16(2011)1_(k14dt)-fs', '42(6)w', 'B82', '41(2)w', '6806', 'antclone_1', 'O19', '44(7)il', '44(7)il', 'B504', '41(2)w', 'antclone_1', '15U', 'B504', 'O4', 'Cu1', '46(10)il', '15U', 'Cu1', 'UD01', 'B397', 'KG16(2011)1_(k14dt)-fs', 'antclone_1', 'B512', '2021', 'O32', '45(3)il', '2021', 'O19', '47(5)w', 'Cd1', 'O33', '45(5)il', 'O48', '13U', '9419', 'KH2', 'B394', 'O33', 'DS1T', '47(11)il', 'Cd1', 'Cu1', 'Seya', '45(5)il', 'KU3-5(2)', '47(5)w', '2U', 'O4', 'O32', 'KG16(1)2011(K14dt)', 'KU-3-4-8(1)(KH2)', '47(11)il']}\n"
     ]
    }
   ],
   "source": [
    "print(embaddings[:])"
   ]
  },
  {
   "cell_type": "markdown",
   "metadata": {},
   "source": [
    "# Denoising autoencoder"
   ]
  },
  {
   "cell_type": "code",
   "execution_count": 50,
   "metadata": {},
   "outputs": [],
   "source": [
    "MS_profiles_set = customdataset (MS_profiles.iloc[:, :12001].to_numpy(),\n",
    "                                 MS_profiles.iloc[:, 12001].to_numpy(),\n",
    "                                 MS_profiles.iloc[:, 12002].to_numpy())"
   ]
  },
  {
   "cell_type": "code",
   "execution_count": 87,
   "metadata": {},
   "outputs": [
    {
     "data": {
      "text/html": [
       "<div>\n",
       "<style scoped>\n",
       "    .dataframe tbody tr th:only-of-type {\n",
       "        vertical-align: middle;\n",
       "    }\n",
       "\n",
       "    .dataframe tbody tr th {\n",
       "        vertical-align: top;\n",
       "    }\n",
       "\n",
       "    .dataframe thead th {\n",
       "        text-align: right;\n",
       "    }\n",
       "</style>\n",
       "<table border=\"1\" class=\"dataframe\">\n",
       "  <thead>\n",
       "    <tr style=\"text-align: right;\">\n",
       "      <th></th>\n",
       "      <th>3000.0</th>\n",
       "      <th>3001.0</th>\n",
       "      <th>3002.0</th>\n",
       "      <th>3003.0</th>\n",
       "      <th>3004.0</th>\n",
       "      <th>3005.0</th>\n",
       "      <th>3006.0</th>\n",
       "      <th>3007.0</th>\n",
       "      <th>3008.0</th>\n",
       "      <th>3009.0</th>\n",
       "      <th>...</th>\n",
       "      <th>14993.0</th>\n",
       "      <th>14994.0</th>\n",
       "      <th>14995.0</th>\n",
       "      <th>14996.0</th>\n",
       "      <th>14997.0</th>\n",
       "      <th>14998.0</th>\n",
       "      <th>14999.0</th>\n",
       "      <th>15000.0</th>\n",
       "      <th>15001.0</th>\n",
       "      <th>15002.0</th>\n",
       "    </tr>\n",
       "  </thead>\n",
       "  <tbody>\n",
       "    <tr>\n",
       "      <th>0</th>\n",
       "      <td>0.0</td>\n",
       "      <td>0.006989</td>\n",
       "      <td>0.009474</td>\n",
       "      <td>0.011865</td>\n",
       "      <td>0.014919</td>\n",
       "      <td>0.013818</td>\n",
       "      <td>0.014891</td>\n",
       "      <td>0.014112</td>\n",
       "      <td>0.011084</td>\n",
       "      <td>0.013803</td>\n",
       "      <td>...</td>\n",
       "      <td>0.002440</td>\n",
       "      <td>0.002064</td>\n",
       "      <td>0.001836</td>\n",
       "      <td>0.001591</td>\n",
       "      <td>0.001053</td>\n",
       "      <td>0.000658</td>\n",
       "      <td>0.000551</td>\n",
       "      <td>0.0</td>\n",
       "      <td>Bacillus_licheniformis</td>\n",
       "      <td>KUskv2(1)</td>\n",
       "    </tr>\n",
       "    <tr>\n",
       "      <th>1</th>\n",
       "      <td>0.0</td>\n",
       "      <td>0.004763</td>\n",
       "      <td>0.009817</td>\n",
       "      <td>0.034881</td>\n",
       "      <td>0.018070</td>\n",
       "      <td>0.005413</td>\n",
       "      <td>0.046530</td>\n",
       "      <td>0.018136</td>\n",
       "      <td>0.011061</td>\n",
       "      <td>0.020801</td>\n",
       "      <td>...</td>\n",
       "      <td>0.002118</td>\n",
       "      <td>0.000053</td>\n",
       "      <td>0.001487</td>\n",
       "      <td>0.002096</td>\n",
       "      <td>0.000371</td>\n",
       "      <td>0.000251</td>\n",
       "      <td>0.000137</td>\n",
       "      <td>0.0</td>\n",
       "      <td>Bacillus_licheniformis</td>\n",
       "      <td>KUskv2(1)</td>\n",
       "    </tr>\n",
       "    <tr>\n",
       "      <th>2</th>\n",
       "      <td>0.0</td>\n",
       "      <td>0.012852</td>\n",
       "      <td>0.003425</td>\n",
       "      <td>0.025271</td>\n",
       "      <td>0.009061</td>\n",
       "      <td>0.013747</td>\n",
       "      <td>0.012419</td>\n",
       "      <td>0.019835</td>\n",
       "      <td>0.002492</td>\n",
       "      <td>0.017738</td>\n",
       "      <td>...</td>\n",
       "      <td>0.002677</td>\n",
       "      <td>0.004130</td>\n",
       "      <td>0.002510</td>\n",
       "      <td>0.001092</td>\n",
       "      <td>0.000857</td>\n",
       "      <td>0.000140</td>\n",
       "      <td>0.000058</td>\n",
       "      <td>0.0</td>\n",
       "      <td>Bacillus_licheniformis</td>\n",
       "      <td>KUskv2(1)</td>\n",
       "    </tr>\n",
       "    <tr>\n",
       "      <th>3</th>\n",
       "      <td>0.0</td>\n",
       "      <td>0.017205</td>\n",
       "      <td>0.005666</td>\n",
       "      <td>0.012912</td>\n",
       "      <td>0.009946</td>\n",
       "      <td>0.009892</td>\n",
       "      <td>0.036287</td>\n",
       "      <td>0.003361</td>\n",
       "      <td>0.006030</td>\n",
       "      <td>0.015071</td>\n",
       "      <td>...</td>\n",
       "      <td>0.002978</td>\n",
       "      <td>0.001497</td>\n",
       "      <td>0.004651</td>\n",
       "      <td>0.001753</td>\n",
       "      <td>0.000300</td>\n",
       "      <td>0.001533</td>\n",
       "      <td>0.000660</td>\n",
       "      <td>0.0</td>\n",
       "      <td>Bacillus_licheniformis</td>\n",
       "      <td>KUskv2(1)</td>\n",
       "    </tr>\n",
       "    <tr>\n",
       "      <th>4</th>\n",
       "      <td>0.0</td>\n",
       "      <td>0.007217</td>\n",
       "      <td>0.001048</td>\n",
       "      <td>0.016819</td>\n",
       "      <td>0.011939</td>\n",
       "      <td>0.025891</td>\n",
       "      <td>0.015581</td>\n",
       "      <td>0.005821</td>\n",
       "      <td>0.005917</td>\n",
       "      <td>0.020402</td>\n",
       "      <td>...</td>\n",
       "      <td>0.008646</td>\n",
       "      <td>0.001010</td>\n",
       "      <td>0.000511</td>\n",
       "      <td>0.003294</td>\n",
       "      <td>0.003341</td>\n",
       "      <td>0.001306</td>\n",
       "      <td>0.000364</td>\n",
       "      <td>0.0</td>\n",
       "      <td>Bacillus_licheniformis</td>\n",
       "      <td>KUskv2(1)</td>\n",
       "    </tr>\n",
       "    <tr>\n",
       "      <th>...</th>\n",
       "      <td>...</td>\n",
       "      <td>...</td>\n",
       "      <td>...</td>\n",
       "      <td>...</td>\n",
       "      <td>...</td>\n",
       "      <td>...</td>\n",
       "      <td>...</td>\n",
       "      <td>...</td>\n",
       "      <td>...</td>\n",
       "      <td>...</td>\n",
       "      <td>...</td>\n",
       "      <td>...</td>\n",
       "      <td>...</td>\n",
       "      <td>...</td>\n",
       "      <td>...</td>\n",
       "      <td>...</td>\n",
       "      <td>...</td>\n",
       "      <td>...</td>\n",
       "      <td>...</td>\n",
       "      <td>...</td>\n",
       "      <td>...</td>\n",
       "    </tr>\n",
       "    <tr>\n",
       "      <th>3124</th>\n",
       "      <td>0.0</td>\n",
       "      <td>0.005942</td>\n",
       "      <td>0.002435</td>\n",
       "      <td>0.017605</td>\n",
       "      <td>0.001303</td>\n",
       "      <td>0.005400</td>\n",
       "      <td>0.006719</td>\n",
       "      <td>0.003256</td>\n",
       "      <td>0.000946</td>\n",
       "      <td>0.018397</td>\n",
       "      <td>...</td>\n",
       "      <td>0.000334</td>\n",
       "      <td>0.001311</td>\n",
       "      <td>0.003330</td>\n",
       "      <td>0.001445</td>\n",
       "      <td>0.000406</td>\n",
       "      <td>0.000912</td>\n",
       "      <td>0.000826</td>\n",
       "      <td>0.0</td>\n",
       "      <td>Bacillus_chungangenis</td>\n",
       "      <td>45(3)il</td>\n",
       "    </tr>\n",
       "    <tr>\n",
       "      <th>3125</th>\n",
       "      <td>0.0</td>\n",
       "      <td>0.001358</td>\n",
       "      <td>0.003181</td>\n",
       "      <td>0.026081</td>\n",
       "      <td>0.003221</td>\n",
       "      <td>0.012753</td>\n",
       "      <td>0.009940</td>\n",
       "      <td>0.015499</td>\n",
       "      <td>0.009613</td>\n",
       "      <td>0.031066</td>\n",
       "      <td>...</td>\n",
       "      <td>0.002175</td>\n",
       "      <td>0.000290</td>\n",
       "      <td>0.002820</td>\n",
       "      <td>0.001239</td>\n",
       "      <td>0.002242</td>\n",
       "      <td>0.000143</td>\n",
       "      <td>0.000189</td>\n",
       "      <td>0.0</td>\n",
       "      <td>Bacillus_chungangenis</td>\n",
       "      <td>45(3)il</td>\n",
       "    </tr>\n",
       "    <tr>\n",
       "      <th>3126</th>\n",
       "      <td>0.0</td>\n",
       "      <td>0.007847</td>\n",
       "      <td>0.008806</td>\n",
       "      <td>0.005308</td>\n",
       "      <td>0.001877</td>\n",
       "      <td>0.012934</td>\n",
       "      <td>0.010689</td>\n",
       "      <td>0.005295</td>\n",
       "      <td>0.012382</td>\n",
       "      <td>0.008236</td>\n",
       "      <td>...</td>\n",
       "      <td>0.000802</td>\n",
       "      <td>0.002467</td>\n",
       "      <td>0.002177</td>\n",
       "      <td>0.001617</td>\n",
       "      <td>0.000338</td>\n",
       "      <td>0.000828</td>\n",
       "      <td>0.000022</td>\n",
       "      <td>0.0</td>\n",
       "      <td>Bacillus_chungangenis</td>\n",
       "      <td>45(3)il</td>\n",
       "    </tr>\n",
       "    <tr>\n",
       "      <th>3127</th>\n",
       "      <td>0.0</td>\n",
       "      <td>0.011118</td>\n",
       "      <td>0.000797</td>\n",
       "      <td>0.012318</td>\n",
       "      <td>0.003748</td>\n",
       "      <td>0.002949</td>\n",
       "      <td>0.013608</td>\n",
       "      <td>0.007768</td>\n",
       "      <td>0.021935</td>\n",
       "      <td>0.030092</td>\n",
       "      <td>...</td>\n",
       "      <td>0.000046</td>\n",
       "      <td>0.001611</td>\n",
       "      <td>0.001686</td>\n",
       "      <td>0.000824</td>\n",
       "      <td>0.001633</td>\n",
       "      <td>0.001858</td>\n",
       "      <td>0.000053</td>\n",
       "      <td>0.0</td>\n",
       "      <td>Bacillus_chungangenis</td>\n",
       "      <td>45(3)il</td>\n",
       "    </tr>\n",
       "    <tr>\n",
       "      <th>3128</th>\n",
       "      <td>0.0</td>\n",
       "      <td>0.005547</td>\n",
       "      <td>0.000729</td>\n",
       "      <td>0.005255</td>\n",
       "      <td>0.005954</td>\n",
       "      <td>0.006622</td>\n",
       "      <td>0.001943</td>\n",
       "      <td>0.008571</td>\n",
       "      <td>0.011179</td>\n",
       "      <td>0.023089</td>\n",
       "      <td>...</td>\n",
       "      <td>0.001945</td>\n",
       "      <td>0.001883</td>\n",
       "      <td>0.002249</td>\n",
       "      <td>0.002600</td>\n",
       "      <td>0.000512</td>\n",
       "      <td>0.000832</td>\n",
       "      <td>0.000152</td>\n",
       "      <td>0.0</td>\n",
       "      <td>Bacillus_chungangenis</td>\n",
       "      <td>45(3)il</td>\n",
       "    </tr>\n",
       "  </tbody>\n",
       "</table>\n",
       "<p>3129 rows × 12003 columns</p>\n",
       "</div>"
      ],
      "text/plain": [
       "      3000.0    3001.0    3002.0    3003.0    3004.0    3005.0    3006.0  \\\n",
       "0        0.0  0.006989  0.009474  0.011865  0.014919  0.013818  0.014891   \n",
       "1        0.0  0.004763  0.009817  0.034881  0.018070  0.005413  0.046530   \n",
       "2        0.0  0.012852  0.003425  0.025271  0.009061  0.013747  0.012419   \n",
       "3        0.0  0.017205  0.005666  0.012912  0.009946  0.009892  0.036287   \n",
       "4        0.0  0.007217  0.001048  0.016819  0.011939  0.025891  0.015581   \n",
       "...      ...       ...       ...       ...       ...       ...       ...   \n",
       "3124     0.0  0.005942  0.002435  0.017605  0.001303  0.005400  0.006719   \n",
       "3125     0.0  0.001358  0.003181  0.026081  0.003221  0.012753  0.009940   \n",
       "3126     0.0  0.007847  0.008806  0.005308  0.001877  0.012934  0.010689   \n",
       "3127     0.0  0.011118  0.000797  0.012318  0.003748  0.002949  0.013608   \n",
       "3128     0.0  0.005547  0.000729  0.005255  0.005954  0.006622  0.001943   \n",
       "\n",
       "        3007.0    3008.0    3009.0  ...   14993.0   14994.0   14995.0  \\\n",
       "0     0.014112  0.011084  0.013803  ...  0.002440  0.002064  0.001836   \n",
       "1     0.018136  0.011061  0.020801  ...  0.002118  0.000053  0.001487   \n",
       "2     0.019835  0.002492  0.017738  ...  0.002677  0.004130  0.002510   \n",
       "3     0.003361  0.006030  0.015071  ...  0.002978  0.001497  0.004651   \n",
       "4     0.005821  0.005917  0.020402  ...  0.008646  0.001010  0.000511   \n",
       "...        ...       ...       ...  ...       ...       ...       ...   \n",
       "3124  0.003256  0.000946  0.018397  ...  0.000334  0.001311  0.003330   \n",
       "3125  0.015499  0.009613  0.031066  ...  0.002175  0.000290  0.002820   \n",
       "3126  0.005295  0.012382  0.008236  ...  0.000802  0.002467  0.002177   \n",
       "3127  0.007768  0.021935  0.030092  ...  0.000046  0.001611  0.001686   \n",
       "3128  0.008571  0.011179  0.023089  ...  0.001945  0.001883  0.002249   \n",
       "\n",
       "       14996.0   14997.0   14998.0   14999.0  15000.0                 15001.0  \\\n",
       "0     0.001591  0.001053  0.000658  0.000551      0.0  Bacillus_licheniformis   \n",
       "1     0.002096  0.000371  0.000251  0.000137      0.0  Bacillus_licheniformis   \n",
       "2     0.001092  0.000857  0.000140  0.000058      0.0  Bacillus_licheniformis   \n",
       "3     0.001753  0.000300  0.001533  0.000660      0.0  Bacillus_licheniformis   \n",
       "4     0.003294  0.003341  0.001306  0.000364      0.0  Bacillus_licheniformis   \n",
       "...        ...       ...       ...       ...      ...                     ...   \n",
       "3124  0.001445  0.000406  0.000912  0.000826      0.0   Bacillus_chungangenis   \n",
       "3125  0.001239  0.002242  0.000143  0.000189      0.0   Bacillus_chungangenis   \n",
       "3126  0.001617  0.000338  0.000828  0.000022      0.0   Bacillus_chungangenis   \n",
       "3127  0.000824  0.001633  0.001858  0.000053      0.0   Bacillus_chungangenis   \n",
       "3128  0.002600  0.000512  0.000832  0.000152      0.0   Bacillus_chungangenis   \n",
       "\n",
       "        15002.0  \n",
       "0     KUskv2(1)  \n",
       "1     KUskv2(1)  \n",
       "2     KUskv2(1)  \n",
       "3     KUskv2(1)  \n",
       "4     KUskv2(1)  \n",
       "...         ...  \n",
       "3124    45(3)il  \n",
       "3125    45(3)il  \n",
       "3126    45(3)il  \n",
       "3127    45(3)il  \n",
       "3128    45(3)il  \n",
       "\n",
       "[3129 rows x 12003 columns]"
      ]
     },
     "execution_count": 87,
     "metadata": {},
     "output_type": "execute_result"
    }
   ],
   "source": [
    "MS_profiles_sintes=pd.read_csv(\"MS_profiles\\sets\\MS_profiles_sintes_norm_noise_100%_2\",\\\n",
    "                               sep=';', index_col=0, header=0)\n",
    "MS_profiles_test_noise = customdataset (MS_profiles_sintes.iloc[:, :12001].to_numpy(),\n",
    "                                 MS_profiles_sintes.iloc[:, 12001].to_numpy(),\n",
    "                                 MS_profiles_sintes.iloc[:, 12002].to_numpy())\n",
    "MS_profiles_sintes"
   ]
  },
  {
   "cell_type": "markdown",
   "metadata": {
    "id": "9ZYO0mHarrWx"
   },
   "source": [
    "**создаем test и value выборки**"
   ]
  },
  {
   "cell_type": "code",
   "execution_count": 51,
   "metadata": {
    "colab": {
     "base_uri": "https://localhost:8080/"
    },
    "id": "4z2KHSOCYFAH",
    "outputId": "6fd81098-f84b-4afa-91de-42f2871b6dc2"
   },
   "outputs": [],
   "source": [
    "batch_s=16\n",
    "train, value = train_test_split(MS_profiles_set, train_size=0.7, shuffle=True)#получили value выбороку\n",
    "train_data = DataLoader(MS_profiles_set, batch_size=batch_s, shuffle=True)#а на train отправляем весь\\\n",
    "#MS_profiles_set что бы модель знала профили всех имеющихся бактерий\n",
    "value_data = DataLoader(MS_profiles_set, batch_size=batch_s)"
   ]
  },
  {
   "cell_type": "markdown",
   "metadata": {
    "id": "moxqsX0FtbyI"
   },
   "source": [
    "**лосс-функция/оптимайзер**"
   ]
  },
  {
   "cell_type": "code",
   "execution_count": 52,
   "metadata": {
    "id": "M18Y4jopLTAC"
   },
   "outputs": [],
   "source": [
    "L = F.mse_loss #nn.torch.functional....\n",
    "autoencoder = vanilla_autoencoder().to(device)\n",
    "optimizer = torch.optim.Adam(autoencoder.parameters(), lr=0.001)"
   ]
  },
  {
   "cell_type": "markdown",
   "metadata": {
    "id": "hWIeBekmuDj4"
   },
   "source": [
    "**тренировка**"
   ]
  },
  {
   "cell_type": "code",
   "execution_count": 53,
   "metadata": {
    "colab": {
     "base_uri": "https://localhost:8080/",
     "height": 17,
     "referenced_widgets": [
      "a4dd3c87a5e9429a8b0a8de8fa4344c5",
      "8a4ee5bf15cf4a0ea0562cd6d40b2c6f",
      "590e20d5dc0b429c906ffe3168173a2b",
      "300cc72602c144239f1880173f090e78",
      "0ee40a49e04b454b8e8e45640f93dfc4",
      "5049e4b7f5f04ddbb79052f9c74c0d52",
      "31207233420e4c21813e77277cfe697b",
      "97be1f598db3432e8fee19267eaa916d",
      "2e5042cd7c974c4e873906d357dac2ae",
      "be98dc9993ad4b8abcc3880186a9d6a5",
      "abaa4cba9ec44bd1ab34ff885d0ea153"
     ]
    },
    "id": "ep293OEFMwPR",
    "outputId": "fe699f6c-4a85-453d-a2d5-97e0d6527f12",
    "scrolled": true
   },
   "outputs": [
    {
     "data": {
      "application/vnd.jupyter.widget-view+json": {
       "model_id": "d1bb6a8d236f471b989663c063e98758",
       "version_major": 2,
       "version_minor": 0
      },
      "text/plain": [
       "  0%|          | 0/100 [00:00<?, ?it/s]"
      ]
     },
     "metadata": {},
     "output_type": "display_data"
    }
   ],
   "source": [
    "from torch.cuda.memory import list_gpu_processes\n",
    "n_epochs = 100\n",
    "train_losses = []\n",
    "val_losses = []\n",
    "embaddings = torch.Tensor()\n",
    "truth = torch.Tensor()\n",
    "pred = torch.Tensor()\n",
    "noise_factor = 0.4\n",
    "count = 0\n",
    "\n",
    "for epoch in tqdm(range(n_epochs)): #tqdm для красивой загрузочки\n",
    "    autoencoder.train()\n",
    "    train_losses_per_epoch = []\n",
    "    for X_batch in train_data:\n",
    "        noise = X_batch['profile'] + \\\n",
    "        torch.FloatTensor(np.random.normal(loc=0.0, \\\n",
    "                scale=noise_factor*X_batch['profile'], size= list(X_batch['profile'].size())))#шумим\n",
    "        noise = torch.abs(noise)\n",
    "        y = torch.ones(list(X_batch['profile'].size()))\n",
    "        noise = torch.where(noise < 1, noise, y)\n",
    "        X_batch['profile'] = X_batch['profile'].to(device)#чистые векторы \n",
    "        #print(X_batch['profile'].size().numpy())\n",
    "        noise = noise.to(device)\n",
    "        #print(noise.max())\n",
    "        optimizer.zero_grad()\n",
    "        reconstructed, embadding = autoencoder.forward(noise)#скармливаем шум\n",
    "        loss = L(reconstructed, X_batch['profile'])#сравниваем с читыми\n",
    "        loss.backward()\n",
    "        optimizer.step()\n",
    "        train_losses_per_epoch.append(loss.item())\n",
    "\n",
    "    train_losses.append(np.mean(train_losses_per_epoch))\n",
    "\n",
    "    autoencoder.eval()\n",
    "    val_losses_per_epoch = []\n",
    "    with torch.no_grad():\n",
    "        for i, X_batch in enumerate(value_data):\n",
    "            noise = X_batch['profile'] + \\\n",
    "                     torch.FloatTensor(np.random.normal(loc=0.0, \\\n",
    "                      scale=noise_factor*X_batch['profile'], size= list(X_batch['profile'].size())))#шумим\n",
    "            noise = torch.abs(noise)\n",
    "            y = torch.ones(list(X_batch['profile'].size()))\n",
    "            noise = torch.where(noise < 1, noise, y)\n",
    "            noise = noise.to(device)\n",
    "            reconstructed, embadding = autoencoder(noise)\n",
    "            X_batch['profile'] = X_batch['profile'].to(device)\n",
    "            loss = L(reconstructed, X_batch['profile'])\n",
    "            val_losses_per_epoch.append(loss.item())\n",
    "            if (epoch >= (n_epochs - 100)):\n",
    "                count = count + 1\n",
    "                embadding = embadding.to('cpu')\n",
    "                reconstructed = reconstructed.to('cpu')\n",
    "                X_batch['profile'] = X_batch['profile'].to('cpu')\n",
    "                if (i==0)and(epoch == n_epochs - 100):\n",
    "                    embaddings = customdataset(embadding, X_batch['group'].copy(), X_batch['ID'].copy())\n",
    "                    truth = customdataset(X_batch['profile'], X_batch['group'].copy(), X_batch['ID'].copy())\n",
    "                    pred = customdataset(reconstructed, X_batch['group'].copy(), X_batch['ID'].copy())\n",
    "                    embadding = embadding.to(device)\n",
    "                if (i!=0)or(epoch != n_epochs - 100):    \n",
    "                    embaddings.cat(embadding, X_batch['group'], X_batch['ID'])\n",
    "                    pred.cat(reconstructed, X_batch['group'], X_batch['ID'])\n",
    "                    truth.cat(X_batch['profile'], X_batch['group'], X_batch['ID'])\n",
    "                    embadding = embadding.to(device)\n",
    "\n",
    "    val_losses.append(np.mean(val_losses_per_epoch))\n"
   ]
  },
  {
   "cell_type": "code",
   "execution_count": 68,
   "metadata": {},
   "outputs": [
    {
     "data": {
      "text/plain": [
       "torch.Size([14900, 50])"
      ]
     },
     "execution_count": 68,
     "metadata": {},
     "output_type": "execute_result"
    }
   ],
   "source": [
    "embaddings[:]['profile'].shape"
   ]
  },
  {
   "cell_type": "code",
   "execution_count": 55,
   "metadata": {
    "colab": {
     "base_uri": "https://localhost:8080/",
     "height": 279
    },
    "id": "ZhC4WPz5oY-a",
    "outputId": "fc4a12c4-7cef-4cec-94ca-fe8018f3d128",
    "scrolled": true
   },
   "outputs": [
    {
     "data": {
      "image/png": "[encoded data removed]",
      "text/plain": [
       "<Figure size 432x288 with 1 Axes>"
      ]
     },
     "metadata": {
      "needs_background": "light"
     },
     "output_type": "display_data"
    }
   ],
   "source": [
    "plt.plot(train_losses, label=\"train_loss\")\n",
    "plt.plot(val_losses, label=\"val_loss\")\n",
    "plt.legend(loc='best')\n",
    "plt.xlabel(\"epochs\")\n",
    "plt.ylabel(\"loss\")\n",
    "plt.show()"
   ]
  },
  {
   "cell_type": "code",
   "execution_count": 60,
   "metadata": {},
   "outputs": [],
   "source": [
    "torch.save (nn.Sequential(autoencoder.encoder, autoencoder.fc), 'DAE_norm_noise_40%.pkl')"
   ]
  },
  {
   "cell_type": "code",
   "execution_count": 61,
   "metadata": {},
   "outputs": [
    {
     "data": {
      "text/plain": [
       "RandomForestClassifier()"
      ]
     },
     "execution_count": 61,
     "metadata": {},
     "output_type": "execute_result"
    }
   ],
   "source": [
    "classifier_group = RandomForestClassifier()\n",
    "classifier_ID = RandomForestClassifier()\n",
    "classifier_group.fit(embaddings[:]['profile'], embaddings[:]['group'])\n",
    "classifier_ID.fit(embaddings[:]['profile'], embaddings[:]['ID'])"
   ]
  },
  {
   "cell_type": "markdown",
   "metadata": {},
   "source": [
    "## сохраним лес"
   ]
  },
  {
   "cell_type": "code",
   "execution_count": 62,
   "metadata": {},
   "outputs": [],
   "source": [
    "with open('forest_norm_noise_40%_group', 'wb') as f:\n",
    "    pickle.dump(classifier_group, f)"
   ]
  },
  {
   "cell_type": "code",
   "execution_count": 63,
   "metadata": {},
   "outputs": [],
   "source": [
    "with open('forest_norm_noise_40%_ID', 'wb') as f:\n",
    "    pickle.dump(classifier_ID, f)"
   ]
  },
  {
   "cell_type": "markdown",
   "metadata": {},
   "source": [
    "*прочитаем его*"
   ]
  },
  {
   "cell_type": "code",
   "execution_count": 85,
   "metadata": {},
   "outputs": [],
   "source": [
    "\n",
    "with open('forest_norm_noise_100%_group', 'rb') as f:\n",
    "    classifier = pickle.load(f)"
   ]
  },
  {
   "cell_type": "code",
   "execution_count": 90,
   "metadata": {},
   "outputs": [
    {
     "name": "stdout",
     "output_type": "stream",
     "text": [
      "[[ 42   0   0   0   0   0   0   0   0   0   0   0   0   0   0   0   0   0\n",
      "    0   0]\n",
      " [  0 386   0   0   0   0   0   0   0   0  12   0   0   1   0   0   0   0\n",
      "    0   0]\n",
      " [  0   0  42   0   0   0   0   0   0   0   0   0   0   0   0   0   0   0\n",
      "    0   0]\n",
      " [  0   0   0  84   0   0   0   0   0   0   0   0   0   0   0   0   0   0\n",
      "    0   0]\n",
      " [  0   0   0   0  42   0   0   0   0   0   0   0   0   0   0   0   0   0\n",
      "    0   0]\n",
      " [  0   0   0   0   0 336   0   0   0   0   0   0   0   0   0   0   0   0\n",
      "    0   0]\n",
      " [  0   0   0   0   0   0  42   0   0   0   0   0   0   0   0   0   0   0\n",
      "    0   0]\n",
      " [  0   0   0   0   0   0   0  42   0   0   0   0   0   0   0   0   0   0\n",
      "    0   0]\n",
      " [  0   0   0   0   0   0   0   0  42   0   0   0   0   0   0   0   0   0\n",
      "    0   0]\n",
      " [  0   0   0   0   0   0   0   0   0  84   0   0   0   0   0   0   0   0\n",
      "    0   0]\n",
      " [  0   0   0   0   0   0   0   0   0   0 441   0   0   0   0   0   0   0\n",
      "    0   0]\n",
      " [  0   0   0   0   0   0   0   0   0   0   0 252   0   0   0   0   0   0\n",
      "    0   0]\n",
      " [  0   0   0   0   0   0   0   0   0   0   0   0  42   0   0   0   0   0\n",
      "    0   0]\n",
      " [  0   9   0   0   0   0   0   0   0   0   0   0   0 726   0   0   0   0\n",
      "    0   0]\n",
      " [  0   0   0   0   0   0   0   0   0   0   0   0   0   0 252   0   0   0\n",
      "    0   0]\n",
      " [  0   0   0   0   0   0   0   0   0   0   0   0   0   0   0  42   0   0\n",
      "    0   0]\n",
      " [  0   0   0   0   0   0   0   0   0   0   0   0   0   0   0   0  42   0\n",
      "    0   0]\n",
      " [  0   0   0   0   0   0   0   0   0   0   0   0   0   0   0   0   0  42\n",
      "    0   0]\n",
      " [  0   0   0   0   0   0   0   0   0   0   0   0   0   0   0   0   0   0\n",
      "   42   0]\n",
      " [  0   0   0   0   0   0   0   0   0   0   0   0   0   0   0   0   0   0\n",
      "    0  84]]\n",
      "                             precision    recall  f1-score   support\n",
      "\n",
      " Anoxybacillus_flavithermus       1.00      1.00      1.00        42\n",
      "       Bacillus_altitudinis       0.98      0.97      0.97       399\n",
      "       Bacillus_aryabhattai       1.00      1.00      1.00        42\n",
      "        Bacillus_atrophaeus       1.00      1.00      1.00        84\n",
      "         Bacillus_berkeleyi       1.00      1.00      1.00        42\n",
      "            Bacillus_cereus       1.00      1.00      1.00       336\n",
      "      Bacillus_chungangenis       1.00      1.00      1.00        42\n",
      "           Bacillus_clausii       1.00      1.00      1.00        42\n",
      "         Bacillus_coagulans       1.00      1.00      1.00        42\n",
      "            Bacillus_flexus       1.00      1.00      1.00        84\n",
      "     Bacillus_licheniformis       0.97      1.00      0.99       441\n",
      "        Bacillus_megaterium       1.00      1.00      1.00       252\n",
      "          Bacillus_mycoides       1.00      1.00      1.00        42\n",
      "           Bacillus_pumilus       1.00      0.99      0.99       735\n",
      "           Bacillus_simplex       1.00      1.00      1.00       252\n",
      "          Bacillus_subtilis       1.00      1.00      1.00        42\n",
      "     Bacillus_thuringiensis       1.00      1.00      1.00        42\n",
      "Bacillus_weihenstephanensis       1.00      1.00      1.00        42\n",
      "                     E-Coli       1.00      1.00      1.00        42\n",
      "   Geobacillus_subterraneus       1.00      1.00      1.00        84\n",
      "\n",
      "                   accuracy                           0.99      3129\n",
      "                  macro avg       1.00      1.00      1.00      3129\n",
      "               weighted avg       0.99      0.99      0.99      3129\n",
      "\n"
     ]
    }
   ],
   "source": [
    "pred = classifier.predict(embaddings[:]['profile']) \n",
    "print(confusion_matrix(embaddings[:]['group'], pred))\n",
    "print(classification_report(embaddings[:]['group'], pred))"
   ]
  },
  {
   "cell_type": "markdown",
   "metadata": {},
   "source": [
    "## Инференс"
   ]
  },
  {
   "cell_type": "code",
   "execution_count": 32,
   "metadata": {},
   "outputs": [
    {
     "data": {
      "text/html": [
       "<div>\n",
       "<style scoped>\n",
       "    .dataframe tbody tr th:only-of-type {\n",
       "        vertical-align: middle;\n",
       "    }\n",
       "\n",
       "    .dataframe tbody tr th {\n",
       "        vertical-align: top;\n",
       "    }\n",
       "\n",
       "    .dataframe thead th {\n",
       "        text-align: right;\n",
       "    }\n",
       "</style>\n",
       "<table border=\"1\" class=\"dataframe\">\n",
       "  <thead>\n",
       "    <tr style=\"text-align: right;\">\n",
       "      <th></th>\n",
       "      <th>input_noise_0%</th>\n",
       "      <th>input_noise_10%</th>\n",
       "      <th>input_noise_15%</th>\n",
       "      <th>input_noise_20%</th>\n",
       "      <th>input_noise_25%</th>\n",
       "      <th>input_noise_30%</th>\n",
       "      <th>input_noise_40%</th>\n",
       "      <th>input_noise_60%</th>\n",
       "      <th>input_noise_80%</th>\n",
       "      <th>input_noise_100%</th>\n",
       "      <th>input_noise_150%</th>\n",
       "      <th>input_noise_200%</th>\n",
       "      <th>input_noise_250%</th>\n",
       "      <th>input_noise_300%</th>\n",
       "    </tr>\n",
       "  </thead>\n",
       "  <tbody>\n",
       "    <tr>\n",
       "      <th>train_noise_10%</th>\n",
       "      <td>0.0</td>\n",
       "      <td>0.0</td>\n",
       "      <td>0.0</td>\n",
       "      <td>0.0</td>\n",
       "      <td>0.0</td>\n",
       "      <td>0.0</td>\n",
       "      <td>0.0</td>\n",
       "      <td>0.0</td>\n",
       "      <td>0.0</td>\n",
       "      <td>0.0</td>\n",
       "      <td>0.0</td>\n",
       "      <td>0.0</td>\n",
       "      <td>0.0</td>\n",
       "      <td>0.0</td>\n",
       "    </tr>\n",
       "    <tr>\n",
       "      <th>train_noise_15%</th>\n",
       "      <td>0.0</td>\n",
       "      <td>0.0</td>\n",
       "      <td>0.0</td>\n",
       "      <td>0.0</td>\n",
       "      <td>0.0</td>\n",
       "      <td>0.0</td>\n",
       "      <td>0.0</td>\n",
       "      <td>0.0</td>\n",
       "      <td>0.0</td>\n",
       "      <td>0.0</td>\n",
       "      <td>0.0</td>\n",
       "      <td>0.0</td>\n",
       "      <td>0.0</td>\n",
       "      <td>0.0</td>\n",
       "    </tr>\n",
       "    <tr>\n",
       "      <th>train_noise_20%</th>\n",
       "      <td>0.0</td>\n",
       "      <td>0.0</td>\n",
       "      <td>0.0</td>\n",
       "      <td>0.0</td>\n",
       "      <td>0.0</td>\n",
       "      <td>0.0</td>\n",
       "      <td>0.0</td>\n",
       "      <td>0.0</td>\n",
       "      <td>0.0</td>\n",
       "      <td>0.0</td>\n",
       "      <td>0.0</td>\n",
       "      <td>0.0</td>\n",
       "      <td>0.0</td>\n",
       "      <td>0.0</td>\n",
       "    </tr>\n",
       "    <tr>\n",
       "      <th>train_noise_25%</th>\n",
       "      <td>0.0</td>\n",
       "      <td>0.0</td>\n",
       "      <td>0.0</td>\n",
       "      <td>0.0</td>\n",
       "      <td>0.0</td>\n",
       "      <td>0.0</td>\n",
       "      <td>0.0</td>\n",
       "      <td>0.0</td>\n",
       "      <td>0.0</td>\n",
       "      <td>0.0</td>\n",
       "      <td>0.0</td>\n",
       "      <td>0.0</td>\n",
       "      <td>0.0</td>\n",
       "      <td>0.0</td>\n",
       "    </tr>\n",
       "    <tr>\n",
       "      <th>train_noise_30%</th>\n",
       "      <td>0.0</td>\n",
       "      <td>0.0</td>\n",
       "      <td>0.0</td>\n",
       "      <td>0.0</td>\n",
       "      <td>0.0</td>\n",
       "      <td>0.0</td>\n",
       "      <td>0.0</td>\n",
       "      <td>0.0</td>\n",
       "      <td>0.0</td>\n",
       "      <td>0.0</td>\n",
       "      <td>0.0</td>\n",
       "      <td>0.0</td>\n",
       "      <td>0.0</td>\n",
       "      <td>0.0</td>\n",
       "    </tr>\n",
       "    <tr>\n",
       "      <th>train_noise_40%</th>\n",
       "      <td>NaN</td>\n",
       "      <td>0.0</td>\n",
       "      <td>0.0</td>\n",
       "      <td>0.0</td>\n",
       "      <td>0.0</td>\n",
       "      <td>0.0</td>\n",
       "      <td>0.0</td>\n",
       "      <td>0.0</td>\n",
       "      <td>0.0</td>\n",
       "      <td>0.0</td>\n",
       "      <td>0.0</td>\n",
       "      <td>0.0</td>\n",
       "      <td>0.0</td>\n",
       "      <td>0.0</td>\n",
       "    </tr>\n",
       "    <tr>\n",
       "      <th>train_noise_60%</th>\n",
       "      <td>NaN</td>\n",
       "      <td>0.0</td>\n",
       "      <td>0.0</td>\n",
       "      <td>0.0</td>\n",
       "      <td>0.0</td>\n",
       "      <td>0.0</td>\n",
       "      <td>0.0</td>\n",
       "      <td>0.0</td>\n",
       "      <td>0.0</td>\n",
       "      <td>0.0</td>\n",
       "      <td>0.0</td>\n",
       "      <td>0.0</td>\n",
       "      <td>0.0</td>\n",
       "      <td>0.0</td>\n",
       "    </tr>\n",
       "    <tr>\n",
       "      <th>train_noise_80%</th>\n",
       "      <td>NaN</td>\n",
       "      <td>0.0</td>\n",
       "      <td>0.0</td>\n",
       "      <td>0.0</td>\n",
       "      <td>0.0</td>\n",
       "      <td>0.0</td>\n",
       "      <td>0.0</td>\n",
       "      <td>0.0</td>\n",
       "      <td>0.0</td>\n",
       "      <td>0.0</td>\n",
       "      <td>0.0</td>\n",
       "      <td>0.0</td>\n",
       "      <td>0.0</td>\n",
       "      <td>0.0</td>\n",
       "    </tr>\n",
       "    <tr>\n",
       "      <th>train_noise_100%</th>\n",
       "      <td>NaN</td>\n",
       "      <td>0.0</td>\n",
       "      <td>0.0</td>\n",
       "      <td>0.0</td>\n",
       "      <td>0.0</td>\n",
       "      <td>0.0</td>\n",
       "      <td>0.0</td>\n",
       "      <td>0.0</td>\n",
       "      <td>0.0</td>\n",
       "      <td>0.0</td>\n",
       "      <td>0.0</td>\n",
       "      <td>0.0</td>\n",
       "      <td>0.0</td>\n",
       "      <td>0.0</td>\n",
       "    </tr>\n",
       "  </tbody>\n",
       "</table>\n",
       "</div>"
      ],
      "text/plain": [
       "                  input_noise_0%  input_noise_10%  input_noise_15%  \\\n",
       "train_noise_10%              0.0              0.0              0.0   \n",
       "train_noise_15%              0.0              0.0              0.0   \n",
       "train_noise_20%              0.0              0.0              0.0   \n",
       "train_noise_25%              0.0              0.0              0.0   \n",
       "train_noise_30%              0.0              0.0              0.0   \n",
       "train_noise_40%              NaN              0.0              0.0   \n",
       "train_noise_60%              NaN              0.0              0.0   \n",
       "train_noise_80%              NaN              0.0              0.0   \n",
       "train_noise_100%             NaN              0.0              0.0   \n",
       "\n",
       "                  input_noise_20%  input_noise_25%  input_noise_30%  \\\n",
       "train_noise_10%               0.0              0.0              0.0   \n",
       "train_noise_15%               0.0              0.0              0.0   \n",
       "train_noise_20%               0.0              0.0              0.0   \n",
       "train_noise_25%               0.0              0.0              0.0   \n",
       "train_noise_30%               0.0              0.0              0.0   \n",
       "train_noise_40%               0.0              0.0              0.0   \n",
       "train_noise_60%               0.0              0.0              0.0   \n",
       "train_noise_80%               0.0              0.0              0.0   \n",
       "train_noise_100%              0.0              0.0              0.0   \n",
       "\n",
       "                  input_noise_40%  input_noise_60%  input_noise_80%  \\\n",
       "train_noise_10%               0.0              0.0              0.0   \n",
       "train_noise_15%               0.0              0.0              0.0   \n",
       "train_noise_20%               0.0              0.0              0.0   \n",
       "train_noise_25%               0.0              0.0              0.0   \n",
       "train_noise_30%               0.0              0.0              0.0   \n",
       "train_noise_40%               0.0              0.0              0.0   \n",
       "train_noise_60%               0.0              0.0              0.0   \n",
       "train_noise_80%               0.0              0.0              0.0   \n",
       "train_noise_100%              0.0              0.0              0.0   \n",
       "\n",
       "                  input_noise_100%  input_noise_150%  input_noise_200%  \\\n",
       "train_noise_10%                0.0               0.0               0.0   \n",
       "train_noise_15%                0.0               0.0               0.0   \n",
       "train_noise_20%                0.0               0.0               0.0   \n",
       "train_noise_25%                0.0               0.0               0.0   \n",
       "train_noise_30%                0.0               0.0               0.0   \n",
       "train_noise_40%                0.0               0.0               0.0   \n",
       "train_noise_60%                0.0               0.0               0.0   \n",
       "train_noise_80%                0.0               0.0               0.0   \n",
       "train_noise_100%               0.0               0.0               0.0   \n",
       "\n",
       "                  input_noise_250%  input_noise_300%  \n",
       "train_noise_10%                0.0               0.0  \n",
       "train_noise_15%                0.0               0.0  \n",
       "train_noise_20%                0.0               0.0  \n",
       "train_noise_25%                0.0               0.0  \n",
       "train_noise_30%                0.0               0.0  \n",
       "train_noise_40%                0.0               0.0  \n",
       "train_noise_60%                0.0               0.0  \n",
       "train_noise_80%                0.0               0.0  \n",
       "train_noise_100%               0.0               0.0  "
      ]
     },
     "execution_count": 32,
     "metadata": {},
     "output_type": "execute_result"
    }
   ],
   "source": [
    "confusion_noise_group = pd.DataFrame(np.zeros((5, 6)), columns = np.hstack((np.array(['input_noise_0%']),\\\n",
    "                                                np.array(['input_noise_'+str(j)+'%'\\\n",
    "    for j in range(10, 35, 5)]))), index = ['train_noise_'+str(j)+'%' for j in range(10, 35, 5)])\n",
    "confusion_noise_ID = pd.DataFrame(np.zeros((5, 6)), columns = np.hstack((np.array(['input_noise_0%']),\\\n",
    "                                                        np.array(['input_noise_'+str(j)+'%'\\\n",
    "    for j in range(10, 35, 5)]))), index = ['train_noise_'+str(j)+'%' for j in range(10, 35, 5)])\n",
    "s_group = pd.DataFrame(np.zeros((4, 5)), columns = ['input_noise_'+str(j)+'%'\\\n",
    "    for j in range(10, 35, 5)], index = ['train_noise_'+str(j)+'%' for j in range(40, 120, 20)])\n",
    "s_ID = pd.DataFrame(np.zeros((4, 5)), columns = ['input_noise_'+str(j)+'%'\\\n",
    "    for j in range(10, 35, 5)], index = ['train_noise_'+str(j)+'%' for j in range(40, 120, 20)])\n",
    "confusion_noise_group = confusion_noise_group.append(s_group)\n",
    "confusion_noise_ID = confusion_noise_ID.append(s_ID)\n",
    "for j in range (40, 120, 20):\n",
    "    confusion_noise_ID['input_noise_'+str(j)+'%']  = np.zeros((9))\n",
    "    confusion_noise_group['input_noise_'+str(j)+'%']  = np.zeros((9))\n",
    "for j in range (100, 350, 50):\n",
    "    confusion_noise_ID['input_noise_'+str(j)+'%']  = np.zeros((9))\n",
    "    confusion_noise_group['input_noise_'+str(j)+'%']  = np.zeros((9))\n",
    "confusion_noise_ID                                \n"
   ]
  },
  {
   "cell_type": "code",
   "execution_count": 64,
   "metadata": {},
   "outputs": [
    {
     "data": {
      "text/html": [
       "<div>\n",
       "<style scoped>\n",
       "    .dataframe tbody tr th:only-of-type {\n",
       "        vertical-align: middle;\n",
       "    }\n",
       "\n",
       "    .dataframe tbody tr th {\n",
       "        vertical-align: top;\n",
       "    }\n",
       "\n",
       "    .dataframe thead th {\n",
       "        text-align: right;\n",
       "    }\n",
       "</style>\n",
       "<table border=\"1\" class=\"dataframe\">\n",
       "  <thead>\n",
       "    <tr style=\"text-align: right;\">\n",
       "      <th></th>\n",
       "      <th>input_noise_0%</th>\n",
       "      <th>input_noise_10%</th>\n",
       "      <th>input_noise_15%</th>\n",
       "      <th>input_noise_20%</th>\n",
       "      <th>input_noise_25%</th>\n",
       "      <th>input_noise_30%</th>\n",
       "      <th>input_noise_40%</th>\n",
       "      <th>input_noise_60%</th>\n",
       "      <th>input_noise_80%</th>\n",
       "      <th>input_noise_100%</th>\n",
       "      <th>input_noise_150%</th>\n",
       "      <th>input_noise_200%</th>\n",
       "      <th>input_noise_250%</th>\n",
       "      <th>input_noise_300%</th>\n",
       "    </tr>\n",
       "  </thead>\n",
       "  <tbody>\n",
       "    <tr>\n",
       "      <th>train_noise_10%</th>\n",
       "      <td>0.0</td>\n",
       "      <td>0.0</td>\n",
       "      <td>0.0</td>\n",
       "      <td>0.0</td>\n",
       "      <td>0.0</td>\n",
       "      <td>0.0</td>\n",
       "      <td>0.0</td>\n",
       "      <td>0.0</td>\n",
       "      <td>0.0</td>\n",
       "      <td>0.0</td>\n",
       "      <td>0.0</td>\n",
       "      <td>0.0</td>\n",
       "      <td>0.0</td>\n",
       "      <td>0.0</td>\n",
       "    </tr>\n",
       "    <tr>\n",
       "      <th>train_noise_15%</th>\n",
       "      <td>0.0</td>\n",
       "      <td>0.0</td>\n",
       "      <td>0.0</td>\n",
       "      <td>0.0</td>\n",
       "      <td>0.0</td>\n",
       "      <td>0.0</td>\n",
       "      <td>0.0</td>\n",
       "      <td>0.0</td>\n",
       "      <td>0.0</td>\n",
       "      <td>0.0</td>\n",
       "      <td>0.0</td>\n",
       "      <td>0.0</td>\n",
       "      <td>0.0</td>\n",
       "      <td>0.0</td>\n",
       "    </tr>\n",
       "    <tr>\n",
       "      <th>train_noise_20%</th>\n",
       "      <td>0.0</td>\n",
       "      <td>0.0</td>\n",
       "      <td>0.0</td>\n",
       "      <td>0.0</td>\n",
       "      <td>0.0</td>\n",
       "      <td>0.0</td>\n",
       "      <td>0.0</td>\n",
       "      <td>0.0</td>\n",
       "      <td>0.0</td>\n",
       "      <td>0.0</td>\n",
       "      <td>0.0</td>\n",
       "      <td>0.0</td>\n",
       "      <td>0.0</td>\n",
       "      <td>0.0</td>\n",
       "    </tr>\n",
       "    <tr>\n",
       "      <th>train_noise_25%</th>\n",
       "      <td>0.0</td>\n",
       "      <td>0.0</td>\n",
       "      <td>0.0</td>\n",
       "      <td>0.0</td>\n",
       "      <td>0.0</td>\n",
       "      <td>0.0</td>\n",
       "      <td>0.0</td>\n",
       "      <td>0.0</td>\n",
       "      <td>0.0</td>\n",
       "      <td>0.0</td>\n",
       "      <td>0.0</td>\n",
       "      <td>0.0</td>\n",
       "      <td>0.0</td>\n",
       "      <td>0.0</td>\n",
       "    </tr>\n",
       "    <tr>\n",
       "      <th>train_noise_30%</th>\n",
       "      <td>0.0</td>\n",
       "      <td>0.0</td>\n",
       "      <td>0.0</td>\n",
       "      <td>0.0</td>\n",
       "      <td>0.0</td>\n",
       "      <td>0.0</td>\n",
       "      <td>0.0</td>\n",
       "      <td>0.0</td>\n",
       "      <td>0.0</td>\n",
       "      <td>0.0</td>\n",
       "      <td>0.0</td>\n",
       "      <td>0.0</td>\n",
       "      <td>0.0</td>\n",
       "      <td>0.0</td>\n",
       "    </tr>\n",
       "    <tr>\n",
       "      <th>train_noise_40%</th>\n",
       "      <td>NaN</td>\n",
       "      <td>0.0</td>\n",
       "      <td>0.0</td>\n",
       "      <td>0.0</td>\n",
       "      <td>0.0</td>\n",
       "      <td>0.0</td>\n",
       "      <td>0.0</td>\n",
       "      <td>0.0</td>\n",
       "      <td>0.0</td>\n",
       "      <td>0.0</td>\n",
       "      <td>0.0</td>\n",
       "      <td>0.0</td>\n",
       "      <td>0.0</td>\n",
       "      <td>0.0</td>\n",
       "    </tr>\n",
       "  </tbody>\n",
       "</table>\n",
       "</div>"
      ],
      "text/plain": [
       "                 input_noise_0%  input_noise_10%  input_noise_15%  \\\n",
       "train_noise_10%             0.0              0.0              0.0   \n",
       "train_noise_15%             0.0              0.0              0.0   \n",
       "train_noise_20%             0.0              0.0              0.0   \n",
       "train_noise_25%             0.0              0.0              0.0   \n",
       "train_noise_30%             0.0              0.0              0.0   \n",
       "train_noise_40%             NaN              0.0              0.0   \n",
       "\n",
       "                 input_noise_20%  input_noise_25%  input_noise_30%  \\\n",
       "train_noise_10%              0.0              0.0              0.0   \n",
       "train_noise_15%              0.0              0.0              0.0   \n",
       "train_noise_20%              0.0              0.0              0.0   \n",
       "train_noise_25%              0.0              0.0              0.0   \n",
       "train_noise_30%              0.0              0.0              0.0   \n",
       "train_noise_40%              0.0              0.0              0.0   \n",
       "\n",
       "                 input_noise_40%  input_noise_60%  input_noise_80%  \\\n",
       "train_noise_10%              0.0              0.0              0.0   \n",
       "train_noise_15%              0.0              0.0              0.0   \n",
       "train_noise_20%              0.0              0.0              0.0   \n",
       "train_noise_25%              0.0              0.0              0.0   \n",
       "train_noise_30%              0.0              0.0              0.0   \n",
       "train_noise_40%              0.0              0.0              0.0   \n",
       "\n",
       "                 input_noise_100%  input_noise_150%  input_noise_200%  \\\n",
       "train_noise_10%               0.0               0.0               0.0   \n",
       "train_noise_15%               0.0               0.0               0.0   \n",
       "train_noise_20%               0.0               0.0               0.0   \n",
       "train_noise_25%               0.0               0.0               0.0   \n",
       "train_noise_30%               0.0               0.0               0.0   \n",
       "train_noise_40%               0.0               0.0               0.0   \n",
       "\n",
       "                 input_noise_250%  input_noise_300%  \n",
       "train_noise_10%               0.0               0.0  \n",
       "train_noise_15%               0.0               0.0  \n",
       "train_noise_20%               0.0               0.0  \n",
       "train_noise_25%               0.0               0.0  \n",
       "train_noise_30%               0.0               0.0  \n",
       "train_noise_40%               0.0               0.0  "
      ]
     },
     "execution_count": 64,
     "metadata": {},
     "output_type": "execute_result"
    }
   ],
   "source": [
    "confusion_noise_group = pd.DataFrame(np.zeros((5, 6)), columns = np.hstack((np.array(['input_noise_0%']),\\\n",
    "                                                np.array(['input_noise_'+str(j)+'%'\\\n",
    "    for j in range(10, 35, 5)]))), index = ['train_noise_'+str(j)+'%' for j in range(10, 35, 5)])\n",
    "confusion_noise_ID = pd.DataFrame(np.zeros((5, 6)), columns = np.hstack((np.array(['input_noise_0%']),\\\n",
    "                                                        np.array(['input_noise_'+str(j)+'%'\\\n",
    "    for j in range(10, 35, 5)]))), index = ['train_noise_'+str(j)+'%' for j in range(10, 35, 5)])\n",
    "s_group = pd.DataFrame(np.zeros((1, 5)), columns = ['input_noise_'+str(j)+'%'\\\n",
    "    for j in range(10, 35, 5)], index = ['train_noise_40%'])\n",
    "s_ID = pd.DataFrame(np.zeros((1, 5)), columns = ['input_noise_'+str(j)+'%'\\\n",
    "    for j in range(10, 35, 5)], index = ['train_noise_40%'])\n",
    "confusion_noise_group = confusion_noise_group.append(s_group)\n",
    "confusion_noise_ID = confusion_noise_ID.append(s_ID)\n",
    "for i in range(40, 120, 20):\n",
    "    confusion_noise_group['input_noise_'+str(i)+'%'] = np.zeros((6))\n",
    "    confusion_noise_ID['input_noise_'+str(i)+'%'] = np.zeros((6))\n",
    "for i in range(150, 350, 50):    \n",
    "    confusion_noise_group['input_noise_'+str(i)+'%'] = np.zeros((6))\n",
    "    confusion_noise_ID['input_noise_'+str(i)+'%'] = np.zeros((6))\n",
    "confusion_noise_group_acc = confusion_noise_group.copy()\n",
    "confusion_noise_ID_acc = confusion_noise_ID.copy()\n",
    "confusion_noise_group"
   ]
  },
  {
   "cell_type": "code",
   "execution_count": 65,
   "metadata": {},
   "outputs": [
    {
     "data": {
      "application/vnd.jupyter.widget-view+json": {
       "model_id": "4d18ad0878654906aa648bc3c536fe8e",
       "version_major": 2,
       "version_minor": 0
      },
      "text/plain": [
       "  0%|          | 0/1 [00:00<?, ?it/s]"
      ]
     },
     "metadata": {},
     "output_type": "display_data"
    },
    {
     "data": {
      "application/vnd.jupyter.widget-view+json": {
       "model_id": "1f0947faa7114df2949f734c4e97c4cb",
       "version_major": 2,
       "version_minor": 0
      },
      "text/plain": [
       "  0%|          | 0/14 [00:00<?, ?it/s]"
      ]
     },
     "metadata": {},
     "output_type": "display_data"
    }
   ],
   "source": [
    "#index_i = np.array(['10%', '15%', '20%', '25%', '30%', '40%'])\n",
    "index_i = np.array(['40%'])\n",
    "index_j = np.hstack((np.array(['0%', '10%', '15%', '20%', '25%', '30%']),\\\n",
    "                    np.array([str(i)+'%' for i in range(40, 120, 20)])))\n",
    "index_j = np.hstack((index_j, np.array([str(i)+'%' for i in range(150, 350, 50)])))\n",
    "for i in tqdm(index_i):\n",
    "    autoencoder_inference = torch.load('DAE_norm_noise_'+str(i)+'.pkl')\n",
    "    with open('forest_norm_noise_'+str(i)+'_group', 'rb') as f:\n",
    "        classifier_group = pickle.load(f)\n",
    "    with open('forest_norm_noise_'+str(i)+'_ID', 'rb') as f:\n",
    "        classifier_ID = pickle.load(f)        \n",
    "#     for j in np.hstack((index, np.array(['0%']))):\n",
    "    for j in tqdm(index_j):             \n",
    "        #энкодер\n",
    "        MS_profiles_inference=pd.read_csv(\"MS_profiles\\sets\\MS_profiles_sintes_norm_noise_\"\\\n",
    "                            +str(j)+\"_inference_2\",sep=';', index_col=0, header=0)\n",
    "        MS_profiles_inference = MS_profiles_inference.astype({'15002.0': 'str'})\n",
    "        MS_profiles_inference_set = customdataset (MS_profiles_inference.iloc[:, :12001].to_numpy(),\n",
    "                                         MS_profiles_inference.iloc[:, 12001].to_numpy(),\n",
    "                                         MS_profiles_inference.iloc[:, 12002].to_numpy())\n",
    "        with torch.no_grad():\n",
    "            autoencoder_inference = autoencoder_inference.to('cpu')\n",
    "#             value_loader = DataLoader(MS_profiles_inference_set, batch_size = \\\n",
    "#                                       len(MS_profiles_inference_set), shuffle = True)\n",
    "#             print(type(value_loader))\n",
    "#             for q in value_loader: \n",
    "#                 print(q['profile'])\n",
    "            embaddings_inference = autoencoder_inference( MS_profiles_inference_set[:]['profile'] )\n",
    "            embaddings_inference = customdataset(embaddings_inference, \\\n",
    "                MS_profiles_inference_set[:]['group'].copy(), MS_profiles_inference_set[:]['ID'].copy())   \n",
    "        #дерево для групп\n",
    "        pred_group = classifier_group.predict(embaddings_inference[:]['profile'])\n",
    "        report_group = classification_report(embaddings_inference[:]['group'],\\\n",
    "                                             pred_group, output_dict=True)\n",
    "        confusion_noise_group_acc.at ['train_noise_'+str(i), 'input_noise_'+str(j)] = \\\n",
    "                                                               report_group['accuracy']\n",
    "        report_group = pd.DataFrame(report_group).transpose() \n",
    "        if i == j:\n",
    "            report_group.to_csv(r\"classification_result_norm_noise_\"+str(i)+\"_group_2.csv\", sep=';',\\\n",
    "                                                                               header=True, index=True,) \n",
    "        report_group = report_group.drop(index = ['accuracy', 'macro avg', 'weighted avg'], axis = 0)\n",
    "        confusion_noise_group.at ['train_noise_'+str(i), 'input_noise_'+str(j)] = \\\n",
    "                                                               report_group.mean()['f1-score']\n",
    "        #дерево для штаммов\n",
    "        embaddings_inference[:]['ID'][embaddings_inference[:]['ID'].dtype == 'int'] = \\\n",
    "                        str(embaddings_inference[:]['ID'][embaddings_inference[:]['ID'].dtype == 'int'])\n",
    "        pred_ID = classifier_ID.predict(embaddings_inference[:]['profile'])\n",
    "        pred_ID[pred_ID.dtype == 'int'] =  str(pred_ID[pred_ID.dtype == 'int'])\n",
    "        report_ID = classification_report(embaddings_inference[:]['ID'], pred_ID, output_dict=True)\n",
    "        confusion_noise_ID_acc.at ['train_noise_'+str(i), 'input_noise_'+str(j)] = \\\n",
    "                                                               report_ID['accuracy']\n",
    "        report_ID = pd.DataFrame(report_ID).transpose()\n",
    "        if i == j:\n",
    "            report_ID.to_csv(r\"classification_result_norm_noise_\"+str(i)+\"_ID.csv\", sep=';',\\\n",
    "                                                                         header=True, index=True,)\n",
    "        report_ID = report_ID.drop(index = ['accuracy', 'macro avg', 'weighted avg'], axis = 0)\n",
    "        confusion_noise_ID.at ['train_noise_'+str(i), 'input_noise_'+str(j)] = report_ID.mean()['f1-score']"
   ]
  },
  {
   "cell_type": "code",
   "execution_count": 13,
   "metadata": {},
   "outputs": [],
   "source": [
    "autoencoder_inference = torch.load('DAE_norm_noise_40%.pkl')\n",
    "MS_profiles_inference=pd.read_csv(\"MS_profiles\\sets\\MS_profiles_sintes_norm_noise_40%_inference_2\",sep=';', index_col=0, header=0)\n",
    "MS_profiles_inference = MS_profiles_inference.astype({'15002.0': 'str'})\n",
    "MS_profiles_inference_set = customdataset (MS_profiles_inference.iloc[:, :12001].to_numpy(),\n",
    "                                 MS_profiles_inference.iloc[:, 12001].to_numpy(),\n",
    "                                 MS_profiles_inference.iloc[:, 12002].to_numpy())\n",
    "with torch.no_grad():\n",
    "    autoencoder_inference = autoencoder_inference.to('cpu')\n",
    "    embaddings = autoencoder_inference( MS_profiles_inference_set[:]['profile'] )\n",
    "#     embaddings = np.concatenate((embaddings.numpy(),\\\n",
    "#                 np.transpose(np.array([MS_profiles_inference_set[:]['group'].copy()]))), axis = 1)\n",
    "#     embaddings = np.concatenate((embaddings,\\\n",
    "#                 np.transpose(np.array([MS_profiles_inference_set[:]['ID'].copy()]))), axis = 1)\n",
    "embaddings = customdataset(embaddings, \\\n",
    "                MS_profiles_inference_set[:]['group'].copy(), MS_profiles_inference_set[:]['ID'].copy())  "
   ]
  },
  {
   "cell_type": "code",
   "execution_count": 66,
   "metadata": {},
   "outputs": [
    {
     "data": {
      "text/html": [
       "<div>\n",
       "<style scoped>\n",
       "    .dataframe tbody tr th:only-of-type {\n",
       "        vertical-align: middle;\n",
       "    }\n",
       "\n",
       "    .dataframe tbody tr th {\n",
       "        vertical-align: top;\n",
       "    }\n",
       "\n",
       "    .dataframe thead th {\n",
       "        text-align: right;\n",
       "    }\n",
       "</style>\n",
       "<table border=\"1\" class=\"dataframe\">\n",
       "  <thead>\n",
       "    <tr style=\"text-align: right;\">\n",
       "      <th></th>\n",
       "      <th>input_noise_0%</th>\n",
       "      <th>input_noise_10%</th>\n",
       "      <th>input_noise_15%</th>\n",
       "      <th>input_noise_20%</th>\n",
       "      <th>input_noise_25%</th>\n",
       "      <th>input_noise_30%</th>\n",
       "      <th>input_noise_40%</th>\n",
       "      <th>input_noise_60%</th>\n",
       "      <th>input_noise_80%</th>\n",
       "      <th>input_noise_100%</th>\n",
       "      <th>input_noise_150%</th>\n",
       "      <th>input_noise_200%</th>\n",
       "      <th>input_noise_250%</th>\n",
       "      <th>input_noise_300%</th>\n",
       "    </tr>\n",
       "  </thead>\n",
       "  <tbody>\n",
       "    <tr>\n",
       "      <th>train_noise_10%</th>\n",
       "      <td>0.0</td>\n",
       "      <td>0.000000</td>\n",
       "      <td>0.000</td>\n",
       "      <td>0.000000</td>\n",
       "      <td>0.000000</td>\n",
       "      <td>0.00000</td>\n",
       "      <td>0.000000</td>\n",
       "      <td>0.000000</td>\n",
       "      <td>0.0000</td>\n",
       "      <td>0.000000</td>\n",
       "      <td>0.000000</td>\n",
       "      <td>0.000000</td>\n",
       "      <td>0.000000</td>\n",
       "      <td>0.000000</td>\n",
       "    </tr>\n",
       "    <tr>\n",
       "      <th>train_noise_15%</th>\n",
       "      <td>0.0</td>\n",
       "      <td>0.000000</td>\n",
       "      <td>0.000</td>\n",
       "      <td>0.000000</td>\n",
       "      <td>0.000000</td>\n",
       "      <td>0.00000</td>\n",
       "      <td>0.000000</td>\n",
       "      <td>0.000000</td>\n",
       "      <td>0.0000</td>\n",
       "      <td>0.000000</td>\n",
       "      <td>0.000000</td>\n",
       "      <td>0.000000</td>\n",
       "      <td>0.000000</td>\n",
       "      <td>0.000000</td>\n",
       "    </tr>\n",
       "    <tr>\n",
       "      <th>train_noise_20%</th>\n",
       "      <td>0.0</td>\n",
       "      <td>0.000000</td>\n",
       "      <td>0.000</td>\n",
       "      <td>0.000000</td>\n",
       "      <td>0.000000</td>\n",
       "      <td>0.00000</td>\n",
       "      <td>0.000000</td>\n",
       "      <td>0.000000</td>\n",
       "      <td>0.0000</td>\n",
       "      <td>0.000000</td>\n",
       "      <td>0.000000</td>\n",
       "      <td>0.000000</td>\n",
       "      <td>0.000000</td>\n",
       "      <td>0.000000</td>\n",
       "    </tr>\n",
       "    <tr>\n",
       "      <th>train_noise_25%</th>\n",
       "      <td>0.0</td>\n",
       "      <td>0.000000</td>\n",
       "      <td>0.000</td>\n",
       "      <td>0.000000</td>\n",
       "      <td>0.000000</td>\n",
       "      <td>0.00000</td>\n",
       "      <td>0.000000</td>\n",
       "      <td>0.000000</td>\n",
       "      <td>0.0000</td>\n",
       "      <td>0.000000</td>\n",
       "      <td>0.000000</td>\n",
       "      <td>0.000000</td>\n",
       "      <td>0.000000</td>\n",
       "      <td>0.000000</td>\n",
       "    </tr>\n",
       "    <tr>\n",
       "      <th>train_noise_30%</th>\n",
       "      <td>0.0</td>\n",
       "      <td>0.000000</td>\n",
       "      <td>0.000</td>\n",
       "      <td>0.000000</td>\n",
       "      <td>0.000000</td>\n",
       "      <td>0.00000</td>\n",
       "      <td>0.000000</td>\n",
       "      <td>0.000000</td>\n",
       "      <td>0.0000</td>\n",
       "      <td>0.000000</td>\n",
       "      <td>0.000000</td>\n",
       "      <td>0.000000</td>\n",
       "      <td>0.000000</td>\n",
       "      <td>0.000000</td>\n",
       "    </tr>\n",
       "    <tr>\n",
       "      <th>train_noise_40%</th>\n",
       "      <td>1.0</td>\n",
       "      <td>0.999378</td>\n",
       "      <td>0.999</td>\n",
       "      <td>0.930299</td>\n",
       "      <td>0.934245</td>\n",
       "      <td>0.86199</td>\n",
       "      <td>0.840844</td>\n",
       "      <td>0.806712</td>\n",
       "      <td>0.8017</td>\n",
       "      <td>0.734973</td>\n",
       "      <td>0.595038</td>\n",
       "      <td>0.556913</td>\n",
       "      <td>0.413108</td>\n",
       "      <td>0.354568</td>\n",
       "    </tr>\n",
       "  </tbody>\n",
       "</table>\n",
       "</div>"
      ],
      "text/plain": [
       "                 input_noise_0%  input_noise_10%  input_noise_15%  \\\n",
       "train_noise_10%             0.0         0.000000            0.000   \n",
       "train_noise_15%             0.0         0.000000            0.000   \n",
       "train_noise_20%             0.0         0.000000            0.000   \n",
       "train_noise_25%             0.0         0.000000            0.000   \n",
       "train_noise_30%             0.0         0.000000            0.000   \n",
       "train_noise_40%             1.0         0.999378            0.999   \n",
       "\n",
       "                 input_noise_20%  input_noise_25%  input_noise_30%  \\\n",
       "train_noise_10%         0.000000         0.000000          0.00000   \n",
       "train_noise_15%         0.000000         0.000000          0.00000   \n",
       "train_noise_20%         0.000000         0.000000          0.00000   \n",
       "train_noise_25%         0.000000         0.000000          0.00000   \n",
       "train_noise_30%         0.000000         0.000000          0.00000   \n",
       "train_noise_40%         0.930299         0.934245          0.86199   \n",
       "\n",
       "                 input_noise_40%  input_noise_60%  input_noise_80%  \\\n",
       "train_noise_10%         0.000000         0.000000           0.0000   \n",
       "train_noise_15%         0.000000         0.000000           0.0000   \n",
       "train_noise_20%         0.000000         0.000000           0.0000   \n",
       "train_noise_25%         0.000000         0.000000           0.0000   \n",
       "train_noise_30%         0.000000         0.000000           0.0000   \n",
       "train_noise_40%         0.840844         0.806712           0.8017   \n",
       "\n",
       "                 input_noise_100%  input_noise_150%  input_noise_200%  \\\n",
       "train_noise_10%          0.000000          0.000000          0.000000   \n",
       "train_noise_15%          0.000000          0.000000          0.000000   \n",
       "train_noise_20%          0.000000          0.000000          0.000000   \n",
       "train_noise_25%          0.000000          0.000000          0.000000   \n",
       "train_noise_30%          0.000000          0.000000          0.000000   \n",
       "train_noise_40%          0.734973          0.595038          0.556913   \n",
       "\n",
       "                 input_noise_250%  input_noise_300%  \n",
       "train_noise_10%          0.000000          0.000000  \n",
       "train_noise_15%          0.000000          0.000000  \n",
       "train_noise_20%          0.000000          0.000000  \n",
       "train_noise_25%          0.000000          0.000000  \n",
       "train_noise_30%          0.000000          0.000000  \n",
       "train_noise_40%          0.413108          0.354568  "
      ]
     },
     "execution_count": 66,
     "metadata": {},
     "output_type": "execute_result"
    }
   ],
   "source": [
    "confusion_noise_group"
   ]
  },
  {
   "cell_type": "code",
   "execution_count": 67,
   "metadata": {},
   "outputs": [],
   "source": [
    "#сохраним таблицы\n",
    "confusion_noise_group.to_csv(r\"confusion_noise_group_40%.csv\", sep=';', header=True, index=True,)\n",
    "confusion_noise_ID.to_csv(r\"confusion_noise_ID_40%.csv\", sep=';', header=True, index=True,)\n",
    "# confusion_noise_group_acc.to_csv(r\"confusion_noise_group_final_acc.csv\", sep=';', header=True, index=True,)\n",
    "# confusion_noise_ID_acc.to_csv(r\"confusion_noise_ID_final_acc.csv\", sep=';', header=True, index=True,)"
   ]
  },
  {
   "cell_type": "code",
   "execution_count": 47,
   "metadata": {},
   "outputs": [],
   "source": [
    "#транспонирование для душнилы\n",
    "indexes = np.hstack((np.array(0), np.array([i for i in range (10, 35, 5)])))\n",
    "indexes = np.hstack((indexes, np.array([i for i in range (40, 120, 20)])))\n",
    "indexes = np.hstack((indexes, np.array([i for i in range (150, 350, 50)])))\n",
    "for i in indexes:\n",
    "    transpose = pd.read_csv(\"MS_profiles\\sets\\MS_profiles_sintes_norm_noise_\"+str(i)+\"%_inference_2\",\\\n",
    "                               sep=';', index_col=0, header=0)\n",
    "    transpose = transpose.transpose()\n",
    "    copy = transpose.copy().to_numpy()\n",
    "    copy1 = copy[12001:, :]\n",
    "    copy = np.vstack((copy1, copy))\n",
    "    copy = pd.DataFrame(copy[:12003, :], index = np.hstack((np.array(['group', 'ID']),\\\n",
    "                      transpose.index.to_numpy()[:12001])),\\\n",
    "                        columns = transpose.columns)\n",
    "    copy.to_csv(r\"MS_profiles\\sets\\MS_profiles_sintes_norm_noise_\"+str(i)+\"%_inference_4.csv\", sep=';',\\\n",
    "                                                                               header=True, index=True,) \n",
    "    "
   ]
  },
  {
   "cell_type": "markdown",
   "metadata": {},
   "source": [
    "# анализ пиков"
   ]
  },
  {
   "cell_type": "code",
   "execution_count": 43,
   "metadata": {},
   "outputs": [
    {
     "data": {
      "image/png": "[encoded data removed]",
      "text/plain": [
       "<Figure size 720x720 with 1 Axes>"
      ]
     },
     "metadata": {
      "needs_background": "light"
     },
     "output_type": "display_data"
    }
   ],
   "source": [
    "with open('forest_norm_noise_40%_ID', 'rb') as f:\n",
    "        classifier_group = pickle.load(f)\n",
    "importances = classifier_group.feature_importances_\n",
    "forest_importances = pd.Series(importances, index={i for i in range (len(embaddings_inference[0]['profile']))})\n",
    "std = np.std([tree.feature_importances_ for tree in classifier_group.estimators_], axis=0) #deviation - мера распределения\n",
    "fig, ax = plt.subplots(figsize=(10,10))\n",
    "#fig = plt.figure(figsize=(20,20))\n",
    "forest_importances.plot.bar( ax=ax)\n",
    "ax.set_title(\"Feature importances using MDI\")\n",
    "ax.set_ylabel(\"Mean decrease in impurity\")\n",
    "plt.setp(ax.get_xticklabels(), rotation=90, rotation_mode=\"anchor\")\n",
    "fig.tight_layout()"
   ]
  },
  {
   "cell_type": "code",
   "execution_count": 44,
   "metadata": {},
   "outputs": [
    {
     "name": "stdout",
     "output_type": "stream",
     "text": [
      "[ 67. 466. 466. 126. 573. 190. 221. 573. 113.  85.]\n",
      "[3734. 5780. 5780. 4034. 4550.  321. 2017. 4550. 2894. 2177.]\n",
      "311\n",
      "[ 626  765  766  767  768  769 1379 1380 2201 2202 2203 2204 2205 2207\n",
      " 2208 2209 2210 2212 2213 2214 2215 2217 2231 2232 2313 2551 2552 2982\n",
      " 2983 2984 2985 2986 2987 2989 2990 2991 3110 3111 3112 3113 3114 3115\n",
      " 3118 3119 3120 3121 3122 3123 3124 3125 3155 3156 3158 3159 3160 3162\n",
      " 3886 3887 3888 3889 3890 3891 3892 4251 4252 3246 3254 3255 3256 3257\n",
      " 3258 3259 3260 3261 3263 3268 3443 3559 3563 3564 3566 3567 3568 3569\n",
      " 3570 3571 3572 3246 3254 3255 3256 3257 3258 3259 3260 3261 3263 3268\n",
      " 3443 3559 3563 3564 3566 3567 3568 3569 3570 3571 3572  713  429  557\n",
      " 1801 1960 1961 3261 3263 3267 3268 3270 4139 4141 4142 4143 4155 4156\n",
      " 4158 4159 4160 4162 4361 4363 4364 4365 4367 4368 4369 4370 4371 4372\n",
      " 4373 4392 4393 4394 4395 4396 4397 4398 4399 4822 6603 6604 6607  133\n",
      "  557  558  560  562 2211 2893 2894 2895 2987 2989 3255 3256 3257 3258\n",
      " 3259 3260 3261 3262 3263 3264 3265 3267 3268 3269 3270 3895   23   25\n",
      "   26   27   33   34   35   36  436  437  438  439  440  609  610  611\n",
      "  612  613  615  616  623  624  626  629  768  769 2205 2206 2209 2212\n",
      " 2213 2214 2215 2445 2552 2917 2918 3041 3043 3044 3863 3864  429  557\n",
      " 1801 1960 1961 3261 3263 3267 3268 3270 4139 4141 4142 4143 4155 4156\n",
      " 4158 4159 4160 4162 4361 4363 4364 4365 4367 4368 4369 4370 4371 4372\n",
      " 4373 4392 4393 4394 4395 4396 4397 4398 4399 4822 6603 6604 6607  626\n",
      "  627  628  630 2893 2895 2896 2898 2899 3840 4255 4256 4259 4260 4262\n",
      " 4290 4292  922 1862 1865 2836 2838 2839 2840 2841 2842 2843 2844 2845\n",
      " 2846 2847 2848 2849 2850 2851 2853 4285 4286 4287 4288 4289 4291 4574\n",
      " 4843 6675 6681]\n"
     ]
    }
   ],
   "source": [
    "top = forest_importances.nlargest(10)\n",
    "J = np.zeros(len(top.index)) # массив для хранения индексов макимальных весов \n",
    "#ищем максимумы между 3 и 4 слоями енкодера\n",
    "for j, i in enumerate(top.index):\n",
    "    maximum, J[j] = torch.max(autoencoder_inference[1].weight[i], dim = 0)\n",
    "print(J)\n",
    "#ищем максимумы между 2 и 3 слоями енкодера\n",
    "for j in range(len(J)):\n",
    "    maximum, J[j] = torch.max((autoencoder_inference[0][2]).weight[int(J[j])], dim = 0)\n",
    "print(J)\n",
    "#ищем максимумы между 1 и 2 слоями енкодера\n",
    "mz_features = np.array([], dtype = int)\n",
    "for j in range(len(J)):\n",
    "    current = (autoencoder_inference[0][0]).weight[int(J[j])]\n",
    "    #beta = random.uniform(1, 2.5)\n",
    "    beta = 5\n",
    "    T = torch.mean(current) + beta*torch.std(current)\n",
    "    for i in range(len((autoencoder_inference[0][0]).weight[0])):\n",
    "        if (autoencoder_inference[0][0]).weight[int(J[j]), i] >= float(T):\n",
    "            mz_features = np.append(mz_features, i)\n",
    "print (len(mz_features))\n",
    "print(mz_features)                  "
   ]
  },
  {
   "cell_type": "code",
   "execution_count": 45,
   "metadata": {},
   "outputs": [
    {
     "name": "stdout",
     "output_type": "stream",
     "text": [
      "216\n",
      "[3023 3025 3026 3027 3033 3034 3035 3036 3133 3429 3436 3437 3438 3439\n",
      " 3440 3557 3558 3560 3562 3609 3610 3611 3612 3613 3615 3616 3623 3624\n",
      " 3626 3627 3628 3629 3630 3713 3765 3766 3767 3768 3769 3922 4379 4380\n",
      " 4801 4862 4865 4960 4961 5201 5202 5203 5204 5205 5206 5207 5208 5209\n",
      " 5210 5211 5212 5213 5214 5215 5217 5231 5232 5313 5445 5551 5552 5836\n",
      " 5838 5839 5840 5841 5842 5843 5844 5845 5846 5847 5848 5849 5850 5851\n",
      " 5853 5893 5894 5895 5896 5898 5899 5917 5918 5982 5983 5984 5985 5986\n",
      " 5987 5989 5990 5991 6041 6043 6044 6110 6111 6112 6113 6114 6115 6118\n",
      " 6119 6120 6121 6122 6123 6124 6125 6155 6156 6158 6159 6160 6162 6246\n",
      " 6254 6255 6256 6257 6258 6259 6260 6261 6262 6263 6264 6265 6267 6268\n",
      " 6269 6270 6443 6559 6563 6564 6566 6567 6568 6569 6570 6571 6572 6840\n",
      " 6863 6864 6886 6887 6888 6889 6890 6891 6892 6895 7139 7141 7142 7143\n",
      " 7155 7156 7158 7159 7160 7162 7251 7252 7255 7256 7259 7260 7262 7285\n",
      " 7286 7287 7288 7289 7290 7291 7292 7361 7363 7364 7365 7367 7368 7369\n",
      " 7370 7371 7372 7373 7392 7393 7394 7395 7396 7397 7398 7399 7574 7822\n",
      " 7843 9603 9604 9607 9675 9681]\n"
     ]
    }
   ],
   "source": [
    "mz_features = np.unique(mz_features) + 3000\n",
    "print (len(mz_features))\n",
    "print (mz_features)"
   ]
  },
  {
   "cell_type": "code",
   "execution_count": 93,
   "metadata": {},
   "outputs": [],
   "source": [
    "np.save('mz_features_group', mz_features)"
   ]
  },
  {
   "cell_type": "code",
   "execution_count": 46,
   "metadata": {},
   "outputs": [],
   "source": [
    "np.savetxt('mz_features_ID_40%_txt', mz_features, fmt='%d')"
   ]
  }
 ],
 "metadata": {
  "colab": {
   "collapsed_sections": [
    "SPv_vURItnt4"
   ],
   "provenance": []
  },
  "gpuClass": "standard",
  "kernelspec": {
   "display_name": "Python 3 (ipykernel)",
   "language": "python",
   "name": "python3"
  },
  "language_info": {
   "codemirror_mode": {
    "name": "ipython",
    "version": 3
   },
   "file_extension": ".py",
   "mimetype": "text/x-python",
   "name": "python",
   "nbconvert_exporter": "python",
   "pygments_lexer": "ipython3",
   "version": "3.9.12"
  },
  "varInspector": {
   "cols": {
    "lenName": 16,
    "lenType": 16,
    "lenVar": 40
   },
   "kernels_config": {
    "python": {
     "delete_cmd_postfix": "",
     "delete_cmd_prefix": "del ",
     "library": "var_list.py",
     "varRefreshCmd": "print(var_dic_list())"
    },
    "r": {
     "delete_cmd_postfix": ") ",
     "delete_cmd_prefix": "rm(",
     "library": "var_list.r",
     "varRefreshCmd": "cat(var_dic_list()) "
    }
   },
   "types_to_exclude": [
    "module",
    "function",
    "builtin_function_or_method",
    "instance",
    "_Feature"
   ],
   "window_display": false
  },
  "widgets": {
   "application/vnd.jupyter.widget-state+json": {
    "0ee40a49e04b454b8e8e45640f93dfc4": {
     "model_module": "@jupyter-widgets/base",
     "model_module_version": "2.0.0",
     "model_name": "LayoutModel",
     "state": {
      "_model_module": "@jupyter-widgets/base",
      "_model_module_version": "2.0.0",
      "_model_name": "LayoutModel",
      "_view_count": null,
      "_view_module": "@jupyter-widgets/base",
      "_view_module_version": "2.0.0",
      "_view_name": "LayoutView",
      "align_content": null,
      "align_items": null,
      "align_self": null,
      "border_bottom": null,
      "border_left": null,
      "border_right": null,
      "border_top": null,
      "bottom": null,
      "display": null,
      "flex": null,
      "flex_flow": null,
      "grid_area": null,
      "grid_auto_columns": null,
      "grid_auto_flow": null,
      "grid_auto_rows": null,
      "grid_column": null,
      "grid_gap": null,
      "grid_row": null,
      "grid_template_areas": null,
      "grid_template_columns": null,
      "grid_template_rows": null,
      "height": null,
      "justify_content": null,
      "justify_items": null,
      "left": null,
      "margin": null,
      "max_height": null,
      "max_width": null,
      "min_height": null,
      "min_width": null,
      "object_fit": null,
      "object_position": null,
      "order": null,
      "overflow": null,
      "padding": null,
      "right": null,
      "top": null,
      "visibility": null,
      "width": null
     }
    },
    "11d78348d7eb4419938515639c23600d": {
     "model_module": "@jupyter-widgets/base",
     "model_module_version": "2.0.0",
     "model_name": "LayoutModel",
     "state": {
      "_model_module": "@jupyter-widgets/base",
      "_model_module_version": "2.0.0",
      "_model_name": "LayoutModel",
      "_view_count": null,
      "_view_module": "@jupyter-widgets/base",
      "_view_module_version": "2.0.0",
      "_view_name": "LayoutView",
      "align_content": null,
      "align_items": null,
      "align_self": null,
      "border_bottom": null,
      "border_left": null,
      "border_right": null,
      "border_top": null,
      "bottom": null,
      "display": null,
      "flex": null,
      "flex_flow": null,
      "grid_area": null,
      "grid_auto_columns": null,
      "grid_auto_flow": null,
      "grid_auto_rows": null,
      "grid_column": null,
      "grid_gap": null,
      "grid_row": null,
      "grid_template_areas": null,
      "grid_template_columns": null,
      "grid_template_rows": null,
      "height": null,
      "justify_content": null,
      "justify_items": null,
      "left": null,
      "margin": null,
      "max_height": null,
      "max_width": null,
      "min_height": null,
      "min_width": null,
      "object_fit": null,
      "object_position": null,
      "order": null,
      "overflow": null,
      "padding": null,
      "right": null,
      "top": null,
      "visibility": null,
      "width": null
     }
    },
    "23b84c188f434a6bac5b45993af71eab": {
     "model_module": "@jupyter-widgets/controls",
     "model_module_version": "2.0.0",
     "model_name": "FloatProgressModel",
     "state": {
      "_dom_classes": [],
      "_model_module": "@jupyter-widgets/controls",
      "_model_module_version": "2.0.0",
      "_model_name": "FloatProgressModel",
      "_view_count": null,
      "_view_module": "@jupyter-widgets/controls",
      "_view_module_version": "2.0.0",
      "_view_name": "ProgressView",
      "bar_style": "success",
      "description": "",
      "description_allow_html": false,
      "layout": "IPY_MODEL_11d78348d7eb4419938515639c23600d",
      "max": 50,
      "min": 0,
      "orientation": "horizontal",
      "style": "IPY_MODEL_42e97c07673245569add1ef4c3bb5b0f",
      "tabbable": null,
      "tooltip": null,
      "value": 50
     }
    },
    "2e5042cd7c974c4e873906d357dac2ae": {
     "model_module": "@jupyter-widgets/controls",
     "model_module_version": "2.0.0",
     "model_name": "ProgressStyleModel",
     "state": {
      "_model_module": "@jupyter-widgets/controls",
      "_model_module_version": "2.0.0",
      "_model_name": "ProgressStyleModel",
      "_view_count": null,
      "_view_module": "@jupyter-widgets/base",
      "_view_module_version": "2.0.0",
      "_view_name": "StyleView",
      "bar_color": null,
      "description_width": ""
     }
    },
    "300cc72602c144239f1880173f090e78": {
     "model_module": "@jupyter-widgets/controls",
     "model_module_version": "2.0.0",
     "model_name": "HTMLModel",
     "state": {
      "_dom_classes": [],
      "_model_module": "@jupyter-widgets/controls",
      "_model_module_version": "2.0.0",
      "_model_name": "HTMLModel",
      "_view_count": null,
      "_view_module": "@jupyter-widgets/controls",
      "_view_module_version": "2.0.0",
      "_view_name": "HTMLView",
      "description": "",
      "description_allow_html": false,
      "layout": "IPY_MODEL_be98dc9993ad4b8abcc3880186a9d6a5",
      "placeholder": "​",
      "style": "IPY_MODEL_abaa4cba9ec44bd1ab34ff885d0ea153",
      "tabbable": null,
      "tooltip": null,
      "value": " 50/50 [02:52&lt;00:00,  3.48s/it]"
     }
    },
    "31207233420e4c21813e77277cfe697b": {
     "model_module": "@jupyter-widgets/controls",
     "model_module_version": "2.0.0",
     "model_name": "HTMLStyleModel",
     "state": {
      "_model_module": "@jupyter-widgets/controls",
      "_model_module_version": "2.0.0",
      "_model_name": "HTMLStyleModel",
      "_view_count": null,
      "_view_module": "@jupyter-widgets/base",
      "_view_module_version": "2.0.0",
      "_view_name": "StyleView",
      "background": null,
      "description_width": "",
      "font_size": null,
      "text_color": null
     }
    },
    "341cf3fab21a485dad750f0f438a3ad7": {
     "model_module": "@jupyter-widgets/controls",
     "model_module_version": "2.0.0",
     "model_name": "HTMLModel",
     "state": {
      "_dom_classes": [],
      "_model_module": "@jupyter-widgets/controls",
      "_model_module_version": "2.0.0",
      "_model_name": "HTMLModel",
      "_view_count": null,
      "_view_module": "@jupyter-widgets/controls",
      "_view_module_version": "2.0.0",
      "_view_name": "HTMLView",
      "description": "",
      "description_allow_html": false,
      "layout": "IPY_MODEL_ed6f434ab95d4cffb7df9cd3c765f7df",
      "placeholder": "​",
      "style": "IPY_MODEL_cf8c98d4c5b04d0da1f77aa674c1ebb0",
      "tabbable": null,
      "tooltip": null,
      "value": " 50/50 [02:53&lt;00:00,  3.48s/it]"
     }
    },
    "42e97c07673245569add1ef4c3bb5b0f": {
     "model_module": "@jupyter-widgets/controls",
     "model_module_version": "2.0.0",
     "model_name": "ProgressStyleModel",
     "state": {
      "_model_module": "@jupyter-widgets/controls",
      "_model_module_version": "2.0.0",
      "_model_name": "ProgressStyleModel",
      "_view_count": null,
      "_view_module": "@jupyter-widgets/base",
      "_view_module_version": "2.0.0",
      "_view_name": "StyleView",
      "bar_color": null,
      "description_width": ""
     }
    },
    "5049e4b7f5f04ddbb79052f9c74c0d52": {
     "model_module": "@jupyter-widgets/base",
     "model_module_version": "2.0.0",
     "model_name": "LayoutModel",
     "state": {
      "_model_module": "@jupyter-widgets/base",
      "_model_module_version": "2.0.0",
      "_model_name": "LayoutModel",
      "_view_count": null,
      "_view_module": "@jupyter-widgets/base",
      "_view_module_version": "2.0.0",
      "_view_name": "LayoutView",
      "align_content": null,
      "align_items": null,
      "align_self": null,
      "border_bottom": null,
      "border_left": null,
      "border_right": null,
      "border_top": null,
      "bottom": null,
      "display": null,
      "flex": null,
      "flex_flow": null,
      "grid_area": null,
      "grid_auto_columns": null,
      "grid_auto_flow": null,
      "grid_auto_rows": null,
      "grid_column": null,
      "grid_gap": null,
      "grid_row": null,
      "grid_template_areas": null,
      "grid_template_columns": null,
      "grid_template_rows": null,
      "height": null,
      "justify_content": null,
      "justify_items": null,
      "left": null,
      "margin": null,
      "max_height": null,
      "max_width": null,
      "min_height": null,
      "min_width": null,
      "object_fit": null,
      "object_position": null,
      "order": null,
      "overflow": null,
      "padding": null,
      "right": null,
      "top": null,
      "visibility": null,
      "width": null
     }
    },
    "56ce6cdb3d0049c0a87f01029092a8ca": {
     "model_module": "@jupyter-widgets/controls",
     "model_module_version": "2.0.0",
     "model_name": "HBoxModel",
     "state": {
      "_dom_classes": [],
      "_model_module": "@jupyter-widgets/controls",
      "_model_module_version": "2.0.0",
      "_model_name": "HBoxModel",
      "_view_count": null,
      "_view_module": "@jupyter-widgets/controls",
      "_view_module_version": "2.0.0",
      "_view_name": "HBoxView",
      "box_style": "",
      "children": [
       "IPY_MODEL_e0001778484341dfb039809908d0121b",
       "IPY_MODEL_23b84c188f434a6bac5b45993af71eab",
       "IPY_MODEL_341cf3fab21a485dad750f0f438a3ad7"
      ],
      "layout": "IPY_MODEL_bc17440c049e4b9ab22b97f0165af8b0",
      "tabbable": null,
      "tooltip": null
     }
    },
    "590e20d5dc0b429c906ffe3168173a2b": {
     "model_module": "@jupyter-widgets/controls",
     "model_module_version": "2.0.0",
     "model_name": "FloatProgressModel",
     "state": {
      "_dom_classes": [],
      "_model_module": "@jupyter-widgets/controls",
      "_model_module_version": "2.0.0",
      "_model_name": "FloatProgressModel",
      "_view_count": null,
      "_view_module": "@jupyter-widgets/controls",
      "_view_module_version": "2.0.0",
      "_view_name": "ProgressView",
      "bar_style": "success",
      "description": "",
      "description_allow_html": false,
      "layout": "IPY_MODEL_97be1f598db3432e8fee19267eaa916d",
      "max": 50,
      "min": 0,
      "orientation": "horizontal",
      "style": "IPY_MODEL_2e5042cd7c974c4e873906d357dac2ae",
      "tabbable": null,
      "tooltip": null,
      "value": 50
     }
    },
    "8a4ee5bf15cf4a0ea0562cd6d40b2c6f": {
     "model_module": "@jupyter-widgets/controls",
     "model_module_version": "2.0.0",
     "model_name": "HTMLModel",
     "state": {
      "_dom_classes": [],
      "_model_module": "@jupyter-widgets/controls",
      "_model_module_version": "2.0.0",
      "_model_name": "HTMLModel",
      "_view_count": null,
      "_view_module": "@jupyter-widgets/controls",
      "_view_module_version": "2.0.0",
      "_view_name": "HTMLView",
      "description": "",
      "description_allow_html": false,
      "layout": "IPY_MODEL_5049e4b7f5f04ddbb79052f9c74c0d52",
      "placeholder": "​",
      "style": "IPY_MODEL_31207233420e4c21813e77277cfe697b",
      "tabbable": null,
      "tooltip": null,
      "value": "100%"
     }
    },
    "97be1f598db3432e8fee19267eaa916d": {
     "model_module": "@jupyter-widgets/base",
     "model_module_version": "2.0.0",
     "model_name": "LayoutModel",
     "state": {
      "_model_module": "@jupyter-widgets/base",
      "_model_module_version": "2.0.0",
      "_model_name": "LayoutModel",
      "_view_count": null,
      "_view_module": "@jupyter-widgets/base",
      "_view_module_version": "2.0.0",
      "_view_name": "LayoutView",
      "align_content": null,
      "align_items": null,
      "align_self": null,
      "border_bottom": null,
      "border_left": null,
      "border_right": null,
      "border_top": null,
      "bottom": null,
      "display": null,
      "flex": null,
      "flex_flow": null,
      "grid_area": null,
      "grid_auto_columns": null,
      "grid_auto_flow": null,
      "grid_auto_rows": null,
      "grid_column": null,
      "grid_gap": null,
      "grid_row": null,
      "grid_template_areas": null,
      "grid_template_columns": null,
      "grid_template_rows": null,
      "height": null,
      "justify_content": null,
      "justify_items": null,
      "left": null,
      "margin": null,
      "max_height": null,
      "max_width": null,
      "min_height": null,
      "min_width": null,
      "object_fit": null,
      "object_position": null,
      "order": null,
      "overflow": null,
      "padding": null,
      "right": null,
      "top": null,
      "visibility": null,
      "width": null
     }
    },
    "a4dd3c87a5e9429a8b0a8de8fa4344c5": {
     "model_module": "@jupyter-widgets/controls",
     "model_module_version": "2.0.0",
     "model_name": "HBoxModel",
     "state": {
      "_dom_classes": [],
      "_model_module": "@jupyter-widgets/controls",
      "_model_module_version": "2.0.0",
      "_model_name": "HBoxModel",
      "_view_count": null,
      "_view_module": "@jupyter-widgets/controls",
      "_view_module_version": "2.0.0",
      "_view_name": "HBoxView",
      "box_style": "",
      "children": [
       "IPY_MODEL_8a4ee5bf15cf4a0ea0562cd6d40b2c6f",
       "IPY_MODEL_590e20d5dc0b429c906ffe3168173a2b",
       "IPY_MODEL_300cc72602c144239f1880173f090e78"
      ],
      "layout": "IPY_MODEL_0ee40a49e04b454b8e8e45640f93dfc4",
      "tabbable": null,
      "tooltip": null
     }
    },
    "abaa4cba9ec44bd1ab34ff885d0ea153": {
     "model_module": "@jupyter-widgets/controls",
     "model_module_version": "2.0.0",
     "model_name": "HTMLStyleModel",
     "state": {
      "_model_module": "@jupyter-widgets/controls",
      "_model_module_version": "2.0.0",
      "_model_name": "HTMLStyleModel",
      "_view_count": null,
      "_view_module": "@jupyter-widgets/base",
      "_view_module_version": "2.0.0",
      "_view_name": "StyleView",
      "background": null,
      "description_width": "",
      "font_size": null,
      "text_color": null
     }
    },
    "b53e1d45f641457aa70487cb63158ed4": {
     "model_module": "@jupyter-widgets/base",
     "model_module_version": "2.0.0",
     "model_name": "LayoutModel",
     "state": {
      "_model_module": "@jupyter-widgets/base",
      "_model_module_version": "2.0.0",
      "_model_name": "LayoutModel",
      "_view_count": null,
      "_view_module": "@jupyter-widgets/base",
      "_view_module_version": "2.0.0",
      "_view_name": "LayoutView",
      "align_content": null,
      "align_items": null,
      "align_self": null,
      "border_bottom": null,
      "border_left": null,
      "border_right": null,
      "border_top": null,
      "bottom": null,
      "display": null,
      "flex": null,
      "flex_flow": null,
      "grid_area": null,
      "grid_auto_columns": null,
      "grid_auto_flow": null,
      "grid_auto_rows": null,
      "grid_column": null,
      "grid_gap": null,
      "grid_row": null,
      "grid_template_areas": null,
      "grid_template_columns": null,
      "grid_template_rows": null,
      "height": null,
      "justify_content": null,
      "justify_items": null,
      "left": null,
      "margin": null,
      "max_height": null,
      "max_width": null,
      "min_height": null,
      "min_width": null,
      "object_fit": null,
      "object_position": null,
      "order": null,
      "overflow": null,
      "padding": null,
      "right": null,
      "top": null,
      "visibility": null,
      "width": null
     }
    },
    "bc17440c049e4b9ab22b97f0165af8b0": {
     "model_module": "@jupyter-widgets/base",
     "model_module_version": "2.0.0",
     "model_name": "LayoutModel",
     "state": {
      "_model_module": "@jupyter-widgets/base",
      "_model_module_version": "2.0.0",
      "_model_name": "LayoutModel",
      "_view_count": null,
      "_view_module": "@jupyter-widgets/base",
      "_view_module_version": "2.0.0",
      "_view_name": "LayoutView",
      "align_content": null,
      "align_items": null,
      "align_self": null,
      "border_bottom": null,
      "border_left": null,
      "border_right": null,
      "border_top": null,
      "bottom": null,
      "display": null,
      "flex": null,
      "flex_flow": null,
      "grid_area": null,
      "grid_auto_columns": null,
      "grid_auto_flow": null,
      "grid_auto_rows": null,
      "grid_column": null,
      "grid_gap": null,
      "grid_row": null,
      "grid_template_areas": null,
      "grid_template_columns": null,
      "grid_template_rows": null,
      "height": null,
      "justify_content": null,
      "justify_items": null,
      "left": null,
      "margin": null,
      "max_height": null,
      "max_width": null,
      "min_height": null,
      "min_width": null,
      "object_fit": null,
      "object_position": null,
      "order": null,
      "overflow": null,
      "padding": null,
      "right": null,
      "top": null,
      "visibility": null,
      "width": null
     }
    },
    "be98dc9993ad4b8abcc3880186a9d6a5": {
     "model_module": "@jupyter-widgets/base",
     "model_module_version": "2.0.0",
     "model_name": "LayoutModel",
     "state": {
      "_model_module": "@jupyter-widgets/base",
      "_model_module_version": "2.0.0",
      "_model_name": "LayoutModel",
      "_view_count": null,
      "_view_module": "@jupyter-widgets/base",
      "_view_module_version": "2.0.0",
      "_view_name": "LayoutView",
      "align_content": null,
      "align_items": null,
      "align_self": null,
      "border_bottom": null,
      "border_left": null,
      "border_right": null,
      "border_top": null,
      "bottom": null,
      "display": null,
      "flex": null,
      "flex_flow": null,
      "grid_area": null,
      "grid_auto_columns": null,
      "grid_auto_flow": null,
      "grid_auto_rows": null,
      "grid_column": null,
      "grid_gap": null,
      "grid_row": null,
      "grid_template_areas": null,
      "grid_template_columns": null,
      "grid_template_rows": null,
      "height": null,
      "justify_content": null,
      "justify_items": null,
      "left": null,
      "margin": null,
      "max_height": null,
      "max_width": null,
      "min_height": null,
      "min_width": null,
      "object_fit": null,
      "object_position": null,
      "order": null,
      "overflow": null,
      "padding": null,
      "right": null,
      "top": null,
      "visibility": null,
      "width": null
     }
    },
    "ccde5fb136ba44a2942cc7d9b1b515ab": {
     "model_module": "@jupyter-widgets/controls",
     "model_module_version": "2.0.0",
     "model_name": "HTMLStyleModel",
     "state": {
      "_model_module": "@jupyter-widgets/controls",
      "_model_module_version": "2.0.0",
      "_model_name": "HTMLStyleModel",
      "_view_count": null,
      "_view_module": "@jupyter-widgets/base",
      "_view_module_version": "2.0.0",
      "_view_name": "StyleView",
      "background": null,
      "description_width": "",
      "font_size": null,
      "text_color": null
     }
    },
    "cf8c98d4c5b04d0da1f77aa674c1ebb0": {
     "model_module": "@jupyter-widgets/controls",
     "model_module_version": "2.0.0",
     "model_name": "HTMLStyleModel",
     "state": {
      "_model_module": "@jupyter-widgets/controls",
      "_model_module_version": "2.0.0",
      "_model_name": "HTMLStyleModel",
      "_view_count": null,
      "_view_module": "@jupyter-widgets/base",
      "_view_module_version": "2.0.0",
      "_view_name": "StyleView",
      "background": null,
      "description_width": "",
      "font_size": null,
      "text_color": null
     }
    },
    "e0001778484341dfb039809908d0121b": {
     "model_module": "@jupyter-widgets/controls",
     "model_module_version": "2.0.0",
     "model_name": "HTMLModel",
     "state": {
      "_dom_classes": [],
      "_model_module": "@jupyter-widgets/controls",
      "_model_module_version": "2.0.0",
      "_model_name": "HTMLModel",
      "_view_count": null,
      "_view_module": "@jupyter-widgets/controls",
      "_view_module_version": "2.0.0",
      "_view_name": "HTMLView",
      "description": "",
      "description_allow_html": false,
      "layout": "IPY_MODEL_b53e1d45f641457aa70487cb63158ed4",
      "placeholder": "​",
      "style": "IPY_MODEL_ccde5fb136ba44a2942cc7d9b1b515ab",
      "tabbable": null,
      "tooltip": null,
      "value": "100%"
     }
    },
    "ed6f434ab95d4cffb7df9cd3c765f7df": {
     "model_module": "@jupyter-widgets/base",
     "model_module_version": "2.0.0",
     "model_name": "LayoutModel",
     "state": {
      "_model_module": "@jupyter-widgets/base",
      "_model_module_version": "2.0.0",
      "_model_name": "LayoutModel",
      "_view_count": null,
      "_view_module": "@jupyter-widgets/base",
      "_view_module_version": "2.0.0",
      "_view_name": "LayoutView",
      "align_content": null,
      "align_items": null,
      "align_self": null,
      "border_bottom": null,
      "border_left": null,
      "border_right": null,
      "border_top": null,
      "bottom": null,
      "display": null,
      "flex": null,
      "flex_flow": null,
      "grid_area": null,
      "grid_auto_columns": null,
      "grid_auto_flow": null,
      "grid_auto_rows": null,
      "grid_column": null,
      "grid_gap": null,
      "grid_row": null,
      "grid_template_areas": null,
      "grid_template_columns": null,
      "grid_template_rows": null,
      "height": null,
      "justify_content": null,
      "justify_items": null,
      "left": null,
      "margin": null,
      "max_height": null,
      "max_width": null,
      "min_height": null,
      "min_width": null,
      "object_fit": null,
      "object_position": null,
      "order": null,
      "overflow": null,
      "padding": null,
      "right": null,
      "top": null,
      "visibility": null,
      "width": null
     }
    }
   }
  }
 },
 "nbformat": 4,
 "nbformat_minor": 1
}
