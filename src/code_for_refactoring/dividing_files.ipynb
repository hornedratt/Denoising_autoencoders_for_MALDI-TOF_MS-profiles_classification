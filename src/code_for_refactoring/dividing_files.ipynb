{
 "cells": [
  {
   "cell_type": "code",
   "execution_count": 25,
   "id": "70f5a6ef",
   "metadata": {},
   "outputs": [],
   "source": [
    "import numpy as np\n",
    "import pandas as pd\n",
    "from tqdm.notebook import tqdm\n",
    "from os import makedirs\n",
    "from pathlib import Path \n",
    "import os"
   ]
  },
  {
   "cell_type": "code",
   "execution_count": 42,
   "id": "b86c52dc",
   "metadata": {},
   "outputs": [
    {
     "name": "stdout",
     "output_type": "stream",
     "text": [
      "Int64Index([   0,    2,    3,    4,    5,    6,    7,    8,    9,   10,\n",
      "            ...\n",
      "            7390, 7391, 7392, 7393, 7394, 7395, 7396, 7397, 7398, 7399],\n",
      "           dtype='int64', length=7399)\n"
     ]
    }
   ],
   "source": [
    "folder = os.path.join(r\"MS_profiles\\divided_sets_Efimov\\sets_noise_\"+\\\n",
    "                     i, \"noise_\"+i+\"_set_\"+str(count)+\".csv\")\n",
    "print(profiles.index)"
   ]
  },
  {
   "cell_type": "code",
   "execution_count": 43,
   "id": "6b73ed52",
   "metadata": {},
   "outputs": [
    {
     "data": {
      "application/vnd.jupyter.widget-view+json": {
       "model_id": "08ec1e9d1d114aea80a84110cc79332c",
       "version_major": 2,
       "version_minor": 0
      },
      "text/plain": [
       "  0%|          | 0/14 [00:00<?, ?it/s]"
      ]
     },
     "metadata": {},
     "output_type": "display_data"
    },
    {
     "name": "stderr",
     "output_type": "stream",
     "text": [
      "C:\\Users\\mishs\\AppData\\Local\\Temp\\ipykernel_10692\\1221280574.py:5: DtypeWarning: Columns (12003) have mixed types. Specify dtype option on import or set low_memory=False.\n",
      "  profiles = pd.read_csv(\"MS_profiles\\sets\\MS_profiles_sintes_norm_noise_\"+\\\n",
      "C:\\Users\\mishs\\AppData\\Local\\Temp\\ipykernel_10692\\1221280574.py:5: DtypeWarning: Columns (12003) have mixed types. Specify dtype option on import or set low_memory=False.\n",
      "  profiles = pd.read_csv(\"MS_profiles\\sets\\MS_profiles_sintes_norm_noise_\"+\\\n",
      "C:\\Users\\mishs\\AppData\\Local\\Temp\\ipykernel_10692\\1221280574.py:5: DtypeWarning: Columns (12003) have mixed types. Specify dtype option on import or set low_memory=False.\n",
      "  profiles = pd.read_csv(\"MS_profiles\\sets\\MS_profiles_sintes_norm_noise_\"+\\\n",
      "C:\\Users\\mishs\\AppData\\Local\\Temp\\ipykernel_10692\\1221280574.py:5: DtypeWarning: Columns (12003) have mixed types. Specify dtype option on import or set low_memory=False.\n",
      "  profiles = pd.read_csv(\"MS_profiles\\sets\\MS_profiles_sintes_norm_noise_\"+\\\n",
      "C:\\Users\\mishs\\AppData\\Local\\Temp\\ipykernel_10692\\1221280574.py:5: DtypeWarning: Columns (12003) have mixed types. Specify dtype option on import or set low_memory=False.\n",
      "  profiles = pd.read_csv(\"MS_profiles\\sets\\MS_profiles_sintes_norm_noise_\"+\\\n",
      "C:\\Users\\mishs\\AppData\\Local\\Temp\\ipykernel_10692\\1221280574.py:5: DtypeWarning: Columns (12003) have mixed types. Specify dtype option on import or set low_memory=False.\n",
      "  profiles = pd.read_csv(\"MS_profiles\\sets\\MS_profiles_sintes_norm_noise_\"+\\\n",
      "C:\\Users\\mishs\\AppData\\Local\\Temp\\ipykernel_10692\\1221280574.py:5: DtypeWarning: Columns (12003) have mixed types. Specify dtype option on import or set low_memory=False.\n",
      "  profiles = pd.read_csv(\"MS_profiles\\sets\\MS_profiles_sintes_norm_noise_\"+\\\n",
      "C:\\Users\\mishs\\AppData\\Local\\Temp\\ipykernel_10692\\1221280574.py:5: DtypeWarning: Columns (12003) have mixed types. Specify dtype option on import or set low_memory=False.\n",
      "  profiles = pd.read_csv(\"MS_profiles\\sets\\MS_profiles_sintes_norm_noise_\"+\\\n",
      "C:\\Users\\mishs\\AppData\\Local\\Temp\\ipykernel_10692\\1221280574.py:5: DtypeWarning: Columns (12003) have mixed types. Specify dtype option on import or set low_memory=False.\n",
      "  profiles = pd.read_csv(\"MS_profiles\\sets\\MS_profiles_sintes_norm_noise_\"+\\\n",
      "C:\\Users\\mishs\\AppData\\Local\\Temp\\ipykernel_10692\\1221280574.py:5: DtypeWarning: Columns (12003) have mixed types. Specify dtype option on import or set low_memory=False.\n",
      "  profiles = pd.read_csv(\"MS_profiles\\sets\\MS_profiles_sintes_norm_noise_\"+\\\n",
      "C:\\Users\\mishs\\AppData\\Local\\Temp\\ipykernel_10692\\1221280574.py:5: DtypeWarning: Columns (12003) have mixed types. Specify dtype option on import or set low_memory=False.\n",
      "  profiles = pd.read_csv(\"MS_profiles\\sets\\MS_profiles_sintes_norm_noise_\"+\\\n",
      "C:\\Users\\mishs\\AppData\\Local\\Temp\\ipykernel_10692\\1221280574.py:5: DtypeWarning: Columns (12003) have mixed types. Specify dtype option on import or set low_memory=False.\n",
      "  profiles = pd.read_csv(\"MS_profiles\\sets\\MS_profiles_sintes_norm_noise_\"+\\\n",
      "C:\\Users\\mishs\\AppData\\Local\\Temp\\ipykernel_10692\\1221280574.py:5: DtypeWarning: Columns (12003) have mixed types. Specify dtype option on import or set low_memory=False.\n",
      "  profiles = pd.read_csv(\"MS_profiles\\sets\\MS_profiles_sintes_norm_noise_\"+\\\n"
     ]
    }
   ],
   "source": [
    "index = np.hstack((np.array(['0%', '10%', '15%', '20%', '25%', '30%']),\\\n",
    "                    np.array([str(i)+'%' for i in range(40, 120, 20)])))\n",
    "index = np.hstack((index, np.array([str(i)+'%' for i in range(150, 350, 50)])))\n",
    "for i in tqdm(index):\n",
    "    profiles = pd.read_csv(\"MS_profiles\\sets\\MS_profiles_sintes_norm_noise_\"+\\\n",
    "                            str(i)+\"_inference_2\",sep=';', index_col=0, header=0)\n",
    "    makedirs(\"MS_profiles\\divided_sets_Efimov\\sets_noise_\"+i, exist_ok=True)\n",
    "    count = 0\n",
    "    while len(profiles.index) > 950:\n",
    "        folder = os.path.join(r\"MS_profiles\\divided_sets_Efimov\\sets_noise_\"+\\\n",
    "                     i, \"noise_\"+i+\"_set_\"+str(count)+\".csv\")\n",
    "        profiles.loc[(len(profiles.index) - 950):].to_csv(folder, sep=';', header=True, index=True,)\n",
    "        profiles = profiles.drop(index = profiles.index[profiles.index >=\\\n",
    "                                            (len(profiles.index) - 950)], axis = 0)\n",
    "        profiles.index[profiles.index >=\\\n",
    "                                            (len(profiles.index) - 950)]\n",
    "        count = count + 1\n",
    "   # folder.parent.mkdir(parents=True, exist_ok=True)\n",
    "    profiles.to_csv(folder, sep=';', header=True, index=True,)"
   ]
  }
 ],
 "metadata": {
  "kernelspec": {
   "display_name": "Python 3 (ipykernel)",
   "language": "python",
   "name": "python3"
  },
  "language_info": {
   "codemirror_mode": {
    "name": "ipython",
    "version": 3
   },
   "file_extension": ".py",
   "mimetype": "text/x-python",
   "name": "python",
   "nbconvert_exporter": "python",
   "pygments_lexer": "ipython3",
   "version": "3.9.12"
  }
 },
 "nbformat": 4,
 "nbformat_minor": 5
}
