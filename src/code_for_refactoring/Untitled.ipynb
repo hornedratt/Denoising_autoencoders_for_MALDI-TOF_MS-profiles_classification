{
 "cells": [
  {
   "cell_type": "code",
   "execution_count": 3,
   "id": "6c330f82",
   "metadata": {},
   "outputs": [],
   "source": [
    "import torch"
   ]
  },
  {
   "cell_type": "code",
   "execution_count": 19,
   "id": "7f6c2e23",
   "metadata": {},
   "outputs": [
    {
     "data": {
      "text/plain": [
       "Sequential(\n",
       "  (0): Linear(in_features=12001, out_features=6000, bias=True)\n",
       "  (1): ReLU()\n",
       "  (2): Linear(in_features=6000, out_features=750, bias=True)\n",
       "  (3): ReLU()\n",
       ")"
      ]
     },
     "execution_count": 19,
     "metadata": {},
     "output_type": "execute_result"
    }
   ],
   "source": [
    "test = torch.load(r'C:\\education\\ML\\networks\\DAE_norm_noise_40%.pkl')\n",
    "test[0]"
   ]
  }
 ],
 "metadata": {
  "kernelspec": {
   "display_name": "Python 3 (ipykernel)",
   "language": "python",
   "name": "python3"
  },
  "language_info": {
   "codemirror_mode": {
    "name": "ipython",
    "version": 3
   },
   "file_extension": ".py",
   "mimetype": "text/x-python",
   "name": "python",
   "nbconvert_exporter": "python",
   "pygments_lexer": "ipython3",
   "version": "3.9.12"
  }
 },
 "nbformat": 4,
 "nbformat_minor": 5
}
